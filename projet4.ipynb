{
 "cells": [
  {
   "cell_type": "code",
   "execution_count": 1,
   "id": "5f7cc773-530f-4f71-a556-03c6dc447104",
   "metadata": {},
   "outputs": [],
   "source": [
    "# import annexe as an\n",
    "import pandas as pd\n",
    "import matplotlib.pyplot as plt\n",
    "import seaborn as sns\n",
    "import numpy as np\n",
    "import re\n",
    "pd.set_option('display.max_rows', 500)\n",
    "pd.set_option('display.max_columns', 500)\n",
    "pd.set_option('display.width', 500)\n",
    "pd.set_option('display.max_colwidth', None)\n",
    "FICHIER1 ='C:/Users/pierr/Documents/OC/projet4/2015-building-energy-benchmarking.csv/2015-building-energy-benchmarking.csv'\n",
    "FICHIER2 ='C:/Users/pierr/Documents/OC/projet4/2016-building-energy-benchmarking.csv/2016-building-energy-benchmarking.csv'"
   ]
  },
  {
   "cell_type": "code",
   "execution_count": 25,
   "id": "dbbd13f7-faa2-4136-b3b1-595d91603140",
   "metadata": {},
   "outputs": [],
   "source": [
    "energy_comsumption_2015 = pd.read_csv(FICHIER1,low_memory=False)\n",
    "energy_comsumption_2016 = pd.read_csv(FICHIER2,low_memory=False)"
   ]
  },
  {
   "cell_type": "code",
   "execution_count": 26,
   "id": "64966dcb-91d8-4b40-8b7f-957a59656c3f",
   "metadata": {},
   "outputs": [
    {
     "data": {
      "text/plain": [
       "(3340, 47)"
      ]
     },
     "execution_count": 26,
     "metadata": {},
     "output_type": "execute_result"
    }
   ],
   "source": [
    "energy_comsumption_2015.shape"
   ]
  },
  {
   "cell_type": "code",
   "execution_count": 27,
   "id": "ecf01886-d0c6-4ace-9be5-fc9f5ae4af63",
   "metadata": {},
   "outputs": [
    {
     "data": {
      "text/plain": [
       "(3376, 46)"
      ]
     },
     "execution_count": 27,
     "metadata": {},
     "output_type": "execute_result"
    }
   ],
   "source": [
    "energy_comsumption_2016.shape"
   ]
  },
  {
   "cell_type": "code",
   "execution_count": 28,
   "id": "56cc35e6-94bd-43b3-ba2b-48295687b400",
   "metadata": {},
   "outputs": [
    {
     "data": {
      "text/plain": [
       "Index(['2010 Census Tracts', 'City Council Districts', 'Comment', 'GHGEmissions(MetricTonsCO2e)', 'GHGEmissionsIntensity(kgCO2e/ft2)', 'Location', 'OtherFuelUse(kBtu)', 'SPD Beats', 'Seattle Police Department Micro Community Policing Plan Areas', 'Zip Codes'], dtype='object')"
      ]
     },
     "execution_count": 28,
     "metadata": {},
     "output_type": "execute_result"
    }
   ],
   "source": [
    "energy_comsumption_2015.columns.difference(energy_comsumption_2016.columns)"
   ]
  },
  {
   "cell_type": "code",
   "execution_count": 29,
   "id": "e27def6b-d268-429c-9890-1780b9a1bec2",
   "metadata": {},
   "outputs": [
    {
     "data": {
      "text/plain": [
       "Index(['Address', 'City', 'Comments', 'GHGEmissionsIntensity', 'Latitude', 'Longitude', 'State', 'TotalGHGEmissions', 'ZipCode'], dtype='object')"
      ]
     },
     "execution_count": 29,
     "metadata": {},
     "output_type": "execute_result"
    }
   ],
   "source": [
    "energy_comsumption_2016.columns.difference(energy_comsumption_2015.columns)"
   ]
  },
  {
   "cell_type": "markdown",
   "id": "706dcb70-a3d9-4de0-ad3f-fd965bf43b70",
   "metadata": {},
   "source": [
    "['OSEBuildingID', 'DataYear', 'CouncilDistrictCode', 'YearBuilt', 'NumberofBuildings', 'NumberofFloors', 'PropertyGFATotal', 'PropertyGFAParking', 'PropertyGFABuilding(s)', 'LargestPropertyUseTypeGFA', 'SecondLargestPropertyUseTypeGFA', 'ThirdLargestPropertyUseTypeGFA', 'ENERGYSTARScore', 'SiteEUI(kBtu/sf)', 'SiteEUIWN(kBtu/sf)', 'SourceEUI(kBtu/sf)', 'SourceEUIWN(kBtu/sf)', 'SiteEnergyUse(kBtu)', 'SiteEnergyUseWN(kBtu)', 'SteamUse(kBtu)', 'Electricity(kWh)', 'Electricity(kBtu)', 'NaturalGas(therms)', 'NaturalGas(kBtu)', 'OtherFuelUse(kBtu)', 'GHGEmissions(MetricTonsCO2e)', 'GHGEmissionsIntensity(kgCO2e/ft2)', '2010 Census Tracts', 'Seattle Police Department Micro Community Policing Plan Areas', 'City Council Districts', 'SPD Beats', 'Zip Codes']"
   ]
  },
  {
   "cell_type": "code",
   "execution_count": 7,
   "id": "339ffc23-1211-48d4-afe5-948533992b0c",
   "metadata": {
    "tags": []
   },
   "outputs": [
    {
     "data": {
      "text/html": [
       "<div>\n",
       "<style scoped>\n",
       "    .dataframe tbody tr th:only-of-type {\n",
       "        vertical-align: middle;\n",
       "    }\n",
       "\n",
       "    .dataframe tbody tr th {\n",
       "        vertical-align: top;\n",
       "    }\n",
       "\n",
       "    .dataframe thead th {\n",
       "        text-align: right;\n",
       "    }\n",
       "</style>\n",
       "<table border=\"1\" class=\"dataframe\">\n",
       "  <thead>\n",
       "    <tr style=\"text-align: right;\">\n",
       "      <th></th>\n",
       "      <th>OSEBuildingID</th>\n",
       "      <th>DataYear</th>\n",
       "      <th>BuildingType</th>\n",
       "      <th>PrimaryPropertyType</th>\n",
       "      <th>PropertyName</th>\n",
       "      <th>TaxParcelIdentificationNumber</th>\n",
       "      <th>Location</th>\n",
       "      <th>CouncilDistrictCode</th>\n",
       "      <th>Neighborhood</th>\n",
       "      <th>YearBuilt</th>\n",
       "      <th>NumberofBuildings</th>\n",
       "      <th>NumberofFloors</th>\n",
       "      <th>PropertyGFATotal</th>\n",
       "      <th>PropertyGFAParking</th>\n",
       "      <th>PropertyGFABuilding(s)</th>\n",
       "      <th>ListOfAllPropertyUseTypes</th>\n",
       "      <th>LargestPropertyUseType</th>\n",
       "      <th>LargestPropertyUseTypeGFA</th>\n",
       "      <th>SecondLargestPropertyUseType</th>\n",
       "      <th>SecondLargestPropertyUseTypeGFA</th>\n",
       "      <th>ThirdLargestPropertyUseType</th>\n",
       "      <th>ThirdLargestPropertyUseTypeGFA</th>\n",
       "      <th>YearsENERGYSTARCertified</th>\n",
       "      <th>ENERGYSTARScore</th>\n",
       "      <th>SiteEUI(kBtu/sf)</th>\n",
       "      <th>SiteEUIWN(kBtu/sf)</th>\n",
       "      <th>SourceEUI(kBtu/sf)</th>\n",
       "      <th>SourceEUIWN(kBtu/sf)</th>\n",
       "      <th>SiteEnergyUse(kBtu)</th>\n",
       "      <th>SiteEnergyUseWN(kBtu)</th>\n",
       "      <th>SteamUse(kBtu)</th>\n",
       "      <th>Electricity(kWh)</th>\n",
       "      <th>Electricity(kBtu)</th>\n",
       "      <th>NaturalGas(therms)</th>\n",
       "      <th>NaturalGas(kBtu)</th>\n",
       "      <th>OtherFuelUse(kBtu)</th>\n",
       "      <th>GHGEmissions(MetricTonsCO2e)</th>\n",
       "      <th>GHGEmissionsIntensity(kgCO2e/ft2)</th>\n",
       "      <th>DefaultData</th>\n",
       "      <th>Comment</th>\n",
       "      <th>ComplianceStatus</th>\n",
       "      <th>Outlier</th>\n",
       "      <th>2010 Census Tracts</th>\n",
       "      <th>Seattle Police Department Micro Community Policing Plan Areas</th>\n",
       "      <th>City Council Districts</th>\n",
       "      <th>SPD Beats</th>\n",
       "      <th>Zip Codes</th>\n",
       "    </tr>\n",
       "  </thead>\n",
       "  <tbody>\n",
       "    <tr>\n",
       "      <th>0</th>\n",
       "      <td>1</td>\n",
       "      <td>2015</td>\n",
       "      <td>NonResidential</td>\n",
       "      <td>Hotel</td>\n",
       "      <td>MAYFLOWER PARK HOTEL</td>\n",
       "      <td>659000030</td>\n",
       "      <td>{'latitude': '47.61219025', 'longitude': '-122.33799744', 'human_address': '{\"address\": \"405 OLIVE WAY\", \"city\": \"SEATTLE\", \"state\": \"WA\", \"zip\": \"98101\"}'}</td>\n",
       "      <td>7</td>\n",
       "      <td>DOWNTOWN</td>\n",
       "      <td>1927</td>\n",
       "      <td>1</td>\n",
       "      <td>12.0</td>\n",
       "      <td>88434</td>\n",
       "      <td>0</td>\n",
       "      <td>88434</td>\n",
       "      <td>Hotel</td>\n",
       "      <td>Hotel</td>\n",
       "      <td>88434.0</td>\n",
       "      <td>NaN</td>\n",
       "      <td>NaN</td>\n",
       "      <td>NaN</td>\n",
       "      <td>NaN</td>\n",
       "      <td>NaN</td>\n",
       "      <td>65.0</td>\n",
       "      <td>78.9</td>\n",
       "      <td>80.3</td>\n",
       "      <td>173.5</td>\n",
       "      <td>175.1</td>\n",
       "      <td>6981428.0</td>\n",
       "      <td>7097539.0</td>\n",
       "      <td>2023032.0</td>\n",
       "      <td>1080307.0</td>\n",
       "      <td>3686160.0</td>\n",
       "      <td>12724.0</td>\n",
       "      <td>1272388.0</td>\n",
       "      <td>0.0</td>\n",
       "      <td>249.43</td>\n",
       "      <td>2.64</td>\n",
       "      <td>No</td>\n",
       "      <td>NaN</td>\n",
       "      <td>Compliant</td>\n",
       "      <td>NaN</td>\n",
       "      <td>NaN</td>\n",
       "      <td>14.0</td>\n",
       "      <td>NaN</td>\n",
       "      <td>31.0</td>\n",
       "      <td>18081</td>\n",
       "    </tr>\n",
       "    <tr>\n",
       "      <th>1</th>\n",
       "      <td>2</td>\n",
       "      <td>2015</td>\n",
       "      <td>NonResidential</td>\n",
       "      <td>Hotel</td>\n",
       "      <td>PARAMOUNT HOTEL</td>\n",
       "      <td>659000220</td>\n",
       "      <td>{'latitude': '47.61310583', 'longitude': '-122.33335756', 'human_address': '{\"address\": \"724 PINE ST\", \"city\": \"SEATTLE\", \"state\": \"WA\", \"zip\": \"98101\"}'}</td>\n",
       "      <td>7</td>\n",
       "      <td>DOWNTOWN</td>\n",
       "      <td>1996</td>\n",
       "      <td>1</td>\n",
       "      <td>11.0</td>\n",
       "      <td>103566</td>\n",
       "      <td>15064</td>\n",
       "      <td>88502</td>\n",
       "      <td>Hotel, Parking, Restaurant</td>\n",
       "      <td>Hotel</td>\n",
       "      <td>83880.0</td>\n",
       "      <td>Parking</td>\n",
       "      <td>15064.0</td>\n",
       "      <td>Restaurant</td>\n",
       "      <td>4622.0</td>\n",
       "      <td>NaN</td>\n",
       "      <td>51.0</td>\n",
       "      <td>94.4</td>\n",
       "      <td>99.0</td>\n",
       "      <td>191.3</td>\n",
       "      <td>195.2</td>\n",
       "      <td>8354235.0</td>\n",
       "      <td>8765788.0</td>\n",
       "      <td>0.0</td>\n",
       "      <td>1144563.0</td>\n",
       "      <td>3905411.0</td>\n",
       "      <td>44490.0</td>\n",
       "      <td>4448985.0</td>\n",
       "      <td>0.0</td>\n",
       "      <td>263.51</td>\n",
       "      <td>2.38</td>\n",
       "      <td>No</td>\n",
       "      <td>NaN</td>\n",
       "      <td>Compliant</td>\n",
       "      <td>NaN</td>\n",
       "      <td>NaN</td>\n",
       "      <td>14.0</td>\n",
       "      <td>NaN</td>\n",
       "      <td>31.0</td>\n",
       "      <td>18081</td>\n",
       "    </tr>\n",
       "  </tbody>\n",
       "</table>\n",
       "</div>"
      ],
      "text/plain": [
       "   OSEBuildingID  DataYear    BuildingType PrimaryPropertyType          PropertyName TaxParcelIdentificationNumber                                                                                                                                                      Location  CouncilDistrictCode Neighborhood  YearBuilt  NumberofBuildings  NumberofFloors  PropertyGFATotal  PropertyGFAParking  PropertyGFABuilding(s)   ListOfAllPropertyUseTypes LargestPropertyUseType  LargestPropertyUseTypeGFA  \\\n",
       "0              1      2015  NonResidential               Hotel  MAYFLOWER PARK HOTEL                     659000030  {'latitude': '47.61219025', 'longitude': '-122.33799744', 'human_address': '{\"address\": \"405 OLIVE WAY\", \"city\": \"SEATTLE\", \"state\": \"WA\", \"zip\": \"98101\"}'}                    7     DOWNTOWN       1927                  1            12.0             88434                   0                   88434                       Hotel                  Hotel                    88434.0   \n",
       "1              2      2015  NonResidential               Hotel       PARAMOUNT HOTEL                     659000220    {'latitude': '47.61310583', 'longitude': '-122.33335756', 'human_address': '{\"address\": \"724 PINE ST\", \"city\": \"SEATTLE\", \"state\": \"WA\", \"zip\": \"98101\"}'}                    7     DOWNTOWN       1996                  1            11.0            103566               15064                   88502  Hotel, Parking, Restaurant                  Hotel                    83880.0   \n",
       "\n",
       "  SecondLargestPropertyUseType  SecondLargestPropertyUseTypeGFA ThirdLargestPropertyUseType  ThirdLargestPropertyUseTypeGFA YearsENERGYSTARCertified  ENERGYSTARScore  SiteEUI(kBtu/sf)  SiteEUIWN(kBtu/sf)  SourceEUI(kBtu/sf)  SourceEUIWN(kBtu/sf)  SiteEnergyUse(kBtu)  SiteEnergyUseWN(kBtu)  SteamUse(kBtu)  Electricity(kWh)  Electricity(kBtu)  NaturalGas(therms)  NaturalGas(kBtu)  OtherFuelUse(kBtu)  GHGEmissions(MetricTonsCO2e)  GHGEmissionsIntensity(kgCO2e/ft2) DefaultData Comment  \\\n",
       "0                          NaN                              NaN                         NaN                             NaN                      NaN             65.0              78.9                80.3               173.5                 175.1            6981428.0              7097539.0       2023032.0         1080307.0          3686160.0             12724.0         1272388.0                 0.0                        249.43                               2.64          No     NaN   \n",
       "1                      Parking                          15064.0                  Restaurant                          4622.0                      NaN             51.0              94.4                99.0               191.3                 195.2            8354235.0              8765788.0             0.0         1144563.0          3905411.0             44490.0         4448985.0                 0.0                        263.51                               2.38          No     NaN   \n",
       "\n",
       "  ComplianceStatus Outlier  2010 Census Tracts  Seattle Police Department Micro Community Policing Plan Areas  City Council Districts  SPD Beats  Zip Codes  \n",
       "0        Compliant     NaN                 NaN                                                           14.0                     NaN       31.0      18081  \n",
       "1        Compliant     NaN                 NaN                                                           14.0                     NaN       31.0      18081  "
      ]
     },
     "metadata": {},
     "output_type": "display_data"
    }
   ],
   "source": [
    "display(energy_comsumption_2015.head(2))"
   ]
  },
  {
   "cell_type": "code",
   "execution_count": 8,
   "id": "939bb949-ebbe-4819-82f8-0202e2280216",
   "metadata": {
    "scrolled": true,
    "tags": []
   },
   "outputs": [
    {
     "name": "stdout",
     "output_type": "stream",
     "text": [
      "\n",
      "\n"
     ]
    },
    {
     "data": {
      "text/plain": [
       "'OSEBuildingID'"
      ]
     },
     "metadata": {},
     "output_type": "display_data"
    },
    {
     "data": {
      "text/plain": [
       "19774    1\n",
       "19855    1\n",
       "19671    1\n",
       "23769    1\n",
       "49943    1\n",
       "        ..\n",
       "23158    1\n",
       "633      1\n",
       "23162    1\n",
       "21115    1\n",
       "25170    1\n",
       "Name: OSEBuildingID, Length: 3340, dtype: int64"
      ]
     },
     "metadata": {},
     "output_type": "display_data"
    },
    {
     "data": {
      "text/plain": [
       "None"
      ]
     },
     "metadata": {},
     "output_type": "display_data"
    },
    {
     "name": "stdout",
     "output_type": "stream",
     "text": [
      "\n",
      "\n"
     ]
    },
    {
     "data": {
      "text/plain": [
       "'DataYear'"
      ]
     },
     "metadata": {},
     "output_type": "display_data"
    },
    {
     "data": {
      "text/plain": [
       "2015    3340\n",
       "Name: DataYear, dtype: int64"
      ]
     },
     "metadata": {},
     "output_type": "display_data"
    },
    {
     "data": {
      "text/plain": [
       "None"
      ]
     },
     "metadata": {},
     "output_type": "display_data"
    },
    {
     "name": "stdout",
     "output_type": "stream",
     "text": [
      "\n",
      "\n"
     ]
    },
    {
     "data": {
      "text/plain": [
       "'BuildingType'"
      ]
     },
     "metadata": {},
     "output_type": "display_data"
    },
    {
     "data": {
      "text/plain": [
       "NonResidential          1461\n",
       "Multifamily LR (1-4)    1029\n",
       "Multifamily MR (5-9)     554\n",
       "Multifamily HR (10+)     107\n",
       "SPS-District K-12         99\n",
       "Nonresidential COS        68\n",
       "Campus                    22\n",
       "Name: BuildingType, dtype: int64"
      ]
     },
     "metadata": {},
     "output_type": "display_data"
    },
    {
     "data": {
      "text/plain": [
       "None"
      ]
     },
     "metadata": {},
     "output_type": "display_data"
    },
    {
     "name": "stdout",
     "output_type": "stream",
     "text": [
      "\n",
      "\n"
     ]
    },
    {
     "data": {
      "text/plain": [
       "'PrimaryPropertyType'"
      ]
     },
     "metadata": {},
     "output_type": "display_data"
    },
    {
     "data": {
      "text/plain": [
       "Low-Rise Multifamily           998\n",
       "Mid-Rise Multifamily           539\n",
       "Small- and Mid-Sized Office    297\n",
       "Other                          258\n",
       "Non-Refrigerated Warehouse     187\n",
       "Large Office                   171\n",
       "K-12 School                    136\n",
       "Mixed Use Property             126\n",
       "High-Rise Multifamily          103\n",
       "Retail Store                   100\n",
       "Hotel                           73\n",
       "Worship Facility                72\n",
       "Distribution Center\\n           51\n",
       "Senior Care Community           43\n",
       "Medical Office                  43\n",
       "Supermarket/Grocery Store       36\n",
       "Self-Storage Facility\\n         27\n",
       "College/University              22\n",
       "Residence Hall/Dormitory        15\n",
       "Refrigerated Warehouse          13\n",
       "Restaurant\\n                    11\n",
       "Hospital                        10\n",
       "SPS-District K-12                4\n",
       "Distribution Center              2\n",
       "Laboratory                       1\n",
       "Restaurant                       1\n",
       "Self-Storage Facility            1\n",
       "Name: PrimaryPropertyType, dtype: int64"
      ]
     },
     "metadata": {},
     "output_type": "display_data"
    },
    {
     "data": {
      "text/plain": [
       "None"
      ]
     },
     "metadata": {},
     "output_type": "display_data"
    },
    {
     "name": "stdout",
     "output_type": "stream",
     "text": [
      "\n",
      "\n"
     ]
    },
    {
     "data": {
      "text/plain": [
       "'PropertyName'"
      ]
     },
     "metadata": {},
     "output_type": "display_data"
    },
    {
     "data": {
      "text/plain": [
       "WAREHOUSE                                       9\n",
       "OFFICE BUILDING                                 8\n",
       "CLOVERDALE BUSINESS PARK                        5\n",
       "APARTMENTS                                      4\n",
       "RUDD COMPANY                                    3\n",
       "                                               ..\n",
       "VIRGINIA MASON - BENAROYA RESEARCH INSTITUTE    1\n",
       "SHIP CANAL OFFICE CENTER                        1\n",
       "PHINNEY RIDGE LUTHERAN CHURCH                   1\n",
       "Uwajimaya (Seattle 5)                           1\n",
       "SALMON BAY CENTER 5303                          1\n",
       "Name: PropertyName, Length: 3287, dtype: int64"
      ]
     },
     "metadata": {},
     "output_type": "display_data"
    },
    {
     "data": {
      "text/plain": [
       "None"
      ]
     },
     "metadata": {},
     "output_type": "display_data"
    },
    {
     "name": "stdout",
     "output_type": "stream",
     "text": [
      "\n",
      "\n"
     ]
    },
    {
     "data": {
      "text/plain": [
       "'TaxParcelIdentificationNumber'"
      ]
     },
     "metadata": {},
     "output_type": "display_data"
    },
    {
     "data": {
      "text/plain": [
       "2400002       5\n",
       "925049346     5\n",
       "3224049012    5\n",
       "3624039009    4\n",
       "8632880000    4\n",
       "             ..\n",
       "7321900125    1\n",
       "8823901075    1\n",
       "7129302300    1\n",
       "3274900000    1\n",
       "704600000     1\n",
       "Name: TaxParcelIdentificationNumber, Length: 3245, dtype: int64"
      ]
     },
     "metadata": {},
     "output_type": "display_data"
    },
    {
     "data": {
      "text/plain": [
       "None"
      ]
     },
     "metadata": {},
     "output_type": "display_data"
    },
    {
     "name": "stdout",
     "output_type": "stream",
     "text": [
      "\n",
      "\n"
     ]
    },
    {
     "data": {
      "text/plain": [
       "'Location'"
      ]
     },
     "metadata": {},
     "output_type": "display_data"
    },
    {
     "data": {
      "text/plain": [
       "{'latitude': '47.66375728', 'longitude': '-122.3002168', 'human_address': '{\"address\": \"2623 NE UNIVERSITY VILLAGE ST\", \"city\": \"SEATTLE\", \"state\": \"WA\", \"zip\": \"98105\"}'}    5\n",
       "{'latitude': '47.52593209', 'longitude': '-122.3308402', 'human_address': '{\"address\": \"309 S CLOVERDALE ST\", \"city\": \"SEATTLE\", \"state\": \"WA\", \"zip\": \"98108\"}'}              5\n",
       "{'latitude': '47.5829049', 'longitude': '-122.3228994', 'human_address': '{\"address\": \"2203 AIRPORT WAY S\", \"city\": \"SEATTLE\", \"state\": \"WA\", \"zip\": \"98134\"}'}                4\n",
       "{'latitude': '47.52131741', 'longitude': '-122.3668974', 'human_address': '{\"address\": \"2600 SW BARTON ST\", \"city\": \"SEATTLE\", \"state\": \"WA\", \"zip\": \"98126\"}'}                4\n",
       "{'latitude': '47.62124083', 'longitude': '-122.3534322', 'human_address': '{\"address\": \"305 HARRISON ST\", \"city\": \"SEATTLE\", \"state\": \"WA\", \"zip\": \"98109\"}'}                  3\n",
       "                                                                                                                                                                              ..\n",
       "{'latitude': '47.56156057', 'longitude': '-122.3275348', 'human_address': '{\"address\": \"4601 6TH AVE S\", \"city\": \"SEATTLE\", \"state\": \"WA\", \"zip\": \"98108\"}'}                   1\n",
       "{'latitude': '47.73223596', 'longitude': '-122.2949572', 'human_address': '{\"address\": \"3030 NE 143RD ST\", \"city\": \"SEATTLE\", \"state\": \"WA\", \"zip\": \"98125\"}'}                 1\n",
       "{'latitude': '47.66189649', 'longitude': '-122.3890124', 'human_address': '{\"address\": \"2500 W COMMODORE WAY\", \"city\": \"SEATTLE\", \"state\": \"WA\", \"zip\": \"98199\"}'}             1\n",
       "{'latitude': '47.71538742', 'longitude': '-122.3550947', 'human_address': '{\"address\": \"11740 GREENWOOD AVE N\", \"city\": \"SEATTLE\", \"state\": \"WA\", \"zip\": \"98133\"}'}            1\n",
       "{'latitude': '47.62393635', 'longitude': '-122.35193', 'human_address': '{\"address\": \"301 MERCER ST\", \"city\": \"SEATTLE\", \"state\": \"WA\", \"zip\": \"98109\"}'}                      1\n",
       "Name: Location, Length: 3298, dtype: int64"
      ]
     },
     "metadata": {},
     "output_type": "display_data"
    },
    {
     "data": {
      "text/plain": [
       "None"
      ]
     },
     "metadata": {},
     "output_type": "display_data"
    },
    {
     "name": "stdout",
     "output_type": "stream",
     "text": [
      "\n",
      "\n"
     ]
    },
    {
     "data": {
      "text/plain": [
       "'CouncilDistrictCode'"
      ]
     },
     "metadata": {},
     "output_type": "display_data"
    },
    {
     "data": {
      "text/plain": [
       "7    1037\n",
       "3     584\n",
       "2     507\n",
       "4     344\n",
       "5     343\n",
       "1     280\n",
       "6     245\n",
       "Name: CouncilDistrictCode, dtype: int64"
      ]
     },
     "metadata": {},
     "output_type": "display_data"
    },
    {
     "data": {
      "text/plain": [
       "None"
      ]
     },
     "metadata": {},
     "output_type": "display_data"
    },
    {
     "name": "stdout",
     "output_type": "stream",
     "text": [
      "\n",
      "\n"
     ]
    },
    {
     "data": {
      "text/plain": [
       "'Neighborhood'"
      ]
     },
     "metadata": {},
     "output_type": "display_data"
    },
    {
     "data": {
      "text/plain": [
       "DOWNTOWN                 578\n",
       "EAST                     444\n",
       "MAGNOLIA / QUEEN ANNE    420\n",
       "GREATER DUWAMISH         369\n",
       "NORTHEAST                259\n",
       "LAKE UNION               249\n",
       "NORTHWEST                226\n",
       "NORTH                    188\n",
       "SOUTHWEST                165\n",
       "CENTRAL                  131\n",
       "BALLARD                  130\n",
       "SOUTHEAST                 96\n",
       "DELRIDGE                  85\n",
       "Name: Neighborhood, dtype: int64"
      ]
     },
     "metadata": {},
     "output_type": "display_data"
    },
    {
     "data": {
      "text/plain": [
       "None"
      ]
     },
     "metadata": {},
     "output_type": "display_data"
    },
    {
     "name": "stdout",
     "output_type": "stream",
     "text": [
      "\n",
      "\n"
     ]
    },
    {
     "data": {
      "text/plain": [
       "'YearBuilt'"
      ]
     },
     "metadata": {},
     "output_type": "display_data"
    },
    {
     "data": {
      "text/plain": [
       "2000    72\n",
       "2008    69\n",
       "1989    67\n",
       "1968    65\n",
       "1999    65\n",
       "1988    64\n",
       "2001    61\n",
       "2002    60\n",
       "1990    60\n",
       "1910    58\n",
       "1900    56\n",
       "1969    56\n",
       "1970    56\n",
       "1979    55\n",
       "1928    54\n",
       "1925    53\n",
       "2014    51\n",
       "1960    49\n",
       "2013    49\n",
       "1980    49\n",
       "1985    48\n",
       "1967    46\n",
       "2006    45\n",
       "1926    45\n",
       "1962    44\n",
       "2007    43\n",
       "1978    43\n",
       "1966    43\n",
       "1991    42\n",
       "1963    42\n",
       "1987    41\n",
       "1986    41\n",
       "2005    40\n",
       "2009    40\n",
       "1998    40\n",
       "1930    40\n",
       "1997    37\n",
       "1965    37\n",
       "2004    36\n",
       "1961    36\n",
       "1981    35\n",
       "1929    34\n",
       "2012    33\n",
       "1909    33\n",
       "2003    32\n",
       "1984    32\n",
       "1907    31\n",
       "1992    31\n",
       "1964    30\n",
       "1958    29\n",
       "1908    29\n",
       "1982    29\n",
       "1996    29\n",
       "1994    29\n",
       "1959    27\n",
       "1916    27\n",
       "1971    26\n",
       "1974    25\n",
       "1927    25\n",
       "1977    25\n",
       "1920    25\n",
       "1956    24\n",
       "1983    24\n",
       "2010    24\n",
       "1948    23\n",
       "1914    23\n",
       "1973    23\n",
       "1975    23\n",
       "1993    22\n",
       "1995    22\n",
       "1923    22\n",
       "1924    22\n",
       "1954    22\n",
       "1976    21\n",
       "1922    21\n",
       "1955    21\n",
       "1957    21\n",
       "1906    20\n",
       "1950    20\n",
       "1953    20\n",
       "1912    18\n",
       "1949    18\n",
       "1952    18\n",
       "1972    16\n",
       "1951    16\n",
       "1904    16\n",
       "1947    14\n",
       "1917    13\n",
       "2011    13\n",
       "1911    12\n",
       "1913    12\n",
       "1902    12\n",
       "1921    12\n",
       "1946    10\n",
       "1905    10\n",
       "1931    10\n",
       "1915     9\n",
       "1918     9\n",
       "1938     8\n",
       "1941     8\n",
       "1901     8\n",
       "1937     8\n",
       "1919     6\n",
       "1940     6\n",
       "1945     6\n",
       "1903     5\n",
       "1932     4\n",
       "1942     3\n",
       "2015     2\n",
       "1939     2\n",
       "1944     2\n",
       "1935     1\n",
       "1936     1\n",
       "Name: YearBuilt, dtype: int64"
      ]
     },
     "metadata": {},
     "output_type": "display_data"
    },
    {
     "data": {
      "text/plain": [
       "None"
      ]
     },
     "metadata": {},
     "output_type": "display_data"
    },
    {
     "name": "stdout",
     "output_type": "stream",
     "text": [
      "\n",
      "\n"
     ]
    },
    {
     "data": {
      "text/plain": [
       "'NumberofBuildings'"
      ]
     },
     "metadata": {},
     "output_type": "display_data"
    },
    {
     "data": {
      "text/plain": [
       "1     3321\n",
       "2        5\n",
       "6        3\n",
       "3        3\n",
       "7        3\n",
       "4        1\n",
       "10       1\n",
       "16       1\n",
       "11       1\n",
       "39       1\n",
       "Name: NumberofBuildings, dtype: int64"
      ]
     },
     "metadata": {},
     "output_type": "display_data"
    },
    {
     "data": {
      "text/plain": [
       "None"
      ]
     },
     "metadata": {},
     "output_type": "display_data"
    },
    {
     "name": "stdout",
     "output_type": "stream",
     "text": [
      "\n",
      "\n"
     ]
    },
    {
     "data": {
      "text/plain": [
       "'NumberofFloors'"
      ]
     },
     "metadata": {},
     "output_type": "display_data"
    },
    {
     "data": {
      "text/plain": [
       "3.0     701\n",
       "4.0     700\n",
       "1.0     451\n",
       "2.0     444\n",
       "6.0     299\n",
       "5.0     289\n",
       "7.0     133\n",
       "8.0      60\n",
       "11.0     32\n",
       "10.0     31\n",
       "13.0     20\n",
       "12.0     18\n",
       "9.0      18\n",
       "14.0     12\n",
       "17.0      9\n",
       "15.0      8\n",
       "18.0      7\n",
       "24.0      7\n",
       "16.0      7\n",
       "33.0      6\n",
       "26.0      6\n",
       "42.0      6\n",
       "23.0      6\n",
       "19.0      6\n",
       "25.0      5\n",
       "0.0       5\n",
       "27.0      5\n",
       "21.0      5\n",
       "20.0      4\n",
       "22.0      4\n",
       "29.0      3\n",
       "37.0      2\n",
       "28.0      2\n",
       "36.0      2\n",
       "41.0      2\n",
       "34.0      2\n",
       "31.0      2\n",
       "39.0      1\n",
       "30.0      1\n",
       "32.0      1\n",
       "47.0      1\n",
       "63.0      1\n",
       "76.0      1\n",
       "38.0      1\n",
       "55.0      1\n",
       "40.0      1\n",
       "99.0      1\n",
       "46.0      1\n",
       "49.0      1\n",
       "56.0      1\n",
       "Name: NumberofFloors, dtype: int64"
      ]
     },
     "metadata": {},
     "output_type": "display_data"
    },
    {
     "data": {
      "text/plain": [
       "None"
      ]
     },
     "metadata": {},
     "output_type": "display_data"
    },
    {
     "name": "stdout",
     "output_type": "stream",
     "text": [
      "\n",
      "\n"
     ]
    },
    {
     "data": {
      "text/plain": [
       "'PropertyGFATotal'"
      ]
     },
     "metadata": {},
     "output_type": "display_data"
    },
    {
     "data": {
      "text/plain": [
       "21600     9\n",
       "36000     8\n",
       "25920     8\n",
       "28800     7\n",
       "24000     6\n",
       "         ..\n",
       "109623    1\n",
       "30840     1\n",
       "243044    1\n",
       "52228     1\n",
       "161789    1\n",
       "Name: PropertyGFATotal, Length: 3150, dtype: int64"
      ]
     },
     "metadata": {},
     "output_type": "display_data"
    },
    {
     "data": {
      "text/plain": [
       "None"
      ]
     },
     "metadata": {},
     "output_type": "display_data"
    },
    {
     "name": "stdout",
     "output_type": "stream",
     "text": [
      "\n",
      "\n"
     ]
    },
    {
     "data": {
      "text/plain": [
       "'PropertyGFAParking'"
      ]
     },
     "metadata": {},
     "output_type": "display_data"
    },
    {
     "data": {
      "text/plain": [
       "0         2416\n",
       "13320        3\n",
       "25920        3\n",
       "6300         2\n",
       "100176       2\n",
       "          ... \n",
       "13700        1\n",
       "1416         1\n",
       "15755        1\n",
       "42380        1\n",
       "6133         1\n",
       "Name: PropertyGFAParking, Length: 908, dtype: int64"
      ]
     },
     "metadata": {},
     "output_type": "display_data"
    },
    {
     "data": {
      "text/plain": [
       "None"
      ]
     },
     "metadata": {},
     "output_type": "display_data"
    },
    {
     "name": "stdout",
     "output_type": "stream",
     "text": [
      "\n",
      "\n"
     ]
    },
    {
     "data": {
      "text/plain": [
       "'PropertyGFABuilding(s)'"
      ]
     },
     "metadata": {},
     "output_type": "display_data"
    },
    {
     "data": {
      "text/plain": [
       " 21600      9\n",
       " 25920      8\n",
       " 36000      7\n",
       " 28800      7\n",
       " 24000      6\n",
       "           ..\n",
       "-50550      1\n",
       " 28808      1\n",
       " 20565      1\n",
       " 48505      1\n",
       " 1023998    1\n",
       "Name: PropertyGFABuilding(s), Length: 3145, dtype: int64"
      ]
     },
     "metadata": {},
     "output_type": "display_data"
    },
    {
     "data": {
      "text/plain": [
       "None"
      ]
     },
     "metadata": {},
     "output_type": "display_data"
    },
    {
     "name": "stdout",
     "output_type": "stream",
     "text": [
      "\n",
      "\n"
     ]
    },
    {
     "data": {
      "text/plain": [
       "'ListOfAllPropertyUseTypes'"
      ]
     },
     "metadata": {},
     "output_type": "display_data"
    },
    {
     "data": {
      "text/plain": [
       "Multifamily Housing                                                                                                                                                                               862\n",
       "Multifamily Housing, Parking                                                                                                                                                                      406\n",
       "K-12 School                                                                                                                                                                                       133\n",
       "Office                                                                                                                                                                                            132\n",
       "Office, Parking                                                                                                                                                                                   112\n",
       "Non-Refrigerated Warehouse                                                                                                                                                                         98\n",
       "Other                                                                                                                                                                                              62\n",
       "Non-Refrigerated Warehouse, Office                                                                                                                                                                 60\n",
       "Retail Store                                                                                                                                                                                       53\n",
       "Multifamily Housing, Retail Store                                                                                                                                                                  52\n",
       "Multifamily Housing, Parking, Retail Store                                                                                                                                                         52\n",
       "Worship Facility                                                                                                                                                                                   48\n",
       "Office, Retail Store                                                                                                                                                                               42\n",
       "Multifamily Housing, Office, Parking                                                                                                                                                               39\n",
       "Hotel                                                                                                                                                                                              36\n",
       "Multifamily Housing, Office                                                                                                                                                                        24\n",
       "Self-Storage Facility                                                                                                                                                                              23\n",
       "Distribution Center                                                                                                                                                                                23\n",
       "Medical Office                                                                                                                                                                                     23\n",
       "Supermarket/Grocery Store                                                                                                                                                                          20\n",
       "Office, Other                                                                                                                                                                                      20\n",
       "Office, Other, Parking                                                                                                                                                                             19\n",
       "College/University                                                                                                                                                                                 18\n",
       "Distribution Center, Office                                                                                                                                                                        17\n",
       "Parking, Senior Care Community                                                                                                                                                                     17\n",
       "Senior Care Community                                                                                                                                                                              17\n",
       "Non-Refrigerated Warehouse, Office, Retail Store                                                                                                                                                   15\n",
       "Parking, Supermarket/Grocery Store                                                                                                                                                                 14\n",
       "Multifamily Housing, Parking, Swimming Pool                                                                                                                                                        14\n",
       "Medical Office, Parking                                                                                                                                                                            13\n",
       "Office, Restaurant                                                                                                                                                                                 13\n",
       "Office, Parking, Retail Store                                                                                                                                                                      13\n",
       "Hotel, Parking                                                                                                                                                                                     12\n",
       "Residence Hall/Dormitory                                                                                                                                                                           11\n",
       "Other - Entertainment/Public Assembly                                                                                                                                                              10\n",
       "Other, Retail Store                                                                                                                                                                                10\n",
       "Other, Parking                                                                                                                                                                                     10\n",
       "Parking, Worship Facility                                                                                                                                                                          10\n",
       "Non-Refrigerated Warehouse, Office, Other                                                                                                                                                           8\n",
       "Multifamily Housing, Office, Other, Parking                                                                                                                                                         7\n",
       "Multifamily Housing, Office, Parking, Retail Store                                                                                                                                                  7\n",
       "Office, Restaurant, Retail Store                                                                                                                                                                    7\n",
       "Multifamily Housing, Other                                                                                                                                                                          7\n",
       "Data Center, Office                                                                                                                                                                                 7\n",
       "Laboratory, Office, Parking                                                                                                                                                                         7\n",
       "Other - Recreation                                                                                                                                                                                  7\n",
       "Multifamily Housing, Restaurant                                                                                                                                                                     6\n",
       "Refrigerated Warehouse                                                                                                                                                                              6\n",
       "Multifamily Housing, Parking, Restaurant                                                                                                                                                            6\n",
       "Parking, Retail Store                                                                                                                                                                               6\n",
       "Non-Refrigerated Warehouse, Retail Store                                                                                                                                                            6\n",
       "Office, Other, Retail Store                                                                                                                                                                         5\n",
       "Multifamily Housing, Swimming Pool                                                                                                                                                                  5\n",
       "Hotel, Parking, Swimming Pool                                                                                                                                                                       5\n",
       "Multifamily Housing, Restaurant, Retail Store                                                                                                                                                       5\n",
       "Office, Parking, Restaurant                                                                                                                                                                         5\n",
       "Manufacturing/Industrial Plant                                                                                                                                                                      5\n",
       "Multifamily Housing, Office, Retail Store                                                                                                                                                           5\n",
       "Multifamily Housing, Office, Restaurant                                                                                                                                                             5\n",
       "Multifamily Housing, Office, Other                                                                                                                                                                  5\n",
       "Hospital (General Medical & Surgical), Parking                                                                                                                                                      5\n",
       "Social/Meeting Hall                                                                                                                                                                                 5\n",
       "Data Center, Office, Parking                                                                                                                                                                        5\n",
       "Restaurant                                                                                                                                                                                          5\n",
       "Parking, Retail Store, Supermarket/Grocery Store                                                                                                                                                    4\n",
       "Office, Other, Parking, Restaurant                                                                                                                                                                  4\n",
       "Other/Specialty Hospital                                                                                                                                                                            4\n",
       "Hotel, Restaurant                                                                                                                                                                                   4\n",
       "Office, Other - Services                                                                                                                                                                            4\n",
       "Non-Refrigerated Warehouse, Parking                                                                                                                                                                 4\n",
       "Data Center, Office, Retail Store                                                                                                                                                                   4\n",
       "Repair Services (Vehicle, Shoe, Locksmith, etc)                                                                                                                                                     4\n",
       "Medical Office, Office, Parking                                                                                                                                                                     4\n",
       "Other - Lodging/Residential                                                                                                                                                                         4\n",
       "Hospital (General Medical & Surgical)                                                                                                                                                               4\n",
       "Office, Other, Parking, Retail Store                                                                                                                                                                4\n",
       "Urgent Care/Clinic/Other Outpatient                                                                                                                                                                 4\n",
       "Lifestyle Center, Multifamily Housing, Office, Parking                                                                                                                                              3\n",
       "Non-Refrigerated Warehouse, Office, Other, Retail Store                                                                                                                                             3\n",
       "Office, Social/Meeting Hall                                                                                                                                                                         3\n",
       "Laboratory, Office                                                                                                                                                                                  3\n",
       "Performing Arts                                                                                                                                                                                     3\n",
       "Non-Refrigerated Warehouse, Office, Other - Services                                                                                                                                                3\n",
       "Non-Refrigerated Warehouse, Other - Services                                                                                                                                                        3\n",
       "K-12 School, Parking                                                                                                                                                                                3\n",
       "Distribution Center, Non-Refrigerated Warehouse, Office                                                                                                                                             3\n",
       "Non-Refrigerated Warehouse, Other, Retail Store                                                                                                                                                     3\n",
       "Bank Branch, Office                                                                                                                                                                                 3\n",
       "Medical Office, Multifamily Housing, Parking                                                                                                                                                        3\n",
       "Parking, Strip Mall                                                                                                                                                                                 3\n",
       "Office, Worship Facility                                                                                                                                                                            3\n",
       "Laboratory                                                                                                                                                                                          3\n",
       "Distribution Center, Office, Retail Store                                                                                                                                                           3\n",
       "Non-Refrigerated Warehouse, Office, Parking                                                                                                                                                         3\n",
       "Distribution Center, Parking                                                                                                                                                                        3\n",
       "Multifamily Housing, Parking, Supermarket/Grocery Store                                                                                                                                             3\n",
       "Automobile Dealership                                                                                                                                                                               3\n",
       "Automobile Dealership, Parking                                                                                                                                                                      3\n",
       "Museum                                                                                                                                                                                              3\n",
       "Office, Repair Services (Vehicle, Shoe, Locksmith, etc)                                                                                                                                             2\n",
       "Multifamily Housing, Office, Other - Lodging/Residential, Retail Store                                                                                                                              2\n",
       "Multifamily Housing, Non-Refrigerated Warehouse, Parking                                                                                                                                            2\n",
       "Multifamily Housing, Parking, Restaurant, Retail Store                                                                                                                                              2\n",
       "Parking, Self-Storage Facility                                                                                                                                                                      2\n",
       "Distribution Center, Non-Refrigerated Warehouse                                                                                                                                                     2\n",
       "Library, Other - Services                                                                                                                                                                           2\n",
       "Bank Branch                                                                                                                                                                                         2\n",
       "Non-Refrigerated Warehouse, Other                                                                                                                                                                   2\n",
       "Multifamily Housing, Office, Parking, Restaurant                                                                                                                                                    2\n",
       "Medical Office, Office                                                                                                                                                                              2\n",
       "Bank Branch, Parking                                                                                                                                                                                2\n",
       "Hotel, Retail Store                                                                                                                                                                                 2\n",
       "Medical Office, Multifamily Housing, Office, Other, Parking                                                                                                                                         2\n",
       "Other, Worship Facility                                                                                                                                                                             2\n",
       "Other - Public Services, Parking                                                                                                                                                                    2\n",
       "Office, Other - Recreation                                                                                                                                                                          2\n",
       "Multifamily Housing, Office, Other, Parking, Retail Store                                                                                                                                           2\n",
       "Multifamily Housing, Parking, Personal Services (Health/Beauty, Dry Cleaning, etc), Restaurant                                                                                                      2\n",
       "Multifamily Housing, Other - Entertainment/Public Assembly                                                                                                                                          2\n",
       "Multifamily Housing, Other, Parking                                                                                                                                                                 2\n",
       "Retail Store, Supermarket/Grocery Store                                                                                                                                                             2\n",
       "Bank Branch, Office, Parking                                                                                                                                                                        2\n",
       "Hotel, Parking, Restaurant                                                                                                                                                                          2\n",
       "Medical Office, Multifamily Housing, Office, Parking, Restaurant                                                                                                                                    2\n",
       "Medical Office, Office, Retail Store                                                                                                                                                                2\n",
       "Data Center, Distribution Center, Office, Other                                                                                                                                                     2\n",
       "Office, Other - Entertainment/Public Assembly, Restaurant                                                                                                                                           2\n",
       "Strip Mall                                                                                                                                                                                          2\n",
       "Office, Refrigerated Warehouse                                                                                                                                                                      2\n",
       "Restaurant, Retail Store                                                                                                                                                                            2\n",
       "Fitness Center/Health Club/Gym, Office                                                                                                                                                              2\n",
       "Multifamily Housing, Parking, Social/Meeting Hall                                                                                                                                                   2\n",
       "Food Service, Multifamily Housing, Parking                                                                                                                                                          2\n",
       "Fitness Center/Health Club/Gym, Swimming Pool                                                                                                                                                       2\n",
       "Fitness Center/Health Club/Gym, Office, Other - Recreation, Pre-school/Daycare                                                                                                                      2\n",
       "Food Service, Multifamily Housing                                                                                                                                                                   2\n",
       "K-12 School, Worship Facility                                                                                                                                                                       2\n",
       "College/University, Parking                                                                                                                                                                         2\n",
       "Multifamily Housing, Non-Refrigerated Warehouse                                                                                                                                                     2\n",
       "Multifamily Housing, Parking, Senior Care Community                                                                                                                                                 2\n",
       "Other - Entertainment/Public Assembly, Parking                                                                                                                                                      2\n",
       "Fitness Center/Health Club/Gym, Other - Recreation, Swimming Pool                                                                                                                                   2\n",
       "Multifamily Housing, Office, Parking, Swimming Pool                                                                                                                                                 2\n",
       "Data Center, Office, Other                                                                                                                                                                          2\n",
       "Multifamily Housing, Parking, Retail Store, Swimming Pool                                                                                                                                           2\n",
       "Multifamily Housing, Non-Refrigerated Warehouse, Office, Parking                                                                                                                                    2\n",
       "Bar/Nightclub, Multifamily Housing, Parking                                                                                                                                                         1\n",
       "Office, Other, Other - Entertainment/Public Assembly                                                                                                                                                1\n",
       "Multifamily Housing, Office, Parking, Restaurant, Retail Store, Swimming Pool, Urgent Care/Clinic/Other Outpatient                                                                                  1\n",
       "Hotel, Multifamily Housing, Parking, Retail Store                                                                                                                                                   1\n",
       "Fitness Center/Health Club/Gym, Office, Other - Recreation                                                                                                                                          1\n",
       "Food Service, Other, Other - Education, Other - Entertainment/Public Assembly, Other - Recreation, Social/Meeting Hall                                                                              1\n",
       "Pre-school/Daycare                                                                                                                                                                                  1\n",
       "Enclosed Mall, Manufacturing/Industrial Plant, Office, Other - Restaurant/Bar                                                                                                                       1\n",
       "Food Service, Non-Refrigerated Warehouse, Retail Store                                                                                                                                              1\n",
       "Hospital (General Medical & Surgical), Multifamily Housing, Parking                                                                                                                                 1\n",
       "Office, Other, Other - Services, Residence Hall/Dormitory, Restaurant                                                                                                                               1\n",
       "Hotel, Parking, Retail Store                                                                                                                                                                        1\n",
       "Multifamily Housing, Other, Parking, Urgent Care/Clinic/Other Outpatient                                                                                                                            1\n",
       "Movie Theater, Other - Restaurant/Bar, Parking                                                                                                                                                      1\n",
       "Other - Education                                                                                                                                                                                   1\n",
       "Hotel, Swimming Pool                                                                                                                                                                                1\n",
       "Data Center, Office, Other, Restaurant                                                                                                                                                              1\n",
       "Multifamily Housing, Non-Refrigerated Warehouse, Office, Restaurant                                                                                                                                 1\n",
       "Data Center, Office, Restaurant                                                                                                                                                                     1\n",
       "Office, Senior Care Community                                                                                                                                                                       1\n",
       "Fast Food Restaurant, Other, Other - Entertainment/Public Assembly                                                                                                                                  1\n",
       "Office, Other, Restaurant                                                                                                                                                                           1\n",
       "Medical Office, Non-Refrigerated Warehouse, Office, Retail Store                                                                                                                                    1\n",
       "Fast Food Restaurant, Multifamily Housing, Parking                                                                                                                                                  1\n",
       "Multifamily Housing, Other/Specialty Hospital                                                                                                                                                       1\n",
       "Non-Refrigerated Warehouse, Office, Other, Parking, Retail Store                                                                                                                                    1\n",
       "Data Center, Library, Non-Refrigerated Warehouse, Office, Other - Entertainment/Public Assembly, Other - Recreation, Other - Services, Restaurant, Social/Meeting Hall                              1\n",
       "Non-Refrigerated Warehouse, Worship Facility                                                                                                                                                        1\n",
       "Office, Parking, Refrigerated Warehouse                                                                                                                                                             1\n",
       "Multifamily Housing, Other, Restaurant                                                                                                                                                              1\n",
       "Medical Office, Multifamily Housing, Other - Restaurant/Bar                                                                                                                                         1\n",
       "Other, Restaurant, Retail Store                                                                                                                                                                     1\n",
       "Office, Other - Public Services, Personal Services (Health/Beauty, Dry Cleaning, etc), Senior Care Community                                                                                        1\n",
       "Bar/Nightclub, Multifamily Housing, Other - Restaurant/Bar, Restaurant, Retail Store                                                                                                                1\n",
       "Other, Refrigerated Warehouse                                                                                                                                                                       1\n",
       "Other - Services, Retail Store                                                                                                                                                                      1\n",
       "Laboratory, Office, Other, Parking                                                                                                                                                                  1\n",
       "Data Center, Laboratory                                                                                                                                                                             1\n",
       "Multifamily Housing, Office, Other, Parking, Performing Arts, Restaurant                                                                                                                            1\n",
       "Data Center, Multifamily Housing, Office, Other, Parking                                                                                                                                            1\n",
       "Medical Office, Retail Store                                                                                                                                                                        1\n",
       "Data Center, Office, Other, Parking, Restaurant                                                                                                                                                     1\n",
       "Non-Refrigerated Warehouse, Office, Other, Other - Entertainment/Public Assembly, Parking                                                                                                           1\n",
       "Data Center, Distribution Center, Office, Parking, Retail Store                                                                                                                                     1\n",
       "Bank Branch, Medical Office, Parking, Retail Store                                                                                                                                                  1\n",
       "Wholesale Club/Supercenter                                                                                                                                                                          1\n",
       "Other, Parking, Restaurant                                                                                                                                                                          1\n",
       "Medical Office, Multifamily Housing, Other - Restaurant/Bar, Retail Store                                                                                                                           1\n",
       "Data Center, Parking                                                                                                                                                                                1\n",
       "Food Sales, Non-Refrigerated Warehouse, Office                                                                                                                                                      1\n",
       "Non-Refrigerated Warehouse, Office, Other - Services, Residence Hall/Dormitory                                                                                                                      1\n",
       "Parking, Pre-school/Daycare                                                                                                                                                                         1\n",
       "Non-Refrigerated Warehouse, Office, Self-Storage Facility                                                                                                                                           1\n",
       "Distribution Center, Non-Refrigerated Warehouse, Office, Retail Store                                                                                                                               1\n",
       "Office, Other - Entertainment/Public Assembly                                                                                                                                                       1\n",
       "Bank Branch, Multifamily Housing, Parking, Restaurant, Strip Mall                                                                                                                                   1\n",
       "Food Sales, Multifamily Housing, Office, Other - Education, Other - Restaurant/Bar, Pre-school/Daycare, Restaurant, Retail Store, Supermarket/Grocery Store                                         1\n",
       "Bar/Nightclub, Multifamily Housing                                                                                                                                                                  1\n",
       "Fitness Center/Health Club/Gym, Office, Other - Recreation, Other - Technology/Science, Parking, Pre-school/Daycare                                                                                 1\n",
       "Multifamily Housing, Office, Other, Other - Lodging/Residential, Worship Facility                                                                                                                   1\n",
       "Other - Education, Worship Facility                                                                                                                                                                 1\n",
       "Multifamily Housing, Office, Other - Entertainment/Public Assembly, Parking                                                                                                                         1\n",
       "Office, Other - Restaurant/Bar, Retail Store, Single Family Home                                                                                                                                    1\n",
       "Office, Performing Arts, Retail Store                                                                                                                                                               1\n",
       "Data Center, Financial Office, Office, Parking, Restaurant                                                                                                                                          1\n",
       "Non-Refrigerated Warehouse, Office, Refrigerated Warehouse                                                                                                                                          1\n",
       "Other - Education, Performing Arts, Social/Meeting Hall                                                                                                                                             1\n",
       "Financial Office, Medical Office, Parking                                                                                                                                                           1\n",
       "Hotel, Other, Parking, Restaurant, Retail Store                                                                                                                                                     1\n",
       "Medical Office, Multifamily Housing, Supermarket/Grocery Store                                                                                                                                      1\n",
       "Museum, Parking                                                                                                                                                                                     1\n",
       "Other - Lodging/Residential, Parking                                                                                                                                                                1\n",
       "Hotel, Parking, Retail Store, Swimming Pool                                                                                                                                                         1\n",
       "Automobile Dealership, Office                                                                                                                                                                       1\n",
       "Office, Parking, Self-Storage Facility                                                                                                                                                              1\n",
       "Convention Center, Parking                                                                                                                                                                          1\n",
       "Data Center, Office, Parking, Restaurant, Retail Store                                                                                                                                              1\n",
       "Financial Office, Food Sales, Office, Other, Parking                                                                                                                                                1\n",
       "Distribution Center, Office, Parking                                                                                                                                                                1\n",
       "Financial Office, Office, Other, Parking, Restaurant                                                                                                                                                1\n",
       "Courthouse                                                                                                                                                                                          1\n",
       "Office, Residence Hall/Dormitory                                                                                                                                                                    1\n",
       "Fitness Center/Health Club/Gym, Medical Office, Office, Parking, Restaurant                                                                                                                         1\n",
       "Non-Refrigerated Warehouse, Other, Restaurant, Retail Store                                                                                                                                         1\n",
       "Medical Office, Non-Refrigerated Warehouse                                                                                                                                                          1\n",
       "Hotel, Other - Entertainment/Public Assembly, Retail Store                                                                                                                                          1\n",
       "Non-Refrigerated Warehouse, Office, Social/Meeting Hall                                                                                                                                             1\n",
       "Fast Food Restaurant, Multifamily Housing, Office, Other, Restaurant, Retail Store                                                                                                                  1\n",
       "Non-Refrigerated Warehouse, Office, Restaurant, Retail Store                                                                                                                                        1\n",
       "Office, Other - Lodging/Residential                                                                                                                                                                 1\n",
       "Office, Performing Arts, Restaurant, Retail Store, Self-Storage Facility                                                                                                                            1\n",
       "Medical Office, Multifamily Housing, Office, Other, Parking, Restaurant, Self-Storage Facility                                                                                                      1\n",
       "Bank Branch, Multifamily Housing, Office, Other, Retail Store                                                                                                                                       1\n",
       "Multifamily Housing, Office, Other - Services                                                                                                                                                       1\n",
       "Food Sales, Manufacturing/Industrial Plant, Office, Other - Entertainment/Public Assembly, Other - Restaurant/Bar, Restaurant, Retail Store, Self-Storage Facility                                  1\n",
       "Hotel, Parking, Restaurant, Retail Store                                                                                                                                                            1\n",
       "K-12 School, Multifamily Housing, Office                                                                                                                                                            1\n",
       "Office, Other - Restaurant/Bar, Parking, Retail Store                                                                                                                                               1\n",
       "Medical Office, Office, Supermarket/Grocery Store                                                                                                                                                   1\n",
       "Medical Office, Other, Parking                                                                                                                                                                      1\n",
       "Office, Other, Other - Entertainment/Public Assembly, Other - Recreation, Other - Utility, Restaurant, Retail Store                                                                                 1\n",
       "Office, Other - Technology/Science, Parking                                                                                                                                                         1\n",
       "Bar/Nightclub, Food Sales, Multifamily Housing, Restaurant, Retail Store, Self-Storage Facility                                                                                                     1\n",
       "K-12 School, Office, Social/Meeting Hall, Worship Facility                                                                                                                                          1\n",
       "Office, Restaurant, Self-Storage Facility                                                                                                                                                           1\n",
       "Non-Refrigerated Warehouse, Office, Other - Recreation, Restaurant                                                                                                                                  1\n",
       "K-12 School, Office, Supermarket/Grocery Store, Worship Facility                                                                                                                                    1\n",
       "Non-Refrigerated Warehouse, Office, Repair Services (Vehicle, Shoe, Locksmith, etc)                                                                                                                 1\n",
       "Hospital (General Medical & Surgical), Other                                                                                                                                                        1\n",
       "Food Service, Office, Parking, Restaurant                                                                                                                                                           1\n",
       "Office, Parking, Senior Care Community                                                                                                                                                              1\n",
       "Parking, Residence Hall/Dormitory                                                                                                                                                                   1\n",
       "Manufacturing/Industrial Plant, Office, Parking                                                                                                                                                     1\n",
       "Bank Branch, Senior Care Community                                                                                                                                                                  1\n",
       "Medical Office, Multifamily Housing, Office, Retail Store                                                                                                                                           1\n",
       "Hotel, Office, Retail Store                                                                                                                                                                         1\n",
       "Food Service, Office, Other - Lodging/Residential                                                                                                                                                   1\n",
       "Hotel, Multifamily Housing, Parking                                                                                                                                                                 1\n",
       "Manufacturing/Industrial Plant, Parking                                                                                                                                                             1\n",
       "Bank Branch, Financial Office                                                                                                                                                                       1\n",
       "Financial Office, Laboratory, Office, Parking                                                                                                                                                       1\n",
       "Financial Office, Multifamily Housing, Parking, Retail Store, Supermarket/Grocery Store                                                                                                             1\n",
       "Other - Recreation, Parking, Restaurant                                                                                                                                                             1\n",
       "Financial Office, Multifamily Housing, Retail Store                                                                                                                                                 1\n",
       "Medical Office, Office, Other, Restaurant, Retail Store                                                                                                                                             1\n",
       "Data Center, Office, Other, Parking                                                                                                                                                                 1\n",
       "Bar/Nightclub, Office, Personal Services (Health/Beauty, Dry Cleaning, etc)                                                                                                                         1\n",
       "Police Station                                                                                                                                                                                      1\n",
       "Multifamily Housing, Non-Refrigerated Warehouse, Office, Retail Store                                                                                                                               1\n",
       "K-12 School, Multifamily Housing, Office, Other - Entertainment/Public Assembly                                                                                                                     1\n",
       "Data Center, Medical Office, Non-Refrigerated Warehouse, Office, Other, Parking                                                                                                                     1\n",
       "Office, Other - Entertainment/Public Assembly, Restaurant, Urgent Care/Clinic/Other Outpatient                                                                                                      1\n",
       "Distribution Center, Non-Refrigerated Warehouse, Office, Other - Education, Parking                                                                                                                 1\n",
       "Financial Office, Multifamily Housing, Parking, Residence Hall/Dormitory                                                                                                                            1\n",
       "Distribution Center, Office, Refrigerated Warehouse                                                                                                                                                 1\n",
       "Medical Office, Multifamily Housing, Office, Restaurant, Retail Store                                                                                                                               1\n",
       "Office, Other, Other - Lodging/Residential, Restaurant, Social/Meeting Hall                                                                                                                         1\n",
       "Food Service, Multifamily Housing, Office                                                                                                                                                           1\n",
       "Multifamily Housing, Parking, Retail Store, Supermarket/Grocery Store                                                                                                                               1\n",
       "Adult Education, Parking                                                                                                                                                                            1\n",
       "Food Sales, Multifamily Housing, Restaurant, Retail Store                                                                                                                                           1\n",
       "Office, Other, Refrigerated Warehouse                                                                                                                                                               1\n",
       "Office, Parking, Pre-school/Daycare                                                                                                                                                                 1\n",
       "Multifamily Housing, Office, Parking, Personal Services (Health/Beauty, Dry Cleaning, etc), Restaurant, Retail Store                                                                                1\n",
       "Office, Other, Worship Facility                                                                                                                                                                     1\n",
       "Food Sales, Multifamily Housing, Other - Restaurant/Bar, Retail Store, Self-Storage Facility, Social/Meeting Hall                                                                                   1\n",
       "Multifamily Housing, Non-Refrigerated Warehouse, Office, Parking, Retail Store                                                                                                                      1\n",
       "Fitness Center/Health Club/Gym, Office, Swimming Pool                                                                                                                                               1\n",
       "Fast Food Restaurant, Fitness Center/Health Club/Gym, Medical Office, Multifamily Housing, Other, Parking, Personal Services (Health/Beauty, Dry Cleaning, etc), Restaurant                         1\n",
       "Financial Office, Food Service, Multifamily Housing, Other, Parking                                                                                                                                 1\n",
       "Bank Branch, Office, Parking, Restaurant                                                                                                                                                            1\n",
       "Bank Branch, Other, Parking                                                                                                                                                                         1\n",
       "Financial Office                                                                                                                                                                                    1\n",
       "Food Sales, Multifamily Housing, Parking                                                                                                                                                            1\n",
       "Non-Refrigerated Warehouse, Office, Other, Other - Services                                                                                                                                         1\n",
       "Restaurant, Senior Care Community                                                                                                                                                                   1\n",
       "Outpatient Rehabilitation/Physical Therapy, Parking                                                                                                                                                 1\n",
       "Fire Station                                                                                                                                                                                        1\n",
       "Food Service, Office, Other - Entertainment/Public Assembly                                                                                                                                         1\n",
       "Medical Office, Non-Refrigerated Warehouse, Office, Other                                                                                                                                           1\n",
       "Office, Residence Hall/Dormitory, Retail Store                                                                                                                                                      1\n",
       "Other - Recreation, Self-Storage Facility                                                                                                                                                           1\n",
       "Food Service, Multifamily Housing, Other, Other - Entertainment/Public Assembly, Restaurant, Retail Store                                                                                           1\n",
       "Food Service                                                                                                                                                                                        1\n",
       "Non-Refrigerated Warehouse, Other, Refrigerated Warehouse                                                                                                                                           1\n",
       "Food Sales, Office, Restaurant, Retail Store, Self-Storage Facility, Social/Meeting Hall                                                                                                            1\n",
       "Adult Education, Bank Branch, Office, Parking                                                                                                                                                       1\n",
       "K-12 School, Office, Retail Store                                                                                                                                                                   1\n",
       "Food Service, Medical Office, Multifamily Housing, Office                                                                                                                                           1\n",
       "Financial Office, Office, Other, Parking, Restaurant, Retail Store                                                                                                                                  1\n",
       "Office, Restaurant, Supermarket/Grocery Store                                                                                                                                                       1\n",
       "Data Center, Library, Parking                                                                                                                                                                       1\n",
       "Non-Refrigerated Warehouse, Parking, Repair Services (Vehicle, Shoe, Locksmith, etc), Retail Store                                                                                                  1\n",
       "Fitness Center/Health Club/Gym, Office, Parking, Restaurant                                                                                                                                         1\n",
       "Multifamily Housing, Non-Refrigerated Warehouse, Office, Parking, Retail Store, Worship Facility                                                                                                    1\n",
       "College/University, Medical Office                                                                                                                                                                  1\n",
       "Other - Education, Parking                                                                                                                                                                          1\n",
       "Other - Entertainment/Public Assembly, Restaurant                                                                                                                                                   1\n",
       "Bank Branch, Office, Other, Parking, Restaurant                                                                                                                                                     1\n",
       "Office, Other - Services, Parking                                                                                                                                                                   1\n",
       "Multifamily Housing, Office, Swimming Pool                                                                                                                                                          1\n",
       "Office, Other - Restaurant/Bar                                                                                                                                                                      1\n",
       "Financial Office, Food Service, Office, Other, Parking                                                                                                                                              1\n",
       "Office, Other - Education                                                                                                                                                                           1\n",
       "Fitness Center/Health Club/Gym, Office, Other - Education, Other - Recreation, Other - Technology/Science, Pre-school/Daycare, Swimming Pool                                                        1\n",
       "Convenience Store without Gas Station, Food Service, Office                                                                                                                                         1\n",
       "Medical Office, Parking, Retail Store                                                                                                                                                               1\n",
       "Fitness Center/Health Club/Gym, Office, Other - Recreation, Other - Technology/Science, Pre-school/Daycare, Swimming Pool                                                                           1\n",
       "Multifamily Housing, Office, Restaurant, Retail Store, Social/Meeting Hall, Supermarket/Grocery Store                                                                                               1\n",
       "Medical Office, Office, Other, Other - Services, Parking, Retail Store                                                                                                                              1\n",
       "Other - Entertainment/Public Assembly, Restaurant, Retail Store                                                                                                                                     1\n",
       "Office, Restaurant, Retail Store, Self-Storage Facility                                                                                                                                             1\n",
       "Parking, Senior Care Community, Worship Facility                                                                                                                                                    1\n",
       "Manufacturing/Industrial Plant, Office, Retail Store                                                                                                                                                1\n",
       "Other, Other - Entertainment/Public Assembly, Self-Storage Facility                                                                                                                                 1\n",
       "Other, Parking, Restaurant, Retail Store                                                                                                                                                            1\n",
       "College/University, Restaurant                                                                                                                                                                      1\n",
       "Office, Supermarket/Grocery Store                                                                                                                                                                   1\n",
       "Financial Office, Hotel, Multifamily Housing, Other, Parking, Restaurant, Supermarket/Grocery Store                                                                                                 1\n",
       "Data Center, Office, Parking, Restaurant                                                                                                                                                            1\n",
       "Non-Refrigerated Warehouse, Office, Other, Other - Recreation, Other - Services, Restaurant                                                                                                         1\n",
       "Non-Refrigerated Warehouse, Other, Parking, Retail Store                                                                                                                                            1\n",
       "Office, Repair Services (Vehicle, Shoe, Locksmith, etc), Retail Store                                                                                                                               1\n",
       "Adult Education, Fitness Center/Health Club/Gym, Office, Other - Restaurant/Bar, Parking, Retail Store                                                                                              1\n",
       "Office, Other - Education, Parking                                                                                                                                                                  1\n",
       "Lifestyle Center                                                                                                                                                                                    1\n",
       "Multifamily Housing, Retail Store, Social/Meeting Hall                                                                                                                                              1\n",
       "Data Center, Office, Other, Other - Entertainment/Public Assembly                                                                                                                                   1\n",
       "Laboratory, Other                                                                                                                                                                                   1\n",
       "Financial Office, Multifamily Housing, Parking, Supermarket/Grocery Store                                                                                                                           1\n",
       "Convenience Store without Gas Station, Laboratory, Parking                                                                                                                                          1\n",
       "Multifamily Housing, Other - Restaurant/Bar, Parking, Restaurant                                                                                                                                    1\n",
       "Multifamily Housing, Office, Other - Mall, Parking, Restaurant                                                                                                                                      1\n",
       "Food Service, Other - Services, Retail Store, Supermarket/Grocery Store                                                                                                                             1\n",
       "Fast Food Restaurant, Multifamily Housing, Retail Store                                                                                                                                             1\n",
       "Office, Other - Utility, Parking                                                                                                                                                                    1\n",
       "Food Service, Office, Parking                                                                                                                                                                       1\n",
       "Multifamily Housing, Office, Other, Other - Recreation, Parking, Restaurant                                                                                                                         1\n",
       "Food Service, Multifamily Housing, Office, Other, Retail Store                                                                                                                                      1\n",
       "Multifamily Housing, Other - Recreation, Parking, Restaurant                                                                                                                                        1\n",
       "Multifamily Housing, Parking, Retail Store, Senior Care Community                                                                                                                                   1\n",
       "Convenience Store without Gas Station, Data Center, Financial Office, Fitness Center/Health Club/Gym, Office, Other, Parking, Personal Services (Health/Beauty, Dry Cleaning, etc), Restaurant      1\n",
       "Multifamily Housing, Non-Refrigerated Warehouse, Parking, Residence Hall/Dormitory                                                                                                                  1\n",
       "Other - Recreation, Worship Facility                                                                                                                                                                1\n",
       "Fitness Center/Health Club/Gym, Office, Parking                                                                                                                                                     1\n",
       "Data Center, Distribution Center, Office, Other, Parking                                                                                                                                            1\n",
       "Multifamily Housing, Office, Other, Strip Mall                                                                                                                                                      1\n",
       "Data Center, Medical Office, Office, Parking, Restaurant                                                                                                                                            1\n",
       "Fitness Center/Health Club/Gym, Multifamily Housing, Parking, Restaurant                                                                                                                            1\n",
       "Office, Retail Store, Social/Meeting Hall                                                                                                                                                           1\n",
       "Distribution Center, Non-Refrigerated Warehouse, Refrigerated Warehouse                                                                                                                             1\n",
       "Multifamily Housing, Retail Store, Self-Storage Facility, Supermarket/Grocery Store                                                                                                                 1\n",
       "Adult Education                                                                                                                                                                                     1\n",
       "Distribution Center, Office, Other                                                                                                                                                                  1\n",
       "Office, Other, Retail Store, Swimming Pool                                                                                                                                                          1\n",
       "Distribution Center, Non-Refrigerated Warehouse, Supermarket/Grocery Store                                                                                                                          1\n",
       "Non-Refrigerated Warehouse, Office, Other - Recreation                                                                                                                                              1\n",
       "Food Service, Hotel, Parking                                                                                                                                                                        1\n",
       "Multifamily Housing, Other, Retail Store                                                                                                                                                            1\n",
       "Multifamily Housing, Museum                                                                                                                                                                         1\n",
       "Multifamily Housing, Other - Restaurant/Bar, Parking, Retail Store                                                                                                                                  1\n",
       "Other - Mall, Parking                                                                                                                                                                               1\n",
       "Other - Entertainment/Public Assembly, Parking, Social/Meeting Hall, Swimming Pool                                                                                                                  1\n",
       "Multifamily Housing, Other, Parking, Retail Store                                                                                                                                                   1\n",
       "Bank Branch, Multifamily Housing, Other - Restaurant/Bar, Supermarket/Grocery Store                                                                                                                 1\n",
       "Medical Office, Other/Specialty Hospital, Outpatient Rehabilitation/Physical Therapy, Parking                                                                                                       1\n",
       "Other - Services                                                                                                                                                                                    1\n",
       "Movie Theater                                                                                                                                                                                       1\n",
       "Parking, Restaurant                                                                                                                                                                                 1\n",
       "Office, Other, Other - Restaurant/Bar, Parking                                                                                                                                                      1\n",
       "Lifestyle Center, Medical Office                                                                                                                                                                    1\n",
       "Other - Mall, Restaurant                                                                                                                                                                            1\n",
       "Multifamily Housing, Other - Education, Other - Entertainment/Public Assembly, Other - Restaurant/Bar                                                                                               1\n",
       "Multifamily Housing, Parking, Restaurant, Swimming Pool                                                                                                                                             1\n",
       "Office, Parking, Residence Hall/Dormitory, Restaurant, Social/Meeting Hall                                                                                                                          1\n",
       "Distribution Center, Office, Other, Other - Recreation, Parking                                                                                                                                     1\n",
       "Financial Office, Food Service, Office, Other                                                                                                                                                       1\n",
       "Hotel, Multifamily Housing, Retail Store                                                                                                                                                            1\n",
       "Office, Other - Public Services                                                                                                                                                                     1\n",
       "Bank Branch, Bar/Nightclub, Office, Parking                                                                                                                                                         1\n",
       "Data Center, Financial Office, Office, Other, Parking, Restaurant                                                                                                                                   1\n",
       "Library, Parking                                                                                                                                                                                    1\n",
       "Convenience Store without Gas Station, Office, Parking                                                                                                                                              1\n",
       "Multifamily Housing, Office, Parking, Residence Hall/Dormitory, Retail Store                                                                                                                        1\n",
       "Food Service, Library, Office, Parking                                                                                                                                                              1\n",
       "Fast Food Restaurant, Medical Office, Movie Theater, Parking, Retail Store                                                                                                                          1\n",
       "Other, Personal Services (Health/Beauty, Dry Cleaning, etc), Restaurant, Retail Store                                                                                                               1\n",
       "Library, Multifamily Housing, Office, Other - Entertainment/Public Assembly, Parking, Restaurant                                                                                                    1\n",
       "Office, Other - Restaurant/Bar, Parking                                                                                                                                                             1\n",
       "Non-Refrigerated Warehouse, Office, Other - Services, Retail Store                                                                                                                                  1\n",
       "Residential Care Facility                                                                                                                                                                           1\n",
       "Multifamily Housing, Office, Restaurant, Retail Store                                                                                                                                               1\n",
       "Multifamily Housing, Senior Care Community                                                                                                                                                          1\n",
       "Fitness Center/Health Club/Gym, Office, Other, Parking, Restaurant                                                                                                                                  1\n",
       "Personal Services (Health/Beauty, Dry Cleaning, etc)                                                                                                                                                1\n",
       "Medical Office, Office, Other                                                                                                                                                                       1\n",
       "Food Sales, Office, Restaurant                                                                                                                                                                      1\n",
       "Non-Refrigerated Warehouse, Other - Recreation                                                                                                                                                      1\n",
       "Multifamily Housing, Non-Refrigerated Warehouse, Retail Store                                                                                                                                       1\n",
       "K-12 School, Medical Office, Office, Restaurant, Retail Store, Senior Care Community                                                                                                                1\n",
       "Courthouse, Other                                                                                                                                                                                   1\n",
       "Medical Office, Office, Worship Facility                                                                                                                                                            1\n",
       "Bar/Nightclub, Food Sales, Museum, Retail Store, Supermarket/Grocery Store                                                                                                                          1\n",
       "Multifamily Housing, Other, Other - Lodging/Residential                                                                                                                                             1\n",
       "Multifamily Housing, Other, Restaurant, Supermarket/Grocery Store                                                                                                                                   1\n",
       "College/University, Office, Restaurant                                                                                                                                                              1\n",
       "Food Sales, Multifamily Housing, Office, Other                                                                                                                                                      1\n",
       "Other - Recreation, Parking, Swimming Pool                                                                                                                                                          1\n",
       "Multifamily Housing, Office, Retail Store, Supermarket/Grocery Store                                                                                                                                1\n",
       "Office, Self-Storage Facility, Vocational School                                                                                                                                                    1\n",
       "Office, Other - Entertainment/Public Assembly, Other - Mall, Restaurant                                                                                                                             1\n",
       "Data Center, Non-Refrigerated Warehouse, Office, Retail Store                                                                                                                                       1\n",
       "Food Sales, Food Service, Medical Office, Multifamily Housing, Other                                                                                                                                1\n",
       "Office, Other - Recreation, Parking, Retail Store                                                                                                                                                   1\n",
       "Data Center, Non-Refrigerated Warehouse, Other, Refrigerated Warehouse, Repair Services (Vehicle, Shoe, Locksmith, etc), Restaurant                                                                 1\n",
       "Other - Utility                                                                                                                                                                                     1\n",
       "Name: ListOfAllPropertyUseTypes, dtype: int64"
      ]
     },
     "metadata": {},
     "output_type": "display_data"
    },
    {
     "data": {
      "text/plain": [
       "None"
      ]
     },
     "metadata": {},
     "output_type": "display_data"
    },
    {
     "name": "stdout",
     "output_type": "stream",
     "text": [
      "\n",
      "\n"
     ]
    },
    {
     "data": {
      "text/plain": [
       "'LargestPropertyUseType'"
      ]
     },
     "metadata": {},
     "output_type": "display_data"
    },
    {
     "data": {
      "text/plain": [
       "Multifamily Housing                                     1598\n",
       "Office                                                   479\n",
       "Non-Refrigerated Warehouse                               194\n",
       "K-12 School                                              136\n",
       "Other                                                    104\n",
       "Retail Store                                              99\n",
       "Worship Facility                                          70\n",
       "Hotel                                                     68\n",
       "Distribution Center                                       52\n",
       "Medical Office                                            43\n",
       "Senior Care Community                                     42\n",
       "Supermarket/Grocery Store                                 37\n",
       "Parking                                                   28\n",
       "Self-Storage Facility                                     27\n",
       "College/University                                        21\n",
       "Other - Recreation                                        20\n",
       "Other - Entertainment/Public Assembly                     20\n",
       "Residence Hall/Dormitory                                  16\n",
       "Refrigerated Warehouse                                    12\n",
       "Restaurant                                                12\n",
       "Social/Meeting Hall                                       10\n",
       "Hospital (General Medical & Surgical)                      9\n",
       "Laboratory                                                 9\n",
       "Automobile Dealership                                      6\n",
       "Manufacturing/Industrial Plant                             6\n",
       "Strip Mall                                                 6\n",
       "Repair Services (Vehicle, Shoe, Locksmith, etc)            6\n",
       "Other - Lodging/Residential                                6\n",
       "Other - Services                                           5\n",
       "Museum                                                     5\n",
       "Urgent Care/Clinic/Other Outpatient                        4\n",
       "Other - Education                                          4\n",
       "Library                                                    4\n",
       "Bank Branch                                                4\n",
       "Other/Specialty Hospital                                   4\n",
       "Performing Arts                                            4\n",
       "Fitness Center/Health Club/Gym                             4\n",
       "Financial Office                                           3\n",
       "Other - Mall                                               3\n",
       "Data Center                                                2\n",
       "Other - Public Services                                    2\n",
       "Adult Education                                            2\n",
       "Other - Restaurant/Bar                                     2\n",
       "Pre-school/Daycare                                         2\n",
       "Lifestyle Center                                           2\n",
       "Other - Utility                                            2\n",
       "Personal Services (Health/Beauty, Dry Cleaning, etc)       1\n",
       "Courthouse                                                 1\n",
       "Wholesale Club/Supercenter                                 1\n",
       "Fire Station                                               1\n",
       "Food Service                                               1\n",
       "Police Station                                             1\n",
       "Residential Care Facility                                  1\n",
       "Outpatient Rehabilitation/Physical Therapy                 1\n",
       "Convention Center                                          1\n",
       "Movie Theater                                              1\n",
       "Name: LargestPropertyUseType, dtype: int64"
      ]
     },
     "metadata": {},
     "output_type": "display_data"
    },
    {
     "data": {
      "text/plain": [
       "None"
      ]
     },
     "metadata": {},
     "output_type": "display_data"
    },
    {
     "name": "stdout",
     "output_type": "stream",
     "text": [
      "\n",
      "\n"
     ]
    },
    {
     "data": {
      "text/plain": [
       "'LargestPropertyUseTypeGFA'"
      ]
     },
     "metadata": {},
     "output_type": "display_data"
    },
    {
     "data": {
      "text/plain": [
       "24000.0     9\n",
       "22000.0     9\n",
       "30000.0     8\n",
       "21600.0     8\n",
       "20000.0     8\n",
       "           ..\n",
       "60732.0     1\n",
       "35123.0     1\n",
       "204794.0    1\n",
       "35115.0     1\n",
       "77800.0     1\n",
       "Name: LargestPropertyUseTypeGFA, Length: 2979, dtype: int64"
      ]
     },
     "metadata": {},
     "output_type": "display_data"
    },
    {
     "data": {
      "text/plain": [
       "None"
      ]
     },
     "metadata": {},
     "output_type": "display_data"
    },
    {
     "name": "stdout",
     "output_type": "stream",
     "text": [
      "\n",
      "\n"
     ]
    },
    {
     "data": {
      "text/plain": [
       "'SecondLargestPropertyUseType'"
      ]
     },
     "metadata": {},
     "output_type": "display_data"
    },
    {
     "data": {
      "text/plain": [
       "Parking                                            881\n",
       "Office                                             204\n",
       "Retail Store                                       155\n",
       "Other                                               57\n",
       "Restaurant                                          43\n",
       "Non-Refrigerated Warehouse                          35\n",
       "Multifamily Housing                                 16\n",
       "Supermarket/Grocery Store                           14\n",
       "Data Center                                         13\n",
       "Other - Services                                    12\n",
       "Medical Office                                      12\n",
       "Fitness Center/Health Club/Gym                      10\n",
       "Other - Entertainment/Public Assembly                9\n",
       "Swimming Pool                                        8\n",
       "Distribution Center                                  7\n",
       "Bank Branch                                          6\n",
       "Laboratory                                           6\n",
       "K-12 School                                          6\n",
       "Other - Restaurant/Bar                               5\n",
       "Self-Storage Facility                                5\n",
       "Other - Recreation                                   4\n",
       "Food Service                                         4\n",
       "Repair Services (Vehicle, Shoe, Locksmith, etc)      4\n",
       "Hotel                                                4\n",
       "Senior Care Community                                3\n",
       "Worship Facility                                     3\n",
       "Food Sales                                           3\n",
       "Bar/Nightclub                                        3\n",
       "Movie Theater                                        2\n",
       "Manufacturing/Industrial Plant                       2\n",
       "Financial Office                                     2\n",
       "Other - Education                                    2\n",
       "Performing Arts                                      2\n",
       "Adult Education                                      2\n",
       "Other - Public Services                              2\n",
       "Hospital (General Medical & Surgical)                2\n",
       "Museum                                               1\n",
       "Social/Meeting Hall                                  1\n",
       "College/University                                   1\n",
       "Other/Specialty Hospital                             1\n",
       "Refrigerated Warehouse                               1\n",
       "Vocational School                                    1\n",
       "Courthouse                                           1\n",
       "Residence Hall/Dormitory                             1\n",
       "Automobile Dealership                                1\n",
       "Other - Lodging/Residential                          1\n",
       "Convenience Store without Gas Station                1\n",
       "Name: SecondLargestPropertyUseType, dtype: int64"
      ]
     },
     "metadata": {},
     "output_type": "display_data"
    },
    {
     "data": {
      "text/plain": [
       "None"
      ]
     },
     "metadata": {},
     "output_type": "display_data"
    },
    {
     "name": "stdout",
     "output_type": "stream",
     "text": [
      "\n",
      "\n"
     ]
    },
    {
     "data": {
      "text/plain": [
       "'SecondLargestPropertyUseTypeGFA'"
      ]
     },
     "metadata": {},
     "output_type": "display_data"
    },
    {
     "data": {
      "text/plain": [
       "0.0        111\n",
       "5000.0      13\n",
       "7200.0      13\n",
       "6000.0      12\n",
       "15000.0     10\n",
       "          ... \n",
       "11999.0      1\n",
       "29723.0      1\n",
       "13883.0      1\n",
       "16412.0      1\n",
       "5500.0       1\n",
       "Name: SecondLargestPropertyUseTypeGFA, Length: 1270, dtype: int64"
      ]
     },
     "metadata": {},
     "output_type": "display_data"
    },
    {
     "data": {
      "text/plain": [
       "None"
      ]
     },
     "metadata": {},
     "output_type": "display_data"
    },
    {
     "name": "stdout",
     "output_type": "stream",
     "text": [
      "\n",
      "\n"
     ]
    },
    {
     "data": {
      "text/plain": [
       "'ThirdLargestPropertyUseType'"
      ]
     },
     "metadata": {},
     "output_type": "display_data"
    },
    {
     "data": {
      "text/plain": [
       "Retail Store                                            107\n",
       "Office                                                  100\n",
       "Parking                                                  64\n",
       "Restaurant                                               54\n",
       "Other                                                    53\n",
       "Swimming Pool                                            25\n",
       "Non-Refrigerated Warehouse                               18\n",
       "Medical Office                                           17\n",
       "Social/Meeting Hall                                      11\n",
       "Food Service                                             11\n",
       "Multifamily Housing                                      10\n",
       "Data Center                                              10\n",
       "Other - Restaurant/Bar                                    8\n",
       "Bank Branch                                               6\n",
       "Financial Office                                          5\n",
       "Other - Entertainment/Public Assembly                     5\n",
       "Fitness Center/Health Club/Gym                            4\n",
       "Personal Services (Health/Beauty, Dry Cleaning, etc)      4\n",
       "Pre-school/Daycare                                        4\n",
       "Supermarket/Grocery Store                                 3\n",
       "Other - Recreation                                        3\n",
       "Fast Food Restaurant                                      3\n",
       "Bar/Nightclub                                             3\n",
       "Distribution Center                                       3\n",
       "Other - Lodging/Residential                               3\n",
       "Food Sales                                                3\n",
       "Other - Education                                         2\n",
       "Self-Storage Facility                                     2\n",
       "Laboratory                                                2\n",
       "Refrigerated Warehouse                                    2\n",
       "K-12 School                                               2\n",
       "Other - Services                                          2\n",
       "Manufacturing/Industrial Plant                            2\n",
       "Convenience Store without Gas Station                     2\n",
       "Other/Specialty Hospital                                  1\n",
       "Other - Technology/Science                                1\n",
       "Residence Hall/Dormitory                                  1\n",
       "Strip Mall                                                1\n",
       "Worship Facility                                          1\n",
       "Hotel                                                     1\n",
       "Enclosed Mall                                             1\n",
       "Name: ThirdLargestPropertyUseType, dtype: int64"
      ]
     },
     "metadata": {},
     "output_type": "display_data"
    },
    {
     "data": {
      "text/plain": [
       "None"
      ]
     },
     "metadata": {},
     "output_type": "display_data"
    },
    {
     "name": "stdout",
     "output_type": "stream",
     "text": [
      "\n",
      "\n"
     ]
    },
    {
     "data": {
      "text/plain": [
       "'ThirdLargestPropertyUseTypeGFA'"
      ]
     },
     "metadata": {},
     "output_type": "display_data"
    },
    {
     "data": {
      "text/plain": [
       "0.0         44\n",
       "6000.0       7\n",
       "5000.0       6\n",
       "3000.0       5\n",
       "1000.0       4\n",
       "2000.0       4\n",
       "4000.0       3\n",
       "6200.0       3\n",
       "1500.0       3\n",
       "2500.0       3\n",
       "1250.0       3\n",
       "9000.0       3\n",
       "4579.0       2\n",
       "2700.0       2\n",
       "7000.0       2\n",
       "4500.0       2\n",
       "9100.0       2\n",
       "3400.0       2\n",
       "3700.0       2\n",
       "4596.0       2\n",
       "9680.0       2\n",
       "7200.0       2\n",
       "8644.0       1\n",
       "3692.0       1\n",
       "4878.0       1\n",
       "2408.0       1\n",
       "909.0        1\n",
       "4116.0       1\n",
       "4312.0       1\n",
       "18799.0      1\n",
       "80000.0      1\n",
       "10611.0      1\n",
       "1469.0       1\n",
       "2516.0       1\n",
       "5594.0       1\n",
       "2247.0       1\n",
       "6015.0       1\n",
       "6570.0       1\n",
       "597.0        1\n",
       "5515.0       1\n",
       "1440.0       1\n",
       "103200.0     1\n",
       "13320.0      1\n",
       "23244.0      1\n",
       "3750.0       1\n",
       "5306.0       1\n",
       "7553.0       1\n",
       "15011.0      1\n",
       "4085.0       1\n",
       "9455.0       1\n",
       "606.0        1\n",
       "16956.0      1\n",
       "17656.0      1\n",
       "50000.0      1\n",
       "2240.0       1\n",
       "11533.0      1\n",
       "634.0        1\n",
       "2571.0       1\n",
       "4722.0       1\n",
       "13528.0      1\n",
       "10095.0      1\n",
       "25747.0      1\n",
       "1564.0       1\n",
       "30744.0      1\n",
       "8770.0       1\n",
       "13567.0      1\n",
       "18130.0      1\n",
       "47984.0      1\n",
       "950.0        1\n",
       "2506.0       1\n",
       "3200.0       1\n",
       "2925.0       1\n",
       "1460.0       1\n",
       "3560.0       1\n",
       "66772.0      1\n",
       "875.0        1\n",
       "4622.0       1\n",
       "11335.0      1\n",
       "4413.0       1\n",
       "15630.0      1\n",
       "21782.0      1\n",
       "2906.0       1\n",
       "11850.0      1\n",
       "3500.0       1\n",
       "1150.0       1\n",
       "9741.0       1\n",
       "7146.0       1\n",
       "49700.0      1\n",
       "9630.0       1\n",
       "2110.0       1\n",
       "5459.0       1\n",
       "13881.0      1\n",
       "7666.0       1\n",
       "19671.0      1\n",
       "778.0        1\n",
       "2406.0       1\n",
       "840.0        1\n",
       "1890.0       1\n",
       "2760.0       1\n",
       "6832.0       1\n",
       "2592.0       1\n",
       "11166.0      1\n",
       "16862.0      1\n",
       "7399.0       1\n",
       "15139.0      1\n",
       "6360.0       1\n",
       "2600.0       1\n",
       "3231.0       1\n",
       "6576.0       1\n",
       "37721.0      1\n",
       "4551.0       1\n",
       "3304.0       1\n",
       "1467.0       1\n",
       "2155.0       1\n",
       "13400.0      1\n",
       "2575.0       1\n",
       "2688.0       1\n",
       "10290.0      1\n",
       "7216.0       1\n",
       "4473.0       1\n",
       "12349.0      1\n",
       "9015.0       1\n",
       "3341.0       1\n",
       "21963.0      1\n",
       "945.0        1\n",
       "3912.0       1\n",
       "3151.0       1\n",
       "1070.0       1\n",
       "6750.0       1\n",
       "2875.0       1\n",
       "8082.0       1\n",
       "20480.0      1\n",
       "529.0        1\n",
       "20000.0      1\n",
       "9295.0       1\n",
       "4620.0       1\n",
       "2471.0       1\n",
       "15402.0      1\n",
       "6278.0       1\n",
       "21519.0      1\n",
       "182.0        1\n",
       "19439.0      1\n",
       "29096.0      1\n",
       "3668.0       1\n",
       "4925.0       1\n",
       "3611.0       1\n",
       "18239.0      1\n",
       "464.0        1\n",
       "5444.0       1\n",
       "6803.0       1\n",
       "1945.0       1\n",
       "2679.0       1\n",
       "55065.0      1\n",
       "5189.0       1\n",
       "16240.0      1\n",
       "1005.0       1\n",
       "6900.0       1\n",
       "6180.0       1\n",
       "4881.0       1\n",
       "4800.0       1\n",
       "12400.0      1\n",
       "6662.0       1\n",
       "15490.0      1\n",
       "15845.0      1\n",
       "7299.0       1\n",
       "5581.0       1\n",
       "13308.0      1\n",
       "5500.0       1\n",
       "6312.0       1\n",
       "17020.0      1\n",
       "8842.0       1\n",
       "103478.0     1\n",
       "1445.0       1\n",
       "4107.0       1\n",
       "404.0        1\n",
       "6246.0       1\n",
       "3212.0       1\n",
       "2620.0       1\n",
       "5149.0       1\n",
       "1963.0       1\n",
       "3609.0       1\n",
       "220303.0     1\n",
       "4653.0       1\n",
       "5280.0       1\n",
       "6569.0       1\n",
       "525.0        1\n",
       "5359.0       1\n",
       "4438.0       1\n",
       "10066.0      1\n",
       "123433.0     1\n",
       "4778.0       1\n",
       "17403.0      1\n",
       "6150.0       1\n",
       "72830.0      1\n",
       "12359.0      1\n",
       "5636.0       1\n",
       "16128.0      1\n",
       "5510.0       1\n",
       "4200.0       1\n",
       "8255.0       1\n",
       "2485.0       1\n",
       "715.0        1\n",
       "54106.0      1\n",
       "6136.0       1\n",
       "2048.0       1\n",
       "49271.0      1\n",
       "1248.0       1\n",
       "14666.0      1\n",
       "972.0        1\n",
       "5170.0       1\n",
       "58152.0      1\n",
       "4920.0       1\n",
       "9215.0       1\n",
       "16103.0      1\n",
       "3155.0       1\n",
       "37595.0      1\n",
       "2560.0       1\n",
       "4258.0       1\n",
       "4385.0       1\n",
       "38225.0      1\n",
       "3060.0       1\n",
       "28258.0      1\n",
       "7518.0       1\n",
       "6606.0       1\n",
       "11602.0      1\n",
       "3926.0       1\n",
       "1600.0       1\n",
       "4954.0       1\n",
       "177210.0     1\n",
       "3812.0       1\n",
       "27400.0      1\n",
       "2825.0       1\n",
       "2206.0       1\n",
       "15800.0      1\n",
       "26203.0      1\n",
       "8012.0       1\n",
       "1479.0       1\n",
       "6644.0       1\n",
       "11846.0      1\n",
       "3461.0       1\n",
       "2213.0       1\n",
       "1478.0       1\n",
       "7537.0       1\n",
       "4253.0       1\n",
       "5436.0       1\n",
       "53116.0      1\n",
       "5039.0       1\n",
       "6479.0       1\n",
       "13092.0      1\n",
       "5837.0       1\n",
       "1840.0       1\n",
       "3045.0       1\n",
       "13422.0      1\n",
       "4532.0       1\n",
       "5744.0       1\n",
       "5615.0       1\n",
       "8615.0       1\n",
       "5775.0       1\n",
       "18656.0      1\n",
       "6388.0       1\n",
       "784.0        1\n",
       "14679.0      1\n",
       "6275.0       1\n",
       "1750.0       1\n",
       "592.0        1\n",
       "11988.0      1\n",
       "33110.0      1\n",
       "303910.0     1\n",
       "10887.0      1\n",
       "3720.0       1\n",
       "18864.0      1\n",
       "907.0        1\n",
       "9835.0       1\n",
       "3582.0       1\n",
       "10972.0      1\n",
       "4462.0       1\n",
       "9200.0       1\n",
       "9783.0       1\n",
       "1106.0       1\n",
       "1580.0       1\n",
       "976.0        1\n",
       "6578.0       1\n",
       "2900.0       1\n",
       "946.0        1\n",
       "5713.0       1\n",
       "27715.0      1\n",
       "2695.0       1\n",
       "8324.0       1\n",
       "400.0        1\n",
       "11473.0      1\n",
       "7704.0       1\n",
       "3024.0       1\n",
       "2377.0       1\n",
       "67627.0      1\n",
       "14380.0      1\n",
       "7280.0       1\n",
       "20986.0      1\n",
       "528.0        1\n",
       "8796.0       1\n",
       "54555.0      1\n",
       "4150.0       1\n",
       "20075.0      1\n",
       "54159.0      1\n",
       "25000.0      1\n",
       "4689.0       1\n",
       "16116.0      1\n",
       "3127.0       1\n",
       "11100.0      1\n",
       "508.0        1\n",
       "2159.0       1\n",
       "644.0        1\n",
       "14899.0      1\n",
       "4323.0       1\n",
       "25060.0      1\n",
       "586.0        1\n",
       "1800.0       1\n",
       "12941.0      1\n",
       "8421.0       1\n",
       "5320.0       1\n",
       "7177.0       1\n",
       "3534.0       1\n",
       "9561.0       1\n",
       "3252.0       1\n",
       "6080.0       1\n",
       "9337.0       1\n",
       "6755.0       1\n",
       "30402.0      1\n",
       "6700.0       1\n",
       "5100.0       1\n",
       "822.0        1\n",
       "7604.0       1\n",
       "600.0        1\n",
       "2973.0       1\n",
       "8900.0       1\n",
       "748.0        1\n",
       "10568.0      1\n",
       "2388.0       1\n",
       "37406.0      1\n",
       "3027.0       1\n",
       "59371.0      1\n",
       "8746.0       1\n",
       "10000.0      1\n",
       "7500.0       1\n",
       "17480.0      1\n",
       "30329.0      1\n",
       "20740.0      1\n",
       "4850.0       1\n",
       "4270.0       1\n",
       "11888.0      1\n",
       "13039.0      1\n",
       "5668.0       1\n",
       "30230.0      1\n",
       "2532.0       1\n",
       "12900.0      1\n",
       "11286.0      1\n",
       "4232.0       1\n",
       "11810.0      1\n",
       "10270.0      1\n",
       "7438.0       1\n",
       "15803.0      1\n",
       "1324.0       1\n",
       "1144.0       1\n",
       "16535.0      1\n",
       "4192.0       1\n",
       "3498.0       1\n",
       "26380.0      1\n",
       "27793.0      1\n",
       "3031.0       1\n",
       "17186.0      1\n",
       "7030.0       1\n",
       "17000.0      1\n",
       "8199.0       1\n",
       "612.0        1\n",
       "79507.0      1\n",
       "14975.0      1\n",
       "10624.0      1\n",
       "2635.0       1\n",
       "1066.0       1\n",
       "26937.0      1\n",
       "23794.0      1\n",
       "294.0        1\n",
       "2574.0       1\n",
       "2836.0       1\n",
       "3743.0       1\n",
       "7011.0       1\n",
       "15757.0      1\n",
       "5427.0       1\n",
       "3642.0       1\n",
       "13772.0      1\n",
       "3764.0       1\n",
       "2351.0       1\n",
       "141450.0     1\n",
       "354.0        1\n",
       "9463.0       1\n",
       "6374.0       1\n",
       "5931.0       1\n",
       "1050.0       1\n",
       "9477.0       1\n",
       "1665.0       1\n",
       "7089.0       1\n",
       "2441.0       1\n",
       "7570.0       1\n",
       "837.0        1\n",
       "3715.0       1\n",
       "19787.0      1\n",
       "8509.0       1\n",
       "4060.0       1\n",
       "29839.0      1\n",
       "12000.0      1\n",
       "84000.0      1\n",
       "35760.0      1\n",
       "4960.0       1\n",
       "16415.0      1\n",
       "436.0        1\n",
       "9216.0       1\n",
       "8000.0       1\n",
       "10858.0      1\n",
       "3389.0       1\n",
       "900.0        1\n",
       "4029.0       1\n",
       "8208.0       1\n",
       "4049.0       1\n",
       "5184.0       1\n",
       "24879.0      1\n",
       "8877.0       1\n",
       "2470.0       1\n",
       "4846.0       1\n",
       "1437.0       1\n",
       "6333.0       1\n",
       "13312.0      1\n",
       "8168.0       1\n",
       "3859.0       1\n",
       "250.0        1\n",
       "5471.0       1\n",
       "19249.0      1\n",
       "6544.0       1\n",
       "21811.0      1\n",
       "2400.0       1\n",
       "4407.0       1\n",
       "2788.0       1\n",
       "4027.0       1\n",
       "8500.0       1\n",
       "9989.0       1\n",
       "1074.0       1\n",
       "1595.0       1\n",
       "3724.0       1\n",
       "4730.0       1\n",
       "1976.0       1\n",
       "11682.0      1\n",
       "18961.0      1\n",
       "23385.0      1\n",
       "18500.0      1\n",
       "2095.0       1\n",
       "4412.0       1\n",
       "240.0        1\n",
       "6641.0       1\n",
       "43576.0      1\n",
       "9309.0       1\n",
       "9975.0       1\n",
       "2450.0       1\n",
       "2137.0       1\n",
       "4307.0       1\n",
       "15417.0      1\n",
       "25543.0      1\n",
       "6540.0       1\n",
       "11465.0      1\n",
       "450.0        1\n",
       "9604.0       1\n",
       "6344.0       1\n",
       "1686.0       1\n",
       "3508.0       1\n",
       "2170.0       1\n",
       "12851.0      1\n",
       "5867.0       1\n",
       "Name: ThirdLargestPropertyUseTypeGFA, dtype: int64"
      ]
     },
     "metadata": {},
     "output_type": "display_data"
    },
    {
     "data": {
      "text/plain": [
       "None"
      ]
     },
     "metadata": {},
     "output_type": "display_data"
    },
    {
     "name": "stdout",
     "output_type": "stream",
     "text": [
      "\n",
      "\n"
     ]
    },
    {
     "data": {
      "text/plain": [
       "'YearsENERGYSTARCertified'"
      ]
     },
     "metadata": {},
     "output_type": "display_data"
    },
    {
     "data": {
      "text/plain": [
       "2016                                                                                        20\n",
       "2016, 2015                                                                                   8\n",
       "2014                                                                                         6\n",
       "2009                                                                                         4\n",
       "2015, 2014                                                                                   3\n",
       "2013                                                                                         3\n",
       "2016, 2015, 2014                                                                             3\n",
       "2015                                                                                         3\n",
       "2010                                                                                         2\n",
       "2017, 2015                                                                                   2\n",
       "2009, 2005                                                                                   2\n",
       "2016, 2009, 2008                                                                             2\n",
       "2011                                                                                         2\n",
       "2011, 2009                                                                                   2\n",
       "2017                                                                                         2\n",
       "2007                                                                                         1\n",
       "2012, 2010, 2009, 2008                                                                       1\n",
       "2015, 2012                                                                                   1\n",
       "2016, 2015, 2014, 2013, 2009, 2008                                                           1\n",
       "2016, 2015, 2013, 2012, 2011, 2010, 2009, 2008                                               1\n",
       "2016, 2015, 2014, 2013, 2012, 2011, 2010, 2009, 2008, 2007, 2006, 2005, 2003, 2002, 2000     1\n",
       "2016, 2014, 2012                                                                             1\n",
       "2016, 2015, 2014, 2013, 2011, 2010, 2009, 2007, 2000                                         1\n",
       "2016, 2013, 2012, 2011, 2010, 2009, 2008                                                     1\n",
       "2016, 2015, 2010, 2009, 2008                                                                 1\n",
       "2016, 2015, 2012                                                                             1\n",
       "2012, 2010                                                                                   1\n",
       "2016, 2014, 2012, 2011, 2008, 2007                                                           1\n",
       "2014, 2013, 2012, 2008                                                                       1\n",
       "2015, 2013, 2012, 2010                                                                       1\n",
       "2016, 2015, 2013, 2012, 2010                                                                 1\n",
       "2016, 2015, 2014, 2013, 2012, 2010, 2009, 2008                                               1\n",
       "2016, 2015, 2014, 2013, 2012, 2011, 2010, 2009, 2008, 2007, 2006, 2005, 2004                 1\n",
       "2016, 2015, 2014, 2013, 2012, 2011, 2010, 2009, 2008                                         1\n",
       "2010, 2008                                                                                   1\n",
       "2016, 2015, 2012, 2009, 2007, 2006                                                           1\n",
       "2016, 2015, 2014, 2013, 2008                                                                 1\n",
       "2016, 2012                                                                                   1\n",
       "2013, 2009, 2008                                                                             1\n",
       "2010, 2007                                                                                   1\n",
       "2016, 2015, 2014, 2012, 2008                                                                 1\n",
       "2010, 2009, 2007                                                                             1\n",
       "2017, 2015, 2014, 2013, 2011                                                                 1\n",
       "2015, 2014, 2012, 2010, 2008                                                                 1\n",
       "2017, 2016, 2012                                                                             1\n",
       "2012, 2010, 2007, 2006                                                                       1\n",
       "2016, 2015, 2009, 2008                                                                       1\n",
       "2017, 2016, 2014, 2013, 2012, 2011, 2010, 2009, 2007                                         1\n",
       "2017, 2016                                                                                   1\n",
       "2017, 2015, 2014, 2013                                                                       1\n",
       "2016, 2015, 2014, 2013, 2012, 2010, 2009                                                     1\n",
       "2016, 2015, 2012, 2009                                                                       1\n",
       "2012                                                                                         1\n",
       "2016, 2011, 2010, 2009                                                                       1\n",
       "2016, 2015, 2014, 2013, 2011, 2009                                                           1\n",
       "2016, 2015, 2014, 2013, 2011, 2008                                                           1\n",
       "2012, 2009, 2008                                                                             1\n",
       "2015, 2014, 2013, 2011, 2009, 2008                                                           1\n",
       "2014, 2013, 2011, 2010, 2009, 2008, 2007                                                     1\n",
       "2015, 2014, 2012, 2011, 2009                                                                 1\n",
       "2017, 2011, 2010, 2007                                                                       1\n",
       "Name: YearsENERGYSTARCertified, dtype: int64"
      ]
     },
     "metadata": {},
     "output_type": "display_data"
    },
    {
     "data": {
      "text/plain": [
       "None"
      ]
     },
     "metadata": {},
     "output_type": "display_data"
    },
    {
     "name": "stdout",
     "output_type": "stream",
     "text": [
      "\n",
      "\n"
     ]
    },
    {
     "data": {
      "text/plain": [
       "'ENERGYSTARScore'"
      ]
     },
     "metadata": {},
     "output_type": "display_data"
    },
    {
     "data": {
      "text/plain": [
       "100.0    106\n",
       "95.0      79\n",
       "94.0      70\n",
       "97.0      60\n",
       "99.0      59\n",
       "81.0      56\n",
       "93.0      56\n",
       "98.0      54\n",
       "89.0      54\n",
       "85.0      52\n",
       "86.0      52\n",
       "91.0      51\n",
       "92.0      50\n",
       "88.0      49\n",
       "83.0      48\n",
       "84.0      46\n",
       "90.0      44\n",
       "77.0      44\n",
       "79.0      43\n",
       "1.0       42\n",
       "87.0      41\n",
       "82.0      41\n",
       "96.0      40\n",
       "65.0      40\n",
       "80.0      37\n",
       "74.0      36\n",
       "69.0      36\n",
       "72.0      35\n",
       "71.0      32\n",
       "73.0      32\n",
       "61.0      32\n",
       "68.0      31\n",
       "57.0      29\n",
       "78.0      28\n",
       "52.0      28\n",
       "60.0      28\n",
       "75.0      26\n",
       "67.0      26\n",
       "76.0      26\n",
       "70.0      25\n",
       "59.0      25\n",
       "64.0      24\n",
       "48.0      23\n",
       "54.0      23\n",
       "62.0      22\n",
       "51.0      22\n",
       "55.0      21\n",
       "30.0      20\n",
       "56.0      19\n",
       "42.0      19\n",
       "49.0      18\n",
       "58.0      18\n",
       "28.0      18\n",
       "66.0      18\n",
       "27.0      17\n",
       "50.0      17\n",
       "45.0      16\n",
       "19.0      16\n",
       "34.0      16\n",
       "43.0      16\n",
       "44.0      15\n",
       "39.0      15\n",
       "53.0      14\n",
       "35.0      14\n",
       "63.0      14\n",
       "31.0      13\n",
       "18.0      13\n",
       "41.0      13\n",
       "46.0      13\n",
       "8.0       13\n",
       "22.0      13\n",
       "33.0      13\n",
       "14.0      12\n",
       "23.0      12\n",
       "11.0      12\n",
       "40.0      11\n",
       "4.0       11\n",
       "2.0       11\n",
       "13.0      11\n",
       "3.0       10\n",
       "24.0      10\n",
       "16.0      10\n",
       "47.0      10\n",
       "32.0      10\n",
       "20.0      10\n",
       "36.0      10\n",
       "37.0       9\n",
       "29.0       9\n",
       "26.0       8\n",
       "15.0       8\n",
       "17.0       8\n",
       "38.0       8\n",
       "7.0        8\n",
       "5.0        7\n",
       "25.0       7\n",
       "9.0        5\n",
       "12.0       5\n",
       "10.0       5\n",
       "6.0        4\n",
       "21.0       4\n",
       "Name: ENERGYSTARScore, dtype: int64"
      ]
     },
     "metadata": {},
     "output_type": "display_data"
    },
    {
     "data": {
      "text/plain": [
       "None"
      ]
     },
     "metadata": {},
     "output_type": "display_data"
    },
    {
     "name": "stdout",
     "output_type": "stream",
     "text": [
      "\n",
      "\n"
     ]
    },
    {
     "data": {
      "text/plain": [
       "'SiteEUI(kBtu/sf)'"
      ]
     },
     "metadata": {},
     "output_type": "display_data"
    },
    {
     "data": {
      "text/plain": [
       "27.2     18\n",
       "28.5     16\n",
       "29.3     16\n",
       "29.6     16\n",
       "27.9     15\n",
       "         ..\n",
       "129.6     1\n",
       "139.1     1\n",
       "210.1     1\n",
       "4.9       1\n",
       "81.4      1\n",
       "Name: SiteEUI(kBtu/sf), Length: 1072, dtype: int64"
      ]
     },
     "metadata": {},
     "output_type": "display_data"
    },
    {
     "data": {
      "text/plain": [
       "None"
      ]
     },
     "metadata": {},
     "output_type": "display_data"
    },
    {
     "name": "stdout",
     "output_type": "stream",
     "text": [
      "\n",
      "\n"
     ]
    },
    {
     "data": {
      "text/plain": [
       "'SiteEUIWN(kBtu/sf)'"
      ]
     },
     "metadata": {},
     "output_type": "display_data"
    },
    {
     "data": {
      "text/plain": [
       "29.7     15\n",
       "29.6     15\n",
       "26.5     14\n",
       "32.3     14\n",
       "25.0     14\n",
       "         ..\n",
       "205.8     1\n",
       "285.8     1\n",
       "6.0       1\n",
       "67.7      1\n",
       "81.4      1\n",
       "Name: SiteEUIWN(kBtu/sf), Length: 1115, dtype: int64"
      ]
     },
     "metadata": {},
     "output_type": "display_data"
    },
    {
     "data": {
      "text/plain": [
       "None"
      ]
     },
     "metadata": {},
     "output_type": "display_data"
    },
    {
     "name": "stdout",
     "output_type": "stream",
     "text": [
      "\n",
      "\n"
     ]
    },
    {
     "data": {
      "text/plain": [
       "'SourceEUI(kBtu/sf)'"
      ]
     },
     "metadata": {},
     "output_type": "display_data"
    },
    {
     "data": {
      "text/plain": [
       "65.7     9\n",
       "78.6     9\n",
       "78.4     9\n",
       "68.4     9\n",
       "81.3     9\n",
       "        ..\n",
       "133.5    1\n",
       "169.8    1\n",
       "13.6     1\n",
       "204.4    1\n",
       "732.5    1\n",
       "Name: SourceEUI(kBtu/sf), Length: 1673, dtype: int64"
      ]
     },
     "metadata": {},
     "output_type": "display_data"
    },
    {
     "data": {
      "text/plain": [
       "None"
      ]
     },
     "metadata": {},
     "output_type": "display_data"
    },
    {
     "name": "stdout",
     "output_type": "stream",
     "text": [
      "\n",
      "\n"
     ]
    },
    {
     "data": {
      "text/plain": [
       "'SourceEUIWN(kBtu/sf)'"
      ]
     },
     "metadata": {},
     "output_type": "display_data"
    },
    {
     "data": {
      "text/plain": [
       "0.0      12\n",
       "99.0      9\n",
       "84.8      8\n",
       "73.3      8\n",
       "107.3     8\n",
       "         ..\n",
       "164.4     1\n",
       "238.4     1\n",
       "31.2      1\n",
       "38.1      1\n",
       "103.8     1\n",
       "Name: SourceEUIWN(kBtu/sf), Length: 1687, dtype: int64"
      ]
     },
     "metadata": {},
     "output_type": "display_data"
    },
    {
     "data": {
      "text/plain": [
       "None"
      ]
     },
     "metadata": {},
     "output_type": "display_data"
    },
    {
     "name": "stdout",
     "output_type": "stream",
     "text": [
      "\n",
      "\n"
     ]
    },
    {
     "data": {
      "text/plain": [
       "'SiteEnergyUse(kBtu)'"
      ]
     },
     "metadata": {},
     "output_type": "display_data"
    },
    {
     "data": {
      "text/plain": [
       "0.0          2\n",
       "2074152.0    2\n",
       "784584.0     2\n",
       "767213.0     2\n",
       "335382.0     1\n",
       "            ..\n",
       "7782092.0    1\n",
       "1312005.0    1\n",
       "696522.0     1\n",
       "1206065.0    1\n",
       "1358652.0    1\n",
       "Name: SiteEnergyUse(kBtu), Length: 3326, dtype: int64"
      ]
     },
     "metadata": {},
     "output_type": "display_data"
    },
    {
     "data": {
      "text/plain": [
       "None"
      ]
     },
     "metadata": {},
     "output_type": "display_data"
    },
    {
     "name": "stdout",
     "output_type": "stream",
     "text": [
      "\n",
      "\n"
     ]
    },
    {
     "data": {
      "text/plain": [
       "'SiteEnergyUseWN(kBtu)'"
      ]
     },
     "metadata": {},
     "output_type": "display_data"
    },
    {
     "data": {
      "text/plain": [
       "0.0          12\n",
       "4332347.0     1\n",
       "663592.0      1\n",
       "1649396.0     1\n",
       "2385958.0     1\n",
       "             ..\n",
       "815612.0      1\n",
       "2825578.0     1\n",
       "329960.0      1\n",
       "3962332.0     1\n",
       "564940.0      1\n",
       "Name: SiteEnergyUseWN(kBtu), Length: 3319, dtype: int64"
      ]
     },
     "metadata": {},
     "output_type": "display_data"
    },
    {
     "data": {
      "text/plain": [
       "None"
      ]
     },
     "metadata": {},
     "output_type": "display_data"
    },
    {
     "name": "stdout",
     "output_type": "stream",
     "text": [
      "\n",
      "\n"
     ]
    },
    {
     "data": {
      "text/plain": [
       "'SteamUse(kBtu)'"
      ]
     },
     "metadata": {},
     "output_type": "display_data"
    },
    {
     "data": {
      "text/plain": [
       "0.0            3200\n",
       "448146.0          1\n",
       "1663608.0         1\n",
       "4403788.0         1\n",
       "14770295.0        1\n",
       "23458518.0        1\n",
       "5426396.0         1\n",
       "780000.0          1\n",
       "595133.0          1\n",
       "604443.0          1\n",
       "798277.0          1\n",
       "584488.0          1\n",
       "703184.0          1\n",
       "3900000.0         1\n",
       "3623542.0         1\n",
       "1583463.0         1\n",
       "642693.0          1\n",
       "505677.0          1\n",
       "122701720.0       1\n",
       "3274333.0         1\n",
       "162514.0          1\n",
       "1145000.0         1\n",
       "20278584.0        1\n",
       "1755365.0         1\n",
       "232000.0          1\n",
       "9756039.0         1\n",
       "1270000.0         1\n",
       "1099052.0         1\n",
       "1698709.0         1\n",
       "4898180.0         1\n",
       "1002406.0         1\n",
       "383274.0          1\n",
       "184557.0          1\n",
       "3984262.0         1\n",
       "1975527.0         1\n",
       "47648276.0        1\n",
       "2148584.0         1\n",
       "1578661.0         1\n",
       "138504.0          1\n",
       "21474092.0        1\n",
       "1050707.0         1\n",
       "627140.0          1\n",
       "1058012.0         1\n",
       "216792.0          1\n",
       "486182.0          1\n",
       "1648136.0         1\n",
       "368153.0          1\n",
       "2359521.0         1\n",
       "5973700.0         1\n",
       "759621.0          1\n",
       "854542.0          1\n",
       "305664.0          1\n",
       "3994742.0         1\n",
       "915977.0          1\n",
       "881986.0          1\n",
       "3054035.0         1\n",
       "509178.0          1\n",
       "29729128.0        1\n",
       "3305544.0         1\n",
       "742481.0          1\n",
       "3995304.0         1\n",
       "16229832.0        1\n",
       "1987163.0         1\n",
       "3205497.0         1\n",
       "3274475.0         1\n",
       "957322.0          1\n",
       "2859255.0         1\n",
       "551052.0          1\n",
       "907147.0          1\n",
       "2089199.0         1\n",
       "1349585.0         1\n",
       "19660404.0        1\n",
       "5152989.0         1\n",
       "127869744.0       1\n",
       "6352835.0         1\n",
       "3386539.0         1\n",
       "7396214.0         1\n",
       "1923581.0         1\n",
       "826402.0          1\n",
       "2023032.0         1\n",
       "14089.0           1\n",
       "372528.0          1\n",
       "296619.0          1\n",
       "12454960.0        1\n",
       "3079588.0         1\n",
       "533834.0          1\n",
       "745172.0          1\n",
       "3085788.0         1\n",
       "3018242.0         1\n",
       "4731090.0         1\n",
       "208000.0          1\n",
       "723335.0          1\n",
       "17759434.0        1\n",
       "32659986.0        1\n",
       "5441320.0         1\n",
       "1340007.0         1\n",
       "2327413.0         1\n",
       "8560000.0         1\n",
       "13364736.0        1\n",
       "312366.0          1\n",
       "2668771.0         1\n",
       "2525387.0         1\n",
       "1483476.0         1\n",
       "2003108.0         1\n",
       "4816083.0         1\n",
       "2647510.0         1\n",
       "1853890.0         1\n",
       "13254980.0        1\n",
       "456687.0          1\n",
       "1466837.0         1\n",
       "16811018.0        1\n",
       "2367009.0         1\n",
       "3123280.0         1\n",
       "4128470.0         1\n",
       "310440.0          1\n",
       "2726250.0         1\n",
       "1326000.0         1\n",
       "6159137.0         1\n",
       "10951000.0        1\n",
       "6288798.0         1\n",
       "654563.0          1\n",
       "6765824.0         1\n",
       "1760138.0         1\n",
       "1609624.0         1\n",
       "18014064.0        1\n",
       "1796000.0         1\n",
       "796291.0          1\n",
       "1709038.0         1\n",
       "11846815.0        1\n",
       "1582184.0         1\n",
       "4398022.0         1\n",
       "Name: SteamUse(kBtu), dtype: int64"
      ]
     },
     "metadata": {},
     "output_type": "display_data"
    },
    {
     "data": {
      "text/plain": [
       "None"
      ]
     },
     "metadata": {},
     "output_type": "display_data"
    },
    {
     "name": "stdout",
     "output_type": "stream",
     "text": [
      "\n",
      "\n"
     ]
    },
    {
     "data": {
      "text/plain": [
       "'Electricity(kWh)'"
      ]
     },
     "metadata": {},
     "output_type": "display_data"
    },
    {
     "data": {
      "text/plain": [
       "0.0          2\n",
       "221628.0     2\n",
       "340715.0     2\n",
       "3010885.0    1\n",
       "207775.0     1\n",
       "            ..\n",
       "1050804.0    1\n",
       "310367.0     1\n",
       "354827.0     1\n",
       "533760.0     1\n",
       "181507.0     1\n",
       "Name: Electricity(kWh), Length: 3327, dtype: int64"
      ]
     },
     "metadata": {},
     "output_type": "display_data"
    },
    {
     "data": {
      "text/plain": [
       "None"
      ]
     },
     "metadata": {},
     "output_type": "display_data"
    },
    {
     "name": "stdout",
     "output_type": "stream",
     "text": [
      "\n",
      "\n"
     ]
    },
    {
     "data": {
      "text/plain": [
       "'Electricity(kBtu)'"
      ]
     },
     "metadata": {},
     "output_type": "display_data"
    },
    {
     "data": {
      "text/plain": [
       "0.0          2\n",
       "1980139.0    1\n",
       "796803.0     1\n",
       "883665.0     1\n",
       "1099003.0    1\n",
       "            ..\n",
       "6525840.0    1\n",
       "2446696.0    1\n",
       "2424966.0    1\n",
       "649395.0     1\n",
       "984659.0     1\n",
       "Name: Electricity(kBtu), Length: 3329, dtype: int64"
      ]
     },
     "metadata": {},
     "output_type": "display_data"
    },
    {
     "data": {
      "text/plain": [
       "None"
      ]
     },
     "metadata": {},
     "output_type": "display_data"
    },
    {
     "name": "stdout",
     "output_type": "stream",
     "text": [
      "\n",
      "\n"
     ]
    },
    {
     "data": {
      "text/plain": [
       "'NaturalGas(therms)'"
      ]
     },
     "metadata": {},
     "output_type": "display_data"
    },
    {
     "data": {
      "text/plain": [
       "0.0        1256\n",
       "2.0           3\n",
       "7584.0        3\n",
       "4789.0        3\n",
       "10.0          3\n",
       "           ... \n",
       "4118.0        1\n",
       "10424.0       1\n",
       "4367.0        1\n",
       "1967.0        1\n",
       "8328.0        1\n",
       "Name: NaturalGas(therms), Length: 1995, dtype: int64"
      ]
     },
     "metadata": {},
     "output_type": "display_data"
    },
    {
     "data": {
      "text/plain": [
       "None"
      ]
     },
     "metadata": {},
     "output_type": "display_data"
    },
    {
     "name": "stdout",
     "output_type": "stream",
     "text": [
      "\n",
      "\n"
     ]
    },
    {
     "data": {
      "text/plain": [
       "'NaturalGas(kBtu)'"
      ]
     },
     "metadata": {},
     "output_type": "display_data"
    },
    {
     "data": {
      "text/plain": [
       "0.0          1256\n",
       "92348.0         2\n",
       "220582.0        2\n",
       "625162.0        1\n",
       "1282585.0       1\n",
       "             ... \n",
       "1529648.0       1\n",
       "1230296.0       1\n",
       "679623.0        1\n",
       "178346.0        1\n",
       "269432.0        1\n",
       "Name: NaturalGas(kBtu), Length: 2073, dtype: int64"
      ]
     },
     "metadata": {},
     "output_type": "display_data"
    },
    {
     "data": {
      "text/plain": [
       "None"
      ]
     },
     "metadata": {},
     "output_type": "display_data"
    },
    {
     "name": "stdout",
     "output_type": "stream",
     "text": [
      "\n",
      "\n"
     ]
    },
    {
     "data": {
      "text/plain": [
       "'OtherFuelUse(kBtu)'"
      ]
     },
     "metadata": {},
     "output_type": "display_data"
    },
    {
     "data": {
      "text/plain": [
       "0.0          3313\n",
       "12551.0         1\n",
       "2944419.0       1\n",
       "145944.0        1\n",
       "229942.0        1\n",
       "337952.0        1\n",
       "182715.0        1\n",
       "15527.0         1\n",
       "547.0           1\n",
       "1943011.0       1\n",
       "8269669.0       1\n",
       "427938.0        1\n",
       "5596.0          1\n",
       "177849.0        1\n",
       "6464408.0       1\n",
       "178094.0        1\n",
       "2304567.0       1\n",
       "143134.0        1\n",
       "Name: OtherFuelUse(kBtu), dtype: int64"
      ]
     },
     "metadata": {},
     "output_type": "display_data"
    },
    {
     "data": {
      "text/plain": [
       "None"
      ]
     },
     "metadata": {},
     "output_type": "display_data"
    },
    {
     "name": "stdout",
     "output_type": "stream",
     "text": [
      "\n",
      "\n"
     ]
    },
    {
     "data": {
      "text/plain": [
       "'GHGEmissions(MetricTonsCO2e)'"
      ]
     },
     "metadata": {},
     "output_type": "display_data"
    },
    {
     "data": {
      "text/plain": [
       "4.65      8\n",
       "3.54      6\n",
       "4.55      6\n",
       "3.47      6\n",
       "6.71      5\n",
       "         ..\n",
       "80.99     1\n",
       "81.27     1\n",
       "391.32    1\n",
       "70.78     1\n",
       "49.68     1\n",
       "Name: GHGEmissions(MetricTonsCO2e), Length: 2763, dtype: int64"
      ]
     },
     "metadata": {},
     "output_type": "display_data"
    },
    {
     "data": {
      "text/plain": [
       "None"
      ]
     },
     "metadata": {},
     "output_type": "display_data"
    },
    {
     "name": "stdout",
     "output_type": "stream",
     "text": [
      "\n",
      "\n"
     ]
    },
    {
     "data": {
      "text/plain": [
       "'GHGEmissionsIntensity(kgCO2e/ft2)'"
      ]
     },
     "metadata": {},
     "output_type": "display_data"
    },
    {
     "data": {
      "text/plain": [
       "0.06     258\n",
       "0.07     206\n",
       "0.05     154\n",
       "0.08     146\n",
       "0.09      81\n",
       "0.10      71\n",
       "0.11      51\n",
       "0.04      46\n",
       "0.12      42\n",
       "0.14      35\n",
       "0.13      32\n",
       "0.03      31\n",
       "0.17      28\n",
       "0.02      27\n",
       "0.24      24\n",
       "0.56      23\n",
       "0.18      23\n",
       "0.15      21\n",
       "0.48      20\n",
       "0.55      20\n",
       "0.45      19\n",
       "0.76      19\n",
       "0.51      18\n",
       "0.64      18\n",
       "0.59      18\n",
       "0.16      18\n",
       "0.23      18\n",
       "0.65      18\n",
       "0.34      17\n",
       "0.63      17\n",
       "0.22      16\n",
       "0.47      16\n",
       "0.19      16\n",
       "0.28      16\n",
       "0.27      16\n",
       "0.89      16\n",
       "0.38      16\n",
       "0.30      16\n",
       "0.01      16\n",
       "0.68      15\n",
       "0.43      15\n",
       "0.49      15\n",
       "0.50      15\n",
       "0.31      15\n",
       "0.88      15\n",
       "0.46      15\n",
       "0.61      15\n",
       "0.67      14\n",
       "0.66      14\n",
       "0.72      14\n",
       "0.36      14\n",
       "0.86      14\n",
       "0.80      14\n",
       "0.73      14\n",
       "0.53      14\n",
       "0.21      14\n",
       "0.75      13\n",
       "0.40      13\n",
       "0.20      13\n",
       "0.52      13\n",
       "0.82      13\n",
       "1.12      13\n",
       "0.97      13\n",
       "0.54      13\n",
       "0.35      13\n",
       "0.91      13\n",
       "0.32      12\n",
       "1.05      12\n",
       "0.60      12\n",
       "0.33      12\n",
       "0.62      12\n",
       "0.37      12\n",
       "0.71      12\n",
       "0.74      12\n",
       "0.57      11\n",
       "0.94      11\n",
       "0.70      11\n",
       "0.87      11\n",
       "0.69      11\n",
       "0.41      11\n",
       "1.33      10\n",
       "1.10      10\n",
       "0.58      10\n",
       "0.99      10\n",
       "0.39      10\n",
       "0.25      10\n",
       "1.22      10\n",
       "1.15      10\n",
       "0.26      10\n",
       "1.21      10\n",
       "1.16      10\n",
       "0.42      10\n",
       "1.03      10\n",
       "0.83      10\n",
       "0.78      10\n",
       "1.04      10\n",
       "1.00      10\n",
       "1.31       9\n",
       "1.06       9\n",
       "1.55       9\n",
       "0.96       8\n",
       "1.13       8\n",
       "1.59       8\n",
       "0.95       8\n",
       "1.77       8\n",
       "0.79       8\n",
       "1.24       8\n",
       "1.17       8\n",
       "0.00       8\n",
       "1.11       8\n",
       "1.35       8\n",
       "0.90       8\n",
       "0.77       8\n",
       "1.95       7\n",
       "1.87       7\n",
       "1.18       7\n",
       "1.37       7\n",
       "0.93       7\n",
       "1.02       7\n",
       "0.44       7\n",
       "0.98       7\n",
       "0.85       7\n",
       "2.19       6\n",
       "0.81       6\n",
       "1.19       6\n",
       "1.66       6\n",
       "1.41       6\n",
       "2.10       6\n",
       "2.62       6\n",
       "1.07       6\n",
       "1.26       6\n",
       "1.27       6\n",
       "2.05       6\n",
       "2.95       6\n",
       "2.21       6\n",
       "2.58       6\n",
       "1.93       6\n",
       "1.29       6\n",
       "1.09       6\n",
       "1.64       6\n",
       "2.22       5\n",
       "1.47       5\n",
       "2.12       5\n",
       "1.61       5\n",
       "1.25       5\n",
       "1.89       5\n",
       "1.69       5\n",
       "1.79       5\n",
       "1.88       5\n",
       "0.29       5\n",
       "2.20       5\n",
       "2.31       5\n",
       "1.50       5\n",
       "0.84       5\n",
       "1.83       5\n",
       "1.57       5\n",
       "1.20       5\n",
       "1.52       5\n",
       "1.01       4\n",
       "2.79       4\n",
       "2.69       4\n",
       "2.81       4\n",
       "1.42       4\n",
       "1.96       4\n",
       "1.81       4\n",
       "1.90       4\n",
       "1.43       4\n",
       "2.14       4\n",
       "1.92       4\n",
       "2.08       4\n",
       "2.38       4\n",
       "1.28       4\n",
       "2.87       4\n",
       "1.85       4\n",
       "2.52       4\n",
       "1.76       4\n",
       "2.66       4\n",
       "2.78       4\n",
       "2.57       4\n",
       "2.60       4\n",
       "2.80       4\n",
       "2.15       4\n",
       "2.45       4\n",
       "1.60       4\n",
       "1.14       4\n",
       "1.53       4\n",
       "3.74       4\n",
       "1.49       4\n",
       "2.06       4\n",
       "1.91       4\n",
       "1.38       4\n",
       "2.01       4\n",
       "2.46       3\n",
       "1.74       3\n",
       "1.68       3\n",
       "3.07       3\n",
       "3.35       3\n",
       "1.54       3\n",
       "2.71       3\n",
       "2.76       3\n",
       "1.23       3\n",
       "1.39       3\n",
       "1.51       3\n",
       "2.94       3\n",
       "2.92       3\n",
       "2.34       3\n",
       "2.27       3\n",
       "1.44       3\n",
       "4.02       3\n",
       "2.96       3\n",
       "2.03       3\n",
       "1.56       3\n",
       "2.54       3\n",
       "2.59       3\n",
       "2.26       3\n",
       "2.37       3\n",
       "1.30       3\n",
       "2.74       3\n",
       "3.37       3\n",
       "2.51       3\n",
       "1.94       3\n",
       "2.17       3\n",
       "3.00       3\n",
       "1.78       3\n",
       "5.25       3\n",
       "1.71       3\n",
       "1.58       3\n",
       "3.34       3\n",
       "1.73       3\n",
       "2.02       3\n",
       "1.70       3\n",
       "1.97       3\n",
       "1.40       3\n",
       "2.41       2\n",
       "3.61       2\n",
       "4.12       2\n",
       "3.55       2\n",
       "2.18       2\n",
       "4.81       2\n",
       "4.10       2\n",
       "3.87       2\n",
       "6.09       2\n",
       "4.33       2\n",
       "3.03       2\n",
       "3.19       2\n",
       "2.32       2\n",
       "5.20       2\n",
       "1.75       2\n",
       "2.24       2\n",
       "5.78       2\n",
       "1.82       2\n",
       "1.99       2\n",
       "2.44       2\n",
       "3.59       2\n",
       "1.46       2\n",
       "3.92       2\n",
       "1.84       2\n",
       "3.30       2\n",
       "3.24       2\n",
       "2.47       2\n",
       "3.06       2\n",
       "3.81       2\n",
       "3.23       2\n",
       "4.19       2\n",
       "2.07       2\n",
       "2.64       2\n",
       "2.13       2\n",
       "3.45       2\n",
       "1.34       2\n",
       "1.62       2\n",
       "2.86       2\n",
       "2.89       2\n",
       "3.44       2\n",
       "2.68       2\n",
       "2.88       2\n",
       "4.75       2\n",
       "3.25       2\n",
       "1.65       2\n",
       "2.61       2\n",
       "5.59       2\n",
       "2.56       2\n",
       "4.27       2\n",
       "2.63       2\n",
       "3.56       2\n",
       "2.70       2\n",
       "3.17       2\n",
       "3.94       2\n",
       "6.08       2\n",
       "2.53       2\n",
       "4.76       2\n",
       "3.41       2\n",
       "4.22       2\n",
       "3.18       2\n",
       "7.77       2\n",
       "0.92       2\n",
       "8.59       2\n",
       "2.67       2\n",
       "7.76       2\n",
       "1.67       2\n",
       "2.28       2\n",
       "5.33       2\n",
       "3.71       2\n",
       "4.13       2\n",
       "7.14       1\n",
       "2.43       1\n",
       "3.15       1\n",
       "10.04      1\n",
       "3.43       1\n",
       "6.83       1\n",
       "3.10       1\n",
       "2.00       1\n",
       "5.65       1\n",
       "3.75       1\n",
       "5.04       1\n",
       "2.82       1\n",
       "3.88       1\n",
       "2.84       1\n",
       "3.28       1\n",
       "3.62       1\n",
       "6.32       1\n",
       "4.49       1\n",
       "9.46       1\n",
       "3.04       1\n",
       "2.30       1\n",
       "3.63       1\n",
       "8.90       1\n",
       "4.17       1\n",
       "6.99       1\n",
       "3.42       1\n",
       "9.19       1\n",
       "12.36      1\n",
       "9.82       1\n",
       "6.06       1\n",
       "3.82       1\n",
       "6.00       1\n",
       "9.14       1\n",
       "1.45       1\n",
       "3.91       1\n",
       "2.90       1\n",
       "2.85       1\n",
       "2.73       1\n",
       "2.50       1\n",
       "4.00       1\n",
       "4.34       1\n",
       "2.75       1\n",
       "7.71       1\n",
       "3.69       1\n",
       "3.77       1\n",
       "6.18       1\n",
       "6.02       1\n",
       "12.96      1\n",
       "5.37       1\n",
       "3.52       1\n",
       "12.65      1\n",
       "13.23      1\n",
       "3.53       1\n",
       "3.31       1\n",
       "3.09       1\n",
       "6.29       1\n",
       "9.32       1\n",
       "3.20       1\n",
       "1.48       1\n",
       "11.13      1\n",
       "5.11       1\n",
       "5.42       1\n",
       "2.16       1\n",
       "2.23       1\n",
       "7.04       1\n",
       "3.08       1\n",
       "1.86       1\n",
       "2.72       1\n",
       "5.02       1\n",
       "2.25       1\n",
       "5.15       1\n",
       "3.22       1\n",
       "4.40       1\n",
       "3.67       1\n",
       "2.99       1\n",
       "3.29       1\n",
       "5.98       1\n",
       "2.33       1\n",
       "4.96       1\n",
       "3.01       1\n",
       "10.71      1\n",
       "4.08       1\n",
       "21.10      1\n",
       "4.83       1\n",
       "6.31       1\n",
       "2.49       1\n",
       "4.95       1\n",
       "10.67      1\n",
       "11.38      1\n",
       "4.35       1\n",
       "2.97       1\n",
       "6.98       1\n",
       "7.92       1\n",
       "5.35       1\n",
       "7.87       1\n",
       "7.55       1\n",
       "7.51       1\n",
       "5.94       1\n",
       "6.89       1\n",
       "5.12       1\n",
       "3.54       1\n",
       "8.67       1\n",
       "2.93       1\n",
       "2.36       1\n",
       "3.68       1\n",
       "31.38      1\n",
       "3.32       1\n",
       "4.87       1\n",
       "7.20       1\n",
       "8.30       1\n",
       "15.60      1\n",
       "1.08       1\n",
       "3.97       1\n",
       "2.39       1\n",
       "3.73       1\n",
       "4.23       1\n",
       "12.53      1\n",
       "5.90       1\n",
       "4.20       1\n",
       "2.11       1\n",
       "5.57       1\n",
       "4.63       1\n",
       "2.35       1\n",
       "8.95       1\n",
       "3.50       1\n",
       "2.09       1\n",
       "11.03      1\n",
       "2.83       1\n",
       "9.96       1\n",
       "6.49       1\n",
       "2.91       1\n",
       "3.70       1\n",
       "4.94       1\n",
       "1.63       1\n",
       "4.74       1\n",
       "4.44       1\n",
       "10.29      1\n",
       "6.47       1\n",
       "3.26       1\n",
       "2.04       1\n",
       "1.80       1\n",
       "3.85       1\n",
       "3.47       1\n",
       "6.95       1\n",
       "4.70       1\n",
       "4.72       1\n",
       "4.32       1\n",
       "4.04       1\n",
       "1.72       1\n",
       "5.60       1\n",
       "5.52       1\n",
       "3.27       1\n",
       "6.23       1\n",
       "5.50       1\n",
       "3.64       1\n",
       "15.30      1\n",
       "1.32       1\n",
       "8.31       1\n",
       "2.29       1\n",
       "9.12       1\n",
       "6.73       1\n",
       "5.97       1\n",
       "3.38       1\n",
       "8.64       1\n",
       "4.67       1\n",
       "3.11       1\n",
       "6.35       1\n",
       "3.72       1\n",
       "Name: GHGEmissionsIntensity(kgCO2e/ft2), dtype: int64"
      ]
     },
     "metadata": {},
     "output_type": "display_data"
    },
    {
     "data": {
      "text/plain": [
       "None"
      ]
     },
     "metadata": {},
     "output_type": "display_data"
    },
    {
     "name": "stdout",
     "output_type": "stream",
     "text": [
      "\n",
      "\n"
     ]
    },
    {
     "data": {
      "text/plain": [
       "'DefaultData'"
      ]
     },
     "metadata": {},
     "output_type": "display_data"
    },
    {
     "data": {
      "text/plain": [
       "No     2791\n",
       "Yes     548\n",
       "Name: DefaultData, dtype: int64"
      ]
     },
     "metadata": {},
     "output_type": "display_data"
    },
    {
     "data": {
      "text/plain": [
       "None"
      ]
     },
     "metadata": {},
     "output_type": "display_data"
    },
    {
     "name": "stdout",
     "output_type": "stream",
     "text": [
      "\n",
      "\n"
     ]
    },
    {
     "data": {
      "text/plain": [
       "'Comment'"
      ]
     },
     "metadata": {},
     "output_type": "display_data"
    },
    {
     "data": {
      "text/plain": [
       "Under construction starting 6/2013 (old building demolished) and ending 9/2016. New Building re-opened 9/2016. Year built changed from 1949 to 2016.                                                                                                               1\n",
       "Under construction starting 6/2015 (old building demolished) and ending 9/2017. New Building re-opens 9/2017. Year built changed from 1954 to 2017.                                                                                                                1\n",
       "Under construction starting 6/2013 (old building demolished) and ending 9/2016. New Building re-opened 9/2016.  Year built changed from 1950 to 2016.                                                                                                              1\n",
       "Part of McKinstry's campus, property includes a warehouse, a local pipe supplier, and a local insulation contractor.  Learn more at www.mckinstry.com.                                                                                                             1\n",
       "Part of McKinstry's campus, the office space for this building sites on the 3rd floor above a 2-story parking garage and is served by rooftop package units for both heating and cooling. Learn more at www.mckinstryinnovationcenter.com.                         1\n",
       "Construction completed in mid 2015. The building was unoccupied for most of 2015.                                                                                                                                                                                  1\n",
       "Part of McKinstry’s campus, this remodeled warehouse is mainly office but includes a full-size basketball court and gym with locker rooms, bistro with a full kitchen, and data center. Served by rooftop package units for heating and cooling. Upgrades inclu    1\n",
       "Recent energy efficiency upgrades include replaced toilets with low flow models in all units and participation in lighting rebate program to replace bulbs with CFLs or LEDs. Future improvements include whole building window replacement in 2016.               1\n",
       "Property now has two buildings: Thornton Creek Elementary School and the Decatur Building. New Thornton Creek Elementary built on Decatur Property and under construction from 6/2013 - 9/2016.                                                                    1\n",
       "One of two office buildings on McKinstry's campus partially remodeled in 2009 from warehouse to office space. Served by rooftop air handling units with underfloor VAVs.  Self-performed energy efficiency upgrades in 2015 include a long-term LED lighting re    1\n",
       "Part of McKinstry's campus, property operates a fabrication and production shop and is conditioned by natural gas overhead radiant unit heaters with no cooling. Learn more at www.mckinstry.com.                                                                  1\n",
       "Under construction starting 09/2014 (old building demolished) and ending 9/2017. New Buildings (two) re-open 9/2017. Year built changed from 1953 to 2017.                                                                                                         1\n",
       "Under construction starting 6/2013 (old building demolished) and ending 9/2016. New Building re-opened 9/2016. Year built changed from 1948 to 2016.                                                                                                               1\n",
       "Name: Comment, dtype: int64"
      ]
     },
     "metadata": {},
     "output_type": "display_data"
    },
    {
     "data": {
      "text/plain": [
       "None"
      ]
     },
     "metadata": {},
     "output_type": "display_data"
    },
    {
     "name": "stdout",
     "output_type": "stream",
     "text": [
      "\n",
      "\n"
     ]
    },
    {
     "data": {
      "text/plain": [
       "'ComplianceStatus'"
      ]
     },
     "metadata": {},
     "output_type": "display_data"
    },
    {
     "data": {
      "text/plain": [
       "Compliant        3337\n",
       "Not Compliant       3\n",
       "Name: ComplianceStatus, dtype: int64"
      ]
     },
     "metadata": {},
     "output_type": "display_data"
    },
    {
     "data": {
      "text/plain": [
       "None"
      ]
     },
     "metadata": {},
     "output_type": "display_data"
    },
    {
     "name": "stdout",
     "output_type": "stream",
     "text": [
      "\n",
      "\n"
     ]
    },
    {
     "data": {
      "text/plain": [
       "'Outlier'"
      ]
     },
     "metadata": {},
     "output_type": "display_data"
    },
    {
     "data": {
      "text/plain": [
       "High Outlier    46\n",
       "Low Outlier     38\n",
       "Name: Outlier, dtype: int64"
      ]
     },
     "metadata": {},
     "output_type": "display_data"
    },
    {
     "data": {
      "text/plain": [
       "None"
      ]
     },
     "metadata": {},
     "output_type": "display_data"
    },
    {
     "name": "stdout",
     "output_type": "stream",
     "text": [
      "\n",
      "\n"
     ]
    },
    {
     "data": {
      "text/plain": [
       "'2010 Census Tracts'"
      ]
     },
     "metadata": {},
     "output_type": "display_data"
    },
    {
     "data": {
      "text/plain": [
       "123.0    48\n",
       "117.0    34\n",
       "122.0    26\n",
       "116.0    23\n",
       "119.0    23\n",
       "134.0    19\n",
       "127.0    14\n",
       "131.0    11\n",
       "135.0    10\n",
       "124.0     9\n",
       "125.0     4\n",
       "129.0     2\n",
       "118.0     1\n",
       "Name: 2010 Census Tracts, dtype: int64"
      ]
     },
     "metadata": {},
     "output_type": "display_data"
    },
    {
     "data": {
      "text/plain": [
       "None"
      ]
     },
     "metadata": {},
     "output_type": "display_data"
    },
    {
     "name": "stdout",
     "output_type": "stream",
     "text": [
      "\n",
      "\n"
     ]
    },
    {
     "data": {
      "text/plain": [
       "'Seattle Police Department Micro Community Policing Plan Areas'"
      ]
     },
     "metadata": {},
     "output_type": "display_data"
    },
    {
     "data": {
      "text/plain": [
       "50.0    342\n",
       "8.0     239\n",
       "56.0    218\n",
       "14.0    209\n",
       "46.0    172\n",
       "19.0    142\n",
       "60.0    141\n",
       "57.0    132\n",
       "5.0     131\n",
       "22.0    107\n",
       "4.0      99\n",
       "29.0     83\n",
       "33.0     80\n",
       "53.0     80\n",
       "49.0     78\n",
       "27.0     71\n",
       "55.0     65\n",
       "20.0     64\n",
       "6.0      63\n",
       "1.0      60\n",
       "9.0      60\n",
       "61.0     45\n",
       "23.0     42\n",
       "17.0     38\n",
       "2.0      33\n",
       "41.0     30\n",
       "54.0     29\n",
       "59.0     29\n",
       "3.0      28\n",
       "42.0     28\n",
       "28.0     28\n",
       "35.0     27\n",
       "37.0     27\n",
       "32.0     23\n",
       "38.0     21\n",
       "7.0      21\n",
       "45.0     20\n",
       "24.0     18\n",
       "44.0     17\n",
       "31.0     17\n",
       "51.0     16\n",
       "36.0     16\n",
       "58.0     15\n",
       "25.0     14\n",
       "47.0     12\n",
       "10.0     12\n",
       "16.0     12\n",
       "34.0     11\n",
       "40.0     10\n",
       "11.0     10\n",
       "26.0      7\n",
       "43.0      7\n",
       "12.0      6\n",
       "15.0      6\n",
       "21.0      5\n",
       "48.0      5\n",
       "52.0      5\n",
       "18.0      4\n",
       "13.0      4\n",
       "30.0      3\n",
       "39.0      1\n",
       "Name: Seattle Police Department Micro Community Policing Plan Areas, dtype: int64"
      ]
     },
     "metadata": {},
     "output_type": "display_data"
    },
    {
     "data": {
      "text/plain": [
       "None"
      ]
     },
     "metadata": {},
     "output_type": "display_data"
    },
    {
     "name": "stdout",
     "output_type": "stream",
     "text": [
      "\n",
      "\n"
     ]
    },
    {
     "data": {
      "text/plain": [
       "'City Council Districts'"
      ]
     },
     "metadata": {},
     "output_type": "display_data"
    },
    {
     "data": {
      "text/plain": [
       "1.0    139\n",
       "2.0     74\n",
       "Name: City Council Districts, dtype: int64"
      ]
     },
     "metadata": {},
     "output_type": "display_data"
    },
    {
     "data": {
      "text/plain": [
       "None"
      ]
     },
     "metadata": {},
     "output_type": "display_data"
    },
    {
     "name": "stdout",
     "output_type": "stream",
     "text": [
      "\n",
      "\n"
     ]
    },
    {
     "data": {
      "text/plain": [
       "'SPD Beats'"
      ]
     },
     "metadata": {},
     "output_type": "display_data"
    },
    {
     "data": {
      "text/plain": [
       "40.0    198\n",
       "5.0     127\n",
       "9.0     124\n",
       "10.0    124\n",
       "12.0    117\n",
       "36.0    115\n",
       "39.0    114\n",
       "7.0     113\n",
       "38.0    102\n",
       "27.0     84\n",
       "22.0     84\n",
       "48.0     82\n",
       "19.0     81\n",
       "4.0      79\n",
       "1.0      78\n",
       "28.0     77\n",
       "49.0     75\n",
       "50.0     74\n",
       "35.0     73\n",
       "26.0     73\n",
       "20.0     73\n",
       "11.0     71\n",
       "2.0      71\n",
       "47.0     68\n",
       "3.0      64\n",
       "30.0     64\n",
       "37.0     58\n",
       "24.0     57\n",
       "6.0      51\n",
       "31.0     51\n",
       "16.0     50\n",
       "32.0     50\n",
       "33.0     50\n",
       "34.0     46\n",
       "17.0     40\n",
       "21.0     39\n",
       "29.0     38\n",
       "25.0     36\n",
       "15.0     36\n",
       "42.0     35\n",
       "13.0     35\n",
       "51.0     35\n",
       "18.0     32\n",
       "8.0      29\n",
       "41.0     29\n",
       "45.0     27\n",
       "44.0     26\n",
       "43.0     24\n",
       "14.0     24\n",
       "23.0     20\n",
       "46.0     15\n",
       "Name: SPD Beats, dtype: int64"
      ]
     },
     "metadata": {},
     "output_type": "display_data"
    },
    {
     "data": {
      "text/plain": [
       "None"
      ]
     },
     "metadata": {},
     "output_type": "display_data"
    },
    {
     "name": "stdout",
     "output_type": "stream",
     "text": [
      "\n",
      "\n"
     ]
    },
    {
     "data": {
      "text/plain": [
       "'Zip Codes'"
      ]
     },
     "metadata": {},
     "output_type": "display_data"
    },
    {
     "data": {
      "text/plain": [
       "18390    309\n",
       "18379    259\n",
       "19578    238\n",
       "18081    234\n",
       "18383    189\n",
       "19584    182\n",
       "19576    180\n",
       "19575    164\n",
       "18376    163\n",
       "18377    158\n",
       "19579    155\n",
       "18388    135\n",
       "19582    124\n",
       "18792    124\n",
       "18386    106\n",
       "18795     94\n",
       "17919     93\n",
       "18800     90\n",
       "18789     72\n",
       "18235     70\n",
       "18385     62\n",
       "19581     62\n",
       "18798     31\n",
       "17916     29\n",
       "18229      7\n",
       "17920      4\n",
       "18230      3\n",
       "17926      2\n",
       "17923      1\n",
       "Name: Zip Codes, dtype: int64"
      ]
     },
     "metadata": {},
     "output_type": "display_data"
    },
    {
     "data": {
      "text/plain": [
       "None"
      ]
     },
     "metadata": {},
     "output_type": "display_data"
    }
   ],
   "source": [
    "for column in energy_comsumption_2015.columns:\n",
    "    display(column,energy_comsumption_2015[column].value_counts(),print('\\n'))"
   ]
  },
  {
   "cell_type": "markdown",
   "id": "9246f1bf-caf6-451b-864f-d8787d194d44",
   "metadata": {},
   "source": [
    "OSEBuildingID,BuildingType,PrimaryPropertyType,CouncilDistrictCode,Neighborhood,YearBuilt,NumberofBuildings,NumberofFloors,PropertyGFATotal,PropertyGFAParking,PropertyGFABuilding(s),\n",
    "no_wanted = [\"PropertyName\",\"Location\"]"
   ]
  },
  {
   "cell_type": "markdown",
   "id": "54554e78-6386-4581-89c8-a560deff70b7",
   "metadata": {},
   "source": [
    "# Just numbers variables"
   ]
  },
  {
   "cell_type": "code",
   "execution_count": 30,
   "id": "657994e2-460d-49d4-99b7-ee4b12d52ed8",
   "metadata": {},
   "outputs": [],
   "source": [
    "just_numbers_values_2015 = energy_comsumption_2015.select_dtypes(include=np.number)"
   ]
  },
  {
   "cell_type": "code",
   "execution_count": 31,
   "id": "93725c28-bbbe-4f8b-ab92-901b2db17643",
   "metadata": {},
   "outputs": [
    {
     "data": {
      "text/plain": [
       "['OSEBuildingID',\n",
       " 'DataYear',\n",
       " 'CouncilDistrictCode',\n",
       " 'YearBuilt',\n",
       " 'NumberofBuildings',\n",
       " 'NumberofFloors',\n",
       " 'PropertyGFATotal',\n",
       " 'PropertyGFAParking',\n",
       " 'PropertyGFABuilding(s)',\n",
       " 'LargestPropertyUseTypeGFA',\n",
       " 'SecondLargestPropertyUseTypeGFA',\n",
       " 'ThirdLargestPropertyUseTypeGFA',\n",
       " 'ENERGYSTARScore',\n",
       " 'SiteEUI(kBtu/sf)',\n",
       " 'SiteEUIWN(kBtu/sf)',\n",
       " 'SourceEUI(kBtu/sf)',\n",
       " 'SourceEUIWN(kBtu/sf)',\n",
       " 'SiteEnergyUse(kBtu)',\n",
       " 'SiteEnergyUseWN(kBtu)',\n",
       " 'SteamUse(kBtu)',\n",
       " 'Electricity(kWh)',\n",
       " 'Electricity(kBtu)',\n",
       " 'NaturalGas(therms)',\n",
       " 'NaturalGas(kBtu)',\n",
       " 'OtherFuelUse(kBtu)',\n",
       " 'GHGEmissions(MetricTonsCO2e)',\n",
       " 'GHGEmissionsIntensity(kgCO2e/ft2)',\n",
       " '2010 Census Tracts',\n",
       " 'Seattle Police Department Micro Community Policing Plan Areas',\n",
       " 'City Council Districts',\n",
       " 'SPD Beats',\n",
       " 'Zip Codes']"
      ]
     },
     "execution_count": 31,
     "metadata": {},
     "output_type": "execute_result"
    }
   ],
   "source": [
    "just_numbers_values_2015.columns.to_list()"
   ]
  },
  {
   "cell_type": "code",
   "execution_count": 32,
   "id": "5d81c885-5222-405e-94d4-91f1fa4029a4",
   "metadata": {},
   "outputs": [],
   "source": [
    "correlation_matric_2015 = just_numbers_values_2015.corr(method='pearson')"
   ]
  },
  {
   "cell_type": "code",
   "execution_count": 33,
   "id": "70fcc370-e9f8-4a1d-8c02-1f7a0e77673b",
   "metadata": {},
   "outputs": [
    {
     "name": "stderr",
     "output_type": "stream",
     "text": [
      "C:\\Users\\pierr\\anaconda3\\envs\\projet4\\lib\\site-packages\\pandas\\io\\formats\\style.py:1264: RuntimeWarning: All-NaN slice encountered\n",
      "  smin = np.nanmin(s.to_numpy()) if vmin is None else vmin\n",
      "C:\\Users\\pierr\\anaconda3\\envs\\projet4\\lib\\site-packages\\pandas\\io\\formats\\style.py:1265: RuntimeWarning: All-NaN slice encountered\n",
      "  smax = np.nanmax(s.to_numpy()) if vmax is None else vmax\n"
     ]
    },
    {
     "data": {
      "text/html": [
       "<style  type=\"text/css\" >\n",
       "#T_b8241_row0_col0,#T_b8241_row2_col2,#T_b8241_row3_col3,#T_b8241_row4_col4,#T_b8241_row5_col5,#T_b8241_row6_col6,#T_b8241_row7_col7,#T_b8241_row8_col8,#T_b8241_row9_col9,#T_b8241_row10_col10,#T_b8241_row11_col11,#T_b8241_row12_col12,#T_b8241_row13_col13,#T_b8241_row13_col14,#T_b8241_row14_col13,#T_b8241_row14_col14,#T_b8241_row15_col15,#T_b8241_row15_col16,#T_b8241_row16_col15,#T_b8241_row16_col16,#T_b8241_row17_col17,#T_b8241_row18_col18,#T_b8241_row19_col19,#T_b8241_row20_col20,#T_b8241_row20_col21,#T_b8241_row21_col20,#T_b8241_row21_col21,#T_b8241_row22_col22,#T_b8241_row22_col23,#T_b8241_row23_col22,#T_b8241_row23_col23,#T_b8241_row24_col24,#T_b8241_row25_col25,#T_b8241_row26_col26,#T_b8241_row27_col27,#T_b8241_row28_col28,#T_b8241_row29_col29,#T_b8241_row30_col30,#T_b8241_row31_col31{\n",
       "            background-color:  #b40426;\n",
       "            color:  #f1f1f1;\n",
       "        }#T_b8241_row0_col1,#T_b8241_row1_col0,#T_b8241_row1_col1,#T_b8241_row1_col2,#T_b8241_row1_col3,#T_b8241_row1_col4,#T_b8241_row1_col5,#T_b8241_row1_col6,#T_b8241_row1_col7,#T_b8241_row1_col8,#T_b8241_row1_col9,#T_b8241_row1_col10,#T_b8241_row1_col11,#T_b8241_row1_col12,#T_b8241_row1_col13,#T_b8241_row1_col14,#T_b8241_row1_col15,#T_b8241_row1_col16,#T_b8241_row1_col17,#T_b8241_row1_col18,#T_b8241_row1_col19,#T_b8241_row1_col20,#T_b8241_row1_col21,#T_b8241_row1_col22,#T_b8241_row1_col23,#T_b8241_row1_col24,#T_b8241_row1_col25,#T_b8241_row1_col26,#T_b8241_row1_col27,#T_b8241_row1_col28,#T_b8241_row1_col29,#T_b8241_row1_col30,#T_b8241_row1_col31,#T_b8241_row2_col1,#T_b8241_row3_col1,#T_b8241_row4_col1,#T_b8241_row4_col27,#T_b8241_row4_col29,#T_b8241_row5_col1,#T_b8241_row6_col1,#T_b8241_row7_col1,#T_b8241_row8_col1,#T_b8241_row9_col1,#T_b8241_row10_col1,#T_b8241_row11_col1,#T_b8241_row12_col1,#T_b8241_row13_col1,#T_b8241_row14_col1,#T_b8241_row15_col1,#T_b8241_row16_col1,#T_b8241_row17_col1,#T_b8241_row18_col1,#T_b8241_row19_col1,#T_b8241_row19_col27,#T_b8241_row19_col29,#T_b8241_row20_col1,#T_b8241_row21_col1,#T_b8241_row22_col1,#T_b8241_row23_col1,#T_b8241_row24_col1,#T_b8241_row24_col27,#T_b8241_row24_col29,#T_b8241_row25_col1,#T_b8241_row26_col1,#T_b8241_row27_col1,#T_b8241_row27_col4,#T_b8241_row27_col19,#T_b8241_row27_col24,#T_b8241_row28_col1,#T_b8241_row29_col1,#T_b8241_row29_col4,#T_b8241_row29_col19,#T_b8241_row29_col24,#T_b8241_row30_col1,#T_b8241_row31_col1{\n",
       "            background-color:  #000000;\n",
       "            color:  #f1f1f1;\n",
       "        }#T_b8241_row0_col2,#T_b8241_row11_col19,#T_b8241_row13_col0,#T_b8241_row18_col24{\n",
       "            background-color:  #5875e1;\n",
       "            color:  #000000;\n",
       "        }#T_b8241_row0_col3,#T_b8241_row2_col18,#T_b8241_row3_col18,#T_b8241_row7_col22,#T_b8241_row7_col23,#T_b8241_row16_col7,#T_b8241_row17_col30,#T_b8241_row18_col30,#T_b8241_row24_col10,#T_b8241_row25_col30,#T_b8241_row31_col0,#T_b8241_row31_col15{\n",
       "            background-color:  #8db0fe;\n",
       "            color:  #000000;\n",
       "        }#T_b8241_row0_col4,#T_b8241_row12_col19{\n",
       "            background-color:  #4257c9;\n",
       "            color:  #f1f1f1;\n",
       "        }#T_b8241_row0_col5,#T_b8241_row9_col0,#T_b8241_row16_col12{\n",
       "            background-color:  #3e51c5;\n",
       "            color:  #f1f1f1;\n",
       "        }#T_b8241_row0_col6,#T_b8241_row0_col7,#T_b8241_row0_col8,#T_b8241_row0_col9,#T_b8241_row0_col10,#T_b8241_row0_col17,#T_b8241_row0_col18,#T_b8241_row0_col19,#T_b8241_row0_col20,#T_b8241_row0_col21,#T_b8241_row0_col24,#T_b8241_row0_col25,#T_b8241_row2_col4,#T_b8241_row5_col28,#T_b8241_row6_col0,#T_b8241_row11_col4,#T_b8241_row12_col4,#T_b8241_row12_col13,#T_b8241_row12_col14,#T_b8241_row12_col15,#T_b8241_row12_col16,#T_b8241_row12_col22,#T_b8241_row12_col23,#T_b8241_row12_col26,#T_b8241_row14_col12,#T_b8241_row20_col0,#T_b8241_row21_col0,#T_b8241_row26_col3,#T_b8241_row27_col31,#T_b8241_row29_col2,#T_b8241_row29_col11,#T_b8241_row29_col30,#T_b8241_row30_col29,#T_b8241_row31_col5,#T_b8241_row31_col27{\n",
       "            background-color:  #3b4cc0;\n",
       "            color:  #f1f1f1;\n",
       "        }#T_b8241_row0_col11,#T_b8241_row11_col24,#T_b8241_row13_col4,#T_b8241_row14_col4,#T_b8241_row16_col4,#T_b8241_row27_col3{\n",
       "            background-color:  #4a63d3;\n",
       "            color:  #f1f1f1;\n",
       "        }#T_b8241_row0_col12,#T_b8241_row4_col20,#T_b8241_row4_col21,#T_b8241_row9_col13,#T_b8241_row9_col15,#T_b8241_row10_col14,#T_b8241_row10_col27,#T_b8241_row11_col13,#T_b8241_row11_col27,#T_b8241_row13_col31,#T_b8241_row26_col20,#T_b8241_row26_col21,#T_b8241_row28_col31{\n",
       "            background-color:  #adc9fd;\n",
       "            color:  #000000;\n",
       "        }#T_b8241_row0_col13,#T_b8241_row0_col26,#T_b8241_row4_col11,#T_b8241_row11_col26,#T_b8241_row27_col11{\n",
       "            background-color:  #7396f5;\n",
       "            color:  #000000;\n",
       "        }#T_b8241_row0_col14,#T_b8241_row14_col19,#T_b8241_row20_col4,#T_b8241_row21_col4,#T_b8241_row28_col6,#T_b8241_row29_col9,#T_b8241_row29_col10{\n",
       "            background-color:  #779af7;\n",
       "            color:  #000000;\n",
       "        }#T_b8241_row0_col15,#T_b8241_row2_col30,#T_b8241_row12_col3{\n",
       "            background-color:  #688aef;\n",
       "            color:  #000000;\n",
       "        }#T_b8241_row0_col16,#T_b8241_row2_col25,#T_b8241_row7_col26,#T_b8241_row19_col7,#T_b8241_row22_col3,#T_b8241_row23_col3,#T_b8241_row27_col8,#T_b8241_row27_col10,#T_b8241_row30_col9{\n",
       "            background-color:  #6e90f2;\n",
       "            color:  #000000;\n",
       "        }#T_b8241_row0_col22,#T_b8241_row0_col23,#T_b8241_row27_col29,#T_b8241_row30_col2,#T_b8241_row30_col4{\n",
       "            background-color:  #3f53c6;\n",
       "            color:  #f1f1f1;\n",
       "        }#T_b8241_row0_col27,#T_b8241_row8_col30,#T_b8241_row9_col30,#T_b8241_row12_col8,#T_b8241_row14_col10,#T_b8241_row26_col9,#T_b8241_row28_col2{\n",
       "            background-color:  #8badfd;\n",
       "            color:  #000000;\n",
       "        }#T_b8241_row0_col28,#T_b8241_row2_col19,#T_b8241_row7_col19,#T_b8241_row30_col22,#T_b8241_row30_col23{\n",
       "            background-color:  #516ddb;\n",
       "            color:  #000000;\n",
       "        }#T_b8241_row0_col29,#T_b8241_row8_col19,#T_b8241_row11_col12{\n",
       "            background-color:  #b6cefa;\n",
       "            color:  #000000;\n",
       "        }#T_b8241_row0_col30,#T_b8241_row3_col13,#T_b8241_row4_col30,#T_b8241_row5_col31,#T_b8241_row8_col2,#T_b8241_row9_col3,#T_b8241_row15_col9,#T_b8241_row15_col30,#T_b8241_row16_col30,#T_b8241_row30_col16,#T_b8241_row31_col14{\n",
       "            background-color:  #96b7ff;\n",
       "            color:  #000000;\n",
       "        }#T_b8241_row0_col31,#T_b8241_row9_col19{\n",
       "            background-color:  #bcd2f7;\n",
       "            color:  #000000;\n",
       "        }#T_b8241_row2_col0,#T_b8241_row19_col3,#T_b8241_row22_col0,#T_b8241_row23_col0{\n",
       "            background-color:  #6687ed;\n",
       "            color:  #000000;\n",
       "        }#T_b8241_row2_col3,#T_b8241_row13_col28,#T_b8241_row14_col28,#T_b8241_row19_col24,#T_b8241_row24_col3,#T_b8241_row27_col7,#T_b8241_row29_col18,#T_b8241_row31_col2{\n",
       "            background-color:  #5f7fe8;\n",
       "            color:  #000000;\n",
       "        }#T_b8241_row2_col5,#T_b8241_row2_col13,#T_b8241_row2_col14,#T_b8241_row2_col15,#T_b8241_row3_col9,#T_b8241_row6_col12,#T_b8241_row6_col19{\n",
       "            background-color:  #a9c6fd;\n",
       "            color:  #000000;\n",
       "        }#T_b8241_row2_col6,#T_b8241_row5_col27,#T_b8241_row9_col12,#T_b8241_row11_col14,#T_b8241_row15_col22,#T_b8241_row15_col23,#T_b8241_row16_col22,#T_b8241_row16_col23,#T_b8241_row20_col31,#T_b8241_row21_col31{\n",
       "            background-color:  #a7c5fe;\n",
       "            color:  #000000;\n",
       "        }#T_b8241_row2_col7,#T_b8241_row16_col8,#T_b8241_row24_col16,#T_b8241_row25_col5,#T_b8241_row27_col26,#T_b8241_row29_col12{\n",
       "            background-color:  #98b9ff;\n",
       "            color:  #000000;\n",
       "        }#T_b8241_row2_col8,#T_b8241_row4_col14,#T_b8241_row10_col3{\n",
       "            background-color:  #a1c0ff;\n",
       "            color:  #000000;\n",
       "        }#T_b8241_row2_col9,#T_b8241_row3_col12,#T_b8241_row3_col27,#T_b8241_row5_col12,#T_b8241_row5_col13,#T_b8241_row6_col3,#T_b8241_row7_col29,#T_b8241_row13_col6,#T_b8241_row24_col13,#T_b8241_row24_col14,#T_b8241_row28_col13,#T_b8241_row29_col28,#T_b8241_row30_col12{\n",
       "            background-color:  #9dbdff;\n",
       "            color:  #000000;\n",
       "        }#T_b8241_row2_col10,#T_b8241_row6_col31,#T_b8241_row7_col31,#T_b8241_row8_col4,#T_b8241_row9_col27,#T_b8241_row11_col30,#T_b8241_row29_col0{\n",
       "            background-color:  #a2c1ff;\n",
       "            color:  #000000;\n",
       "        }#T_b8241_row2_col11,#T_b8241_row9_col26,#T_b8241_row12_col9{\n",
       "            background-color:  #8caffe;\n",
       "            color:  #000000;\n",
       "        }#T_b8241_row2_col12,#T_b8241_row2_col16,#T_b8241_row3_col30,#T_b8241_row7_col27,#T_b8241_row17_col31,#T_b8241_row18_col31,#T_b8241_row19_col31,#T_b8241_row27_col15{\n",
       "            background-color:  #aac7fd;\n",
       "            color:  #000000;\n",
       "        }#T_b8241_row2_col17,#T_b8241_row12_col6,#T_b8241_row14_col9,#T_b8241_row20_col2,#T_b8241_row20_col30,#T_b8241_row21_col2,#T_b8241_row21_col30,#T_b8241_row26_col30{\n",
       "            background-color:  #8fb1fe;\n",
       "            color:  #000000;\n",
       "        }#T_b8241_row2_col20,#T_b8241_row2_col21,#T_b8241_row4_col10,#T_b8241_row4_col15,#T_b8241_row5_col14,#T_b8241_row5_col25,#T_b8241_row6_col2,#T_b8241_row12_col11,#T_b8241_row22_col7,#T_b8241_row23_col7,#T_b8241_row25_col7{\n",
       "            background-color:  #9bbcff;\n",
       "            color:  #000000;\n",
       "        }#T_b8241_row2_col22,#T_b8241_row2_col23,#T_b8241_row3_col22,#T_b8241_row3_col23,#T_b8241_row12_col5,#T_b8241_row13_col5,#T_b8241_row24_col5,#T_b8241_row24_col19{\n",
       "            background-color:  #6282ea;\n",
       "            color:  #000000;\n",
       "        }#T_b8241_row2_col24,#T_b8241_row10_col28,#T_b8241_row20_col24,#T_b8241_row21_col24,#T_b8241_row24_col22,#T_b8241_row24_col23,#T_b8241_row30_col25,#T_b8241_row31_col7{\n",
       "            background-color:  #5673e0;\n",
       "            color:  #000000;\n",
       "        }#T_b8241_row2_col26,#T_b8241_row4_col26,#T_b8241_row10_col26,#T_b8241_row12_col7,#T_b8241_row14_col2,#T_b8241_row17_col29,#T_b8241_row18_col12,#T_b8241_row24_col18,#T_b8241_row26_col29,#T_b8241_row27_col20,#T_b8241_row27_col21,#T_b8241_row29_col15{\n",
       "            background-color:  #82a6fb;\n",
       "            color:  #000000;\n",
       "        }#T_b8241_row2_col27,#T_b8241_row17_col22,#T_b8241_row17_col23{\n",
       "            background-color:  #f7b79b;\n",
       "            color:  #000000;\n",
       "        }#T_b8241_row2_col28,#T_b8241_row15_col3,#T_b8241_row25_col4,#T_b8241_row26_col2,#T_b8241_row28_col0,#T_b8241_row28_col8,#T_b8241_row28_col17,#T_b8241_row28_col18,#T_b8241_row28_col26,#T_b8241_row30_col20,#T_b8241_row30_col21{\n",
       "            background-color:  #7699f6;\n",
       "            color:  #000000;\n",
       "        }#T_b8241_row2_col29,#T_b8241_row13_col3,#T_b8241_row27_col28{\n",
       "            background-color:  #6384eb;\n",
       "            color:  #000000;\n",
       "        }#T_b8241_row2_col31,#T_b8241_row3_col0,#T_b8241_row3_col8,#T_b8241_row6_col27,#T_b8241_row8_col12,#T_b8241_row9_col31{\n",
       "            background-color:  #a5c3fe;\n",
       "            color:  #000000;\n",
       "        }#T_b8241_row3_col2,#T_b8241_row3_col25,#T_b8241_row5_col19,#T_b8241_row19_col22,#T_b8241_row19_col23,#T_b8241_row27_col25,#T_b8241_row29_col20,#T_b8241_row29_col21,#T_b8241_row30_col18,#T_b8241_row31_col6,#T_b8241_row31_col9{\n",
       "            background-color:  #6b8df0;\n",
       "            color:  #000000;\n",
       "        }#T_b8241_row3_col4,#T_b8241_row15_col12,#T_b8241_row19_col4,#T_b8241_row24_col4,#T_b8241_row28_col19,#T_b8241_row29_col22,#T_b8241_row29_col23,#T_b8241_row30_col5{\n",
       "            background-color:  #4055c8;\n",
       "            color:  #f1f1f1;\n",
       "        }#T_b8241_row3_col5,#T_b8241_row8_col26,#T_b8241_row14_col11,#T_b8241_row17_col2,#T_b8241_row18_col2,#T_b8241_row20_col12,#T_b8241_row21_col12,#T_b8241_row24_col20,#T_b8241_row24_col21,#T_b8241_row26_col8,#T_b8241_row29_col14{\n",
       "            background-color:  #89acfd;\n",
       "            color:  #000000;\n",
       "        }#T_b8241_row3_col6,#T_b8241_row5_col29,#T_b8241_row7_col3,#T_b8241_row8_col13,#T_b8241_row8_col15,#T_b8241_row10_col16,#T_b8241_row11_col15,#T_b8241_row19_col15,#T_b8241_row27_col14{\n",
       "            background-color:  #b1cbfc;\n",
       "            color:  #000000;\n",
       "        }#T_b8241_row3_col7,#T_b8241_row6_col16,#T_b8241_row10_col12,#T_b8241_row10_col15,#T_b8241_row10_col19,#T_b8241_row11_col25,#T_b8241_row22_col31,#T_b8241_row23_col31{\n",
       "            background-color:  #b3cdfb;\n",
       "            color:  #000000;\n",
       "        }#T_b8241_row3_col10,#T_b8241_row4_col17,#T_b8241_row7_col12,#T_b8241_row7_col13,#T_b8241_row8_col14,#T_b8241_row14_col31,#T_b8241_row24_col31,#T_b8241_row27_col13{\n",
       "            background-color:  #aec9fc;\n",
       "            color:  #000000;\n",
       "        }#T_b8241_row3_col11,#T_b8241_row6_col4,#T_b8241_row9_col4,#T_b8241_row11_col22,#T_b8241_row11_col23,#T_b8241_row12_col27,#T_b8241_row12_col29,#T_b8241_row14_col6,#T_b8241_row15_col10,#T_b8241_row24_col15,#T_b8241_row26_col19,#T_b8241_row31_col12{\n",
       "            background-color:  #97b8ff;\n",
       "            color:  #000000;\n",
       "        }#T_b8241_row3_col14,#T_b8241_row9_col2,#T_b8241_row12_col10,#T_b8241_row13_col9,#T_b8241_row24_col9,#T_b8241_row30_col13,#T_b8241_row30_col15,#T_b8241_row31_col13{\n",
       "            background-color:  #93b5fe;\n",
       "            color:  #000000;\n",
       "        }#T_b8241_row3_col15,#T_b8241_row3_col16,#T_b8241_row8_col31,#T_b8241_row15_col6{\n",
       "            background-color:  #a3c2fe;\n",
       "            color:  #000000;\n",
       "        }#T_b8241_row3_col17,#T_b8241_row5_col3,#T_b8241_row8_col3,#T_b8241_row13_col10,#T_b8241_row15_col7,#T_b8241_row19_col12,#T_b8241_row22_col30,#T_b8241_row23_col30,#T_b8241_row24_col6,#T_b8241_row30_col27,#T_b8241_row31_col16{\n",
       "            background-color:  #90b2fe;\n",
       "            color:  #000000;\n",
       "        }#T_b8241_row3_col19,#T_b8241_row15_col24,#T_b8241_row19_col28{\n",
       "            background-color:  #4e68d8;\n",
       "            color:  #000000;\n",
       "        }#T_b8241_row3_col20,#T_b8241_row3_col21,#T_b8241_row4_col16,#T_b8241_row7_col2,#T_b8241_row10_col31,#T_b8241_row15_col8,#T_b8241_row16_col6,#T_b8241_row24_col30,#T_b8241_row28_col14,#T_b8241_row28_col15{\n",
       "            background-color:  #9ebeff;\n",
       "            color:  #000000;\n",
       "        }#T_b8241_row3_col24,#T_b8241_row18_col0,#T_b8241_row28_col4{\n",
       "            background-color:  #445acc;\n",
       "            color:  #f1f1f1;\n",
       "        }#T_b8241_row3_col26,#T_b8241_row6_col28,#T_b8241_row9_col28,#T_b8241_row26_col5,#T_b8241_row31_col28{\n",
       "            background-color:  #5470de;\n",
       "            color:  #000000;\n",
       "        }#T_b8241_row3_col28,#T_b8241_row31_col20,#T_b8241_row31_col21{\n",
       "            background-color:  #7295f4;\n",
       "            color:  #000000;\n",
       "        }#T_b8241_row3_col29,#T_b8241_row7_col30,#T_b8241_row22_col29,#T_b8241_row23_col29,#T_b8241_row25_col12,#T_b8241_row25_col29,#T_b8241_row28_col20,#T_b8241_row28_col21{\n",
       "            background-color:  #81a4fb;\n",
       "            color:  #000000;\n",
       "        }#T_b8241_row3_col31,#T_b8241_row16_col25,#T_b8241_row19_col13,#T_b8241_row19_col14,#T_b8241_row22_col27,#T_b8241_row23_col27,#T_b8241_row25_col27{\n",
       "            background-color:  #bad0f8;\n",
       "            color:  #000000;\n",
       "        }#T_b8241_row4_col0,#T_b8241_row14_col7,#T_b8241_row17_col3,#T_b8241_row17_col4,#T_b8241_row27_col17,#T_b8241_row28_col11{\n",
       "            background-color:  #80a3fa;\n",
       "            color:  #000000;\n",
       "        }#T_b8241_row4_col2,#T_b8241_row10_col4,#T_b8241_row15_col5,#T_b8241_row28_col7{\n",
       "            background-color:  #6a8bef;\n",
       "            color:  #000000;\n",
       "        }#T_b8241_row4_col3,#T_b8241_row9_col24,#T_b8241_row10_col24,#T_b8241_row15_col28,#T_b8241_row16_col28,#T_b8241_row27_col22,#T_b8241_row27_col23{\n",
       "            background-color:  #6485ec;\n",
       "            color:  #000000;\n",
       "        }#T_b8241_row4_col5,#T_b8241_row25_col0,#T_b8241_row25_col24,#T_b8241_row26_col12,#T_b8241_row31_col25{\n",
       "            background-color:  #5977e3;\n",
       "            color:  #000000;\n",
       "        }#T_b8241_row4_col6,#T_b8241_row14_col22,#T_b8241_row14_col23,#T_b8241_row17_col5,#T_b8241_row18_col7,#T_b8241_row29_col31{\n",
       "            background-color:  #c6d6f1;\n",
       "            color:  #000000;\n",
       "        }#T_b8241_row4_col7,#T_b8241_row5_col26,#T_b8241_row16_col3,#T_b8241_row19_col2,#T_b8241_row26_col0,#T_b8241_row28_col9,#T_b8241_row30_col26{\n",
       "            background-color:  #7597f6;\n",
       "            color:  #000000;\n",
       "        }#T_b8241_row4_col8,#T_b8241_row13_col25,#T_b8241_row26_col18{\n",
       "            background-color:  #ccd9ed;\n",
       "            color:  #000000;\n",
       "        }#T_b8241_row4_col9,#T_b8241_row15_col27{\n",
       "            background-color:  #c3d5f4;\n",
       "            color:  #000000;\n",
       "        }#T_b8241_row4_col12,#T_b8241_row4_col25,#T_b8241_row7_col25,#T_b8241_row9_col29,#T_b8241_row12_col0,#T_b8241_row14_col8,#T_b8241_row30_col14{\n",
       "            background-color:  #94b6ff;\n",
       "            color:  #000000;\n",
       "        }#T_b8241_row4_col13,#T_b8241_row5_col15,#T_b8241_row5_col16,#T_b8241_row6_col29,#T_b8241_row8_col29,#T_b8241_row10_col2,#T_b8241_row24_col12,#T_b8241_row28_col12,#T_b8241_row28_col16{\n",
       "            background-color:  #9fbfff;\n",
       "            color:  #000000;\n",
       "        }#T_b8241_row4_col18,#T_b8241_row6_col13,#T_b8241_row19_col16,#T_b8241_row22_col11,#T_b8241_row23_col11{\n",
       "            background-color:  #b2ccfb;\n",
       "            color:  #000000;\n",
       "        }#T_b8241_row4_col19,#T_b8241_row7_col24,#T_b8241_row16_col24,#T_b8241_row29_col3{\n",
       "            background-color:  #4c66d6;\n",
       "            color:  #000000;\n",
       "        }#T_b8241_row4_col22,#T_b8241_row4_col23,#T_b8241_row8_col27,#T_b8241_row31_col30{\n",
       "            background-color:  #a6c4fe;\n",
       "            color:  #000000;\n",
       "        }#T_b8241_row4_col24,#T_b8241_row7_col4{\n",
       "            background-color:  #4b64d5;\n",
       "            color:  #f1f1f1;\n",
       "        }#T_b8241_row4_col28,#T_b8241_row6_col24,#T_b8241_row12_col17,#T_b8241_row14_col3,#T_b8241_row14_col5,#T_b8241_row22_col19,#T_b8241_row22_col28,#T_b8241_row23_col19,#T_b8241_row23_col28{\n",
       "            background-color:  #5e7de7;\n",
       "            color:  #000000;\n",
       "        }#T_b8241_row4_col31,#T_b8241_row5_col2,#T_b8241_row17_col27{\n",
       "            background-color:  #b7cff9;\n",
       "            color:  #000000;\n",
       "        }#T_b8241_row5_col0,#T_b8241_row8_col24,#T_b8241_row11_col28,#T_b8241_row12_col28,#T_b8241_row24_col28,#T_b8241_row29_col17,#T_b8241_row29_col27,#T_b8241_row30_col10{\n",
       "            background-color:  #6180e9;\n",
       "            color:  #000000;\n",
       "        }#T_b8241_row5_col4,#T_b8241_row8_col0,#T_b8241_row13_col12{\n",
       "            background-color:  #3c4ec2;\n",
       "            color:  #f1f1f1;\n",
       "        }#T_b8241_row5_col6,#T_b8241_row10_col18,#T_b8241_row18_col10{\n",
       "            background-color:  #f7b396;\n",
       "            color:  #000000;\n",
       "        }#T_b8241_row5_col7,#T_b8241_row7_col11,#T_b8241_row22_col26,#T_b8241_row23_col26{\n",
       "            background-color:  #e4d9d2;\n",
       "            color:  #000000;\n",
       "        }#T_b8241_row5_col8,#T_b8241_row11_col10{\n",
       "            background-color:  #f7ba9f;\n",
       "            color:  #000000;\n",
       "        }#T_b8241_row5_col9,#T_b8241_row10_col11{\n",
       "            background-color:  #f7b99e;\n",
       "            color:  #000000;\n",
       "        }#T_b8241_row5_col10,#T_b8241_row11_col17{\n",
       "            background-color:  #f1cdba;\n",
       "            color:  #000000;\n",
       "        }#T_b8241_row5_col11,#T_b8241_row6_col22,#T_b8241_row6_col23,#T_b8241_row7_col18,#T_b8241_row19_col10{\n",
       "            background-color:  #cdd9ec;\n",
       "            color:  #000000;\n",
       "        }#T_b8241_row5_col17,#T_b8241_row19_col8,#T_b8241_row26_col22,#T_b8241_row26_col23{\n",
       "            background-color:  #d4dbe6;\n",
       "            color:  #000000;\n",
       "        }#T_b8241_row5_col18{\n",
       "            background-color:  #cfdaea;\n",
       "            color:  #000000;\n",
       "        }#T_b8241_row5_col20,#T_b8241_row5_col21{\n",
       "            background-color:  #e6d7cf;\n",
       "            color:  #000000;\n",
       "        }#T_b8241_row5_col22,#T_b8241_row5_col23,#T_b8241_row22_col2,#T_b8241_row23_col2,#T_b8241_row24_col11,#T_b8241_row26_col10,#T_b8241_row31_col26{\n",
       "            background-color:  #7a9df8;\n",
       "            color:  #000000;\n",
       "        }#T_b8241_row5_col24,#T_b8241_row7_col0,#T_b8241_row11_col0,#T_b8241_row14_col24,#T_b8241_row27_col5{\n",
       "            background-color:  #4f69d9;\n",
       "            color:  #000000;\n",
       "        }#T_b8241_row5_col30,#T_b8241_row25_col2,#T_b8241_row28_col3{\n",
       "            background-color:  #7da0f9;\n",
       "            color:  #000000;\n",
       "        }#T_b8241_row6_col5,#T_b8241_row7_col9,#T_b8241_row20_col15,#T_b8241_row21_col15,#T_b8241_row26_col16{\n",
       "            background-color:  #f6bfa6;\n",
       "            color:  #000000;\n",
       "        }#T_b8241_row6_col7,#T_b8241_row10_col17,#T_b8241_row11_col6,#T_b8241_row22_col17,#T_b8241_row23_col17{\n",
       "            background-color:  #f7ac8e;\n",
       "            color:  #000000;\n",
       "        }#T_b8241_row6_col8,#T_b8241_row8_col6{\n",
       "            background-color:  #ba162b;\n",
       "            color:  #f1f1f1;\n",
       "        }#T_b8241_row6_col9,#T_b8241_row8_col9,#T_b8241_row9_col6,#T_b8241_row9_col8,#T_b8241_row13_col15,#T_b8241_row15_col13{\n",
       "            background-color:  #c12b30;\n",
       "            color:  #f1f1f1;\n",
       "        }#T_b8241_row6_col10{\n",
       "            background-color:  #e36b54;\n",
       "            color:  #000000;\n",
       "        }#T_b8241_row6_col11,#T_b8241_row11_col8{\n",
       "            background-color:  #f7af91;\n",
       "            color:  #000000;\n",
       "        }#T_b8241_row6_col14,#T_b8241_row8_col16,#T_b8241_row10_col13,#T_b8241_row12_col31,#T_b8241_row26_col31,#T_b8241_row31_col29{\n",
       "            background-color:  #afcafc;\n",
       "            color:  #000000;\n",
       "        }#T_b8241_row6_col15,#T_b8241_row7_col15,#T_b8241_row7_col16,#T_b8241_row20_col27,#T_b8241_row21_col27{\n",
       "            background-color:  #b5cdfa;\n",
       "            color:  #000000;\n",
       "        }#T_b8241_row6_col17,#T_b8241_row8_col18{\n",
       "            background-color:  #f59d7e;\n",
       "            color:  #000000;\n",
       "        }#T_b8241_row6_col18,#T_b8241_row7_col6{\n",
       "            background-color:  #f6a385;\n",
       "            color:  #000000;\n",
       "        }#T_b8241_row6_col20,#T_b8241_row6_col21,#T_b8241_row9_col17,#T_b8241_row9_col20,#T_b8241_row9_col21,#T_b8241_row17_col8{\n",
       "            background-color:  #f39577;\n",
       "            color:  #000000;\n",
       "        }#T_b8241_row6_col25{\n",
       "            background-color:  #efcfbf;\n",
       "            color:  #000000;\n",
       "        }#T_b8241_row6_col26,#T_b8241_row11_col2,#T_b8241_row13_col7,#T_b8241_row17_col12,#T_b8241_row18_col29,#T_b8241_row19_col11{\n",
       "            background-color:  #84a7fc;\n",
       "            color:  #000000;\n",
       "        }#T_b8241_row6_col30,#T_b8241_row14_col29,#T_b8241_row16_col2,#T_b8241_row16_col29,#T_b8241_row18_col4,#T_b8241_row20_col3,#T_b8241_row21_col3,#T_b8241_row24_col17,#T_b8241_row29_col8,#T_b8241_row29_col16,#T_b8241_row30_col11{\n",
       "            background-color:  #86a9fc;\n",
       "            color:  #000000;\n",
       "        }#T_b8241_row7_col5,#T_b8241_row11_col18{\n",
       "            background-color:  #dfdbd9;\n",
       "            color:  #000000;\n",
       "        }#T_b8241_row7_col8,#T_b8241_row20_col14,#T_b8241_row21_col14,#T_b8241_row25_col10{\n",
       "            background-color:  #efcebd;\n",
       "            color:  #000000;\n",
       "        }#T_b8241_row7_col10,#T_b8241_row9_col25,#T_b8241_row11_col20,#T_b8241_row11_col21{\n",
       "            background-color:  #f5c1a9;\n",
       "            color:  #000000;\n",
       "        }#T_b8241_row7_col14,#T_b8241_row9_col14,#T_b8241_row9_col16,#T_b8241_row11_col16,#T_b8241_row11_col31,#T_b8241_row15_col31,#T_b8241_row16_col31,#T_b8241_row20_col26,#T_b8241_row21_col26,#T_b8241_row25_col31,#T_b8241_row27_col16{\n",
       "            background-color:  #abc8fd;\n",
       "            color:  #000000;\n",
       "        }#T_b8241_row7_col17,#T_b8241_row8_col22,#T_b8241_row8_col23,#T_b8241_row18_col26,#T_b8241_row22_col15,#T_b8241_row23_col15{\n",
       "            background-color:  #d1dae9;\n",
       "            color:  #000000;\n",
       "        }#T_b8241_row7_col20,#T_b8241_row7_col21,#T_b8241_row18_col11,#T_b8241_row28_col30{\n",
       "            background-color:  #e1dad6;\n",
       "            color:  #000000;\n",
       "        }#T_b8241_row7_col28,#T_b8241_row11_col29,#T_b8241_row14_col0,#T_b8241_row17_col28,#T_b8241_row18_col28,#T_b8241_row26_col7,#T_b8241_row28_col25{\n",
       "            background-color:  #5a78e4;\n",
       "            color:  #000000;\n",
       "        }#T_b8241_row8_col5,#T_b8241_row10_col7,#T_b8241_row25_col6{\n",
       "            background-color:  #f4c6af;\n",
       "            color:  #000000;\n",
       "        }#T_b8241_row8_col7,#T_b8241_row13_col17,#T_b8241_row13_col20,#T_b8241_row13_col21,#T_b8241_row15_col18,#T_b8241_row16_col17{\n",
       "            background-color:  #ead4c8;\n",
       "            color:  #000000;\n",
       "        }#T_b8241_row8_col10{\n",
       "            background-color:  #e67259;\n",
       "            color:  #000000;\n",
       "        }#T_b8241_row8_col11{\n",
       "            background-color:  #f7b093;\n",
       "            color:  #000000;\n",
       "        }#T_b8241_row8_col17,#T_b8241_row9_col18{\n",
       "            background-color:  #f4987a;\n",
       "            color:  #000000;\n",
       "        }#T_b8241_row8_col20,#T_b8241_row8_col21,#T_b8241_row17_col9,#T_b8241_row20_col6,#T_b8241_row20_col8,#T_b8241_row21_col6,#T_b8241_row21_col8{\n",
       "            background-color:  #f39475;\n",
       "            color:  #000000;\n",
       "        }#T_b8241_row8_col25,#T_b8241_row16_col26,#T_b8241_row17_col13,#T_b8241_row17_col15,#T_b8241_row18_col13{\n",
       "            background-color:  #f2c9b4;\n",
       "            color:  #000000;\n",
       "        }#T_b8241_row8_col28,#T_b8241_row12_col24,#T_b8241_row16_col0,#T_b8241_row26_col28,#T_b8241_row30_col7,#T_b8241_row30_col24{\n",
       "            background-color:  #536edd;\n",
       "            color:  #000000;\n",
       "        }#T_b8241_row9_col5{\n",
       "            background-color:  #f5c4ac;\n",
       "            color:  #000000;\n",
       "        }#T_b8241_row9_col7{\n",
       "            background-color:  #f4c5ad;\n",
       "            color:  #000000;\n",
       "        }#T_b8241_row9_col10,#T_b8241_row26_col14{\n",
       "            background-color:  #ea7b60;\n",
       "            color:  #000000;\n",
       "        }#T_b8241_row9_col11,#T_b8241_row15_col17{\n",
       "            background-color:  #ecd3c5;\n",
       "            color:  #000000;\n",
       "        }#T_b8241_row9_col22,#T_b8241_row9_col23,#T_b8241_row26_col25{\n",
       "            background-color:  #d9dce1;\n",
       "            color:  #000000;\n",
       "        }#T_b8241_row10_col0,#T_b8241_row12_col25{\n",
       "            background-color:  #455cce;\n",
       "            color:  #f1f1f1;\n",
       "        }#T_b8241_row10_col5{\n",
       "            background-color:  #ebd3c6;\n",
       "            color:  #000000;\n",
       "        }#T_b8241_row10_col6{\n",
       "            background-color:  #e16751;\n",
       "            color:  #000000;\n",
       "        }#T_b8241_row10_col8{\n",
       "            background-color:  #e57058;\n",
       "            color:  #000000;\n",
       "        }#T_b8241_row10_col9{\n",
       "            background-color:  #e97a5f;\n",
       "            color:  #000000;\n",
       "        }#T_b8241_row10_col20,#T_b8241_row10_col21{\n",
       "            background-color:  #f7a98b;\n",
       "            color:  #000000;\n",
       "        }#T_b8241_row10_col22,#T_b8241_row10_col23,#T_b8241_row19_col26,#T_b8241_row30_col31{\n",
       "            background-color:  #bed2f6;\n",
       "            color:  #000000;\n",
       "        }#T_b8241_row10_col25,#T_b8241_row13_col18,#T_b8241_row16_col18,#T_b8241_row19_col20,#T_b8241_row19_col21,#T_b8241_row22_col20,#T_b8241_row22_col21,#T_b8241_row23_col20,#T_b8241_row23_col21{\n",
       "            background-color:  #ead5c9;\n",
       "            color:  #000000;\n",
       "        }#T_b8241_row10_col29,#T_b8241_row12_col30,#T_b8241_row13_col8,#T_b8241_row15_col11{\n",
       "            background-color:  #9abbff;\n",
       "            color:  #000000;\n",
       "        }#T_b8241_row10_col30,#T_b8241_row11_col3,#T_b8241_row12_col2,#T_b8241_row13_col2,#T_b8241_row13_col29,#T_b8241_row15_col29,#T_b8241_row20_col29,#T_b8241_row21_col29,#T_b8241_row26_col6,#T_b8241_row29_col13{\n",
       "            background-color:  #85a8fc;\n",
       "            color:  #000000;\n",
       "        }#T_b8241_row11_col5,#T_b8241_row15_col25{\n",
       "            background-color:  #bbd1f8;\n",
       "            color:  #000000;\n",
       "        }#T_b8241_row11_col7{\n",
       "            background-color:  #dddcdc;\n",
       "            color:  #000000;\n",
       "        }#T_b8241_row11_col9{\n",
       "            background-color:  #edd2c3;\n",
       "            color:  #000000;\n",
       "        }#T_b8241_row12_col18,#T_b8241_row17_col24{\n",
       "            background-color:  #5b7ae5;\n",
       "            color:  #000000;\n",
       "        }#T_b8241_row12_col20,#T_b8241_row12_col21,#T_b8241_row19_col0,#T_b8241_row24_col7,#T_b8241_row30_col6,#T_b8241_row30_col17,#T_b8241_row31_col8,#T_b8241_row31_col17,#T_b8241_row31_col18{\n",
       "            background-color:  #6c8ff1;\n",
       "            color:  #000000;\n",
       "        }#T_b8241_row13_col11,#T_b8241_row13_col30,#T_b8241_row14_col30,#T_b8241_row16_col9,#T_b8241_row16_col10,#T_b8241_row16_col11,#T_b8241_row19_col30,#T_b8241_row22_col4,#T_b8241_row23_col4,#T_b8241_row24_col8{\n",
       "            background-color:  #92b4fe;\n",
       "            color:  #000000;\n",
       "        }#T_b8241_row13_col16,#T_b8241_row16_col13{\n",
       "            background-color:  #c0282f;\n",
       "            color:  #f1f1f1;\n",
       "        }#T_b8241_row13_col19{\n",
       "            background-color:  #799cf8;\n",
       "            color:  #000000;\n",
       "        }#T_b8241_row13_col22,#T_b8241_row13_col23,#T_b8241_row14_col27,#T_b8241_row25_col11,#T_b8241_row26_col27{\n",
       "            background-color:  #c5d6f2;\n",
       "            color:  #000000;\n",
       "        }#T_b8241_row13_col24,#T_b8241_row15_col0,#T_b8241_row27_col0,#T_b8241_row28_col24{\n",
       "            background-color:  #506bda;\n",
       "            color:  #000000;\n",
       "        }#T_b8241_row13_col26{\n",
       "            background-color:  #f18d6f;\n",
       "            color:  #000000;\n",
       "        }#T_b8241_row13_col27,#T_b8241_row16_col27{\n",
       "            background-color:  #c4d5f3;\n",
       "            color:  #000000;\n",
       "        }#T_b8241_row14_col15,#T_b8241_row15_col14,#T_b8241_row20_col17,#T_b8241_row21_col17{\n",
       "            background-color:  #c53334;\n",
       "            color:  #f1f1f1;\n",
       "        }#T_b8241_row14_col16,#T_b8241_row17_col20,#T_b8241_row17_col21{\n",
       "            background-color:  #c43032;\n",
       "            color:  #f1f1f1;\n",
       "        }#T_b8241_row14_col17,#T_b8241_row14_col20,#T_b8241_row14_col21,#T_b8241_row22_col9,#T_b8241_row22_col14,#T_b8241_row23_col9,#T_b8241_row23_col14,#T_b8241_row25_col13,#T_b8241_row25_col14{\n",
       "            background-color:  #e7d7ce;\n",
       "            color:  #000000;\n",
       "        }#T_b8241_row14_col18{\n",
       "            background-color:  #e8d6cc;\n",
       "            color:  #000000;\n",
       "        }#T_b8241_row14_col25,#T_b8241_row19_col6,#T_b8241_row26_col17,#T_b8241_row28_col29{\n",
       "            background-color:  #cbd8ee;\n",
       "            color:  #000000;\n",
       "        }#T_b8241_row14_col26,#T_b8241_row26_col13{\n",
       "            background-color:  #ee8468;\n",
       "            color:  #000000;\n",
       "        }#T_b8241_row15_col2,#T_b8241_row24_col26,#T_b8241_row29_col6{\n",
       "            background-color:  #88abfd;\n",
       "            color:  #000000;\n",
       "        }#T_b8241_row15_col4,#T_b8241_row31_col4{\n",
       "            background-color:  #4961d2;\n",
       "            color:  #f1f1f1;\n",
       "        }#T_b8241_row15_col19,#T_b8241_row16_col19,#T_b8241_row24_col0,#T_b8241_row24_col25,#T_b8241_row25_col3,#T_b8241_row26_col11,#T_b8241_row27_col6,#T_b8241_row30_col8{\n",
       "            background-color:  #6f92f3;\n",
       "            color:  #000000;\n",
       "        }#T_b8241_row15_col20,#T_b8241_row15_col21{\n",
       "            background-color:  #f3c7b1;\n",
       "            color:  #000000;\n",
       "        }#T_b8241_row15_col26,#T_b8241_row17_col14,#T_b8241_row17_col19,#T_b8241_row18_col19,#T_b8241_row20_col13,#T_b8241_row21_col13{\n",
       "            background-color:  #f2cbb7;\n",
       "            color:  #000000;\n",
       "        }#T_b8241_row16_col5,#T_b8241_row27_col9,#T_b8241_row29_col26{\n",
       "            background-color:  #6788ee;\n",
       "            color:  #000000;\n",
       "        }#T_b8241_row16_col14{\n",
       "            background-color:  #c32e31;\n",
       "            color:  #f1f1f1;\n",
       "        }#T_b8241_row16_col20,#T_b8241_row16_col21,#T_b8241_row17_col16,#T_b8241_row18_col14,#T_b8241_row18_col15,#T_b8241_row18_col16{\n",
       "            background-color:  #f2cab5;\n",
       "            color:  #000000;\n",
       "        }#T_b8241_row17_col0,#T_b8241_row31_col19{\n",
       "            background-color:  #4358cb;\n",
       "            color:  #f1f1f1;\n",
       "        }#T_b8241_row17_col6{\n",
       "            background-color:  #f49a7b;\n",
       "            color:  #000000;\n",
       "        }#T_b8241_row17_col7{\n",
       "            background-color:  #c9d7f0;\n",
       "            color:  #000000;\n",
       "        }#T_b8241_row17_col10,#T_b8241_row20_col10,#T_b8241_row21_col10{\n",
       "            background-color:  #f7ad90;\n",
       "            color:  #000000;\n",
       "        }#T_b8241_row17_col11{\n",
       "            background-color:  #f1ccb8;\n",
       "            color:  #000000;\n",
       "        }#T_b8241_row17_col18,#T_b8241_row18_col17{\n",
       "            background-color:  #b50927;\n",
       "            color:  #f1f1f1;\n",
       "        }#T_b8241_row17_col25{\n",
       "            background-color:  #d55042;\n",
       "            color:  #000000;\n",
       "        }#T_b8241_row17_col26,#T_b8241_row22_col10,#T_b8241_row23_col10{\n",
       "            background-color:  #cedaeb;\n",
       "            color:  #000000;\n",
       "        }#T_b8241_row18_col3,#T_b8241_row22_col5,#T_b8241_row22_col12,#T_b8241_row23_col5,#T_b8241_row23_col12,#T_b8241_row27_col18,#T_b8241_row30_col0{\n",
       "            background-color:  #7ea1fa;\n",
       "            color:  #000000;\n",
       "        }#T_b8241_row18_col5{\n",
       "            background-color:  #c1d4f4;\n",
       "            color:  #000000;\n",
       "        }#T_b8241_row18_col6,#T_b8241_row20_col25,#T_b8241_row21_col25{\n",
       "            background-color:  #f5a081;\n",
       "            color:  #000000;\n",
       "        }#T_b8241_row18_col8{\n",
       "            background-color:  #f59c7d;\n",
       "            color:  #000000;\n",
       "        }#T_b8241_row18_col9,#T_b8241_row20_col9,#T_b8241_row21_col9,#T_b8241_row25_col20,#T_b8241_row25_col21{\n",
       "            background-color:  #f39778;\n",
       "            color:  #000000;\n",
       "        }#T_b8241_row18_col20,#T_b8241_row18_col21,#T_b8241_row20_col18,#T_b8241_row21_col18{\n",
       "            background-color:  #ca3b37;\n",
       "            color:  #f1f1f1;\n",
       "        }#T_b8241_row18_col22,#T_b8241_row18_col23{\n",
       "            background-color:  #f7b194;\n",
       "            color:  #000000;\n",
       "        }#T_b8241_row18_col25{\n",
       "            background-color:  #d44e41;\n",
       "            color:  #000000;\n",
       "        }#T_b8241_row18_col27,#T_b8241_row28_col27{\n",
       "            background-color:  #b9d0f9;\n",
       "            color:  #000000;\n",
       "        }#T_b8241_row19_col5,#T_b8241_row24_col2,#T_b8241_row27_col12,#T_b8241_row29_col5,#T_b8241_row30_col3{\n",
       "            background-color:  #7b9ff9;\n",
       "            color:  #000000;\n",
       "        }#T_b8241_row19_col9,#T_b8241_row20_col5,#T_b8241_row21_col5{\n",
       "            background-color:  #d7dce3;\n",
       "            color:  #000000;\n",
       "        }#T_b8241_row19_col17{\n",
       "            background-color:  #f7bca1;\n",
       "            color:  #000000;\n",
       "        }#T_b8241_row19_col18{\n",
       "            background-color:  #f6bda2;\n",
       "            color:  #000000;\n",
       "        }#T_b8241_row19_col25{\n",
       "            background-color:  #ef886b;\n",
       "            color:  #000000;\n",
       "        }#T_b8241_row20_col7,#T_b8241_row21_col7{\n",
       "            background-color:  #d8dce2;\n",
       "            color:  #000000;\n",
       "        }#T_b8241_row20_col11,#T_b8241_row21_col11,#T_b8241_row26_col15{\n",
       "            background-color:  #f5c2aa;\n",
       "            color:  #000000;\n",
       "        }#T_b8241_row20_col16,#T_b8241_row21_col16{\n",
       "            background-color:  #f5c0a7;\n",
       "            color:  #000000;\n",
       "        }#T_b8241_row20_col19,#T_b8241_row21_col19{\n",
       "            background-color:  #d5dbe5;\n",
       "            color:  #000000;\n",
       "        }#T_b8241_row20_col22,#T_b8241_row20_col23,#T_b8241_row21_col22,#T_b8241_row21_col23,#T_b8241_row25_col15,#T_b8241_row25_col16{\n",
       "            background-color:  #dadce0;\n",
       "            color:  #000000;\n",
       "        }#T_b8241_row20_col28,#T_b8241_row21_col28,#T_b8241_row28_col22,#T_b8241_row28_col23,#T_b8241_row31_col10,#T_b8241_row31_col22,#T_b8241_row31_col23{\n",
       "            background-color:  #5d7ce6;\n",
       "            color:  #000000;\n",
       "        }#T_b8241_row22_col6,#T_b8241_row23_col6{\n",
       "            background-color:  #e0dbd8;\n",
       "            color:  #000000;\n",
       "        }#T_b8241_row22_col8,#T_b8241_row23_col8{\n",
       "            background-color:  #e2dad5;\n",
       "            color:  #000000;\n",
       "        }#T_b8241_row22_col13,#T_b8241_row23_col13,#T_b8241_row25_col26{\n",
       "            background-color:  #e5d8d1;\n",
       "            color:  #000000;\n",
       "        }#T_b8241_row22_col16,#T_b8241_row23_col16{\n",
       "            background-color:  #d2dbe8;\n",
       "            color:  #000000;\n",
       "        }#T_b8241_row22_col18,#T_b8241_row23_col18,#T_b8241_row25_col22,#T_b8241_row25_col23{\n",
       "            background-color:  #f7a889;\n",
       "            color:  #000000;\n",
       "        }#T_b8241_row22_col24,#T_b8241_row23_col24,#T_b8241_row29_col25{\n",
       "            background-color:  #485fd1;\n",
       "            color:  #f1f1f1;\n",
       "        }#T_b8241_row22_col25,#T_b8241_row23_col25{\n",
       "            background-color:  #f6a586;\n",
       "            color:  #000000;\n",
       "        }#T_b8241_row25_col8{\n",
       "            background-color:  #f6bea4;\n",
       "            color:  #000000;\n",
       "        }#T_b8241_row25_col9{\n",
       "            background-color:  #f7b89c;\n",
       "            color:  #000000;\n",
       "        }#T_b8241_row25_col17{\n",
       "            background-color:  #d24b40;\n",
       "            color:  #f1f1f1;\n",
       "        }#T_b8241_row25_col18{\n",
       "            background-color:  #d1493f;\n",
       "            color:  #f1f1f1;\n",
       "        }#T_b8241_row25_col19{\n",
       "            background-color:  #f18f71;\n",
       "            color:  #000000;\n",
       "        }#T_b8241_row25_col28,#T_b8241_row26_col24{\n",
       "            background-color:  #5572df;\n",
       "            color:  #000000;\n",
       "        }#T_b8241_row26_col4,#T_b8241_row30_col19,#T_b8241_row31_col24{\n",
       "            background-color:  #465ecf;\n",
       "            color:  #f1f1f1;\n",
       "        }#T_b8241_row27_col2{\n",
       "            background-color:  #edd1c2;\n",
       "            color:  #000000;\n",
       "        }#T_b8241_row27_col30,#T_b8241_row28_col10,#T_b8241_row29_col7,#T_b8241_row31_col3,#T_b8241_row31_col11{\n",
       "            background-color:  #7093f3;\n",
       "            color:  #000000;\n",
       "        }#T_b8241_row28_col5{\n",
       "            background-color:  #3d50c3;\n",
       "            color:  #f1f1f1;\n",
       "        }#T_b8241_row30_col28{\n",
       "            background-color:  #c0d4f5;\n",
       "            color:  #000000;\n",
       "        }</style><table id=\"T_b8241_\" ><thead>    <tr>        <th class=\"blank level0\" ></th>        <th class=\"col_heading level0 col0\" >OSEBuildingID</th>        <th class=\"col_heading level0 col1\" >DataYear</th>        <th class=\"col_heading level0 col2\" >CouncilDistrictCode</th>        <th class=\"col_heading level0 col3\" >YearBuilt</th>        <th class=\"col_heading level0 col4\" >NumberofBuildings</th>        <th class=\"col_heading level0 col5\" >NumberofFloors</th>        <th class=\"col_heading level0 col6\" >PropertyGFATotal</th>        <th class=\"col_heading level0 col7\" >PropertyGFAParking</th>        <th class=\"col_heading level0 col8\" >PropertyGFABuilding(s)</th>        <th class=\"col_heading level0 col9\" >LargestPropertyUseTypeGFA</th>        <th class=\"col_heading level0 col10\" >SecondLargestPropertyUseTypeGFA</th>        <th class=\"col_heading level0 col11\" >ThirdLargestPropertyUseTypeGFA</th>        <th class=\"col_heading level0 col12\" >ENERGYSTARScore</th>        <th class=\"col_heading level0 col13\" >SiteEUI(kBtu/sf)</th>        <th class=\"col_heading level0 col14\" >SiteEUIWN(kBtu/sf)</th>        <th class=\"col_heading level0 col15\" >SourceEUI(kBtu/sf)</th>        <th class=\"col_heading level0 col16\" >SourceEUIWN(kBtu/sf)</th>        <th class=\"col_heading level0 col17\" >SiteEnergyUse(kBtu)</th>        <th class=\"col_heading level0 col18\" >SiteEnergyUseWN(kBtu)</th>        <th class=\"col_heading level0 col19\" >SteamUse(kBtu)</th>        <th class=\"col_heading level0 col20\" >Electricity(kWh)</th>        <th class=\"col_heading level0 col21\" >Electricity(kBtu)</th>        <th class=\"col_heading level0 col22\" >NaturalGas(therms)</th>        <th class=\"col_heading level0 col23\" >NaturalGas(kBtu)</th>        <th class=\"col_heading level0 col24\" >OtherFuelUse(kBtu)</th>        <th class=\"col_heading level0 col25\" >GHGEmissions(MetricTonsCO2e)</th>        <th class=\"col_heading level0 col26\" >GHGEmissionsIntensity(kgCO2e/ft2)</th>        <th class=\"col_heading level0 col27\" >2010 Census Tracts</th>        <th class=\"col_heading level0 col28\" >Seattle Police Department Micro Community Policing Plan Areas</th>        <th class=\"col_heading level0 col29\" >City Council Districts</th>        <th class=\"col_heading level0 col30\" >SPD Beats</th>        <th class=\"col_heading level0 col31\" >Zip Codes</th>    </tr></thead><tbody>\n",
       "                <tr>\n",
       "                        <th id=\"T_b8241_level0_row0\" class=\"row_heading level0 row0\" >OSEBuildingID</th>\n",
       "                        <td id=\"T_b8241_row0_col0\" class=\"data row0 col0\" >1.000000</td>\n",
       "                        <td id=\"T_b8241_row0_col1\" class=\"data row0 col1\" >nan</td>\n",
       "                        <td id=\"T_b8241_row0_col2\" class=\"data row0 col2\" >-0.092519</td>\n",
       "                        <td id=\"T_b8241_row0_col3\" class=\"data row0 col3\" >0.134578</td>\n",
       "                        <td id=\"T_b8241_row0_col4\" class=\"data row0 col4\" >-0.000676</td>\n",
       "                        <td id=\"T_b8241_row0_col5\" class=\"data row0 col5\" >-0.113519</td>\n",
       "                        <td id=\"T_b8241_row0_col6\" class=\"data row0 col6\" >-0.268611</td>\n",
       "                        <td id=\"T_b8241_row0_col7\" class=\"data row0 col7\" >-0.179414</td>\n",
       "                        <td id=\"T_b8241_row0_col8\" class=\"data row0 col8\" >-0.261334</td>\n",
       "                        <td id=\"T_b8241_row0_col9\" class=\"data row0 col9\" >-0.252482</td>\n",
       "                        <td id=\"T_b8241_row0_col10\" class=\"data row0 col10\" >-0.223600</td>\n",
       "                        <td id=\"T_b8241_row0_col11\" class=\"data row0 col11\" >-0.180031</td>\n",
       "                        <td id=\"T_b8241_row0_col12\" class=\"data row0 col12\" >0.074262</td>\n",
       "                        <td id=\"T_b8241_row0_col13\" class=\"data row0 col13\" >-0.148349</td>\n",
       "                        <td id=\"T_b8241_row0_col14\" class=\"data row0 col14\" >-0.135939</td>\n",
       "                        <td id=\"T_b8241_row0_col15\" class=\"data row0 col15\" >-0.175447</td>\n",
       "                        <td id=\"T_b8241_row0_col16\" class=\"data row0 col16\" >-0.164757</td>\n",
       "                        <td id=\"T_b8241_row0_col17\" class=\"data row0 col17\" >-0.233614</td>\n",
       "                        <td id=\"T_b8241_row0_col18\" class=\"data row0 col18\" >-0.227312</td>\n",
       "                        <td id=\"T_b8241_row0_col19\" class=\"data row0 col19\" >-0.068027</td>\n",
       "                        <td id=\"T_b8241_row0_col20\" class=\"data row0 col20\" >-0.267634</td>\n",
       "                        <td id=\"T_b8241_row0_col21\" class=\"data row0 col21\" >-0.267634</td>\n",
       "                        <td id=\"T_b8241_row0_col22\" class=\"data row0 col22\" >-0.094450</td>\n",
       "                        <td id=\"T_b8241_row0_col23\" class=\"data row0 col23\" >-0.094450</td>\n",
       "                        <td id=\"T_b8241_row0_col24\" class=\"data row0 col24\" >-0.059625</td>\n",
       "                        <td id=\"T_b8241_row0_col25\" class=\"data row0 col25\" >-0.142120</td>\n",
       "                        <td id=\"T_b8241_row0_col26\" class=\"data row0 col26\" >-0.039979</td>\n",
       "                        <td id=\"T_b8241_row0_col27\" class=\"data row0 col27\" >-0.176414</td>\n",
       "                        <td id=\"T_b8241_row0_col28\" class=\"data row0 col28\" >-0.033749</td>\n",
       "                        <td id=\"T_b8241_row0_col29\" class=\"data row0 col29\" >0.124239</td>\n",
       "                        <td id=\"T_b8241_row0_col30\" class=\"data row0 col30\" >-0.005494</td>\n",
       "                        <td id=\"T_b8241_row0_col31\" class=\"data row0 col31\" >0.051580</td>\n",
       "            </tr>\n",
       "            <tr>\n",
       "                        <th id=\"T_b8241_level0_row1\" class=\"row_heading level0 row1\" >DataYear</th>\n",
       "                        <td id=\"T_b8241_row1_col0\" class=\"data row1 col0\" >nan</td>\n",
       "                        <td id=\"T_b8241_row1_col1\" class=\"data row1 col1\" >nan</td>\n",
       "                        <td id=\"T_b8241_row1_col2\" class=\"data row1 col2\" >nan</td>\n",
       "                        <td id=\"T_b8241_row1_col3\" class=\"data row1 col3\" >nan</td>\n",
       "                        <td id=\"T_b8241_row1_col4\" class=\"data row1 col4\" >nan</td>\n",
       "                        <td id=\"T_b8241_row1_col5\" class=\"data row1 col5\" >nan</td>\n",
       "                        <td id=\"T_b8241_row1_col6\" class=\"data row1 col6\" >nan</td>\n",
       "                        <td id=\"T_b8241_row1_col7\" class=\"data row1 col7\" >nan</td>\n",
       "                        <td id=\"T_b8241_row1_col8\" class=\"data row1 col8\" >nan</td>\n",
       "                        <td id=\"T_b8241_row1_col9\" class=\"data row1 col9\" >nan</td>\n",
       "                        <td id=\"T_b8241_row1_col10\" class=\"data row1 col10\" >nan</td>\n",
       "                        <td id=\"T_b8241_row1_col11\" class=\"data row1 col11\" >nan</td>\n",
       "                        <td id=\"T_b8241_row1_col12\" class=\"data row1 col12\" >nan</td>\n",
       "                        <td id=\"T_b8241_row1_col13\" class=\"data row1 col13\" >nan</td>\n",
       "                        <td id=\"T_b8241_row1_col14\" class=\"data row1 col14\" >nan</td>\n",
       "                        <td id=\"T_b8241_row1_col15\" class=\"data row1 col15\" >nan</td>\n",
       "                        <td id=\"T_b8241_row1_col16\" class=\"data row1 col16\" >nan</td>\n",
       "                        <td id=\"T_b8241_row1_col17\" class=\"data row1 col17\" >nan</td>\n",
       "                        <td id=\"T_b8241_row1_col18\" class=\"data row1 col18\" >nan</td>\n",
       "                        <td id=\"T_b8241_row1_col19\" class=\"data row1 col19\" >nan</td>\n",
       "                        <td id=\"T_b8241_row1_col20\" class=\"data row1 col20\" >nan</td>\n",
       "                        <td id=\"T_b8241_row1_col21\" class=\"data row1 col21\" >nan</td>\n",
       "                        <td id=\"T_b8241_row1_col22\" class=\"data row1 col22\" >nan</td>\n",
       "                        <td id=\"T_b8241_row1_col23\" class=\"data row1 col23\" >nan</td>\n",
       "                        <td id=\"T_b8241_row1_col24\" class=\"data row1 col24\" >nan</td>\n",
       "                        <td id=\"T_b8241_row1_col25\" class=\"data row1 col25\" >nan</td>\n",
       "                        <td id=\"T_b8241_row1_col26\" class=\"data row1 col26\" >nan</td>\n",
       "                        <td id=\"T_b8241_row1_col27\" class=\"data row1 col27\" >nan</td>\n",
       "                        <td id=\"T_b8241_row1_col28\" class=\"data row1 col28\" >nan</td>\n",
       "                        <td id=\"T_b8241_row1_col29\" class=\"data row1 col29\" >nan</td>\n",
       "                        <td id=\"T_b8241_row1_col30\" class=\"data row1 col30\" >nan</td>\n",
       "                        <td id=\"T_b8241_row1_col31\" class=\"data row1 col31\" >nan</td>\n",
       "            </tr>\n",
       "            <tr>\n",
       "                        <th id=\"T_b8241_level0_row2\" class=\"row_heading level0 row2\" >CouncilDistrictCode</th>\n",
       "                        <td id=\"T_b8241_row2_col0\" class=\"data row2 col0\" >-0.092519</td>\n",
       "                        <td id=\"T_b8241_row2_col1\" class=\"data row2 col1\" >nan</td>\n",
       "                        <td id=\"T_b8241_row2_col2\" class=\"data row2 col2\" >1.000000</td>\n",
       "                        <td id=\"T_b8241_row2_col3\" class=\"data row2 col3\" >-0.023185</td>\n",
       "                        <td id=\"T_b8241_row2_col4\" class=\"data row2 col4\" >-0.025065</td>\n",
       "                        <td id=\"T_b8241_row2_col5\" class=\"data row2 col5\" >0.243339</td>\n",
       "                        <td id=\"T_b8241_row2_col6\" class=\"data row2 col6\" >0.143526</td>\n",
       "                        <td id=\"T_b8241_row2_col7\" class=\"data row2 col7\" >0.152531</td>\n",
       "                        <td id=\"T_b8241_row2_col8\" class=\"data row2 col8\" >0.124161</td>\n",
       "                        <td id=\"T_b8241_row2_col9\" class=\"data row2 col9\" >0.116951</td>\n",
       "                        <td id=\"T_b8241_row2_col10\" class=\"data row2 col10\" >0.156437</td>\n",
       "                        <td id=\"T_b8241_row2_col11\" class=\"data row2 col11\" >0.062676</td>\n",
       "                        <td id=\"T_b8241_row2_col12\" class=\"data row2 col12\" >0.066326</td>\n",
       "                        <td id=\"T_b8241_row2_col13\" class=\"data row2 col13\" >0.066411</td>\n",
       "                        <td id=\"T_b8241_row2_col14\" class=\"data row2 col14\" >0.059433</td>\n",
       "                        <td id=\"T_b8241_row2_col15\" class=\"data row2 col15\" >0.078232</td>\n",
       "                        <td id=\"T_b8241_row2_col16\" class=\"data row2 col16\" >0.075340</td>\n",
       "                        <td id=\"T_b8241_row2_col17\" class=\"data row2 col17\" >0.084376</td>\n",
       "                        <td id=\"T_b8241_row2_col18\" class=\"data row2 col18\" >0.082095</td>\n",
       "                        <td id=\"T_b8241_row2_col19\" class=\"data row2 col19\" >0.013071</td>\n",
       "                        <td id=\"T_b8241_row2_col20\" class=\"data row2 col20\" >0.102873</td>\n",
       "                        <td id=\"T_b8241_row2_col21\" class=\"data row2 col21\" >0.102873</td>\n",
       "                        <td id=\"T_b8241_row2_col22\" class=\"data row2 col22\" >0.029263</td>\n",
       "                        <td id=\"T_b8241_row2_col23\" class=\"data row2 col23\" >0.029263</td>\n",
       "                        <td id=\"T_b8241_row2_col24\" class=\"data row2 col24\" >0.036443</td>\n",
       "                        <td id=\"T_b8241_row2_col25\" class=\"data row2 col25\" >0.042012</td>\n",
       "                        <td id=\"T_b8241_row2_col26\" class=\"data row2 col26\" >0.017191</td>\n",
       "                        <td id=\"T_b8241_row2_col27\" class=\"data row2 col27\" >0.485333</td>\n",
       "                        <td id=\"T_b8241_row2_col28\" class=\"data row2 col28\" >0.087212</td>\n",
       "                        <td id=\"T_b8241_row2_col29\" class=\"data row2 col29\" >-0.207675</td>\n",
       "                        <td id=\"T_b8241_row2_col30\" class=\"data row2 col30\" >-0.185280</td>\n",
       "                        <td id=\"T_b8241_row2_col31\" class=\"data row2 col31\" >-0.062987</td>\n",
       "            </tr>\n",
       "            <tr>\n",
       "                        <th id=\"T_b8241_level0_row3\" class=\"row_heading level0 row3\" >YearBuilt</th>\n",
       "                        <td id=\"T_b8241_row3_col0\" class=\"data row3 col0\" >0.134578</td>\n",
       "                        <td id=\"T_b8241_row3_col1\" class=\"data row3 col1\" >nan</td>\n",
       "                        <td id=\"T_b8241_row3_col2\" class=\"data row3 col2\" >-0.023185</td>\n",
       "                        <td id=\"T_b8241_row3_col3\" class=\"data row3 col3\" >1.000000</td>\n",
       "                        <td id=\"T_b8241_row3_col4\" class=\"data row3 col4\" >-0.004222</td>\n",
       "                        <td id=\"T_b8241_row3_col5\" class=\"data row3 col5\" >0.142683</td>\n",
       "                        <td id=\"T_b8241_row3_col6\" class=\"data row3 col6\" >0.181080</td>\n",
       "                        <td id=\"T_b8241_row3_col7\" class=\"data row3 col7\" >0.248852</td>\n",
       "                        <td id=\"T_b8241_row3_col8\" class=\"data row3 col8\" >0.141241</td>\n",
       "                        <td id=\"T_b8241_row3_col9\" class=\"data row3 col9\" >0.159239</td>\n",
       "                        <td id=\"T_b8241_row3_col10\" class=\"data row3 col10\" >0.197615</td>\n",
       "                        <td id=\"T_b8241_row3_col11\" class=\"data row3 col11\" >0.103654</td>\n",
       "                        <td id=\"T_b8241_row3_col12\" class=\"data row3 col12\" >0.011589</td>\n",
       "                        <td id=\"T_b8241_row3_col13\" class=\"data row3 col13\" >-0.008990</td>\n",
       "                        <td id=\"T_b8241_row3_col14\" class=\"data row3 col14\" >-0.025789</td>\n",
       "                        <td id=\"T_b8241_row3_col15\" class=\"data row3 col15\" >0.057837</td>\n",
       "                        <td id=\"T_b8241_row3_col16\" class=\"data row3 col16\" >0.051472</td>\n",
       "                        <td id=\"T_b8241_row3_col17\" class=\"data row3 col17\" >0.085684</td>\n",
       "                        <td id=\"T_b8241_row3_col18\" class=\"data row3 col18\" >0.081467</td>\n",
       "                        <td id=\"T_b8241_row3_col19\" class=\"data row3 col19\" >0.001868</td>\n",
       "                        <td id=\"T_b8241_row3_col20\" class=\"data row3 col20\" >0.110454</td>\n",
       "                        <td id=\"T_b8241_row3_col21\" class=\"data row3 col21\" >0.110454</td>\n",
       "                        <td id=\"T_b8241_row3_col22\" class=\"data row3 col22\" >0.028143</td>\n",
       "                        <td id=\"T_b8241_row3_col23\" class=\"data row3 col23\" >0.028143</td>\n",
       "                        <td id=\"T_b8241_row3_col24\" class=\"data row3 col24\" >-0.022980</td>\n",
       "                        <td id=\"T_b8241_row3_col25\" class=\"data row3 col25\" >0.035245</td>\n",
       "                        <td id=\"T_b8241_row3_col26\" class=\"data row3 col26\" >-0.159084</td>\n",
       "                        <td id=\"T_b8241_row3_col27\" class=\"data row3 col27\" >-0.098275</td>\n",
       "                        <td id=\"T_b8241_row3_col28\" class=\"data row3 col28\" >0.077662</td>\n",
       "                        <td id=\"T_b8241_row3_col29\" class=\"data row3 col29\" >-0.087911</td>\n",
       "                        <td id=\"T_b8241_row3_col30\" class=\"data row3 col30\" >0.075032</td>\n",
       "                        <td id=\"T_b8241_row3_col31\" class=\"data row3 col31\" >0.037048</td>\n",
       "            </tr>\n",
       "            <tr>\n",
       "                        <th id=\"T_b8241_level0_row4\" class=\"row_heading level0 row4\" >NumberofBuildings</th>\n",
       "                        <td id=\"T_b8241_row4_col0\" class=\"data row4 col0\" >-0.000676</td>\n",
       "                        <td id=\"T_b8241_row4_col1\" class=\"data row4 col1\" >nan</td>\n",
       "                        <td id=\"T_b8241_row4_col2\" class=\"data row4 col2\" >-0.025065</td>\n",
       "                        <td id=\"T_b8241_row4_col3\" class=\"data row4 col3\" >-0.004222</td>\n",
       "                        <td id=\"T_b8241_row4_col4\" class=\"data row4 col4\" >1.000000</td>\n",
       "                        <td id=\"T_b8241_row4_col5\" class=\"data row4 col5\" >-0.017514</td>\n",
       "                        <td id=\"T_b8241_row4_col6\" class=\"data row4 col6\" >0.262966</td>\n",
       "                        <td id=\"T_b8241_row4_col7\" class=\"data row4 col7\" >0.033448</td>\n",
       "                        <td id=\"T_b8241_row4_col8\" class=\"data row4 col8\" >0.294679</td>\n",
       "                        <td id=\"T_b8241_row4_col9\" class=\"data row4 col9\" >0.260629</td>\n",
       "                        <td id=\"T_b8241_row4_col10\" class=\"data row4 col10\" >0.130486</td>\n",
       "                        <td id=\"T_b8241_row4_col11\" class=\"data row4 col11\" >-0.023896</td>\n",
       "                        <td id=\"T_b8241_row4_col12\" class=\"data row4 col12\" >-0.023697</td>\n",
       "                        <td id=\"T_b8241_row4_col13\" class=\"data row4 col13\" >0.027440</td>\n",
       "                        <td id=\"T_b8241_row4_col14\" class=\"data row4 col14\" >0.029103</td>\n",
       "                        <td id=\"T_b8241_row4_col15\" class=\"data row4 col15\" >0.026978</td>\n",
       "                        <td id=\"T_b8241_row4_col16\" class=\"data row4 col16\" >0.027914</td>\n",
       "                        <td id=\"T_b8241_row4_col17\" class=\"data row4 col17\" >0.194295</td>\n",
       "                        <td id=\"T_b8241_row4_col18\" class=\"data row4 col18\" >0.211656</td>\n",
       "                        <td id=\"T_b8241_row4_col19\" class=\"data row4 col19\" >-0.003271</td>\n",
       "                        <td id=\"T_b8241_row4_col20\" class=\"data row4 col20\" >0.167999</td>\n",
       "                        <td id=\"T_b8241_row4_col21\" class=\"data row4 col21\" >0.167999</td>\n",
       "                        <td id=\"T_b8241_row4_col22\" class=\"data row4 col22\" >0.245667</td>\n",
       "                        <td id=\"T_b8241_row4_col23\" class=\"data row4 col23\" >0.245667</td>\n",
       "                        <td id=\"T_b8241_row4_col24\" class=\"data row4 col24\" >-0.001656</td>\n",
       "                        <td id=\"T_b8241_row4_col25\" class=\"data row4 col25\" >0.165773</td>\n",
       "                        <td id=\"T_b8241_row4_col26\" class=\"data row4 col26\" >0.017461</td>\n",
       "                        <td id=\"T_b8241_row4_col27\" class=\"data row4 col27\" >nan</td>\n",
       "                        <td id=\"T_b8241_row4_col28\" class=\"data row4 col28\" >0.009453</td>\n",
       "                        <td id=\"T_b8241_row4_col29\" class=\"data row4 col29\" >nan</td>\n",
       "                        <td id=\"T_b8241_row4_col30\" class=\"data row4 col30\" >-0.008761</td>\n",
       "                        <td id=\"T_b8241_row4_col31\" class=\"data row4 col31\" >0.026347</td>\n",
       "            </tr>\n",
       "            <tr>\n",
       "                        <th id=\"T_b8241_level0_row5\" class=\"row_heading level0 row5\" >NumberofFloors</th>\n",
       "                        <td id=\"T_b8241_row5_col0\" class=\"data row5 col0\" >-0.113519</td>\n",
       "                        <td id=\"T_b8241_row5_col1\" class=\"data row5 col1\" >nan</td>\n",
       "                        <td id=\"T_b8241_row5_col2\" class=\"data row5 col2\" >0.243339</td>\n",
       "                        <td id=\"T_b8241_row5_col3\" class=\"data row5 col3\" >0.142683</td>\n",
       "                        <td id=\"T_b8241_row5_col4\" class=\"data row5 col4\" >-0.017514</td>\n",
       "                        <td id=\"T_b8241_row5_col5\" class=\"data row5 col5\" >1.000000</td>\n",
       "                        <td id=\"T_b8241_row5_col6\" class=\"data row5 col6\" >0.596612</td>\n",
       "                        <td id=\"T_b8241_row5_col7\" class=\"data row5 col7\" >0.445613</td>\n",
       "                        <td id=\"T_b8241_row5_col8\" class=\"data row5 col8\" >0.567785</td>\n",
       "                        <td id=\"T_b8241_row5_col9\" class=\"data row5 col9\" >0.579017</td>\n",
       "                        <td id=\"T_b8241_row5_col10\" class=\"data row5 col10\" >0.502411</td>\n",
       "                        <td id=\"T_b8241_row5_col11\" class=\"data row5 col11\" >0.306378</td>\n",
       "                        <td id=\"T_b8241_row5_col12\" class=\"data row5 col12\" >0.012372</td>\n",
       "                        <td id=\"T_b8241_row5_col13\" class=\"data row5 col13\" >0.015420</td>\n",
       "                        <td id=\"T_b8241_row5_col14\" class=\"data row5 col14\" >0.002801</td>\n",
       "                        <td id=\"T_b8241_row5_col15\" class=\"data row5 col15\" >0.040549</td>\n",
       "                        <td id=\"T_b8241_row5_col16\" class=\"data row5 col16\" >0.032039</td>\n",
       "                        <td id=\"T_b8241_row5_col17\" class=\"data row5 col17\" >0.343528</td>\n",
       "                        <td id=\"T_b8241_row5_col18\" class=\"data row5 col18\" >0.327366</td>\n",
       "                        <td id=\"T_b8241_row5_col19\" class=\"data row5 col19\" >0.096026</td>\n",
       "                        <td id=\"T_b8241_row5_col20\" class=\"data row5 col20\" >0.411062</td>\n",
       "                        <td id=\"T_b8241_row5_col21\" class=\"data row5 col21\" >0.411062</td>\n",
       "                        <td id=\"T_b8241_row5_col22\" class=\"data row5 col22\" >0.107321</td>\n",
       "                        <td id=\"T_b8241_row5_col23\" class=\"data row5 col23\" >0.107321</td>\n",
       "                        <td id=\"T_b8241_row5_col24\" class=\"data row5 col24\" >0.011808</td>\n",
       "                        <td id=\"T_b8241_row5_col25\" class=\"data row5 col25\" >0.191113</td>\n",
       "                        <td id=\"T_b8241_row5_col26\" class=\"data row5 col26\" >-0.033674</td>\n",
       "                        <td id=\"T_b8241_row5_col27\" class=\"data row5 col27\" >-0.050518</td>\n",
       "                        <td id=\"T_b8241_row5_col28\" class=\"data row5 col28\" >-0.118129</td>\n",
       "                        <td id=\"T_b8241_row5_col29\" class=\"data row5 col29\" >0.098660</td>\n",
       "                        <td id=\"T_b8241_row5_col30\" class=\"data row5 col30\" >-0.105375</td>\n",
       "                        <td id=\"T_b8241_row5_col31\" class=\"data row5 col31\" >-0.129517</td>\n",
       "            </tr>\n",
       "            <tr>\n",
       "                        <th id=\"T_b8241_level0_row6\" class=\"row_heading level0 row6\" >PropertyGFATotal</th>\n",
       "                        <td id=\"T_b8241_row6_col0\" class=\"data row6 col0\" >-0.268611</td>\n",
       "                        <td id=\"T_b8241_row6_col1\" class=\"data row6 col1\" >nan</td>\n",
       "                        <td id=\"T_b8241_row6_col2\" class=\"data row6 col2\" >0.143526</td>\n",
       "                        <td id=\"T_b8241_row6_col3\" class=\"data row6 col3\" >0.181080</td>\n",
       "                        <td id=\"T_b8241_row6_col4\" class=\"data row6 col4\" >0.262966</td>\n",
       "                        <td id=\"T_b8241_row6_col5\" class=\"data row6 col5\" >0.596612</td>\n",
       "                        <td id=\"T_b8241_row6_col6\" class=\"data row6 col6\" >1.000000</td>\n",
       "                        <td id=\"T_b8241_row6_col7\" class=\"data row6 col7\" >0.648706</td>\n",
       "                        <td id=\"T_b8241_row6_col8\" class=\"data row6 col8\" >0.978159</td>\n",
       "                        <td id=\"T_b8241_row6_col9\" class=\"data row6 col9\" >0.954736</td>\n",
       "                        <td id=\"T_b8241_row6_col10\" class=\"data row6 col10\" >0.822816</td>\n",
       "                        <td id=\"T_b8241_row6_col11\" class=\"data row6 col11\" >0.618700</td>\n",
       "                        <td id=\"T_b8241_row6_col12\" class=\"data row6 col12\" >0.056831</td>\n",
       "                        <td id=\"T_b8241_row6_col13\" class=\"data row6 col13\" >0.106480</td>\n",
       "                        <td id=\"T_b8241_row6_col14\" class=\"data row6 col14\" >0.087989</td>\n",
       "                        <td id=\"T_b8241_row6_col15\" class=\"data row6 col15\" >0.127974</td>\n",
       "                        <td id=\"T_b8241_row6_col16\" class=\"data row6 col16\" >0.111642</td>\n",
       "                        <td id=\"T_b8241_row6_col17\" class=\"data row6 col17\" >0.678425</td>\n",
       "                        <td id=\"T_b8241_row6_col18\" class=\"data row6 col18\" >0.662026</td>\n",
       "                        <td id=\"T_b8241_row6_col19\" class=\"data row6 col19\" >0.284826</td>\n",
       "                        <td id=\"T_b8241_row6_col20\" class=\"data row6 col20\" >0.697844</td>\n",
       "                        <td id=\"T_b8241_row6_col21\" class=\"data row6 col21\" >0.697844</td>\n",
       "                        <td id=\"T_b8241_row6_col22\" class=\"data row6 col22\" >0.381319</td>\n",
       "                        <td id=\"T_b8241_row6_col23\" class=\"data row6 col23\" >0.381319</td>\n",
       "                        <td id=\"T_b8241_row6_col24\" class=\"data row6 col24\" >0.062270</td>\n",
       "                        <td id=\"T_b8241_row6_col25\" class=\"data row6 col25\" >0.518440</td>\n",
       "                        <td id=\"T_b8241_row6_col26\" class=\"data row6 col26\" >0.022912</td>\n",
       "                        <td id=\"T_b8241_row6_col27\" class=\"data row6 col27\" >-0.060000</td>\n",
       "                        <td id=\"T_b8241_row6_col28\" class=\"data row6 col28\" >-0.025815</td>\n",
       "                        <td id=\"T_b8241_row6_col29\" class=\"data row6 col29\" >0.031495</td>\n",
       "                        <td id=\"T_b8241_row6_col30\" class=\"data row6 col30\" >-0.065763</td>\n",
       "                        <td id=\"T_b8241_row6_col31\" class=\"data row6 col31\" >-0.071756</td>\n",
       "            </tr>\n",
       "            <tr>\n",
       "                        <th id=\"T_b8241_level0_row7\" class=\"row_heading level0 row7\" >PropertyGFAParking</th>\n",
       "                        <td id=\"T_b8241_row7_col0\" class=\"data row7 col0\" >-0.179414</td>\n",
       "                        <td id=\"T_b8241_row7_col1\" class=\"data row7 col1\" >nan</td>\n",
       "                        <td id=\"T_b8241_row7_col2\" class=\"data row7 col2\" >0.152531</td>\n",
       "                        <td id=\"T_b8241_row7_col3\" class=\"data row7 col3\" >0.248852</td>\n",
       "                        <td id=\"T_b8241_row7_col4\" class=\"data row7 col4\" >0.033448</td>\n",
       "                        <td id=\"T_b8241_row7_col5\" class=\"data row7 col5\" >0.445613</td>\n",
       "                        <td id=\"T_b8241_row7_col6\" class=\"data row7 col6\" >0.648706</td>\n",
       "                        <td id=\"T_b8241_row7_col7\" class=\"data row7 col7\" >1.000000</td>\n",
       "                        <td id=\"T_b8241_row7_col8\" class=\"data row7 col8\" >0.476348</td>\n",
       "                        <td id=\"T_b8241_row7_col9\" class=\"data row7 col9\" >0.553280</td>\n",
       "                        <td id=\"T_b8241_row7_col10\" class=\"data row7 col10\" >0.551182</td>\n",
       "                        <td id=\"T_b8241_row7_col11\" class=\"data row7 col11\" >0.414223</td>\n",
       "                        <td id=\"T_b8241_row7_col12\" class=\"data row7 col12\" >0.079775</td>\n",
       "                        <td id=\"T_b8241_row7_col13\" class=\"data row7 col13\" >0.086773</td>\n",
       "                        <td id=\"T_b8241_row7_col14\" class=\"data row7 col14\" >0.072167</td>\n",
       "                        <td id=\"T_b8241_row7_col15\" class=\"data row7 col15\" >0.127134</td>\n",
       "                        <td id=\"T_b8241_row7_col16\" class=\"data row7 col16\" >0.117201</td>\n",
       "                        <td id=\"T_b8241_row7_col17\" class=\"data row7 col17\" >0.326776</td>\n",
       "                        <td id=\"T_b8241_row7_col18\" class=\"data row7 col18\" >0.315039</td>\n",
       "                        <td id=\"T_b8241_row7_col19\" class=\"data row7 col19\" >0.012191</td>\n",
       "                        <td id=\"T_b8241_row7_col20\" class=\"data row7 col20\" >0.390832</td>\n",
       "                        <td id=\"T_b8241_row7_col21\" class=\"data row7 col21\" >0.390832</td>\n",
       "                        <td id=\"T_b8241_row7_col22\" class=\"data row7 col22\" >0.165459</td>\n",
       "                        <td id=\"T_b8241_row7_col23\" class=\"data row7 col23\" >0.165459</td>\n",
       "                        <td id=\"T_b8241_row7_col24\" class=\"data row7 col24\" >0.005551</td>\n",
       "                        <td id=\"T_b8241_row7_col25\" class=\"data row7 col25\" >0.166104</td>\n",
       "                        <td id=\"T_b8241_row7_col26\" class=\"data row7 col26\" >-0.056237</td>\n",
       "                        <td id=\"T_b8241_row7_col27\" class=\"data row7 col27\" >-0.037596</td>\n",
       "                        <td id=\"T_b8241_row7_col28\" class=\"data row7 col28\" >-0.002896</td>\n",
       "                        <td id=\"T_b8241_row7_col29\" class=\"data row7 col29\" >0.020086</td>\n",
       "                        <td id=\"T_b8241_row7_col30\" class=\"data row7 col30\" >-0.086471</td>\n",
       "                        <td id=\"T_b8241_row7_col31\" class=\"data row7 col31\" >-0.070496</td>\n",
       "            </tr>\n",
       "            <tr>\n",
       "                        <th id=\"T_b8241_level0_row8\" class=\"row_heading level0 row8\" >PropertyGFABuilding(s)</th>\n",
       "                        <td id=\"T_b8241_row8_col0\" class=\"data row8 col0\" >-0.261334</td>\n",
       "                        <td id=\"T_b8241_row8_col1\" class=\"data row8 col1\" >nan</td>\n",
       "                        <td id=\"T_b8241_row8_col2\" class=\"data row8 col2\" >0.124161</td>\n",
       "                        <td id=\"T_b8241_row8_col3\" class=\"data row8 col3\" >0.141241</td>\n",
       "                        <td id=\"T_b8241_row8_col4\" class=\"data row8 col4\" >0.294679</td>\n",
       "                        <td id=\"T_b8241_row8_col5\" class=\"data row8 col5\" >0.567785</td>\n",
       "                        <td id=\"T_b8241_row8_col6\" class=\"data row8 col6\" >0.978159</td>\n",
       "                        <td id=\"T_b8241_row8_col7\" class=\"data row8 col7\" >0.476348</td>\n",
       "                        <td id=\"T_b8241_row8_col8\" class=\"data row8 col8\" >1.000000</td>\n",
       "                        <td id=\"T_b8241_row8_col9\" class=\"data row8 col9\" >0.951616</td>\n",
       "                        <td id=\"T_b8241_row8_col10\" class=\"data row8 col10\" >0.801731</td>\n",
       "                        <td id=\"T_b8241_row8_col11\" class=\"data row8 col11\" >0.612501</td>\n",
       "                        <td id=\"T_b8241_row8_col12\" class=\"data row8 col12\" >0.044616</td>\n",
       "                        <td id=\"T_b8241_row8_col13\" class=\"data row8 col13\" >0.099318</td>\n",
       "                        <td id=\"T_b8241_row8_col14\" class=\"data row8 col14\" >0.081945</td>\n",
       "                        <td id=\"T_b8241_row8_col15\" class=\"data row8 col15\" >0.113127</td>\n",
       "                        <td id=\"T_b8241_row8_col16\" class=\"data row8 col16\" >0.096971</td>\n",
       "                        <td id=\"T_b8241_row8_col17\" class=\"data row8 col17\" >0.694545</td>\n",
       "                        <td id=\"T_b8241_row8_col18\" class=\"data row8 col18\" >0.678805</td>\n",
       "                        <td id=\"T_b8241_row8_col19\" class=\"data row8 col19\" >0.325735</td>\n",
       "                        <td id=\"T_b8241_row8_col20\" class=\"data row8 col20\" >0.699484</td>\n",
       "                        <td id=\"T_b8241_row8_col21\" class=\"data row8 col21\" >0.699484</td>\n",
       "                        <td id=\"T_b8241_row8_col22\" class=\"data row8 col22\" >0.395353</td>\n",
       "                        <td id=\"T_b8241_row8_col23\" class=\"data row8 col23\" >0.395353</td>\n",
       "                        <td id=\"T_b8241_row8_col24\" class=\"data row8 col24\" >0.070426</td>\n",
       "                        <td id=\"T_b8241_row8_col25\" class=\"data row8 col25\" >0.553595</td>\n",
       "                        <td id=\"T_b8241_row8_col26\" class=\"data row8 col26\" >0.041830</td>\n",
       "                        <td id=\"T_b8241_row8_col27\" class=\"data row8 col27\" >-0.056313</td>\n",
       "                        <td id=\"T_b8241_row8_col28\" class=\"data row8 col28\" >-0.029034</td>\n",
       "                        <td id=\"T_b8241_row8_col29\" class=\"data row8 col29\" >0.029523</td>\n",
       "                        <td id=\"T_b8241_row8_col30\" class=\"data row8 col30\" >-0.052361</td>\n",
       "                        <td id=\"T_b8241_row8_col31\" class=\"data row8 col31\" >-0.063648</td>\n",
       "            </tr>\n",
       "            <tr>\n",
       "                        <th id=\"T_b8241_level0_row9\" class=\"row_heading level0 row9\" >LargestPropertyUseTypeGFA</th>\n",
       "                        <td id=\"T_b8241_row9_col0\" class=\"data row9 col0\" >-0.252482</td>\n",
       "                        <td id=\"T_b8241_row9_col1\" class=\"data row9 col1\" >nan</td>\n",
       "                        <td id=\"T_b8241_row9_col2\" class=\"data row9 col2\" >0.116951</td>\n",
       "                        <td id=\"T_b8241_row9_col3\" class=\"data row9 col3\" >0.159239</td>\n",
       "                        <td id=\"T_b8241_row9_col4\" class=\"data row9 col4\" >0.260629</td>\n",
       "                        <td id=\"T_b8241_row9_col5\" class=\"data row9 col5\" >0.579017</td>\n",
       "                        <td id=\"T_b8241_row9_col6\" class=\"data row9 col6\" >0.954736</td>\n",
       "                        <td id=\"T_b8241_row9_col7\" class=\"data row9 col7\" >0.553280</td>\n",
       "                        <td id=\"T_b8241_row9_col8\" class=\"data row9 col8\" >0.951616</td>\n",
       "                        <td id=\"T_b8241_row9_col9\" class=\"data row9 col9\" >1.000000</td>\n",
       "                        <td id=\"T_b8241_row9_col10\" class=\"data row9 col10\" >0.776318</td>\n",
       "                        <td id=\"T_b8241_row9_col11\" class=\"data row9 col11\" >0.459681</td>\n",
       "                        <td id=\"T_b8241_row9_col12\" class=\"data row9 col12\" >0.056182</td>\n",
       "                        <td id=\"T_b8241_row9_col13\" class=\"data row9 col13\" >0.084313</td>\n",
       "                        <td id=\"T_b8241_row9_col14\" class=\"data row9 col14\" >0.068482</td>\n",
       "                        <td id=\"T_b8241_row9_col15\" class=\"data row9 col15\" >0.094334</td>\n",
       "                        <td id=\"T_b8241_row9_col16\" class=\"data row9 col16\" >0.079677</td>\n",
       "                        <td id=\"T_b8241_row9_col17\" class=\"data row9 col17\" >0.705917</td>\n",
       "                        <td id=\"T_b8241_row9_col18\" class=\"data row9 col18\" >0.694755</td>\n",
       "                        <td id=\"T_b8241_row9_col19\" class=\"data row9 col19\" >0.346079</td>\n",
       "                        <td id=\"T_b8241_row9_col20\" class=\"data row9 col20\" >0.696225</td>\n",
       "                        <td id=\"T_b8241_row9_col21\" class=\"data row9 col21\" >0.696225</td>\n",
       "                        <td id=\"T_b8241_row9_col22\" class=\"data row9 col22\" >0.426108</td>\n",
       "                        <td id=\"T_b8241_row9_col23\" class=\"data row9 col23\" >0.426107</td>\n",
       "                        <td id=\"T_b8241_row9_col24\" class=\"data row9 col24\" >0.081979</td>\n",
       "                        <td id=\"T_b8241_row9_col25\" class=\"data row9 col25\" >0.583793</td>\n",
       "                        <td id=\"T_b8241_row9_col26\" class=\"data row9 col26\" >0.052804</td>\n",
       "                        <td id=\"T_b8241_row9_col27\" class=\"data row9 col27\" >-0.072255</td>\n",
       "                        <td id=\"T_b8241_row9_col28\" class=\"data row9 col28\" >-0.025979</td>\n",
       "                        <td id=\"T_b8241_row9_col29\" class=\"data row9 col29\" >-0.014297</td>\n",
       "                        <td id=\"T_b8241_row9_col30\" class=\"data row9 col30\" >-0.048277</td>\n",
       "                        <td id=\"T_b8241_row9_col31\" class=\"data row9 col31\" >-0.060120</td>\n",
       "            </tr>\n",
       "            <tr>\n",
       "                        <th id=\"T_b8241_level0_row10\" class=\"row_heading level0 row10\" >SecondLargestPropertyUseTypeGFA</th>\n",
       "                        <td id=\"T_b8241_row10_col0\" class=\"data row10 col0\" >-0.223600</td>\n",
       "                        <td id=\"T_b8241_row10_col1\" class=\"data row10 col1\" >nan</td>\n",
       "                        <td id=\"T_b8241_row10_col2\" class=\"data row10 col2\" >0.156437</td>\n",
       "                        <td id=\"T_b8241_row10_col3\" class=\"data row10 col3\" >0.197615</td>\n",
       "                        <td id=\"T_b8241_row10_col4\" class=\"data row10 col4\" >0.130486</td>\n",
       "                        <td id=\"T_b8241_row10_col5\" class=\"data row10 col5\" >0.502411</td>\n",
       "                        <td id=\"T_b8241_row10_col6\" class=\"data row10 col6\" >0.822816</td>\n",
       "                        <td id=\"T_b8241_row10_col7\" class=\"data row10 col7\" >0.551182</td>\n",
       "                        <td id=\"T_b8241_row10_col8\" class=\"data row10 col8\" >0.801731</td>\n",
       "                        <td id=\"T_b8241_row10_col9\" class=\"data row10 col9\" >0.776318</td>\n",
       "                        <td id=\"T_b8241_row10_col10\" class=\"data row10 col10\" >1.000000</td>\n",
       "                        <td id=\"T_b8241_row10_col11\" class=\"data row10 col11\" >0.579406</td>\n",
       "                        <td id=\"T_b8241_row10_col12\" class=\"data row10 col12\" >0.102266</td>\n",
       "                        <td id=\"T_b8241_row10_col13\" class=\"data row10 col13\" >0.093867</td>\n",
       "                        <td id=\"T_b8241_row10_col14\" class=\"data row10 col14\" >0.073503</td>\n",
       "                        <td id=\"T_b8241_row10_col15\" class=\"data row10 col15\" >0.119002</td>\n",
       "                        <td id=\"T_b8241_row10_col16\" class=\"data row10 col16\" >0.101342</td>\n",
       "                        <td id=\"T_b8241_row10_col17\" class=\"data row10 col17\" >0.629419</td>\n",
       "                        <td id=\"T_b8241_row10_col18\" class=\"data row10 col18\" >0.609286</td>\n",
       "                        <td id=\"T_b8241_row10_col19\" class=\"data row10 col19\" >0.319390</td>\n",
       "                        <td id=\"T_b8241_row10_col20\" class=\"data row10 col20\" >0.630251</td>\n",
       "                        <td id=\"T_b8241_row10_col21\" class=\"data row10 col21\" >0.630251</td>\n",
       "                        <td id=\"T_b8241_row10_col22\" class=\"data row10 col22\" >0.323552</td>\n",
       "                        <td id=\"T_b8241_row10_col23\" class=\"data row10 col23\" >0.323552</td>\n",
       "                        <td id=\"T_b8241_row10_col24\" class=\"data row10 col24\" >0.085115</td>\n",
       "                        <td id=\"T_b8241_row10_col25\" class=\"data row10 col25\" >0.488924</td>\n",
       "                        <td id=\"T_b8241_row10_col26\" class=\"data row10 col26\" >0.015468</td>\n",
       "                        <td id=\"T_b8241_row10_col27\" class=\"data row10 col27\" >-0.025678</td>\n",
       "                        <td id=\"T_b8241_row10_col28\" class=\"data row10 col28\" >-0.014234</td>\n",
       "                        <td id=\"T_b8241_row10_col29\" class=\"data row10 col29\" >0.008825</td>\n",
       "                        <td id=\"T_b8241_row10_col30\" class=\"data row10 col30\" >-0.074980</td>\n",
       "                        <td id=\"T_b8241_row10_col31\" class=\"data row10 col31\" >-0.089739</td>\n",
       "            </tr>\n",
       "            <tr>\n",
       "                        <th id=\"T_b8241_level0_row11\" class=\"row_heading level0 row11\" >ThirdLargestPropertyUseTypeGFA</th>\n",
       "                        <td id=\"T_b8241_row11_col0\" class=\"data row11 col0\" >-0.180031</td>\n",
       "                        <td id=\"T_b8241_row11_col1\" class=\"data row11 col1\" >nan</td>\n",
       "                        <td id=\"T_b8241_row11_col2\" class=\"data row11 col2\" >0.062676</td>\n",
       "                        <td id=\"T_b8241_row11_col3\" class=\"data row11 col3\" >0.103654</td>\n",
       "                        <td id=\"T_b8241_row11_col4\" class=\"data row11 col4\" >-0.023896</td>\n",
       "                        <td id=\"T_b8241_row11_col5\" class=\"data row11 col5\" >0.306378</td>\n",
       "                        <td id=\"T_b8241_row11_col6\" class=\"data row11 col6\" >0.618700</td>\n",
       "                        <td id=\"T_b8241_row11_col7\" class=\"data row11 col7\" >0.414223</td>\n",
       "                        <td id=\"T_b8241_row11_col8\" class=\"data row11 col8\" >0.612501</td>\n",
       "                        <td id=\"T_b8241_row11_col9\" class=\"data row11 col9\" >0.459681</td>\n",
       "                        <td id=\"T_b8241_row11_col10\" class=\"data row11 col10\" >0.579406</td>\n",
       "                        <td id=\"T_b8241_row11_col11\" class=\"data row11 col11\" >1.000000</td>\n",
       "                        <td id=\"T_b8241_row11_col12\" class=\"data row11 col12\" >0.115130</td>\n",
       "                        <td id=\"T_b8241_row11_col13\" class=\"data row11 col13\" >0.084474</td>\n",
       "                        <td id=\"T_b8241_row11_col14\" class=\"data row11 col14\" >0.055228</td>\n",
       "                        <td id=\"T_b8241_row11_col15\" class=\"data row11 col15\" >0.111912</td>\n",
       "                        <td id=\"T_b8241_row11_col16\" class=\"data row11 col16\" >0.083805</td>\n",
       "                        <td id=\"T_b8241_row11_col17\" class=\"data row11 col17\" >0.496159</td>\n",
       "                        <td id=\"T_b8241_row11_col18\" class=\"data row11 col18\" >0.399338</td>\n",
       "                        <td id=\"T_b8241_row11_col19\" class=\"data row11 col19\" >0.035553</td>\n",
       "                        <td id=\"T_b8241_row11_col20\" class=\"data row11 col20\" >0.539021</td>\n",
       "                        <td id=\"T_b8241_row11_col21\" class=\"data row11 col21\" >0.539021</td>\n",
       "                        <td id=\"T_b8241_row11_col22\" class=\"data row11 col22\" >0.198606</td>\n",
       "                        <td id=\"T_b8241_row11_col23\" class=\"data row11 col23\" >0.198606</td>\n",
       "                        <td id=\"T_b8241_row11_col24\" class=\"data row11 col24\" >-0.001786</td>\n",
       "                        <td id=\"T_b8241_row11_col25\" class=\"data row11 col25\" >0.271441</td>\n",
       "                        <td id=\"T_b8241_row11_col26\" class=\"data row11 col26\" >-0.039568</td>\n",
       "                        <td id=\"T_b8241_row11_col27\" class=\"data row11 col27\" >-0.023170</td>\n",
       "                        <td id=\"T_b8241_row11_col28\" class=\"data row11 col28\" >0.021402</td>\n",
       "                        <td id=\"T_b8241_row11_col29\" class=\"data row11 col29\" >-0.245581</td>\n",
       "                        <td id=\"T_b8241_row11_col30\" class=\"data row11 col30\" >0.041664</td>\n",
       "                        <td id=\"T_b8241_row11_col31\" class=\"data row11 col31\" >-0.032925</td>\n",
       "            </tr>\n",
       "            <tr>\n",
       "                        <th id=\"T_b8241_level0_row12\" class=\"row_heading level0 row12\" >ENERGYSTARScore</th>\n",
       "                        <td id=\"T_b8241_row12_col0\" class=\"data row12 col0\" >0.074262</td>\n",
       "                        <td id=\"T_b8241_row12_col1\" class=\"data row12 col1\" >nan</td>\n",
       "                        <td id=\"T_b8241_row12_col2\" class=\"data row12 col2\" >0.066326</td>\n",
       "                        <td id=\"T_b8241_row12_col3\" class=\"data row12 col3\" >0.011589</td>\n",
       "                        <td id=\"T_b8241_row12_col4\" class=\"data row12 col4\" >-0.023697</td>\n",
       "                        <td id=\"T_b8241_row12_col5\" class=\"data row12 col5\" >0.012372</td>\n",
       "                        <td id=\"T_b8241_row12_col6\" class=\"data row12 col6\" >0.056831</td>\n",
       "                        <td id=\"T_b8241_row12_col7\" class=\"data row12 col7\" >0.079775</td>\n",
       "                        <td id=\"T_b8241_row12_col8\" class=\"data row12 col8\" >0.044616</td>\n",
       "                        <td id=\"T_b8241_row12_col9\" class=\"data row12 col9\" >0.056182</td>\n",
       "                        <td id=\"T_b8241_row12_col10\" class=\"data row12 col10\" >0.102266</td>\n",
       "                        <td id=\"T_b8241_row12_col11\" class=\"data row12 col11\" >0.115130</td>\n",
       "                        <td id=\"T_b8241_row12_col12\" class=\"data row12 col12\" >1.000000</td>\n",
       "                        <td id=\"T_b8241_row12_col13\" class=\"data row12 col13\" >-0.394656</td>\n",
       "                        <td id=\"T_b8241_row12_col14\" class=\"data row12 col14\" >-0.403965</td>\n",
       "                        <td id=\"T_b8241_row12_col15\" class=\"data row12 col15\" >-0.375381</td>\n",
       "                        <td id=\"T_b8241_row12_col16\" class=\"data row12 col16\" >-0.386972</td>\n",
       "                        <td id=\"T_b8241_row12_col17\" class=\"data row12 col17\" >-0.090146</td>\n",
       "                        <td id=\"T_b8241_row12_col18\" class=\"data row12 col18\" >-0.096485</td>\n",
       "                        <td id=\"T_b8241_row12_col19\" class=\"data row12 col19\" >-0.041915</td>\n",
       "                        <td id=\"T_b8241_row12_col20\" class=\"data row12 col20\" >-0.064731</td>\n",
       "                        <td id=\"T_b8241_row12_col21\" class=\"data row12 col21\" >-0.064731</td>\n",
       "                        <td id=\"T_b8241_row12_col22\" class=\"data row12 col22\" >-0.113095</td>\n",
       "                        <td id=\"T_b8241_row12_col23\" class=\"data row12 col23\" >-0.113095</td>\n",
       "                        <td id=\"T_b8241_row12_col24\" class=\"data row12 col24\" >0.023561</td>\n",
       "                        <td id=\"T_b8241_row12_col25\" class=\"data row12 col25\" >-0.097862</td>\n",
       "                        <td id=\"T_b8241_row12_col26\" class=\"data row12 col26\" >-0.262729</td>\n",
       "                        <td id=\"T_b8241_row12_col27\" class=\"data row12 col27\" >-0.120499</td>\n",
       "                        <td id=\"T_b8241_row12_col28\" class=\"data row12 col28\" >0.019838</td>\n",
       "                        <td id=\"T_b8241_row12_col29\" class=\"data row12 col29\" >-0.003649</td>\n",
       "                        <td id=\"T_b8241_row12_col30\" class=\"data row12 col30\" >0.010814</td>\n",
       "                        <td id=\"T_b8241_row12_col31\" class=\"data row12 col31\" >-0.011987</td>\n",
       "            </tr>\n",
       "            <tr>\n",
       "                        <th id=\"T_b8241_level0_row13\" class=\"row_heading level0 row13\" >SiteEUI(kBtu/sf)</th>\n",
       "                        <td id=\"T_b8241_row13_col0\" class=\"data row13 col0\" >-0.148349</td>\n",
       "                        <td id=\"T_b8241_row13_col1\" class=\"data row13 col1\" >nan</td>\n",
       "                        <td id=\"T_b8241_row13_col2\" class=\"data row13 col2\" >0.066411</td>\n",
       "                        <td id=\"T_b8241_row13_col3\" class=\"data row13 col3\" >-0.008990</td>\n",
       "                        <td id=\"T_b8241_row13_col4\" class=\"data row13 col4\" >0.027440</td>\n",
       "                        <td id=\"T_b8241_row13_col5\" class=\"data row13 col5\" >0.015420</td>\n",
       "                        <td id=\"T_b8241_row13_col6\" class=\"data row13 col6\" >0.106480</td>\n",
       "                        <td id=\"T_b8241_row13_col7\" class=\"data row13 col7\" >0.086773</td>\n",
       "                        <td id=\"T_b8241_row13_col8\" class=\"data row13 col8\" >0.099318</td>\n",
       "                        <td id=\"T_b8241_row13_col9\" class=\"data row13 col9\" >0.084313</td>\n",
       "                        <td id=\"T_b8241_row13_col10\" class=\"data row13 col10\" >0.093867</td>\n",
       "                        <td id=\"T_b8241_row13_col11\" class=\"data row13 col11\" >0.084474</td>\n",
       "                        <td id=\"T_b8241_row13_col12\" class=\"data row13 col12\" >-0.394656</td>\n",
       "                        <td id=\"T_b8241_row13_col13\" class=\"data row13 col13\" >1.000000</td>\n",
       "                        <td id=\"T_b8241_row13_col14\" class=\"data row13 col14\" >0.995946</td>\n",
       "                        <td id=\"T_b8241_row13_col15\" class=\"data row13 col15\" >0.950709</td>\n",
       "                        <td id=\"T_b8241_row13_col16\" class=\"data row13 col16\" >0.953012</td>\n",
       "                        <td id=\"T_b8241_row13_col17\" class=\"data row13 col17\" >0.451255</td>\n",
       "                        <td id=\"T_b8241_row13_col18\" class=\"data row13 col18\" >0.451588</td>\n",
       "                        <td id=\"T_b8241_row13_col19\" class=\"data row13 col19\" >0.136801</td>\n",
       "                        <td id=\"T_b8241_row13_col20\" class=\"data row13 col20\" >0.440049</td>\n",
       "                        <td id=\"T_b8241_row13_col21\" class=\"data row13 col21\" >0.440049</td>\n",
       "                        <td id=\"T_b8241_row13_col22\" class=\"data row13 col22\" >0.348296</td>\n",
       "                        <td id=\"T_b8241_row13_col23\" class=\"data row13 col23\" >0.348296</td>\n",
       "                        <td id=\"T_b8241_row13_col24\" class=\"data row13 col24\" >0.016998</td>\n",
       "                        <td id=\"T_b8241_row13_col25\" class=\"data row13 col25\" >0.360583</td>\n",
       "                        <td id=\"T_b8241_row13_col26\" class=\"data row13 col26\" >0.721475</td>\n",
       "                        <td id=\"T_b8241_row13_col27\" class=\"data row13 col27\" >0.084976</td>\n",
       "                        <td id=\"T_b8241_row13_col28\" class=\"data row13 col28\" >0.014941</td>\n",
       "                        <td id=\"T_b8241_row13_col29\" class=\"data row13 col29\" >-0.075004</td>\n",
       "                        <td id=\"T_b8241_row13_col30\" class=\"data row13 col30\" >-0.020929</td>\n",
       "                        <td id=\"T_b8241_row13_col31\" class=\"data row13 col31\" >-0.024019</td>\n",
       "            </tr>\n",
       "            <tr>\n",
       "                        <th id=\"T_b8241_level0_row14\" class=\"row_heading level0 row14\" >SiteEUIWN(kBtu/sf)</th>\n",
       "                        <td id=\"T_b8241_row14_col0\" class=\"data row14 col0\" >-0.135939</td>\n",
       "                        <td id=\"T_b8241_row14_col1\" class=\"data row14 col1\" >nan</td>\n",
       "                        <td id=\"T_b8241_row14_col2\" class=\"data row14 col2\" >0.059433</td>\n",
       "                        <td id=\"T_b8241_row14_col3\" class=\"data row14 col3\" >-0.025789</td>\n",
       "                        <td id=\"T_b8241_row14_col4\" class=\"data row14 col4\" >0.029103</td>\n",
       "                        <td id=\"T_b8241_row14_col5\" class=\"data row14 col5\" >0.002801</td>\n",
       "                        <td id=\"T_b8241_row14_col6\" class=\"data row14 col6\" >0.087989</td>\n",
       "                        <td id=\"T_b8241_row14_col7\" class=\"data row14 col7\" >0.072167</td>\n",
       "                        <td id=\"T_b8241_row14_col8\" class=\"data row14 col8\" >0.081945</td>\n",
       "                        <td id=\"T_b8241_row14_col9\" class=\"data row14 col9\" >0.068482</td>\n",
       "                        <td id=\"T_b8241_row14_col10\" class=\"data row14 col10\" >0.073503</td>\n",
       "                        <td id=\"T_b8241_row14_col11\" class=\"data row14 col11\" >0.055228</td>\n",
       "                        <td id=\"T_b8241_row14_col12\" class=\"data row14 col12\" >-0.403965</td>\n",
       "                        <td id=\"T_b8241_row14_col13\" class=\"data row14 col13\" >0.995946</td>\n",
       "                        <td id=\"T_b8241_row14_col14\" class=\"data row14 col14\" >1.000000</td>\n",
       "                        <td id=\"T_b8241_row14_col15\" class=\"data row14 col15\" >0.932453</td>\n",
       "                        <td id=\"T_b8241_row14_col16\" class=\"data row14 col16\" >0.940123</td>\n",
       "                        <td id=\"T_b8241_row14_col17\" class=\"data row14 col17\" >0.435430</td>\n",
       "                        <td id=\"T_b8241_row14_col18\" class=\"data row14 col18\" >0.440636</td>\n",
       "                        <td id=\"T_b8241_row14_col19\" class=\"data row14 col19\" >0.132661</td>\n",
       "                        <td id=\"T_b8241_row14_col20\" class=\"data row14 col20\" >0.416259</td>\n",
       "                        <td id=\"T_b8241_row14_col21\" class=\"data row14 col21\" >0.416259</td>\n",
       "                        <td id=\"T_b8241_row14_col22\" class=\"data row14 col22\" >0.353826</td>\n",
       "                        <td id=\"T_b8241_row14_col23\" class=\"data row14 col23\" >0.353826</td>\n",
       "                        <td id=\"T_b8241_row14_col24\" class=\"data row14 col24\" >0.010863</td>\n",
       "                        <td id=\"T_b8241_row14_col25\" class=\"data row14 col25\" >0.357177</td>\n",
       "                        <td id=\"T_b8241_row14_col26\" class=\"data row14 col26\" >0.746222</td>\n",
       "                        <td id=\"T_b8241_row14_col27\" class=\"data row14 col27\" >0.091078</td>\n",
       "                        <td id=\"T_b8241_row14_col28\" class=\"data row14 col28\" >0.013022</td>\n",
       "                        <td id=\"T_b8241_row14_col29\" class=\"data row14 col29\" >-0.069053</td>\n",
       "                        <td id=\"T_b8241_row14_col30\" class=\"data row14 col30\" >-0.024195</td>\n",
       "                        <td id=\"T_b8241_row14_col31\" class=\"data row14 col31\" >-0.019761</td>\n",
       "            </tr>\n",
       "            <tr>\n",
       "                        <th id=\"T_b8241_level0_row15\" class=\"row_heading level0 row15\" >SourceEUI(kBtu/sf)</th>\n",
       "                        <td id=\"T_b8241_row15_col0\" class=\"data row15 col0\" >-0.175447</td>\n",
       "                        <td id=\"T_b8241_row15_col1\" class=\"data row15 col1\" >nan</td>\n",
       "                        <td id=\"T_b8241_row15_col2\" class=\"data row15 col2\" >0.078232</td>\n",
       "                        <td id=\"T_b8241_row15_col3\" class=\"data row15 col3\" >0.057837</td>\n",
       "                        <td id=\"T_b8241_row15_col4\" class=\"data row15 col4\" >0.026978</td>\n",
       "                        <td id=\"T_b8241_row15_col5\" class=\"data row15 col5\" >0.040549</td>\n",
       "                        <td id=\"T_b8241_row15_col6\" class=\"data row15 col6\" >0.127974</td>\n",
       "                        <td id=\"T_b8241_row15_col7\" class=\"data row15 col7\" >0.127134</td>\n",
       "                        <td id=\"T_b8241_row15_col8\" class=\"data row15 col8\" >0.113127</td>\n",
       "                        <td id=\"T_b8241_row15_col9\" class=\"data row15 col9\" >0.094334</td>\n",
       "                        <td id=\"T_b8241_row15_col10\" class=\"data row15 col10\" >0.119002</td>\n",
       "                        <td id=\"T_b8241_row15_col11\" class=\"data row15 col11\" >0.111912</td>\n",
       "                        <td id=\"T_b8241_row15_col12\" class=\"data row15 col12\" >-0.375381</td>\n",
       "                        <td id=\"T_b8241_row15_col13\" class=\"data row15 col13\" >0.950709</td>\n",
       "                        <td id=\"T_b8241_row15_col14\" class=\"data row15 col14\" >0.932453</td>\n",
       "                        <td id=\"T_b8241_row15_col15\" class=\"data row15 col15\" >1.000000</td>\n",
       "                        <td id=\"T_b8241_row15_col16\" class=\"data row15 col16\" >0.997424</td>\n",
       "                        <td id=\"T_b8241_row15_col17\" class=\"data row15 col17\" >0.461329</td>\n",
       "                        <td id=\"T_b8241_row15_col18\" class=\"data row15 col18\" >0.456992</td>\n",
       "                        <td id=\"T_b8241_row15_col19\" class=\"data row15 col19\" >0.110489</td>\n",
       "                        <td id=\"T_b8241_row15_col20\" class=\"data row15 col20\" >0.510110</td>\n",
       "                        <td id=\"T_b8241_row15_col21\" class=\"data row15 col21\" >0.510110</td>\n",
       "                        <td id=\"T_b8241_row15_col22\" class=\"data row15 col22\" >0.249792</td>\n",
       "                        <td id=\"T_b8241_row15_col23\" class=\"data row15 col23\" >0.249792</td>\n",
       "                        <td id=\"T_b8241_row15_col24\" class=\"data row15 col24\" >0.008629</td>\n",
       "                        <td id=\"T_b8241_row15_col25\" class=\"data row15 col25\" >0.298255</td>\n",
       "                        <td id=\"T_b8241_row15_col26\" class=\"data row15 col26\" >0.493214</td>\n",
       "                        <td id=\"T_b8241_row15_col27\" class=\"data row15 col27\" >0.082040</td>\n",
       "                        <td id=\"T_b8241_row15_col28\" class=\"data row15 col28\" >0.033785</td>\n",
       "                        <td id=\"T_b8241_row15_col29\" class=\"data row15 col29\" >-0.071933</td>\n",
       "                        <td id=\"T_b8241_row15_col30\" class=\"data row15 col30\" >-0.005588</td>\n",
       "                        <td id=\"T_b8241_row15_col31\" class=\"data row15 col31\" >-0.030497</td>\n",
       "            </tr>\n",
       "            <tr>\n",
       "                        <th id=\"T_b8241_level0_row16\" class=\"row_heading level0 row16\" >SourceEUIWN(kBtu/sf)</th>\n",
       "                        <td id=\"T_b8241_row16_col0\" class=\"data row16 col0\" >-0.164757</td>\n",
       "                        <td id=\"T_b8241_row16_col1\" class=\"data row16 col1\" >nan</td>\n",
       "                        <td id=\"T_b8241_row16_col2\" class=\"data row16 col2\" >0.075340</td>\n",
       "                        <td id=\"T_b8241_row16_col3\" class=\"data row16 col3\" >0.051472</td>\n",
       "                        <td id=\"T_b8241_row16_col4\" class=\"data row16 col4\" >0.027914</td>\n",
       "                        <td id=\"T_b8241_row16_col5\" class=\"data row16 col5\" >0.032039</td>\n",
       "                        <td id=\"T_b8241_row16_col6\" class=\"data row16 col6\" >0.111642</td>\n",
       "                        <td id=\"T_b8241_row16_col7\" class=\"data row16 col7\" >0.117201</td>\n",
       "                        <td id=\"T_b8241_row16_col8\" class=\"data row16 col8\" >0.096971</td>\n",
       "                        <td id=\"T_b8241_row16_col9\" class=\"data row16 col9\" >0.079677</td>\n",
       "                        <td id=\"T_b8241_row16_col10\" class=\"data row16 col10\" >0.101342</td>\n",
       "                        <td id=\"T_b8241_row16_col11\" class=\"data row16 col11\" >0.083805</td>\n",
       "                        <td id=\"T_b8241_row16_col12\" class=\"data row16 col12\" >-0.386972</td>\n",
       "                        <td id=\"T_b8241_row16_col13\" class=\"data row16 col13\" >0.953012</td>\n",
       "                        <td id=\"T_b8241_row16_col14\" class=\"data row16 col14\" >0.940123</td>\n",
       "                        <td id=\"T_b8241_row16_col15\" class=\"data row16 col15\" >0.997424</td>\n",
       "                        <td id=\"T_b8241_row16_col16\" class=\"data row16 col16\" >1.000000</td>\n",
       "                        <td id=\"T_b8241_row16_col17\" class=\"data row16 col17\" >0.451720</td>\n",
       "                        <td id=\"T_b8241_row16_col18\" class=\"data row16 col18\" >0.452372</td>\n",
       "                        <td id=\"T_b8241_row16_col19\" class=\"data row16 col19\" >0.107577</td>\n",
       "                        <td id=\"T_b8241_row16_col20\" class=\"data row16 col20\" >0.497223</td>\n",
       "                        <td id=\"T_b8241_row16_col21\" class=\"data row16 col21\" >0.497223</td>\n",
       "                        <td id=\"T_b8241_row16_col22\" class=\"data row16 col22\" >0.250134</td>\n",
       "                        <td id=\"T_b8241_row16_col23\" class=\"data row16 col23\" >0.250134</td>\n",
       "                        <td id=\"T_b8241_row16_col24\" class=\"data row16 col24\" >0.004244</td>\n",
       "                        <td id=\"T_b8241_row16_col25\" class=\"data row16 col25\" >0.294451</td>\n",
       "                        <td id=\"T_b8241_row16_col26\" class=\"data row16 col26\" >0.503896</td>\n",
       "                        <td id=\"T_b8241_row16_col27\" class=\"data row16 col27\" >0.083643</td>\n",
       "                        <td id=\"T_b8241_row16_col28\" class=\"data row16 col28\" >0.032358</td>\n",
       "                        <td id=\"T_b8241_row16_col29\" class=\"data row16 col29\" >-0.065342</td>\n",
       "                        <td id=\"T_b8241_row16_col30\" class=\"data row16 col30\" >-0.006298</td>\n",
       "                        <td id=\"T_b8241_row16_col31\" class=\"data row16 col31\" >-0.028262</td>\n",
       "            </tr>\n",
       "            <tr>\n",
       "                        <th id=\"T_b8241_level0_row17\" class=\"row_heading level0 row17\" >SiteEnergyUse(kBtu)</th>\n",
       "                        <td id=\"T_b8241_row17_col0\" class=\"data row17 col0\" >-0.233614</td>\n",
       "                        <td id=\"T_b8241_row17_col1\" class=\"data row17 col1\" >nan</td>\n",
       "                        <td id=\"T_b8241_row17_col2\" class=\"data row17 col2\" >0.084376</td>\n",
       "                        <td id=\"T_b8241_row17_col3\" class=\"data row17 col3\" >0.085684</td>\n",
       "                        <td id=\"T_b8241_row17_col4\" class=\"data row17 col4\" >0.194295</td>\n",
       "                        <td id=\"T_b8241_row17_col5\" class=\"data row17 col5\" >0.343528</td>\n",
       "                        <td id=\"T_b8241_row17_col6\" class=\"data row17 col6\" >0.678425</td>\n",
       "                        <td id=\"T_b8241_row17_col7\" class=\"data row17 col7\" >0.326776</td>\n",
       "                        <td id=\"T_b8241_row17_col8\" class=\"data row17 col8\" >0.694545</td>\n",
       "                        <td id=\"T_b8241_row17_col9\" class=\"data row17 col9\" >0.705917</td>\n",
       "                        <td id=\"T_b8241_row17_col10\" class=\"data row17 col10\" >0.629419</td>\n",
       "                        <td id=\"T_b8241_row17_col11\" class=\"data row17 col11\" >0.496159</td>\n",
       "                        <td id=\"T_b8241_row17_col12\" class=\"data row17 col12\" >-0.090146</td>\n",
       "                        <td id=\"T_b8241_row17_col13\" class=\"data row17 col13\" >0.451255</td>\n",
       "                        <td id=\"T_b8241_row17_col14\" class=\"data row17 col14\" >0.435430</td>\n",
       "                        <td id=\"T_b8241_row17_col15\" class=\"data row17 col15\" >0.461329</td>\n",
       "                        <td id=\"T_b8241_row17_col16\" class=\"data row17 col16\" >0.451720</td>\n",
       "                        <td id=\"T_b8241_row17_col17\" class=\"data row17 col17\" >1.000000</td>\n",
       "                        <td id=\"T_b8241_row17_col18\" class=\"data row17 col18\" >0.993719</td>\n",
       "                        <td id=\"T_b8241_row17_col19\" class=\"data row17 col19\" >0.572136</td>\n",
       "                        <td id=\"T_b8241_row17_col20\" class=\"data row17 col20\" >0.940588</td>\n",
       "                        <td id=\"T_b8241_row17_col21\" class=\"data row17 col21\" >0.940588</td>\n",
       "                        <td id=\"T_b8241_row17_col22\" class=\"data row17 col22\" >0.633420</td>\n",
       "                        <td id=\"T_b8241_row17_col23\" class=\"data row17 col23\" >0.633420</td>\n",
       "                        <td id=\"T_b8241_row17_col24\" class=\"data row17 col24\" >0.055027</td>\n",
       "                        <td id=\"T_b8241_row17_col25\" class=\"data row17 col25\" >0.890748</td>\n",
       "                        <td id=\"T_b8241_row17_col26\" class=\"data row17 col26\" >0.303211</td>\n",
       "                        <td id=\"T_b8241_row17_col27\" class=\"data row17 col27\" >0.027400</td>\n",
       "                        <td id=\"T_b8241_row17_col28\" class=\"data row17 col28\" >-0.003563</td>\n",
       "                        <td id=\"T_b8241_row17_col29\" class=\"data row17 col29\" >-0.083182</td>\n",
       "                        <td id=\"T_b8241_row17_col30\" class=\"data row17 col30\" >-0.038439</td>\n",
       "                        <td id=\"T_b8241_row17_col31\" class=\"data row17 col31\" >-0.038928</td>\n",
       "            </tr>\n",
       "            <tr>\n",
       "                        <th id=\"T_b8241_level0_row18\" class=\"row_heading level0 row18\" >SiteEnergyUseWN(kBtu)</th>\n",
       "                        <td id=\"T_b8241_row18_col0\" class=\"data row18 col0\" >-0.227312</td>\n",
       "                        <td id=\"T_b8241_row18_col1\" class=\"data row18 col1\" >nan</td>\n",
       "                        <td id=\"T_b8241_row18_col2\" class=\"data row18 col2\" >0.082095</td>\n",
       "                        <td id=\"T_b8241_row18_col3\" class=\"data row18 col3\" >0.081467</td>\n",
       "                        <td id=\"T_b8241_row18_col4\" class=\"data row18 col4\" >0.211656</td>\n",
       "                        <td id=\"T_b8241_row18_col5\" class=\"data row18 col5\" >0.327366</td>\n",
       "                        <td id=\"T_b8241_row18_col6\" class=\"data row18 col6\" >0.662026</td>\n",
       "                        <td id=\"T_b8241_row18_col7\" class=\"data row18 col7\" >0.315039</td>\n",
       "                        <td id=\"T_b8241_row18_col8\" class=\"data row18 col8\" >0.678805</td>\n",
       "                        <td id=\"T_b8241_row18_col9\" class=\"data row18 col9\" >0.694755</td>\n",
       "                        <td id=\"T_b8241_row18_col10\" class=\"data row18 col10\" >0.609286</td>\n",
       "                        <td id=\"T_b8241_row18_col11\" class=\"data row18 col11\" >0.399338</td>\n",
       "                        <td id=\"T_b8241_row18_col12\" class=\"data row18 col12\" >-0.096485</td>\n",
       "                        <td id=\"T_b8241_row18_col13\" class=\"data row18 col13\" >0.451588</td>\n",
       "                        <td id=\"T_b8241_row18_col14\" class=\"data row18 col14\" >0.440636</td>\n",
       "                        <td id=\"T_b8241_row18_col15\" class=\"data row18 col15\" >0.456992</td>\n",
       "                        <td id=\"T_b8241_row18_col16\" class=\"data row18 col16\" >0.452372</td>\n",
       "                        <td id=\"T_b8241_row18_col17\" class=\"data row18 col17\" >0.993719</td>\n",
       "                        <td id=\"T_b8241_row18_col18\" class=\"data row18 col18\" >1.000000</td>\n",
       "                        <td id=\"T_b8241_row18_col19\" class=\"data row18 col19\" >0.571233</td>\n",
       "                        <td id=\"T_b8241_row18_col20\" class=\"data row18 col20\" >0.924579</td>\n",
       "                        <td id=\"T_b8241_row18_col21\" class=\"data row18 col21\" >0.924579</td>\n",
       "                        <td id=\"T_b8241_row18_col22\" class=\"data row18 col22\" >0.649597</td>\n",
       "                        <td id=\"T_b8241_row18_col23\" class=\"data row18 col23\" >0.649597</td>\n",
       "                        <td id=\"T_b8241_row18_col24\" class=\"data row18 col24\" >0.043412</td>\n",
       "                        <td id=\"T_b8241_row18_col25\" class=\"data row18 col25\" >0.896825</td>\n",
       "                        <td id=\"T_b8241_row18_col26\" class=\"data row18 col26\" >0.312890</td>\n",
       "                        <td id=\"T_b8241_row18_col27\" class=\"data row18 col27\" >0.031272</td>\n",
       "                        <td id=\"T_b8241_row18_col28\" class=\"data row18 col28\" >-0.001473</td>\n",
       "                        <td id=\"T_b8241_row18_col29\" class=\"data row18 col29\" >-0.079444</td>\n",
       "                        <td id=\"T_b8241_row18_col30\" class=\"data row18 col30\" >-0.039628</td>\n",
       "                        <td id=\"T_b8241_row18_col31\" class=\"data row18 col31\" >-0.034910</td>\n",
       "            </tr>\n",
       "            <tr>\n",
       "                        <th id=\"T_b8241_level0_row19\" class=\"row_heading level0 row19\" >SteamUse(kBtu)</th>\n",
       "                        <td id=\"T_b8241_row19_col0\" class=\"data row19 col0\" >-0.068027</td>\n",
       "                        <td id=\"T_b8241_row19_col1\" class=\"data row19 col1\" >nan</td>\n",
       "                        <td id=\"T_b8241_row19_col2\" class=\"data row19 col2\" >0.013071</td>\n",
       "                        <td id=\"T_b8241_row19_col3\" class=\"data row19 col3\" >0.001868</td>\n",
       "                        <td id=\"T_b8241_row19_col4\" class=\"data row19 col4\" >-0.003271</td>\n",
       "                        <td id=\"T_b8241_row19_col5\" class=\"data row19 col5\" >0.096026</td>\n",
       "                        <td id=\"T_b8241_row19_col6\" class=\"data row19 col6\" >0.284826</td>\n",
       "                        <td id=\"T_b8241_row19_col7\" class=\"data row19 col7\" >0.012191</td>\n",
       "                        <td id=\"T_b8241_row19_col8\" class=\"data row19 col8\" >0.325735</td>\n",
       "                        <td id=\"T_b8241_row19_col9\" class=\"data row19 col9\" >0.346079</td>\n",
       "                        <td id=\"T_b8241_row19_col10\" class=\"data row19 col10\" >0.319390</td>\n",
       "                        <td id=\"T_b8241_row19_col11\" class=\"data row19 col11\" >0.035553</td>\n",
       "                        <td id=\"T_b8241_row19_col12\" class=\"data row19 col12\" >-0.041915</td>\n",
       "                        <td id=\"T_b8241_row19_col13\" class=\"data row19 col13\" >0.136801</td>\n",
       "                        <td id=\"T_b8241_row19_col14\" class=\"data row19 col14\" >0.132661</td>\n",
       "                        <td id=\"T_b8241_row19_col15\" class=\"data row19 col15\" >0.110489</td>\n",
       "                        <td id=\"T_b8241_row19_col16\" class=\"data row19 col16\" >0.107577</td>\n",
       "                        <td id=\"T_b8241_row19_col17\" class=\"data row19 col17\" >0.572136</td>\n",
       "                        <td id=\"T_b8241_row19_col18\" class=\"data row19 col18\" >0.571233</td>\n",
       "                        <td id=\"T_b8241_row19_col19\" class=\"data row19 col19\" >1.000000</td>\n",
       "                        <td id=\"T_b8241_row19_col20\" class=\"data row19 col20\" >0.433011</td>\n",
       "                        <td id=\"T_b8241_row19_col21\" class=\"data row19 col21\" >0.433011</td>\n",
       "                        <td id=\"T_b8241_row19_col22\" class=\"data row19 col22\" >0.056944</td>\n",
       "                        <td id=\"T_b8241_row19_col23\" class=\"data row19 col23\" >0.056944</td>\n",
       "                        <td id=\"T_b8241_row19_col24\" class=\"data row19 col24\" >0.068533</td>\n",
       "                        <td id=\"T_b8241_row19_col25\" class=\"data row19 col25\" >0.759186</td>\n",
       "                        <td id=\"T_b8241_row19_col26\" class=\"data row19 col26\" >0.231979</td>\n",
       "                        <td id=\"T_b8241_row19_col27\" class=\"data row19 col27\" >nan</td>\n",
       "                        <td id=\"T_b8241_row19_col28\" class=\"data row19 col28\" >-0.045383</td>\n",
       "                        <td id=\"T_b8241_row19_col29\" class=\"data row19 col29\" >nan</td>\n",
       "                        <td id=\"T_b8241_row19_col30\" class=\"data row19 col30\" >-0.026056</td>\n",
       "                        <td id=\"T_b8241_row19_col31\" class=\"data row19 col31\" >-0.037843</td>\n",
       "            </tr>\n",
       "            <tr>\n",
       "                        <th id=\"T_b8241_level0_row20\" class=\"row_heading level0 row20\" >Electricity(kWh)</th>\n",
       "                        <td id=\"T_b8241_row20_col0\" class=\"data row20 col0\" >-0.267634</td>\n",
       "                        <td id=\"T_b8241_row20_col1\" class=\"data row20 col1\" >nan</td>\n",
       "                        <td id=\"T_b8241_row20_col2\" class=\"data row20 col2\" >0.102873</td>\n",
       "                        <td id=\"T_b8241_row20_col3\" class=\"data row20 col3\" >0.110454</td>\n",
       "                        <td id=\"T_b8241_row20_col4\" class=\"data row20 col4\" >0.167999</td>\n",
       "                        <td id=\"T_b8241_row20_col5\" class=\"data row20 col5\" >0.411062</td>\n",
       "                        <td id=\"T_b8241_row20_col6\" class=\"data row20 col6\" >0.697844</td>\n",
       "                        <td id=\"T_b8241_row20_col7\" class=\"data row20 col7\" >0.390832</td>\n",
       "                        <td id=\"T_b8241_row20_col8\" class=\"data row20 col8\" >0.699484</td>\n",
       "                        <td id=\"T_b8241_row20_col9\" class=\"data row20 col9\" >0.696225</td>\n",
       "                        <td id=\"T_b8241_row20_col10\" class=\"data row20 col10\" >0.630251</td>\n",
       "                        <td id=\"T_b8241_row20_col11\" class=\"data row20 col11\" >0.539021</td>\n",
       "                        <td id=\"T_b8241_row20_col12\" class=\"data row20 col12\" >-0.064731</td>\n",
       "                        <td id=\"T_b8241_row20_col13\" class=\"data row20 col13\" >0.440049</td>\n",
       "                        <td id=\"T_b8241_row20_col14\" class=\"data row20 col14\" >0.416259</td>\n",
       "                        <td id=\"T_b8241_row20_col15\" class=\"data row20 col15\" >0.510110</td>\n",
       "                        <td id=\"T_b8241_row20_col16\" class=\"data row20 col16\" >0.497223</td>\n",
       "                        <td id=\"T_b8241_row20_col17\" class=\"data row20 col17\" >0.940588</td>\n",
       "                        <td id=\"T_b8241_row20_col18\" class=\"data row20 col18\" >0.924579</td>\n",
       "                        <td id=\"T_b8241_row20_col19\" class=\"data row20 col19\" >0.433011</td>\n",
       "                        <td id=\"T_b8241_row20_col20\" class=\"data row20 col20\" >1.000000</td>\n",
       "                        <td id=\"T_b8241_row20_col21\" class=\"data row20 col21\" >1.000000</td>\n",
       "                        <td id=\"T_b8241_row20_col22\" class=\"data row20 col22\" >0.430722</td>\n",
       "                        <td id=\"T_b8241_row20_col23\" class=\"data row20 col23\" >0.430722</td>\n",
       "                        <td id=\"T_b8241_row20_col24\" class=\"data row20 col24\" >0.038540</td>\n",
       "                        <td id=\"T_b8241_row20_col25\" class=\"data row20 col25\" >0.692973</td>\n",
       "                        <td id=\"T_b8241_row20_col26\" class=\"data row20 col26\" >0.164321</td>\n",
       "                        <td id=\"T_b8241_row20_col27\" class=\"data row20 col27\" >0.013054</td>\n",
       "                        <td id=\"T_b8241_row20_col28\" class=\"data row20 col28\" >0.005258</td>\n",
       "                        <td id=\"T_b8241_row20_col29\" class=\"data row20 col29\" >-0.070059</td>\n",
       "                        <td id=\"T_b8241_row20_col30\" class=\"data row20 col30\" >-0.032958</td>\n",
       "                        <td id=\"T_b8241_row20_col31\" class=\"data row20 col31\" >-0.046360</td>\n",
       "            </tr>\n",
       "            <tr>\n",
       "                        <th id=\"T_b8241_level0_row21\" class=\"row_heading level0 row21\" >Electricity(kBtu)</th>\n",
       "                        <td id=\"T_b8241_row21_col0\" class=\"data row21 col0\" >-0.267634</td>\n",
       "                        <td id=\"T_b8241_row21_col1\" class=\"data row21 col1\" >nan</td>\n",
       "                        <td id=\"T_b8241_row21_col2\" class=\"data row21 col2\" >0.102873</td>\n",
       "                        <td id=\"T_b8241_row21_col3\" class=\"data row21 col3\" >0.110454</td>\n",
       "                        <td id=\"T_b8241_row21_col4\" class=\"data row21 col4\" >0.167999</td>\n",
       "                        <td id=\"T_b8241_row21_col5\" class=\"data row21 col5\" >0.411062</td>\n",
       "                        <td id=\"T_b8241_row21_col6\" class=\"data row21 col6\" >0.697844</td>\n",
       "                        <td id=\"T_b8241_row21_col7\" class=\"data row21 col7\" >0.390832</td>\n",
       "                        <td id=\"T_b8241_row21_col8\" class=\"data row21 col8\" >0.699484</td>\n",
       "                        <td id=\"T_b8241_row21_col9\" class=\"data row21 col9\" >0.696225</td>\n",
       "                        <td id=\"T_b8241_row21_col10\" class=\"data row21 col10\" >0.630251</td>\n",
       "                        <td id=\"T_b8241_row21_col11\" class=\"data row21 col11\" >0.539021</td>\n",
       "                        <td id=\"T_b8241_row21_col12\" class=\"data row21 col12\" >-0.064731</td>\n",
       "                        <td id=\"T_b8241_row21_col13\" class=\"data row21 col13\" >0.440049</td>\n",
       "                        <td id=\"T_b8241_row21_col14\" class=\"data row21 col14\" >0.416259</td>\n",
       "                        <td id=\"T_b8241_row21_col15\" class=\"data row21 col15\" >0.510110</td>\n",
       "                        <td id=\"T_b8241_row21_col16\" class=\"data row21 col16\" >0.497223</td>\n",
       "                        <td id=\"T_b8241_row21_col17\" class=\"data row21 col17\" >0.940588</td>\n",
       "                        <td id=\"T_b8241_row21_col18\" class=\"data row21 col18\" >0.924579</td>\n",
       "                        <td id=\"T_b8241_row21_col19\" class=\"data row21 col19\" >0.433011</td>\n",
       "                        <td id=\"T_b8241_row21_col20\" class=\"data row21 col20\" >1.000000</td>\n",
       "                        <td id=\"T_b8241_row21_col21\" class=\"data row21 col21\" >1.000000</td>\n",
       "                        <td id=\"T_b8241_row21_col22\" class=\"data row21 col22\" >0.430722</td>\n",
       "                        <td id=\"T_b8241_row21_col23\" class=\"data row21 col23\" >0.430722</td>\n",
       "                        <td id=\"T_b8241_row21_col24\" class=\"data row21 col24\" >0.038540</td>\n",
       "                        <td id=\"T_b8241_row21_col25\" class=\"data row21 col25\" >0.692973</td>\n",
       "                        <td id=\"T_b8241_row21_col26\" class=\"data row21 col26\" >0.164321</td>\n",
       "                        <td id=\"T_b8241_row21_col27\" class=\"data row21 col27\" >0.013054</td>\n",
       "                        <td id=\"T_b8241_row21_col28\" class=\"data row21 col28\" >0.005258</td>\n",
       "                        <td id=\"T_b8241_row21_col29\" class=\"data row21 col29\" >-0.070059</td>\n",
       "                        <td id=\"T_b8241_row21_col30\" class=\"data row21 col30\" >-0.032958</td>\n",
       "                        <td id=\"T_b8241_row21_col31\" class=\"data row21 col31\" >-0.046360</td>\n",
       "            </tr>\n",
       "            <tr>\n",
       "                        <th id=\"T_b8241_level0_row22\" class=\"row_heading level0 row22\" >NaturalGas(therms)</th>\n",
       "                        <td id=\"T_b8241_row22_col0\" class=\"data row22 col0\" >-0.094450</td>\n",
       "                        <td id=\"T_b8241_row22_col1\" class=\"data row22 col1\" >nan</td>\n",
       "                        <td id=\"T_b8241_row22_col2\" class=\"data row22 col2\" >0.029263</td>\n",
       "                        <td id=\"T_b8241_row22_col3\" class=\"data row22 col3\" >0.028143</td>\n",
       "                        <td id=\"T_b8241_row22_col4\" class=\"data row22 col4\" >0.245667</td>\n",
       "                        <td id=\"T_b8241_row22_col5\" class=\"data row22 col5\" >0.107321</td>\n",
       "                        <td id=\"T_b8241_row22_col6\" class=\"data row22 col6\" >0.381319</td>\n",
       "                        <td id=\"T_b8241_row22_col7\" class=\"data row22 col7\" >0.165459</td>\n",
       "                        <td id=\"T_b8241_row22_col8\" class=\"data row22 col8\" >0.395353</td>\n",
       "                        <td id=\"T_b8241_row22_col9\" class=\"data row22 col9\" >0.426108</td>\n",
       "                        <td id=\"T_b8241_row22_col10\" class=\"data row22 col10\" >0.323552</td>\n",
       "                        <td id=\"T_b8241_row22_col11\" class=\"data row22 col11\" >0.198606</td>\n",
       "                        <td id=\"T_b8241_row22_col12\" class=\"data row22 col12\" >-0.113095</td>\n",
       "                        <td id=\"T_b8241_row22_col13\" class=\"data row22 col13\" >0.348296</td>\n",
       "                        <td id=\"T_b8241_row22_col14\" class=\"data row22 col14\" >0.353826</td>\n",
       "                        <td id=\"T_b8241_row22_col15\" class=\"data row22 col15\" >0.249792</td>\n",
       "                        <td id=\"T_b8241_row22_col16\" class=\"data row22 col16\" >0.250134</td>\n",
       "                        <td id=\"T_b8241_row22_col17\" class=\"data row22 col17\" >0.633420</td>\n",
       "                        <td id=\"T_b8241_row22_col18\" class=\"data row22 col18\" >0.649597</td>\n",
       "                        <td id=\"T_b8241_row22_col19\" class=\"data row22 col19\" >0.056944</td>\n",
       "                        <td id=\"T_b8241_row22_col20\" class=\"data row22 col20\" >0.430722</td>\n",
       "                        <td id=\"T_b8241_row22_col21\" class=\"data row22 col21\" >0.430722</td>\n",
       "                        <td id=\"T_b8241_row22_col22\" class=\"data row22 col22\" >1.000000</td>\n",
       "                        <td id=\"T_b8241_row22_col23\" class=\"data row22 col23\" >1.000000</td>\n",
       "                        <td id=\"T_b8241_row22_col24\" class=\"data row22 col24\" >-0.010198</td>\n",
       "                        <td id=\"T_b8241_row22_col25\" class=\"data row22 col25\" >0.679878</td>\n",
       "                        <td id=\"T_b8241_row22_col26\" class=\"data row22 col26\" >0.405740</td>\n",
       "                        <td id=\"T_b8241_row22_col27\" class=\"data row22 col27\" >0.038483</td>\n",
       "                        <td id=\"T_b8241_row22_col28\" class=\"data row22 col28\" >0.012476</td>\n",
       "                        <td id=\"T_b8241_row22_col29\" class=\"data row22 col29\" >-0.089615</td>\n",
       "                        <td id=\"T_b8241_row22_col30\" class=\"data row22 col30\" >-0.029137</td>\n",
       "                        <td id=\"T_b8241_row22_col31\" class=\"data row22 col31\" >0.009290</td>\n",
       "            </tr>\n",
       "            <tr>\n",
       "                        <th id=\"T_b8241_level0_row23\" class=\"row_heading level0 row23\" >NaturalGas(kBtu)</th>\n",
       "                        <td id=\"T_b8241_row23_col0\" class=\"data row23 col0\" >-0.094450</td>\n",
       "                        <td id=\"T_b8241_row23_col1\" class=\"data row23 col1\" >nan</td>\n",
       "                        <td id=\"T_b8241_row23_col2\" class=\"data row23 col2\" >0.029263</td>\n",
       "                        <td id=\"T_b8241_row23_col3\" class=\"data row23 col3\" >0.028143</td>\n",
       "                        <td id=\"T_b8241_row23_col4\" class=\"data row23 col4\" >0.245667</td>\n",
       "                        <td id=\"T_b8241_row23_col5\" class=\"data row23 col5\" >0.107321</td>\n",
       "                        <td id=\"T_b8241_row23_col6\" class=\"data row23 col6\" >0.381319</td>\n",
       "                        <td id=\"T_b8241_row23_col7\" class=\"data row23 col7\" >0.165459</td>\n",
       "                        <td id=\"T_b8241_row23_col8\" class=\"data row23 col8\" >0.395353</td>\n",
       "                        <td id=\"T_b8241_row23_col9\" class=\"data row23 col9\" >0.426107</td>\n",
       "                        <td id=\"T_b8241_row23_col10\" class=\"data row23 col10\" >0.323552</td>\n",
       "                        <td id=\"T_b8241_row23_col11\" class=\"data row23 col11\" >0.198606</td>\n",
       "                        <td id=\"T_b8241_row23_col12\" class=\"data row23 col12\" >-0.113095</td>\n",
       "                        <td id=\"T_b8241_row23_col13\" class=\"data row23 col13\" >0.348296</td>\n",
       "                        <td id=\"T_b8241_row23_col14\" class=\"data row23 col14\" >0.353826</td>\n",
       "                        <td id=\"T_b8241_row23_col15\" class=\"data row23 col15\" >0.249792</td>\n",
       "                        <td id=\"T_b8241_row23_col16\" class=\"data row23 col16\" >0.250134</td>\n",
       "                        <td id=\"T_b8241_row23_col17\" class=\"data row23 col17\" >0.633420</td>\n",
       "                        <td id=\"T_b8241_row23_col18\" class=\"data row23 col18\" >0.649597</td>\n",
       "                        <td id=\"T_b8241_row23_col19\" class=\"data row23 col19\" >0.056944</td>\n",
       "                        <td id=\"T_b8241_row23_col20\" class=\"data row23 col20\" >0.430722</td>\n",
       "                        <td id=\"T_b8241_row23_col21\" class=\"data row23 col21\" >0.430722</td>\n",
       "                        <td id=\"T_b8241_row23_col22\" class=\"data row23 col22\" >1.000000</td>\n",
       "                        <td id=\"T_b8241_row23_col23\" class=\"data row23 col23\" >1.000000</td>\n",
       "                        <td id=\"T_b8241_row23_col24\" class=\"data row23 col24\" >-0.010198</td>\n",
       "                        <td id=\"T_b8241_row23_col25\" class=\"data row23 col25\" >0.679878</td>\n",
       "                        <td id=\"T_b8241_row23_col26\" class=\"data row23 col26\" >0.405740</td>\n",
       "                        <td id=\"T_b8241_row23_col27\" class=\"data row23 col27\" >0.038483</td>\n",
       "                        <td id=\"T_b8241_row23_col28\" class=\"data row23 col28\" >0.012476</td>\n",
       "                        <td id=\"T_b8241_row23_col29\" class=\"data row23 col29\" >-0.089615</td>\n",
       "                        <td id=\"T_b8241_row23_col30\" class=\"data row23 col30\" >-0.029137</td>\n",
       "                        <td id=\"T_b8241_row23_col31\" class=\"data row23 col31\" >0.009290</td>\n",
       "            </tr>\n",
       "            <tr>\n",
       "                        <th id=\"T_b8241_level0_row24\" class=\"row_heading level0 row24\" >OtherFuelUse(kBtu)</th>\n",
       "                        <td id=\"T_b8241_row24_col0\" class=\"data row24 col0\" >-0.059625</td>\n",
       "                        <td id=\"T_b8241_row24_col1\" class=\"data row24 col1\" >nan</td>\n",
       "                        <td id=\"T_b8241_row24_col2\" class=\"data row24 col2\" >0.036443</td>\n",
       "                        <td id=\"T_b8241_row24_col3\" class=\"data row24 col3\" >-0.022980</td>\n",
       "                        <td id=\"T_b8241_row24_col4\" class=\"data row24 col4\" >-0.001656</td>\n",
       "                        <td id=\"T_b8241_row24_col5\" class=\"data row24 col5\" >0.011808</td>\n",
       "                        <td id=\"T_b8241_row24_col6\" class=\"data row24 col6\" >0.062270</td>\n",
       "                        <td id=\"T_b8241_row24_col7\" class=\"data row24 col7\" >0.005551</td>\n",
       "                        <td id=\"T_b8241_row24_col8\" class=\"data row24 col8\" >0.070426</td>\n",
       "                        <td id=\"T_b8241_row24_col9\" class=\"data row24 col9\" >0.081979</td>\n",
       "                        <td id=\"T_b8241_row24_col10\" class=\"data row24 col10\" >0.085115</td>\n",
       "                        <td id=\"T_b8241_row24_col11\" class=\"data row24 col11\" >-0.001786</td>\n",
       "                        <td id=\"T_b8241_row24_col12\" class=\"data row24 col12\" >0.023561</td>\n",
       "                        <td id=\"T_b8241_row24_col13\" class=\"data row24 col13\" >0.016998</td>\n",
       "                        <td id=\"T_b8241_row24_col14\" class=\"data row24 col14\" >0.010863</td>\n",
       "                        <td id=\"T_b8241_row24_col15\" class=\"data row24 col15\" >0.008629</td>\n",
       "                        <td id=\"T_b8241_row24_col16\" class=\"data row24 col16\" >0.004244</td>\n",
       "                        <td id=\"T_b8241_row24_col17\" class=\"data row24 col17\" >0.055027</td>\n",
       "                        <td id=\"T_b8241_row24_col18\" class=\"data row24 col18\" >0.043412</td>\n",
       "                        <td id=\"T_b8241_row24_col19\" class=\"data row24 col19\" >0.068533</td>\n",
       "                        <td id=\"T_b8241_row24_col20\" class=\"data row24 col20\" >0.038540</td>\n",
       "                        <td id=\"T_b8241_row24_col21\" class=\"data row24 col21\" >0.038540</td>\n",
       "                        <td id=\"T_b8241_row24_col22\" class=\"data row24 col22\" >-0.010198</td>\n",
       "                        <td id=\"T_b8241_row24_col23\" class=\"data row24 col23\" >-0.010198</td>\n",
       "                        <td id=\"T_b8241_row24_col24\" class=\"data row24 col24\" >1.000000</td>\n",
       "                        <td id=\"T_b8241_row24_col25\" class=\"data row24 col25\" >0.045391</td>\n",
       "                        <td id=\"T_b8241_row24_col26\" class=\"data row24 col26\" >0.034866</td>\n",
       "                        <td id=\"T_b8241_row24_col27\" class=\"data row24 col27\" >nan</td>\n",
       "                        <td id=\"T_b8241_row24_col28\" class=\"data row24 col28\" >0.017711</td>\n",
       "                        <td id=\"T_b8241_row24_col29\" class=\"data row24 col29\" >nan</td>\n",
       "                        <td id=\"T_b8241_row24_col30\" class=\"data row24 col30\" >0.023946</td>\n",
       "                        <td id=\"T_b8241_row24_col31\" class=\"data row24 col31\" >-0.016896</td>\n",
       "            </tr>\n",
       "            <tr>\n",
       "                        <th id=\"T_b8241_level0_row25\" class=\"row_heading level0 row25\" >GHGEmissions(MetricTonsCO2e)</th>\n",
       "                        <td id=\"T_b8241_row25_col0\" class=\"data row25 col0\" >-0.142120</td>\n",
       "                        <td id=\"T_b8241_row25_col1\" class=\"data row25 col1\" >nan</td>\n",
       "                        <td id=\"T_b8241_row25_col2\" class=\"data row25 col2\" >0.042012</td>\n",
       "                        <td id=\"T_b8241_row25_col3\" class=\"data row25 col3\" >0.035245</td>\n",
       "                        <td id=\"T_b8241_row25_col4\" class=\"data row25 col4\" >0.165773</td>\n",
       "                        <td id=\"T_b8241_row25_col5\" class=\"data row25 col5\" >0.191113</td>\n",
       "                        <td id=\"T_b8241_row25_col6\" class=\"data row25 col6\" >0.518440</td>\n",
       "                        <td id=\"T_b8241_row25_col7\" class=\"data row25 col7\" >0.166104</td>\n",
       "                        <td id=\"T_b8241_row25_col8\" class=\"data row25 col8\" >0.553595</td>\n",
       "                        <td id=\"T_b8241_row25_col9\" class=\"data row25 col9\" >0.583793</td>\n",
       "                        <td id=\"T_b8241_row25_col10\" class=\"data row25 col10\" >0.488924</td>\n",
       "                        <td id=\"T_b8241_row25_col11\" class=\"data row25 col11\" >0.271441</td>\n",
       "                        <td id=\"T_b8241_row25_col12\" class=\"data row25 col12\" >-0.097862</td>\n",
       "                        <td id=\"T_b8241_row25_col13\" class=\"data row25 col13\" >0.360583</td>\n",
       "                        <td id=\"T_b8241_row25_col14\" class=\"data row25 col14\" >0.357177</td>\n",
       "                        <td id=\"T_b8241_row25_col15\" class=\"data row25 col15\" >0.298255</td>\n",
       "                        <td id=\"T_b8241_row25_col16\" class=\"data row25 col16\" >0.294451</td>\n",
       "                        <td id=\"T_b8241_row25_col17\" class=\"data row25 col17\" >0.890748</td>\n",
       "                        <td id=\"T_b8241_row25_col18\" class=\"data row25 col18\" >0.896825</td>\n",
       "                        <td id=\"T_b8241_row25_col19\" class=\"data row25 col19\" >0.759186</td>\n",
       "                        <td id=\"T_b8241_row25_col20\" class=\"data row25 col20\" >0.692973</td>\n",
       "                        <td id=\"T_b8241_row25_col21\" class=\"data row25 col21\" >0.692973</td>\n",
       "                        <td id=\"T_b8241_row25_col22\" class=\"data row25 col22\" >0.679878</td>\n",
       "                        <td id=\"T_b8241_row25_col23\" class=\"data row25 col23\" >0.679878</td>\n",
       "                        <td id=\"T_b8241_row25_col24\" class=\"data row25 col24\" >0.045391</td>\n",
       "                        <td id=\"T_b8241_row25_col25\" class=\"data row25 col25\" >1.000000</td>\n",
       "                        <td id=\"T_b8241_row25_col26\" class=\"data row25 col26\" >0.411265</td>\n",
       "                        <td id=\"T_b8241_row25_col27\" class=\"data row25 col27\" >0.036288</td>\n",
       "                        <td id=\"T_b8241_row25_col28\" class=\"data row25 col28\" >-0.021792</td>\n",
       "                        <td id=\"T_b8241_row25_col29\" class=\"data row25 col29\" >-0.088787</td>\n",
       "                        <td id=\"T_b8241_row25_col30\" class=\"data row25 col30\" >-0.039131</td>\n",
       "                        <td id=\"T_b8241_row25_col31\" class=\"data row25 col31\" >-0.027034</td>\n",
       "            </tr>\n",
       "            <tr>\n",
       "                        <th id=\"T_b8241_level0_row26\" class=\"row_heading level0 row26\" >GHGEmissionsIntensity(kgCO2e/ft2)</th>\n",
       "                        <td id=\"T_b8241_row26_col0\" class=\"data row26 col0\" >-0.039979</td>\n",
       "                        <td id=\"T_b8241_row26_col1\" class=\"data row26 col1\" >nan</td>\n",
       "                        <td id=\"T_b8241_row26_col2\" class=\"data row26 col2\" >0.017191</td>\n",
       "                        <td id=\"T_b8241_row26_col3\" class=\"data row26 col3\" >-0.159084</td>\n",
       "                        <td id=\"T_b8241_row26_col4\" class=\"data row26 col4\" >0.017461</td>\n",
       "                        <td id=\"T_b8241_row26_col5\" class=\"data row26 col5\" >-0.033674</td>\n",
       "                        <td id=\"T_b8241_row26_col6\" class=\"data row26 col6\" >0.022912</td>\n",
       "                        <td id=\"T_b8241_row26_col7\" class=\"data row26 col7\" >-0.056237</td>\n",
       "                        <td id=\"T_b8241_row26_col8\" class=\"data row26 col8\" >0.041830</td>\n",
       "                        <td id=\"T_b8241_row26_col9\" class=\"data row26 col9\" >0.052804</td>\n",
       "                        <td id=\"T_b8241_row26_col10\" class=\"data row26 col10\" >0.015468</td>\n",
       "                        <td id=\"T_b8241_row26_col11\" class=\"data row26 col11\" >-0.039568</td>\n",
       "                        <td id=\"T_b8241_row26_col12\" class=\"data row26 col12\" >-0.262729</td>\n",
       "                        <td id=\"T_b8241_row26_col13\" class=\"data row26 col13\" >0.721475</td>\n",
       "                        <td id=\"T_b8241_row26_col14\" class=\"data row26 col14\" >0.746222</td>\n",
       "                        <td id=\"T_b8241_row26_col15\" class=\"data row26 col15\" >0.493214</td>\n",
       "                        <td id=\"T_b8241_row26_col16\" class=\"data row26 col16\" >0.503896</td>\n",
       "                        <td id=\"T_b8241_row26_col17\" class=\"data row26 col17\" >0.303211</td>\n",
       "                        <td id=\"T_b8241_row26_col18\" class=\"data row26 col18\" >0.312890</td>\n",
       "                        <td id=\"T_b8241_row26_col19\" class=\"data row26 col19\" >0.231979</td>\n",
       "                        <td id=\"T_b8241_row26_col20\" class=\"data row26 col20\" >0.164321</td>\n",
       "                        <td id=\"T_b8241_row26_col21\" class=\"data row26 col21\" >0.164321</td>\n",
       "                        <td id=\"T_b8241_row26_col22\" class=\"data row26 col22\" >0.405740</td>\n",
       "                        <td id=\"T_b8241_row26_col23\" class=\"data row26 col23\" >0.405740</td>\n",
       "                        <td id=\"T_b8241_row26_col24\" class=\"data row26 col24\" >0.034866</td>\n",
       "                        <td id=\"T_b8241_row26_col25\" class=\"data row26 col25\" >0.411265</td>\n",
       "                        <td id=\"T_b8241_row26_col26\" class=\"data row26 col26\" >1.000000</td>\n",
       "                        <td id=\"T_b8241_row26_col27\" class=\"data row26 col27\" >0.094036</td>\n",
       "                        <td id=\"T_b8241_row26_col28\" class=\"data row26 col28\" >-0.027424</td>\n",
       "                        <td id=\"T_b8241_row26_col29\" class=\"data row26 col29\" >-0.084079</td>\n",
       "                        <td id=\"T_b8241_row26_col30\" class=\"data row26 col30\" >-0.033346</td>\n",
       "                        <td id=\"T_b8241_row26_col31\" class=\"data row26 col31\" >-0.013382</td>\n",
       "            </tr>\n",
       "            <tr>\n",
       "                        <th id=\"T_b8241_level0_row27\" class=\"row_heading level0 row27\" >2010 Census Tracts</th>\n",
       "                        <td id=\"T_b8241_row27_col0\" class=\"data row27 col0\" >-0.176414</td>\n",
       "                        <td id=\"T_b8241_row27_col1\" class=\"data row27 col1\" >nan</td>\n",
       "                        <td id=\"T_b8241_row27_col2\" class=\"data row27 col2\" >0.485333</td>\n",
       "                        <td id=\"T_b8241_row27_col3\" class=\"data row27 col3\" >-0.098275</td>\n",
       "                        <td id=\"T_b8241_row27_col4\" class=\"data row27 col4\" >nan</td>\n",
       "                        <td id=\"T_b8241_row27_col5\" class=\"data row27 col5\" >-0.050518</td>\n",
       "                        <td id=\"T_b8241_row27_col6\" class=\"data row27 col6\" >-0.060000</td>\n",
       "                        <td id=\"T_b8241_row27_col7\" class=\"data row27 col7\" >-0.037596</td>\n",
       "                        <td id=\"T_b8241_row27_col8\" class=\"data row27 col8\" >-0.056313</td>\n",
       "                        <td id=\"T_b8241_row27_col9\" class=\"data row27 col9\" >-0.072255</td>\n",
       "                        <td id=\"T_b8241_row27_col10\" class=\"data row27 col10\" >-0.025678</td>\n",
       "                        <td id=\"T_b8241_row27_col11\" class=\"data row27 col11\" >-0.023170</td>\n",
       "                        <td id=\"T_b8241_row27_col12\" class=\"data row27 col12\" >-0.120499</td>\n",
       "                        <td id=\"T_b8241_row27_col13\" class=\"data row27 col13\" >0.084976</td>\n",
       "                        <td id=\"T_b8241_row27_col14\" class=\"data row27 col14\" >0.091078</td>\n",
       "                        <td id=\"T_b8241_row27_col15\" class=\"data row27 col15\" >0.082040</td>\n",
       "                        <td id=\"T_b8241_row27_col16\" class=\"data row27 col16\" >0.083643</td>\n",
       "                        <td id=\"T_b8241_row27_col17\" class=\"data row27 col17\" >0.027400</td>\n",
       "                        <td id=\"T_b8241_row27_col18\" class=\"data row27 col18\" >0.031272</td>\n",
       "                        <td id=\"T_b8241_row27_col19\" class=\"data row27 col19\" >nan</td>\n",
       "                        <td id=\"T_b8241_row27_col20\" class=\"data row27 col20\" >0.013054</td>\n",
       "                        <td id=\"T_b8241_row27_col21\" class=\"data row27 col21\" >0.013054</td>\n",
       "                        <td id=\"T_b8241_row27_col22\" class=\"data row27 col22\" >0.038483</td>\n",
       "                        <td id=\"T_b8241_row27_col23\" class=\"data row27 col23\" >0.038483</td>\n",
       "                        <td id=\"T_b8241_row27_col24\" class=\"data row27 col24\" >nan</td>\n",
       "                        <td id=\"T_b8241_row27_col25\" class=\"data row27 col25\" >0.036288</td>\n",
       "                        <td id=\"T_b8241_row27_col26\" class=\"data row27 col26\" >0.094036</td>\n",
       "                        <td id=\"T_b8241_row27_col27\" class=\"data row27 col27\" >1.000000</td>\n",
       "                        <td id=\"T_b8241_row27_col28\" class=\"data row27 col28\" >0.028419</td>\n",
       "                        <td id=\"T_b8241_row27_col29\" class=\"data row27 col29\" >-0.363842</td>\n",
       "                        <td id=\"T_b8241_row27_col30\" class=\"data row27 col30\" >-0.151231</td>\n",
       "                        <td id=\"T_b8241_row27_col31\" class=\"data row27 col31\" >-0.555679</td>\n",
       "            </tr>\n",
       "            <tr>\n",
       "                        <th id=\"T_b8241_level0_row28\" class=\"row_heading level0 row28\" >Seattle Police Department Micro Community Policing Plan Areas</th>\n",
       "                        <td id=\"T_b8241_row28_col0\" class=\"data row28 col0\" >-0.033749</td>\n",
       "                        <td id=\"T_b8241_row28_col1\" class=\"data row28 col1\" >nan</td>\n",
       "                        <td id=\"T_b8241_row28_col2\" class=\"data row28 col2\" >0.087212</td>\n",
       "                        <td id=\"T_b8241_row28_col3\" class=\"data row28 col3\" >0.077662</td>\n",
       "                        <td id=\"T_b8241_row28_col4\" class=\"data row28 col4\" >0.009453</td>\n",
       "                        <td id=\"T_b8241_row28_col5\" class=\"data row28 col5\" >-0.118129</td>\n",
       "                        <td id=\"T_b8241_row28_col6\" class=\"data row28 col6\" >-0.025815</td>\n",
       "                        <td id=\"T_b8241_row28_col7\" class=\"data row28 col7\" >-0.002896</td>\n",
       "                        <td id=\"T_b8241_row28_col8\" class=\"data row28 col8\" >-0.029034</td>\n",
       "                        <td id=\"T_b8241_row28_col9\" class=\"data row28 col9\" >-0.025979</td>\n",
       "                        <td id=\"T_b8241_row28_col10\" class=\"data row28 col10\" >-0.014234</td>\n",
       "                        <td id=\"T_b8241_row28_col11\" class=\"data row28 col11\" >0.021402</td>\n",
       "                        <td id=\"T_b8241_row28_col12\" class=\"data row28 col12\" >0.019838</td>\n",
       "                        <td id=\"T_b8241_row28_col13\" class=\"data row28 col13\" >0.014941</td>\n",
       "                        <td id=\"T_b8241_row28_col14\" class=\"data row28 col14\" >0.013022</td>\n",
       "                        <td id=\"T_b8241_row28_col15\" class=\"data row28 col15\" >0.033785</td>\n",
       "                        <td id=\"T_b8241_row28_col16\" class=\"data row28 col16\" >0.032358</td>\n",
       "                        <td id=\"T_b8241_row28_col17\" class=\"data row28 col17\" >-0.003563</td>\n",
       "                        <td id=\"T_b8241_row28_col18\" class=\"data row28 col18\" >-0.001473</td>\n",
       "                        <td id=\"T_b8241_row28_col19\" class=\"data row28 col19\" >-0.045383</td>\n",
       "                        <td id=\"T_b8241_row28_col20\" class=\"data row28 col20\" >0.005258</td>\n",
       "                        <td id=\"T_b8241_row28_col21\" class=\"data row28 col21\" >0.005258</td>\n",
       "                        <td id=\"T_b8241_row28_col22\" class=\"data row28 col22\" >0.012476</td>\n",
       "                        <td id=\"T_b8241_row28_col23\" class=\"data row28 col23\" >0.012476</td>\n",
       "                        <td id=\"T_b8241_row28_col24\" class=\"data row28 col24\" >0.017711</td>\n",
       "                        <td id=\"T_b8241_row28_col25\" class=\"data row28 col25\" >-0.021792</td>\n",
       "                        <td id=\"T_b8241_row28_col26\" class=\"data row28 col26\" >-0.027424</td>\n",
       "                        <td id=\"T_b8241_row28_col27\" class=\"data row28 col27\" >0.028419</td>\n",
       "                        <td id=\"T_b8241_row28_col28\" class=\"data row28 col28\" >1.000000</td>\n",
       "                        <td id=\"T_b8241_row28_col29\" class=\"data row28 col29\" >0.212870</td>\n",
       "                        <td id=\"T_b8241_row28_col30\" class=\"data row28 col30\" >0.331108</td>\n",
       "                        <td id=\"T_b8241_row28_col31\" class=\"data row28 col31\" >-0.025407</td>\n",
       "            </tr>\n",
       "            <tr>\n",
       "                        <th id=\"T_b8241_level0_row29\" class=\"row_heading level0 row29\" >City Council Districts</th>\n",
       "                        <td id=\"T_b8241_row29_col0\" class=\"data row29 col0\" >0.124239</td>\n",
       "                        <td id=\"T_b8241_row29_col1\" class=\"data row29 col1\" >nan</td>\n",
       "                        <td id=\"T_b8241_row29_col2\" class=\"data row29 col2\" >-0.207675</td>\n",
       "                        <td id=\"T_b8241_row29_col3\" class=\"data row29 col3\" >-0.087911</td>\n",
       "                        <td id=\"T_b8241_row29_col4\" class=\"data row29 col4\" >nan</td>\n",
       "                        <td id=\"T_b8241_row29_col5\" class=\"data row29 col5\" >0.098660</td>\n",
       "                        <td id=\"T_b8241_row29_col6\" class=\"data row29 col6\" >0.031495</td>\n",
       "                        <td id=\"T_b8241_row29_col7\" class=\"data row29 col7\" >0.020086</td>\n",
       "                        <td id=\"T_b8241_row29_col8\" class=\"data row29 col8\" >0.029523</td>\n",
       "                        <td id=\"T_b8241_row29_col9\" class=\"data row29 col9\" >-0.014297</td>\n",
       "                        <td id=\"T_b8241_row29_col10\" class=\"data row29 col10\" >0.008825</td>\n",
       "                        <td id=\"T_b8241_row29_col11\" class=\"data row29 col11\" >-0.245581</td>\n",
       "                        <td id=\"T_b8241_row29_col12\" class=\"data row29 col12\" >-0.003649</td>\n",
       "                        <td id=\"T_b8241_row29_col13\" class=\"data row29 col13\" >-0.075004</td>\n",
       "                        <td id=\"T_b8241_row29_col14\" class=\"data row29 col14\" >-0.069053</td>\n",
       "                        <td id=\"T_b8241_row29_col15\" class=\"data row29 col15\" >-0.071933</td>\n",
       "                        <td id=\"T_b8241_row29_col16\" class=\"data row29 col16\" >-0.065342</td>\n",
       "                        <td id=\"T_b8241_row29_col17\" class=\"data row29 col17\" >-0.083182</td>\n",
       "                        <td id=\"T_b8241_row29_col18\" class=\"data row29 col18\" >-0.079444</td>\n",
       "                        <td id=\"T_b8241_row29_col19\" class=\"data row29 col19\" >nan</td>\n",
       "                        <td id=\"T_b8241_row29_col20\" class=\"data row29 col20\" >-0.070059</td>\n",
       "                        <td id=\"T_b8241_row29_col21\" class=\"data row29 col21\" >-0.070059</td>\n",
       "                        <td id=\"T_b8241_row29_col22\" class=\"data row29 col22\" >-0.089615</td>\n",
       "                        <td id=\"T_b8241_row29_col23\" class=\"data row29 col23\" >-0.089615</td>\n",
       "                        <td id=\"T_b8241_row29_col24\" class=\"data row29 col24\" >nan</td>\n",
       "                        <td id=\"T_b8241_row29_col25\" class=\"data row29 col25\" >-0.088787</td>\n",
       "                        <td id=\"T_b8241_row29_col26\" class=\"data row29 col26\" >-0.084079</td>\n",
       "                        <td id=\"T_b8241_row29_col27\" class=\"data row29 col27\" >-0.363842</td>\n",
       "                        <td id=\"T_b8241_row29_col28\" class=\"data row29 col28\" >0.212870</td>\n",
       "                        <td id=\"T_b8241_row29_col29\" class=\"data row29 col29\" >1.000000</td>\n",
       "                        <td id=\"T_b8241_row29_col30\" class=\"data row29 col30\" >-0.390077</td>\n",
       "                        <td id=\"T_b8241_row29_col31\" class=\"data row29 col31\" >0.097091</td>\n",
       "            </tr>\n",
       "            <tr>\n",
       "                        <th id=\"T_b8241_level0_row30\" class=\"row_heading level0 row30\" >SPD Beats</th>\n",
       "                        <td id=\"T_b8241_row30_col0\" class=\"data row30 col0\" >-0.005494</td>\n",
       "                        <td id=\"T_b8241_row30_col1\" class=\"data row30 col1\" >nan</td>\n",
       "                        <td id=\"T_b8241_row30_col2\" class=\"data row30 col2\" >-0.185280</td>\n",
       "                        <td id=\"T_b8241_row30_col3\" class=\"data row30 col3\" >0.075032</td>\n",
       "                        <td id=\"T_b8241_row30_col4\" class=\"data row30 col4\" >-0.008761</td>\n",
       "                        <td id=\"T_b8241_row30_col5\" class=\"data row30 col5\" >-0.105375</td>\n",
       "                        <td id=\"T_b8241_row30_col6\" class=\"data row30 col6\" >-0.065763</td>\n",
       "                        <td id=\"T_b8241_row30_col7\" class=\"data row30 col7\" >-0.086471</td>\n",
       "                        <td id=\"T_b8241_row30_col8\" class=\"data row30 col8\" >-0.052361</td>\n",
       "                        <td id=\"T_b8241_row30_col9\" class=\"data row30 col9\" >-0.048277</td>\n",
       "                        <td id=\"T_b8241_row30_col10\" class=\"data row30 col10\" >-0.074980</td>\n",
       "                        <td id=\"T_b8241_row30_col11\" class=\"data row30 col11\" >0.041664</td>\n",
       "                        <td id=\"T_b8241_row30_col12\" class=\"data row30 col12\" >0.010814</td>\n",
       "                        <td id=\"T_b8241_row30_col13\" class=\"data row30 col13\" >-0.020929</td>\n",
       "                        <td id=\"T_b8241_row30_col14\" class=\"data row30 col14\" >-0.024195</td>\n",
       "                        <td id=\"T_b8241_row30_col15\" class=\"data row30 col15\" >-0.005588</td>\n",
       "                        <td id=\"T_b8241_row30_col16\" class=\"data row30 col16\" >-0.006298</td>\n",
       "                        <td id=\"T_b8241_row30_col17\" class=\"data row30 col17\" >-0.038439</td>\n",
       "                        <td id=\"T_b8241_row30_col18\" class=\"data row30 col18\" >-0.039628</td>\n",
       "                        <td id=\"T_b8241_row30_col19\" class=\"data row30 col19\" >-0.026056</td>\n",
       "                        <td id=\"T_b8241_row30_col20\" class=\"data row30 col20\" >-0.032958</td>\n",
       "                        <td id=\"T_b8241_row30_col21\" class=\"data row30 col21\" >-0.032958</td>\n",
       "                        <td id=\"T_b8241_row30_col22\" class=\"data row30 col22\" >-0.029137</td>\n",
       "                        <td id=\"T_b8241_row30_col23\" class=\"data row30 col23\" >-0.029137</td>\n",
       "                        <td id=\"T_b8241_row30_col24\" class=\"data row30 col24\" >0.023946</td>\n",
       "                        <td id=\"T_b8241_row30_col25\" class=\"data row30 col25\" >-0.039131</td>\n",
       "                        <td id=\"T_b8241_row30_col26\" class=\"data row30 col26\" >-0.033346</td>\n",
       "                        <td id=\"T_b8241_row30_col27\" class=\"data row30 col27\" >-0.151231</td>\n",
       "                        <td id=\"T_b8241_row30_col28\" class=\"data row30 col28\" >0.331108</td>\n",
       "                        <td id=\"T_b8241_row30_col29\" class=\"data row30 col29\" >-0.390077</td>\n",
       "                        <td id=\"T_b8241_row30_col30\" class=\"data row30 col30\" >1.000000</td>\n",
       "                        <td id=\"T_b8241_row30_col31\" class=\"data row30 col31\" >0.057871</td>\n",
       "            </tr>\n",
       "            <tr>\n",
       "                        <th id=\"T_b8241_level0_row31\" class=\"row_heading level0 row31\" >Zip Codes</th>\n",
       "                        <td id=\"T_b8241_row31_col0\" class=\"data row31 col0\" >0.051580</td>\n",
       "                        <td id=\"T_b8241_row31_col1\" class=\"data row31 col1\" >nan</td>\n",
       "                        <td id=\"T_b8241_row31_col2\" class=\"data row31 col2\" >-0.062987</td>\n",
       "                        <td id=\"T_b8241_row31_col3\" class=\"data row31 col3\" >0.037048</td>\n",
       "                        <td id=\"T_b8241_row31_col4\" class=\"data row31 col4\" >0.026347</td>\n",
       "                        <td id=\"T_b8241_row31_col5\" class=\"data row31 col5\" >-0.129517</td>\n",
       "                        <td id=\"T_b8241_row31_col6\" class=\"data row31 col6\" >-0.071756</td>\n",
       "                        <td id=\"T_b8241_row31_col7\" class=\"data row31 col7\" >-0.070496</td>\n",
       "                        <td id=\"T_b8241_row31_col8\" class=\"data row31 col8\" >-0.063648</td>\n",
       "                        <td id=\"T_b8241_row31_col9\" class=\"data row31 col9\" >-0.060120</td>\n",
       "                        <td id=\"T_b8241_row31_col10\" class=\"data row31 col10\" >-0.089739</td>\n",
       "                        <td id=\"T_b8241_row31_col11\" class=\"data row31 col11\" >-0.032925</td>\n",
       "                        <td id=\"T_b8241_row31_col12\" class=\"data row31 col12\" >-0.011987</td>\n",
       "                        <td id=\"T_b8241_row31_col13\" class=\"data row31 col13\" >-0.024019</td>\n",
       "                        <td id=\"T_b8241_row31_col14\" class=\"data row31 col14\" >-0.019761</td>\n",
       "                        <td id=\"T_b8241_row31_col15\" class=\"data row31 col15\" >-0.030497</td>\n",
       "                        <td id=\"T_b8241_row31_col16\" class=\"data row31 col16\" >-0.028262</td>\n",
       "                        <td id=\"T_b8241_row31_col17\" class=\"data row31 col17\" >-0.038928</td>\n",
       "                        <td id=\"T_b8241_row31_col18\" class=\"data row31 col18\" >-0.034910</td>\n",
       "                        <td id=\"T_b8241_row31_col19\" class=\"data row31 col19\" >-0.037843</td>\n",
       "                        <td id=\"T_b8241_row31_col20\" class=\"data row31 col20\" >-0.046360</td>\n",
       "                        <td id=\"T_b8241_row31_col21\" class=\"data row31 col21\" >-0.046360</td>\n",
       "                        <td id=\"T_b8241_row31_col22\" class=\"data row31 col22\" >0.009290</td>\n",
       "                        <td id=\"T_b8241_row31_col23\" class=\"data row31 col23\" >0.009290</td>\n",
       "                        <td id=\"T_b8241_row31_col24\" class=\"data row31 col24\" >-0.016896</td>\n",
       "                        <td id=\"T_b8241_row31_col25\" class=\"data row31 col25\" >-0.027034</td>\n",
       "                        <td id=\"T_b8241_row31_col26\" class=\"data row31 col26\" >-0.013382</td>\n",
       "                        <td id=\"T_b8241_row31_col27\" class=\"data row31 col27\" >-0.555679</td>\n",
       "                        <td id=\"T_b8241_row31_col28\" class=\"data row31 col28\" >-0.025407</td>\n",
       "                        <td id=\"T_b8241_row31_col29\" class=\"data row31 col29\" >0.097091</td>\n",
       "                        <td id=\"T_b8241_row31_col30\" class=\"data row31 col30\" >0.057871</td>\n",
       "                        <td id=\"T_b8241_row31_col31\" class=\"data row31 col31\" >1.000000</td>\n",
       "            </tr>\n",
       "    </tbody></table>"
      ],
      "text/plain": [
       "<pandas.io.formats.style.Styler at 0x2a823989850>"
      ]
     },
     "execution_count": 33,
     "metadata": {},
     "output_type": "execute_result"
    }
   ],
   "source": [
    "correlation_matric_2015.style.background_gradient(cmap='coolwarm')"
   ]
  },
  {
   "cell_type": "code",
   "execution_count": 34,
   "id": "684e4053-78e9-4e58-8f39-434569e44396",
   "metadata": {},
   "outputs": [],
   "source": [
    "def good_or_bad_correlation(correlation_matrix,dataframe_correlate):\n",
    "    correlation_columns = []\n",
    "    for num,column in enumerate(correlation_matrix.columns):\n",
    "        for row1 in correlation_matrix.columns[num+1:]:\n",
    "            comptnan = 0\n",
    "            comptvalues  = 0\n",
    "            if correlation_matrix[column][row1] >= 0.99:\n",
    "                print(\"-------------------------------------------------------------------------------\")\n",
    "                if ((dataframe_correlate[column].notna()) & (dataframe_correlate[row1].notna())).sum() > 25:\n",
    "                    display(dataframe_correlate[((dataframe_correlate[column].notna()) & (dataframe_correlate[row1].notna()))][[column,row1]].head(5))\n",
    "                    display(dataframe_correlate[((dataframe_correlate[column].isna()) & (dataframe_correlate[row1].notna()))][[column,row1]].head(5))\n",
    "                    display(dataframe_correlate[((dataframe_correlate[column].notna()) & (dataframe_correlate[row1].isna()))][[column,row1]].head(5))\n",
    "                    correlation_columns += [[column,row1]]\n",
    "                else:\n",
    "                    print(\"Fausse correlation de 1 pour \",column,\" and \",row1) \n",
    "    return(correlation_columns)"
   ]
  },
  {
   "cell_type": "code",
   "execution_count": 35,
   "id": "69191c40-1ef9-4aee-9464-734381ad2b0a",
   "metadata": {},
   "outputs": [
    {
     "name": "stdout",
     "output_type": "stream",
     "text": [
      "-------------------------------------------------------------------------------\n"
     ]
    },
    {
     "data": {
      "text/html": [
       "<div>\n",
       "<style scoped>\n",
       "    .dataframe tbody tr th:only-of-type {\n",
       "        vertical-align: middle;\n",
       "    }\n",
       "\n",
       "    .dataframe tbody tr th {\n",
       "        vertical-align: top;\n",
       "    }\n",
       "\n",
       "    .dataframe thead th {\n",
       "        text-align: right;\n",
       "    }\n",
       "</style>\n",
       "<table border=\"1\" class=\"dataframe\">\n",
       "  <thead>\n",
       "    <tr style=\"text-align: right;\">\n",
       "      <th></th>\n",
       "      <th>SiteEUI(kBtu/sf)</th>\n",
       "      <th>SiteEUIWN(kBtu/sf)</th>\n",
       "    </tr>\n",
       "  </thead>\n",
       "  <tbody>\n",
       "    <tr>\n",
       "      <th>0</th>\n",
       "      <td>78.9</td>\n",
       "      <td>80.3</td>\n",
       "    </tr>\n",
       "    <tr>\n",
       "      <th>1</th>\n",
       "      <td>94.4</td>\n",
       "      <td>99.0</td>\n",
       "    </tr>\n",
       "    <tr>\n",
       "      <th>2</th>\n",
       "      <td>96.6</td>\n",
       "      <td>99.7</td>\n",
       "    </tr>\n",
       "    <tr>\n",
       "      <th>3</th>\n",
       "      <td>460.4</td>\n",
       "      <td>462.5</td>\n",
       "    </tr>\n",
       "    <tr>\n",
       "      <th>4</th>\n",
       "      <td>120.1</td>\n",
       "      <td>122.1</td>\n",
       "    </tr>\n",
       "  </tbody>\n",
       "</table>\n",
       "</div>"
      ],
      "text/plain": [
       "   SiteEUI(kBtu/sf)  SiteEUIWN(kBtu/sf)\n",
       "0              78.9                80.3\n",
       "1              94.4                99.0\n",
       "2              96.6                99.7\n",
       "3             460.4               462.5\n",
       "4             120.1               122.1"
      ]
     },
     "metadata": {},
     "output_type": "display_data"
    },
    {
     "data": {
      "text/html": [
       "<div>\n",
       "<style scoped>\n",
       "    .dataframe tbody tr th:only-of-type {\n",
       "        vertical-align: middle;\n",
       "    }\n",
       "\n",
       "    .dataframe tbody tr th {\n",
       "        vertical-align: top;\n",
       "    }\n",
       "\n",
       "    .dataframe thead th {\n",
       "        text-align: right;\n",
       "    }\n",
       "</style>\n",
       "<table border=\"1\" class=\"dataframe\">\n",
       "  <thead>\n",
       "    <tr style=\"text-align: right;\">\n",
       "      <th></th>\n",
       "      <th>SiteEUI(kBtu/sf)</th>\n",
       "      <th>SiteEUIWN(kBtu/sf)</th>\n",
       "    </tr>\n",
       "  </thead>\n",
       "  <tbody>\n",
       "  </tbody>\n",
       "</table>\n",
       "</div>"
      ],
      "text/plain": [
       "Empty DataFrame\n",
       "Columns: [SiteEUI(kBtu/sf), SiteEUIWN(kBtu/sf)]\n",
       "Index: []"
      ]
     },
     "metadata": {},
     "output_type": "display_data"
    },
    {
     "data": {
      "text/html": [
       "<div>\n",
       "<style scoped>\n",
       "    .dataframe tbody tr th:only-of-type {\n",
       "        vertical-align: middle;\n",
       "    }\n",
       "\n",
       "    .dataframe tbody tr th {\n",
       "        vertical-align: top;\n",
       "    }\n",
       "\n",
       "    .dataframe thead th {\n",
       "        text-align: right;\n",
       "    }\n",
       "</style>\n",
       "<table border=\"1\" class=\"dataframe\">\n",
       "  <thead>\n",
       "    <tr style=\"text-align: right;\">\n",
       "      <th></th>\n",
       "      <th>SiteEUI(kBtu/sf)</th>\n",
       "      <th>SiteEUIWN(kBtu/sf)</th>\n",
       "    </tr>\n",
       "  </thead>\n",
       "  <tbody>\n",
       "  </tbody>\n",
       "</table>\n",
       "</div>"
      ],
      "text/plain": [
       "Empty DataFrame\n",
       "Columns: [SiteEUI(kBtu/sf), SiteEUIWN(kBtu/sf)]\n",
       "Index: []"
      ]
     },
     "metadata": {},
     "output_type": "display_data"
    },
    {
     "name": "stdout",
     "output_type": "stream",
     "text": [
      "-------------------------------------------------------------------------------\n"
     ]
    },
    {
     "data": {
      "text/html": [
       "<div>\n",
       "<style scoped>\n",
       "    .dataframe tbody tr th:only-of-type {\n",
       "        vertical-align: middle;\n",
       "    }\n",
       "\n",
       "    .dataframe tbody tr th {\n",
       "        vertical-align: top;\n",
       "    }\n",
       "\n",
       "    .dataframe thead th {\n",
       "        text-align: right;\n",
       "    }\n",
       "</style>\n",
       "<table border=\"1\" class=\"dataframe\">\n",
       "  <thead>\n",
       "    <tr style=\"text-align: right;\">\n",
       "      <th></th>\n",
       "      <th>SourceEUI(kBtu/sf)</th>\n",
       "      <th>SourceEUIWN(kBtu/sf)</th>\n",
       "    </tr>\n",
       "  </thead>\n",
       "  <tbody>\n",
       "    <tr>\n",
       "      <th>0</th>\n",
       "      <td>173.5</td>\n",
       "      <td>175.1</td>\n",
       "    </tr>\n",
       "    <tr>\n",
       "      <th>1</th>\n",
       "      <td>191.3</td>\n",
       "      <td>195.2</td>\n",
       "    </tr>\n",
       "    <tr>\n",
       "      <th>2</th>\n",
       "      <td>242.7</td>\n",
       "      <td>246.5</td>\n",
       "    </tr>\n",
       "    <tr>\n",
       "      <th>3</th>\n",
       "      <td>636.3</td>\n",
       "      <td>643.2</td>\n",
       "    </tr>\n",
       "    <tr>\n",
       "      <th>4</th>\n",
       "      <td>228.8</td>\n",
       "      <td>227.1</td>\n",
       "    </tr>\n",
       "  </tbody>\n",
       "</table>\n",
       "</div>"
      ],
      "text/plain": [
       "   SourceEUI(kBtu/sf)  SourceEUIWN(kBtu/sf)\n",
       "0               173.5                 175.1\n",
       "1               191.3                 195.2\n",
       "2               242.7                 246.5\n",
       "3               636.3                 643.2\n",
       "4               228.8                 227.1"
      ]
     },
     "metadata": {},
     "output_type": "display_data"
    },
    {
     "data": {
      "text/html": [
       "<div>\n",
       "<style scoped>\n",
       "    .dataframe tbody tr th:only-of-type {\n",
       "        vertical-align: middle;\n",
       "    }\n",
       "\n",
       "    .dataframe tbody tr th {\n",
       "        vertical-align: top;\n",
       "    }\n",
       "\n",
       "    .dataframe thead th {\n",
       "        text-align: right;\n",
       "    }\n",
       "</style>\n",
       "<table border=\"1\" class=\"dataframe\">\n",
       "  <thead>\n",
       "    <tr style=\"text-align: right;\">\n",
       "      <th></th>\n",
       "      <th>SourceEUI(kBtu/sf)</th>\n",
       "      <th>SourceEUIWN(kBtu/sf)</th>\n",
       "    </tr>\n",
       "  </thead>\n",
       "  <tbody>\n",
       "  </tbody>\n",
       "</table>\n",
       "</div>"
      ],
      "text/plain": [
       "Empty DataFrame\n",
       "Columns: [SourceEUI(kBtu/sf), SourceEUIWN(kBtu/sf)]\n",
       "Index: []"
      ]
     },
     "metadata": {},
     "output_type": "display_data"
    },
    {
     "data": {
      "text/html": [
       "<div>\n",
       "<style scoped>\n",
       "    .dataframe tbody tr th:only-of-type {\n",
       "        vertical-align: middle;\n",
       "    }\n",
       "\n",
       "    .dataframe tbody tr th {\n",
       "        vertical-align: top;\n",
       "    }\n",
       "\n",
       "    .dataframe thead th {\n",
       "        text-align: right;\n",
       "    }\n",
       "</style>\n",
       "<table border=\"1\" class=\"dataframe\">\n",
       "  <thead>\n",
       "    <tr style=\"text-align: right;\">\n",
       "      <th></th>\n",
       "      <th>SourceEUI(kBtu/sf)</th>\n",
       "      <th>SourceEUIWN(kBtu/sf)</th>\n",
       "    </tr>\n",
       "  </thead>\n",
       "  <tbody>\n",
       "  </tbody>\n",
       "</table>\n",
       "</div>"
      ],
      "text/plain": [
       "Empty DataFrame\n",
       "Columns: [SourceEUI(kBtu/sf), SourceEUIWN(kBtu/sf)]\n",
       "Index: []"
      ]
     },
     "metadata": {},
     "output_type": "display_data"
    },
    {
     "name": "stdout",
     "output_type": "stream",
     "text": [
      "-------------------------------------------------------------------------------\n"
     ]
    },
    {
     "data": {
      "text/html": [
       "<div>\n",
       "<style scoped>\n",
       "    .dataframe tbody tr th:only-of-type {\n",
       "        vertical-align: middle;\n",
       "    }\n",
       "\n",
       "    .dataframe tbody tr th {\n",
       "        vertical-align: top;\n",
       "    }\n",
       "\n",
       "    .dataframe thead th {\n",
       "        text-align: right;\n",
       "    }\n",
       "</style>\n",
       "<table border=\"1\" class=\"dataframe\">\n",
       "  <thead>\n",
       "    <tr style=\"text-align: right;\">\n",
       "      <th></th>\n",
       "      <th>SiteEnergyUse(kBtu)</th>\n",
       "      <th>SiteEnergyUseWN(kBtu)</th>\n",
       "    </tr>\n",
       "  </thead>\n",
       "  <tbody>\n",
       "    <tr>\n",
       "      <th>0</th>\n",
       "      <td>6981428.0</td>\n",
       "      <td>7097539.0</td>\n",
       "    </tr>\n",
       "    <tr>\n",
       "      <th>1</th>\n",
       "      <td>8354235.0</td>\n",
       "      <td>8765788.0</td>\n",
       "    </tr>\n",
       "    <tr>\n",
       "      <th>2</th>\n",
       "      <td>73130656.0</td>\n",
       "      <td>75506272.0</td>\n",
       "    </tr>\n",
       "    <tr>\n",
       "      <th>3</th>\n",
       "      <td>28229320.0</td>\n",
       "      <td>28363444.0</td>\n",
       "    </tr>\n",
       "    <tr>\n",
       "      <th>4</th>\n",
       "      <td>14829099.0</td>\n",
       "      <td>15078243.0</td>\n",
       "    </tr>\n",
       "  </tbody>\n",
       "</table>\n",
       "</div>"
      ],
      "text/plain": [
       "   SiteEnergyUse(kBtu)  SiteEnergyUseWN(kBtu)\n",
       "0            6981428.0              7097539.0\n",
       "1            8354235.0              8765788.0\n",
       "2           73130656.0             75506272.0\n",
       "3           28229320.0             28363444.0\n",
       "4           14829099.0             15078243.0"
      ]
     },
     "metadata": {},
     "output_type": "display_data"
    },
    {
     "data": {
      "text/html": [
       "<div>\n",
       "<style scoped>\n",
       "    .dataframe tbody tr th:only-of-type {\n",
       "        vertical-align: middle;\n",
       "    }\n",
       "\n",
       "    .dataframe tbody tr th {\n",
       "        vertical-align: top;\n",
       "    }\n",
       "\n",
       "    .dataframe thead th {\n",
       "        text-align: right;\n",
       "    }\n",
       "</style>\n",
       "<table border=\"1\" class=\"dataframe\">\n",
       "  <thead>\n",
       "    <tr style=\"text-align: right;\">\n",
       "      <th></th>\n",
       "      <th>SiteEnergyUse(kBtu)</th>\n",
       "      <th>SiteEnergyUseWN(kBtu)</th>\n",
       "    </tr>\n",
       "  </thead>\n",
       "  <tbody>\n",
       "  </tbody>\n",
       "</table>\n",
       "</div>"
      ],
      "text/plain": [
       "Empty DataFrame\n",
       "Columns: [SiteEnergyUse(kBtu), SiteEnergyUseWN(kBtu)]\n",
       "Index: []"
      ]
     },
     "metadata": {},
     "output_type": "display_data"
    },
    {
     "data": {
      "text/html": [
       "<div>\n",
       "<style scoped>\n",
       "    .dataframe tbody tr th:only-of-type {\n",
       "        vertical-align: middle;\n",
       "    }\n",
       "\n",
       "    .dataframe tbody tr th {\n",
       "        vertical-align: top;\n",
       "    }\n",
       "\n",
       "    .dataframe thead th {\n",
       "        text-align: right;\n",
       "    }\n",
       "</style>\n",
       "<table border=\"1\" class=\"dataframe\">\n",
       "  <thead>\n",
       "    <tr style=\"text-align: right;\">\n",
       "      <th></th>\n",
       "      <th>SiteEnergyUse(kBtu)</th>\n",
       "      <th>SiteEnergyUseWN(kBtu)</th>\n",
       "    </tr>\n",
       "  </thead>\n",
       "  <tbody>\n",
       "  </tbody>\n",
       "</table>\n",
       "</div>"
      ],
      "text/plain": [
       "Empty DataFrame\n",
       "Columns: [SiteEnergyUse(kBtu), SiteEnergyUseWN(kBtu)]\n",
       "Index: []"
      ]
     },
     "metadata": {},
     "output_type": "display_data"
    },
    {
     "name": "stdout",
     "output_type": "stream",
     "text": [
      "-------------------------------------------------------------------------------\n"
     ]
    },
    {
     "data": {
      "text/html": [
       "<div>\n",
       "<style scoped>\n",
       "    .dataframe tbody tr th:only-of-type {\n",
       "        vertical-align: middle;\n",
       "    }\n",
       "\n",
       "    .dataframe tbody tr th {\n",
       "        vertical-align: top;\n",
       "    }\n",
       "\n",
       "    .dataframe thead th {\n",
       "        text-align: right;\n",
       "    }\n",
       "</style>\n",
       "<table border=\"1\" class=\"dataframe\">\n",
       "  <thead>\n",
       "    <tr style=\"text-align: right;\">\n",
       "      <th></th>\n",
       "      <th>Electricity(kWh)</th>\n",
       "      <th>Electricity(kBtu)</th>\n",
       "    </tr>\n",
       "  </thead>\n",
       "  <tbody>\n",
       "    <tr>\n",
       "      <th>0</th>\n",
       "      <td>1080307.0</td>\n",
       "      <td>3686160.0</td>\n",
       "    </tr>\n",
       "    <tr>\n",
       "      <th>1</th>\n",
       "      <td>1144563.0</td>\n",
       "      <td>3905411.0</td>\n",
       "    </tr>\n",
       "    <tr>\n",
       "      <th>2</th>\n",
       "      <td>14583930.0</td>\n",
       "      <td>49762435.0</td>\n",
       "    </tr>\n",
       "    <tr>\n",
       "      <th>3</th>\n",
       "      <td>811521.0</td>\n",
       "      <td>2769023.0</td>\n",
       "    </tr>\n",
       "    <tr>\n",
       "      <th>4</th>\n",
       "      <td>1777841.0</td>\n",
       "      <td>6066245.0</td>\n",
       "    </tr>\n",
       "  </tbody>\n",
       "</table>\n",
       "</div>"
      ],
      "text/plain": [
       "   Electricity(kWh)  Electricity(kBtu)\n",
       "0         1080307.0          3686160.0\n",
       "1         1144563.0          3905411.0\n",
       "2        14583930.0         49762435.0\n",
       "3          811521.0          2769023.0\n",
       "4         1777841.0          6066245.0"
      ]
     },
     "metadata": {},
     "output_type": "display_data"
    },
    {
     "data": {
      "text/html": [
       "<div>\n",
       "<style scoped>\n",
       "    .dataframe tbody tr th:only-of-type {\n",
       "        vertical-align: middle;\n",
       "    }\n",
       "\n",
       "    .dataframe tbody tr th {\n",
       "        vertical-align: top;\n",
       "    }\n",
       "\n",
       "    .dataframe thead th {\n",
       "        text-align: right;\n",
       "    }\n",
       "</style>\n",
       "<table border=\"1\" class=\"dataframe\">\n",
       "  <thead>\n",
       "    <tr style=\"text-align: right;\">\n",
       "      <th></th>\n",
       "      <th>Electricity(kWh)</th>\n",
       "      <th>Electricity(kBtu)</th>\n",
       "    </tr>\n",
       "  </thead>\n",
       "  <tbody>\n",
       "  </tbody>\n",
       "</table>\n",
       "</div>"
      ],
      "text/plain": [
       "Empty DataFrame\n",
       "Columns: [Electricity(kWh), Electricity(kBtu)]\n",
       "Index: []"
      ]
     },
     "metadata": {},
     "output_type": "display_data"
    },
    {
     "data": {
      "text/html": [
       "<div>\n",
       "<style scoped>\n",
       "    .dataframe tbody tr th:only-of-type {\n",
       "        vertical-align: middle;\n",
       "    }\n",
       "\n",
       "    .dataframe tbody tr th {\n",
       "        vertical-align: top;\n",
       "    }\n",
       "\n",
       "    .dataframe thead th {\n",
       "        text-align: right;\n",
       "    }\n",
       "</style>\n",
       "<table border=\"1\" class=\"dataframe\">\n",
       "  <thead>\n",
       "    <tr style=\"text-align: right;\">\n",
       "      <th></th>\n",
       "      <th>Electricity(kWh)</th>\n",
       "      <th>Electricity(kBtu)</th>\n",
       "    </tr>\n",
       "  </thead>\n",
       "  <tbody>\n",
       "  </tbody>\n",
       "</table>\n",
       "</div>"
      ],
      "text/plain": [
       "Empty DataFrame\n",
       "Columns: [Electricity(kWh), Electricity(kBtu)]\n",
       "Index: []"
      ]
     },
     "metadata": {},
     "output_type": "display_data"
    },
    {
     "name": "stdout",
     "output_type": "stream",
     "text": [
      "-------------------------------------------------------------------------------\n"
     ]
    },
    {
     "data": {
      "text/html": [
       "<div>\n",
       "<style scoped>\n",
       "    .dataframe tbody tr th:only-of-type {\n",
       "        vertical-align: middle;\n",
       "    }\n",
       "\n",
       "    .dataframe tbody tr th {\n",
       "        vertical-align: top;\n",
       "    }\n",
       "\n",
       "    .dataframe thead th {\n",
       "        text-align: right;\n",
       "    }\n",
       "</style>\n",
       "<table border=\"1\" class=\"dataframe\">\n",
       "  <thead>\n",
       "    <tr style=\"text-align: right;\">\n",
       "      <th></th>\n",
       "      <th>NaturalGas(therms)</th>\n",
       "      <th>NaturalGas(kBtu)</th>\n",
       "    </tr>\n",
       "  </thead>\n",
       "  <tbody>\n",
       "    <tr>\n",
       "      <th>0</th>\n",
       "      <td>12724.0</td>\n",
       "      <td>1272388.0</td>\n",
       "    </tr>\n",
       "    <tr>\n",
       "      <th>1</th>\n",
       "      <td>44490.0</td>\n",
       "      <td>4448985.0</td>\n",
       "    </tr>\n",
       "    <tr>\n",
       "      <th>2</th>\n",
       "      <td>37099.0</td>\n",
       "      <td>3709900.0</td>\n",
       "    </tr>\n",
       "    <tr>\n",
       "      <th>3</th>\n",
       "      <td>20019.0</td>\n",
       "      <td>2001894.0</td>\n",
       "    </tr>\n",
       "    <tr>\n",
       "      <th>4</th>\n",
       "      <td>87631.0</td>\n",
       "      <td>8763105.0</td>\n",
       "    </tr>\n",
       "  </tbody>\n",
       "</table>\n",
       "</div>"
      ],
      "text/plain": [
       "   NaturalGas(therms)  NaturalGas(kBtu)\n",
       "0             12724.0         1272388.0\n",
       "1             44490.0         4448985.0\n",
       "2             37099.0         3709900.0\n",
       "3             20019.0         2001894.0\n",
       "4             87631.0         8763105.0"
      ]
     },
     "metadata": {},
     "output_type": "display_data"
    },
    {
     "data": {
      "text/html": [
       "<div>\n",
       "<style scoped>\n",
       "    .dataframe tbody tr th:only-of-type {\n",
       "        vertical-align: middle;\n",
       "    }\n",
       "\n",
       "    .dataframe tbody tr th {\n",
       "        vertical-align: top;\n",
       "    }\n",
       "\n",
       "    .dataframe thead th {\n",
       "        text-align: right;\n",
       "    }\n",
       "</style>\n",
       "<table border=\"1\" class=\"dataframe\">\n",
       "  <thead>\n",
       "    <tr style=\"text-align: right;\">\n",
       "      <th></th>\n",
       "      <th>NaturalGas(therms)</th>\n",
       "      <th>NaturalGas(kBtu)</th>\n",
       "    </tr>\n",
       "  </thead>\n",
       "  <tbody>\n",
       "  </tbody>\n",
       "</table>\n",
       "</div>"
      ],
      "text/plain": [
       "Empty DataFrame\n",
       "Columns: [NaturalGas(therms), NaturalGas(kBtu)]\n",
       "Index: []"
      ]
     },
     "metadata": {},
     "output_type": "display_data"
    },
    {
     "data": {
      "text/html": [
       "<div>\n",
       "<style scoped>\n",
       "    .dataframe tbody tr th:only-of-type {\n",
       "        vertical-align: middle;\n",
       "    }\n",
       "\n",
       "    .dataframe tbody tr th {\n",
       "        vertical-align: top;\n",
       "    }\n",
       "\n",
       "    .dataframe thead th {\n",
       "        text-align: right;\n",
       "    }\n",
       "</style>\n",
       "<table border=\"1\" class=\"dataframe\">\n",
       "  <thead>\n",
       "    <tr style=\"text-align: right;\">\n",
       "      <th></th>\n",
       "      <th>NaturalGas(therms)</th>\n",
       "      <th>NaturalGas(kBtu)</th>\n",
       "    </tr>\n",
       "  </thead>\n",
       "  <tbody>\n",
       "  </tbody>\n",
       "</table>\n",
       "</div>"
      ],
      "text/plain": [
       "Empty DataFrame\n",
       "Columns: [NaturalGas(therms), NaturalGas(kBtu)]\n",
       "Index: []"
      ]
     },
     "metadata": {},
     "output_type": "display_data"
    }
   ],
   "source": [
    "correlation_columns = good_or_bad_correlation(correlation_matric_2015,just_numbers_values_2015)"
   ]
  },
  {
   "cell_type": "code",
   "execution_count": 36,
   "id": "1171435e-1c62-419d-9f5b-b3d8be068de7",
   "metadata": {},
   "outputs": [
    {
     "data": {
      "text/plain": [
       "[['SiteEUI(kBtu/sf)', 'SiteEUIWN(kBtu/sf)'],\n",
       " ['SourceEUI(kBtu/sf)', 'SourceEUIWN(kBtu/sf)'],\n",
       " ['SiteEnergyUse(kBtu)', 'SiteEnergyUseWN(kBtu)'],\n",
       " ['Electricity(kWh)', 'Electricity(kBtu)'],\n",
       " ['NaturalGas(therms)', 'NaturalGas(kBtu)']]"
      ]
     },
     "execution_count": 36,
     "metadata": {},
     "output_type": "execute_result"
    }
   ],
   "source": [
    "correlation_columns"
   ]
  },
  {
   "cell_type": "code",
   "execution_count": 37,
   "id": "cbc302f9-7d3a-460d-8f66-ea0afd3e98ee",
   "metadata": {},
   "outputs": [],
   "source": [
    "not_wanted_columns_2015 = [x[1] for x in correlation_columns] + ['OSEBuildingID','DataYear']"
   ]
  },
  {
   "cell_type": "code",
   "execution_count": 38,
   "id": "2237167f-6c33-4ca1-89b4-54624c597fd6",
   "metadata": {},
   "outputs": [],
   "source": [
    "just_numbers_values_2015_clean = just_numbers_values_2015.drop([x[1] for x in correlation_columns],1)"
   ]
  },
  {
   "cell_type": "code",
   "execution_count": 76,
   "id": "0457af3e-2b80-452c-a9af-b9b1d791e7e1",
   "metadata": {
    "collapsed": true,
    "jupyter": {
     "outputs_hidden": true
    },
    "tags": []
   },
   "outputs": [
    {
     "data": {
      "text/html": [
       "<div>\n",
       "<style scoped>\n",
       "    .dataframe tbody tr th:only-of-type {\n",
       "        vertical-align: middle;\n",
       "    }\n",
       "\n",
       "    .dataframe tbody tr th {\n",
       "        vertical-align: top;\n",
       "    }\n",
       "\n",
       "    .dataframe thead th {\n",
       "        text-align: right;\n",
       "    }\n",
       "</style>\n",
       "<table border=\"1\" class=\"dataframe\">\n",
       "  <thead>\n",
       "    <tr style=\"text-align: right;\">\n",
       "      <th></th>\n",
       "      <th>OSEBuildingID</th>\n",
       "      <th>DataYear</th>\n",
       "      <th>CouncilDistrictCode</th>\n",
       "      <th>YearBuilt</th>\n",
       "      <th>NumberofBuildings</th>\n",
       "      <th>NumberofFloors</th>\n",
       "      <th>PropertyGFATotal</th>\n",
       "      <th>PropertyGFAParking</th>\n",
       "      <th>PropertyGFABuilding(s)</th>\n",
       "      <th>LargestPropertyUseTypeGFA</th>\n",
       "      <th>SecondLargestPropertyUseTypeGFA</th>\n",
       "      <th>ThirdLargestPropertyUseTypeGFA</th>\n",
       "      <th>ENERGYSTARScore</th>\n",
       "      <th>SiteEUI(kBtu/sf)</th>\n",
       "      <th>SourceEUI(kBtu/sf)</th>\n",
       "      <th>SiteEnergyUse(kBtu)</th>\n",
       "      <th>SteamUse(kBtu)</th>\n",
       "      <th>Electricity(kWh)</th>\n",
       "      <th>NaturalGas(therms)</th>\n",
       "      <th>OtherFuelUse(kBtu)</th>\n",
       "      <th>GHGEmissions(MetricTonsCO2e)</th>\n",
       "      <th>GHGEmissionsIntensity(kgCO2e/ft2)</th>\n",
       "      <th>2010 Census Tracts</th>\n",
       "      <th>Seattle Police Department Micro Community Policing Plan Areas</th>\n",
       "      <th>City Council Districts</th>\n",
       "      <th>SPD Beats</th>\n",
       "      <th>Zip Codes</th>\n",
       "    </tr>\n",
       "  </thead>\n",
       "  <tbody>\n",
       "    <tr>\n",
       "      <th>0</th>\n",
       "      <td>1</td>\n",
       "      <td>2015</td>\n",
       "      <td>7</td>\n",
       "      <td>1927</td>\n",
       "      <td>1</td>\n",
       "      <td>12.0</td>\n",
       "      <td>88434</td>\n",
       "      <td>0</td>\n",
       "      <td>88434</td>\n",
       "      <td>88434.0</td>\n",
       "      <td>NaN</td>\n",
       "      <td>NaN</td>\n",
       "      <td>65.0</td>\n",
       "      <td>78.9</td>\n",
       "      <td>173.5</td>\n",
       "      <td>6981428.0</td>\n",
       "      <td>2023032.0</td>\n",
       "      <td>1080307.0</td>\n",
       "      <td>12724.0</td>\n",
       "      <td>0.0</td>\n",
       "      <td>249.43</td>\n",
       "      <td>2.64</td>\n",
       "      <td>NaN</td>\n",
       "      <td>14.0</td>\n",
       "      <td>NaN</td>\n",
       "      <td>31.0</td>\n",
       "      <td>18081</td>\n",
       "    </tr>\n",
       "    <tr>\n",
       "      <th>1</th>\n",
       "      <td>2</td>\n",
       "      <td>2015</td>\n",
       "      <td>7</td>\n",
       "      <td>1996</td>\n",
       "      <td>1</td>\n",
       "      <td>11.0</td>\n",
       "      <td>103566</td>\n",
       "      <td>15064</td>\n",
       "      <td>88502</td>\n",
       "      <td>83880.0</td>\n",
       "      <td>15064.0</td>\n",
       "      <td>4622.0</td>\n",
       "      <td>51.0</td>\n",
       "      <td>94.4</td>\n",
       "      <td>191.3</td>\n",
       "      <td>8354235.0</td>\n",
       "      <td>0.0</td>\n",
       "      <td>1144563.0</td>\n",
       "      <td>44490.0</td>\n",
       "      <td>0.0</td>\n",
       "      <td>263.51</td>\n",
       "      <td>2.38</td>\n",
       "      <td>NaN</td>\n",
       "      <td>14.0</td>\n",
       "      <td>NaN</td>\n",
       "      <td>31.0</td>\n",
       "      <td>18081</td>\n",
       "    </tr>\n",
       "    <tr>\n",
       "      <th>2</th>\n",
       "      <td>3</td>\n",
       "      <td>2015</td>\n",
       "      <td>7</td>\n",
       "      <td>1969</td>\n",
       "      <td>1</td>\n",
       "      <td>41.0</td>\n",
       "      <td>961990</td>\n",
       "      <td>0</td>\n",
       "      <td>961990</td>\n",
       "      <td>757243.0</td>\n",
       "      <td>100000.0</td>\n",
       "      <td>0.0</td>\n",
       "      <td>18.0</td>\n",
       "      <td>96.6</td>\n",
       "      <td>242.7</td>\n",
       "      <td>73130656.0</td>\n",
       "      <td>19660404.0</td>\n",
       "      <td>14583930.0</td>\n",
       "      <td>37099.0</td>\n",
       "      <td>0.0</td>\n",
       "      <td>2061.48</td>\n",
       "      <td>1.92</td>\n",
       "      <td>NaN</td>\n",
       "      <td>56.0</td>\n",
       "      <td>NaN</td>\n",
       "      <td>31.0</td>\n",
       "      <td>18081</td>\n",
       "    </tr>\n",
       "    <tr>\n",
       "      <th>3</th>\n",
       "      <td>5</td>\n",
       "      <td>2015</td>\n",
       "      <td>7</td>\n",
       "      <td>1926</td>\n",
       "      <td>1</td>\n",
       "      <td>10.0</td>\n",
       "      <td>61320</td>\n",
       "      <td>0</td>\n",
       "      <td>61320</td>\n",
       "      <td>61320.0</td>\n",
       "      <td>NaN</td>\n",
       "      <td>NaN</td>\n",
       "      <td>1.0</td>\n",
       "      <td>460.4</td>\n",
       "      <td>636.3</td>\n",
       "      <td>28229320.0</td>\n",
       "      <td>23458518.0</td>\n",
       "      <td>811521.0</td>\n",
       "      <td>20019.0</td>\n",
       "      <td>0.0</td>\n",
       "      <td>1936.34</td>\n",
       "      <td>31.38</td>\n",
       "      <td>NaN</td>\n",
       "      <td>56.0</td>\n",
       "      <td>NaN</td>\n",
       "      <td>31.0</td>\n",
       "      <td>18081</td>\n",
       "    </tr>\n",
       "    <tr>\n",
       "      <th>4</th>\n",
       "      <td>8</td>\n",
       "      <td>2015</td>\n",
       "      <td>7</td>\n",
       "      <td>1980</td>\n",
       "      <td>1</td>\n",
       "      <td>18.0</td>\n",
       "      <td>119890</td>\n",
       "      <td>12460</td>\n",
       "      <td>107430</td>\n",
       "      <td>123445.0</td>\n",
       "      <td>68009.0</td>\n",
       "      <td>0.0</td>\n",
       "      <td>67.0</td>\n",
       "      <td>120.1</td>\n",
       "      <td>228.8</td>\n",
       "      <td>14829099.0</td>\n",
       "      <td>0.0</td>\n",
       "      <td>1777841.0</td>\n",
       "      <td>87631.0</td>\n",
       "      <td>0.0</td>\n",
       "      <td>507.70</td>\n",
       "      <td>4.02</td>\n",
       "      <td>NaN</td>\n",
       "      <td>56.0</td>\n",
       "      <td>NaN</td>\n",
       "      <td>31.0</td>\n",
       "      <td>19576</td>\n",
       "    </tr>\n",
       "    <tr>\n",
       "      <th>...</th>\n",
       "      <td>...</td>\n",
       "      <td>...</td>\n",
       "      <td>...</td>\n",
       "      <td>...</td>\n",
       "      <td>...</td>\n",
       "      <td>...</td>\n",
       "      <td>...</td>\n",
       "      <td>...</td>\n",
       "      <td>...</td>\n",
       "      <td>...</td>\n",
       "      <td>...</td>\n",
       "      <td>...</td>\n",
       "      <td>...</td>\n",
       "      <td>...</td>\n",
       "      <td>...</td>\n",
       "      <td>...</td>\n",
       "      <td>...</td>\n",
       "      <td>...</td>\n",
       "      <td>...</td>\n",
       "      <td>...</td>\n",
       "      <td>...</td>\n",
       "      <td>...</td>\n",
       "      <td>...</td>\n",
       "      <td>...</td>\n",
       "      <td>...</td>\n",
       "      <td>...</td>\n",
       "      <td>...</td>\n",
       "    </tr>\n",
       "    <tr>\n",
       "      <th>3335</th>\n",
       "      <td>50049</td>\n",
       "      <td>2015</td>\n",
       "      <td>2</td>\n",
       "      <td>2000</td>\n",
       "      <td>1</td>\n",
       "      <td>4.0</td>\n",
       "      <td>44650</td>\n",
       "      <td>0</td>\n",
       "      <td>44650</td>\n",
       "      <td>44650.0</td>\n",
       "      <td>NaN</td>\n",
       "      <td>NaN</td>\n",
       "      <td>71.0</td>\n",
       "      <td>25.6</td>\n",
       "      <td>80.4</td>\n",
       "      <td>1142949.0</td>\n",
       "      <td>0.0</td>\n",
       "      <td>334979.0</td>\n",
       "      <td>0.0</td>\n",
       "      <td>0.0</td>\n",
       "      <td>7.97</td>\n",
       "      <td>0.07</td>\n",
       "      <td>NaN</td>\n",
       "      <td>26.0</td>\n",
       "      <td>NaN</td>\n",
       "      <td>16.0</td>\n",
       "      <td>18379</td>\n",
       "    </tr>\n",
       "    <tr>\n",
       "      <th>3336</th>\n",
       "      <td>50055</td>\n",
       "      <td>2015</td>\n",
       "      <td>4</td>\n",
       "      <td>2014</td>\n",
       "      <td>1</td>\n",
       "      <td>7.0</td>\n",
       "      <td>42393</td>\n",
       "      <td>0</td>\n",
       "      <td>42393</td>\n",
       "      <td>31748.0</td>\n",
       "      <td>NaN</td>\n",
       "      <td>NaN</td>\n",
       "      <td>98.0</td>\n",
       "      <td>48.6</td>\n",
       "      <td>124.2</td>\n",
       "      <td>1543282.0</td>\n",
       "      <td>0.0</td>\n",
       "      <td>325705.0</td>\n",
       "      <td>4320.0</td>\n",
       "      <td>0.0</td>\n",
       "      <td>30.69</td>\n",
       "      <td>0.61</td>\n",
       "      <td>NaN</td>\n",
       "      <td>60.0</td>\n",
       "      <td>NaN</td>\n",
       "      <td>38.0</td>\n",
       "      <td>18383</td>\n",
       "    </tr>\n",
       "    <tr>\n",
       "      <th>3337</th>\n",
       "      <td>50057</td>\n",
       "      <td>2015</td>\n",
       "      <td>7</td>\n",
       "      <td>2015</td>\n",
       "      <td>1</td>\n",
       "      <td>40.0</td>\n",
       "      <td>319481</td>\n",
       "      <td>41915</td>\n",
       "      <td>277566</td>\n",
       "      <td>NaN</td>\n",
       "      <td>NaN</td>\n",
       "      <td>NaN</td>\n",
       "      <td>79.0</td>\n",
       "      <td>52.7</td>\n",
       "      <td>93.1</td>\n",
       "      <td>16834414.0</td>\n",
       "      <td>0.0</td>\n",
       "      <td>1690364.0</td>\n",
       "      <td>110669.0</td>\n",
       "      <td>0.0</td>\n",
       "      <td>627.97</td>\n",
       "      <td>1.89</td>\n",
       "      <td>NaN</td>\n",
       "      <td>56.0</td>\n",
       "      <td>NaN</td>\n",
       "      <td>7.0</td>\n",
       "      <td>19576</td>\n",
       "    </tr>\n",
       "    <tr>\n",
       "      <th>3338</th>\n",
       "      <td>50058</td>\n",
       "      <td>2015</td>\n",
       "      <td>4</td>\n",
       "      <td>1981</td>\n",
       "      <td>1</td>\n",
       "      <td>3.0</td>\n",
       "      <td>48230</td>\n",
       "      <td>0</td>\n",
       "      <td>48230</td>\n",
       "      <td>22310.0</td>\n",
       "      <td>NaN</td>\n",
       "      <td>NaN</td>\n",
       "      <td>44.0</td>\n",
       "      <td>34.8</td>\n",
       "      <td>109.4</td>\n",
       "      <td>777064.0</td>\n",
       "      <td>0.0</td>\n",
       "      <td>227744.0</td>\n",
       "      <td>0.0</td>\n",
       "      <td>0.0</td>\n",
       "      <td>5.42</td>\n",
       "      <td>0.04</td>\n",
       "      <td>NaN</td>\n",
       "      <td>55.0</td>\n",
       "      <td>NaN</td>\n",
       "      <td>48.0</td>\n",
       "      <td>18792</td>\n",
       "    </tr>\n",
       "    <tr>\n",
       "      <th>3339</th>\n",
       "      <td>50059</td>\n",
       "      <td>2015</td>\n",
       "      <td>4</td>\n",
       "      <td>1981</td>\n",
       "      <td>1</td>\n",
       "      <td>4.0</td>\n",
       "      <td>53100</td>\n",
       "      <td>0</td>\n",
       "      <td>53100</td>\n",
       "      <td>25265.0</td>\n",
       "      <td>NaN</td>\n",
       "      <td>NaN</td>\n",
       "      <td>24.0</td>\n",
       "      <td>38.2</td>\n",
       "      <td>120.1</td>\n",
       "      <td>966376.0</td>\n",
       "      <td>0.0</td>\n",
       "      <td>283229.0</td>\n",
       "      <td>0.0</td>\n",
       "      <td>0.0</td>\n",
       "      <td>6.74</td>\n",
       "      <td>0.05</td>\n",
       "      <td>NaN</td>\n",
       "      <td>55.0</td>\n",
       "      <td>NaN</td>\n",
       "      <td>48.0</td>\n",
       "      <td>18792</td>\n",
       "    </tr>\n",
       "  </tbody>\n",
       "</table>\n",
       "<p>3340 rows × 27 columns</p>\n",
       "</div>"
      ],
      "text/plain": [
       "      OSEBuildingID  DataYear  CouncilDistrictCode  YearBuilt  NumberofBuildings  NumberofFloors  PropertyGFATotal  PropertyGFAParking  PropertyGFABuilding(s)  LargestPropertyUseTypeGFA  SecondLargestPropertyUseTypeGFA  ThirdLargestPropertyUseTypeGFA  ENERGYSTARScore  SiteEUI(kBtu/sf)  SourceEUI(kBtu/sf)  SiteEnergyUse(kBtu)  SteamUse(kBtu)  Electricity(kWh)  NaturalGas(therms)  OtherFuelUse(kBtu)  GHGEmissions(MetricTonsCO2e)  GHGEmissionsIntensity(kgCO2e/ft2)  2010 Census Tracts  \\\n",
       "0                 1      2015                    7       1927                  1            12.0             88434                   0                   88434                    88434.0                              NaN                             NaN             65.0              78.9               173.5            6981428.0       2023032.0         1080307.0             12724.0                 0.0                        249.43                               2.64                 NaN   \n",
       "1                 2      2015                    7       1996                  1            11.0            103566               15064                   88502                    83880.0                          15064.0                          4622.0             51.0              94.4               191.3            8354235.0             0.0         1144563.0             44490.0                 0.0                        263.51                               2.38                 NaN   \n",
       "2                 3      2015                    7       1969                  1            41.0            961990                   0                  961990                   757243.0                         100000.0                             0.0             18.0              96.6               242.7           73130656.0      19660404.0        14583930.0             37099.0                 0.0                       2061.48                               1.92                 NaN   \n",
       "3                 5      2015                    7       1926                  1            10.0             61320                   0                   61320                    61320.0                              NaN                             NaN              1.0             460.4               636.3           28229320.0      23458518.0          811521.0             20019.0                 0.0                       1936.34                              31.38                 NaN   \n",
       "4                 8      2015                    7       1980                  1            18.0            119890               12460                  107430                   123445.0                          68009.0                             0.0             67.0             120.1               228.8           14829099.0             0.0         1777841.0             87631.0                 0.0                        507.70                               4.02                 NaN   \n",
       "...             ...       ...                  ...        ...                ...             ...               ...                 ...                     ...                        ...                              ...                             ...              ...               ...                 ...                  ...             ...               ...                 ...                 ...                           ...                                ...                 ...   \n",
       "3335          50049      2015                    2       2000                  1             4.0             44650                   0                   44650                    44650.0                              NaN                             NaN             71.0              25.6                80.4            1142949.0             0.0          334979.0                 0.0                 0.0                          7.97                               0.07                 NaN   \n",
       "3336          50055      2015                    4       2014                  1             7.0             42393                   0                   42393                    31748.0                              NaN                             NaN             98.0              48.6               124.2            1543282.0             0.0          325705.0              4320.0                 0.0                         30.69                               0.61                 NaN   \n",
       "3337          50057      2015                    7       2015                  1            40.0            319481               41915                  277566                        NaN                              NaN                             NaN             79.0              52.7                93.1           16834414.0             0.0         1690364.0            110669.0                 0.0                        627.97                               1.89                 NaN   \n",
       "3338          50058      2015                    4       1981                  1             3.0             48230                   0                   48230                    22310.0                              NaN                             NaN             44.0              34.8               109.4             777064.0             0.0          227744.0                 0.0                 0.0                          5.42                               0.04                 NaN   \n",
       "3339          50059      2015                    4       1981                  1             4.0             53100                   0                   53100                    25265.0                              NaN                             NaN             24.0              38.2               120.1             966376.0             0.0          283229.0                 0.0                 0.0                          6.74                               0.05                 NaN   \n",
       "\n",
       "      Seattle Police Department Micro Community Policing Plan Areas  City Council Districts  SPD Beats  Zip Codes  \n",
       "0                                                              14.0                     NaN       31.0      18081  \n",
       "1                                                              14.0                     NaN       31.0      18081  \n",
       "2                                                              56.0                     NaN       31.0      18081  \n",
       "3                                                              56.0                     NaN       31.0      18081  \n",
       "4                                                              56.0                     NaN       31.0      19576  \n",
       "...                                                             ...                     ...        ...        ...  \n",
       "3335                                                           26.0                     NaN       16.0      18379  \n",
       "3336                                                           60.0                     NaN       38.0      18383  \n",
       "3337                                                           56.0                     NaN        7.0      19576  \n",
       "3338                                                           55.0                     NaN       48.0      18792  \n",
       "3339                                                           55.0                     NaN       48.0      18792  \n",
       "\n",
       "[3340 rows x 27 columns]"
      ]
     },
     "execution_count": 76,
     "metadata": {},
     "output_type": "execute_result"
    }
   ],
   "source": [
    "just_numbers_values_2015_clean"
   ]
  },
  {
   "cell_type": "code",
   "execution_count": 40,
   "id": "9d38a089-d600-419d-b82d-d107fb252ef4",
   "metadata": {},
   "outputs": [],
   "source": [
    "just_numbers_values_2015_clean2 = just_numbers_values_2015_clean.drop(['OSEBuildingID','DataYear','CouncilDistrictCode','ENERGYSTARScore','SiteEUI(kBtu/sf)','SourceEUI(kBtu/sf)','SiteEnergyUse(kBtu)','SteamUse(kBtu)','Electricity(kWh)','NaturalGas(therms)','OtherFuelUse(kBtu)','GHGEmissions(MetricTonsCO2e)','GHGEmissionsIntensity(kgCO2e/ft2)','2010 Census Tracts','Seattle Police Department Micro Community Policing Plan Areas','City Council Districts','SPD Beats','Zip Codes'],1)"
   ]
  },
  {
   "cell_type": "code",
   "execution_count": 20,
   "id": "f007618c-4f4f-4f9a-bf7f-fbcfdbe186d2",
   "metadata": {
    "collapsed": true,
    "jupyter": {
     "outputs_hidden": true
    },
    "tags": []
   },
   "outputs": [
    {
     "data": {
      "text/html": [
       "<div>\n",
       "<style scoped>\n",
       "    .dataframe tbody tr th:only-of-type {\n",
       "        vertical-align: middle;\n",
       "    }\n",
       "\n",
       "    .dataframe tbody tr th {\n",
       "        vertical-align: top;\n",
       "    }\n",
       "\n",
       "    .dataframe thead th {\n",
       "        text-align: right;\n",
       "    }\n",
       "</style>\n",
       "<table border=\"1\" class=\"dataframe\">\n",
       "  <thead>\n",
       "    <tr style=\"text-align: right;\">\n",
       "      <th></th>\n",
       "      <th>YearBuilt</th>\n",
       "      <th>NumberofBuildings</th>\n",
       "      <th>NumberofFloors</th>\n",
       "      <th>PropertyGFATotal</th>\n",
       "      <th>PropertyGFAParking</th>\n",
       "      <th>PropertyGFABuilding(s)</th>\n",
       "      <th>LargestPropertyUseTypeGFA</th>\n",
       "      <th>SecondLargestPropertyUseTypeGFA</th>\n",
       "      <th>ThirdLargestPropertyUseTypeGFA</th>\n",
       "    </tr>\n",
       "  </thead>\n",
       "  <tbody>\n",
       "    <tr>\n",
       "      <th>2689</th>\n",
       "      <td>1957</td>\n",
       "      <td>1</td>\n",
       "      <td>1.0</td>\n",
       "      <td>28808</td>\n",
       "      <td>0</td>\n",
       "      <td>28808</td>\n",
       "      <td>31174.0</td>\n",
       "      <td>NaN</td>\n",
       "      <td>NaN</td>\n",
       "    </tr>\n",
       "    <tr>\n",
       "      <th>2082</th>\n",
       "      <td>2007</td>\n",
       "      <td>1</td>\n",
       "      <td>8.0</td>\n",
       "      <td>128571</td>\n",
       "      <td>11410</td>\n",
       "      <td>117161</td>\n",
       "      <td>69438.0</td>\n",
       "      <td>3754.0</td>\n",
       "      <td>778.0</td>\n",
       "    </tr>\n",
       "    <tr>\n",
       "      <th>2617</th>\n",
       "      <td>1983</td>\n",
       "      <td>1</td>\n",
       "      <td>22.0</td>\n",
       "      <td>195788</td>\n",
       "      <td>0</td>\n",
       "      <td>195788</td>\n",
       "      <td>103671.0</td>\n",
       "      <td>63101.0</td>\n",
       "      <td>3500.0</td>\n",
       "    </tr>\n",
       "    <tr>\n",
       "      <th>1206</th>\n",
       "      <td>2009</td>\n",
       "      <td>1</td>\n",
       "      <td>1.0</td>\n",
       "      <td>20909</td>\n",
       "      <td>0</td>\n",
       "      <td>20909</td>\n",
       "      <td>19050.0</td>\n",
       "      <td>0.0</td>\n",
       "      <td>NaN</td>\n",
       "    </tr>\n",
       "  </tbody>\n",
       "</table>\n",
       "</div>"
      ],
      "text/plain": [
       "      YearBuilt  NumberofBuildings  NumberofFloors  PropertyGFATotal  PropertyGFAParking  PropertyGFABuilding(s)  LargestPropertyUseTypeGFA  SecondLargestPropertyUseTypeGFA  ThirdLargestPropertyUseTypeGFA\n",
       "2689       1957                  1             1.0             28808                   0                   28808                    31174.0                              NaN                             NaN\n",
       "2082       2007                  1             8.0            128571               11410                  117161                    69438.0                           3754.0                           778.0\n",
       "2617       1983                  1            22.0            195788                   0                  195788                   103671.0                          63101.0                          3500.0\n",
       "1206       2009                  1             1.0             20909                   0                   20909                    19050.0                              0.0                             NaN"
      ]
     },
     "execution_count": 20,
     "metadata": {},
     "output_type": "execute_result"
    }
   ],
   "source": [
    "just_numbers_values_2015_clean2.sample(4)"
   ]
  },
  {
   "cell_type": "code",
   "execution_count": 41,
   "id": "9ee644f1-775f-40e4-b0c1-eb73735565c6",
   "metadata": {},
   "outputs": [],
   "source": [
    "just_numbers_values_2015_clean3 = just_numbers_values_2015_clean2.fillna(0)"
   ]
  },
  {
   "cell_type": "code",
   "execution_count": 22,
   "id": "6462b0f3-36a9-432c-8fe5-a8eb08ddb903",
   "metadata": {
    "collapsed": true,
    "jupyter": {
     "outputs_hidden": true
    },
    "tags": []
   },
   "outputs": [
    {
     "data": {
      "text/html": [
       "<div>\n",
       "<style scoped>\n",
       "    .dataframe tbody tr th:only-of-type {\n",
       "        vertical-align: middle;\n",
       "    }\n",
       "\n",
       "    .dataframe tbody tr th {\n",
       "        vertical-align: top;\n",
       "    }\n",
       "\n",
       "    .dataframe thead th {\n",
       "        text-align: right;\n",
       "    }\n",
       "</style>\n",
       "<table border=\"1\" class=\"dataframe\">\n",
       "  <thead>\n",
       "    <tr style=\"text-align: right;\">\n",
       "      <th></th>\n",
       "      <th>YearBuilt</th>\n",
       "      <th>NumberofBuildings</th>\n",
       "      <th>NumberofFloors</th>\n",
       "      <th>PropertyGFATotal</th>\n",
       "      <th>PropertyGFAParking</th>\n",
       "      <th>PropertyGFABuilding(s)</th>\n",
       "      <th>LargestPropertyUseTypeGFA</th>\n",
       "      <th>SecondLargestPropertyUseTypeGFA</th>\n",
       "      <th>ThirdLargestPropertyUseTypeGFA</th>\n",
       "    </tr>\n",
       "  </thead>\n",
       "  <tbody>\n",
       "    <tr>\n",
       "      <th>0</th>\n",
       "      <td>NaN</td>\n",
       "      <td>NaN</td>\n",
       "      <td>NaN</td>\n",
       "      <td>NaN</td>\n",
       "      <td>NaN</td>\n",
       "      <td>NaN</td>\n",
       "      <td>NaN</td>\n",
       "      <td>NaN</td>\n",
       "      <td>NaN</td>\n",
       "    </tr>\n",
       "    <tr>\n",
       "      <th>1</th>\n",
       "      <td>NaN</td>\n",
       "      <td>NaN</td>\n",
       "      <td>NaN</td>\n",
       "      <td>NaN</td>\n",
       "      <td>NaN</td>\n",
       "      <td>NaN</td>\n",
       "      <td>NaN</td>\n",
       "      <td>NaN</td>\n",
       "      <td>NaN</td>\n",
       "    </tr>\n",
       "    <tr>\n",
       "      <th>2</th>\n",
       "      <td>NaN</td>\n",
       "      <td>NaN</td>\n",
       "      <td>NaN</td>\n",
       "      <td>NaN</td>\n",
       "      <td>NaN</td>\n",
       "      <td>NaN</td>\n",
       "      <td>NaN</td>\n",
       "      <td>NaN</td>\n",
       "      <td>NaN</td>\n",
       "    </tr>\n",
       "    <tr>\n",
       "      <th>3</th>\n",
       "      <td>NaN</td>\n",
       "      <td>NaN</td>\n",
       "      <td>NaN</td>\n",
       "      <td>NaN</td>\n",
       "      <td>NaN</td>\n",
       "      <td>NaN</td>\n",
       "      <td>NaN</td>\n",
       "      <td>NaN</td>\n",
       "      <td>NaN</td>\n",
       "    </tr>\n",
       "    <tr>\n",
       "      <th>4</th>\n",
       "      <td>NaN</td>\n",
       "      <td>NaN</td>\n",
       "      <td>NaN</td>\n",
       "      <td>NaN</td>\n",
       "      <td>NaN</td>\n",
       "      <td>NaN</td>\n",
       "      <td>NaN</td>\n",
       "      <td>NaN</td>\n",
       "      <td>NaN</td>\n",
       "    </tr>\n",
       "    <tr>\n",
       "      <th>...</th>\n",
       "      <td>...</td>\n",
       "      <td>...</td>\n",
       "      <td>...</td>\n",
       "      <td>...</td>\n",
       "      <td>...</td>\n",
       "      <td>...</td>\n",
       "      <td>...</td>\n",
       "      <td>...</td>\n",
       "      <td>...</td>\n",
       "    </tr>\n",
       "    <tr>\n",
       "      <th>3335</th>\n",
       "      <td>NaN</td>\n",
       "      <td>NaN</td>\n",
       "      <td>NaN</td>\n",
       "      <td>NaN</td>\n",
       "      <td>NaN</td>\n",
       "      <td>NaN</td>\n",
       "      <td>NaN</td>\n",
       "      <td>NaN</td>\n",
       "      <td>NaN</td>\n",
       "    </tr>\n",
       "    <tr>\n",
       "      <th>3336</th>\n",
       "      <td>NaN</td>\n",
       "      <td>NaN</td>\n",
       "      <td>NaN</td>\n",
       "      <td>NaN</td>\n",
       "      <td>NaN</td>\n",
       "      <td>NaN</td>\n",
       "      <td>NaN</td>\n",
       "      <td>NaN</td>\n",
       "      <td>NaN</td>\n",
       "    </tr>\n",
       "    <tr>\n",
       "      <th>3337</th>\n",
       "      <td>NaN</td>\n",
       "      <td>NaN</td>\n",
       "      <td>NaN</td>\n",
       "      <td>NaN</td>\n",
       "      <td>NaN</td>\n",
       "      <td>NaN</td>\n",
       "      <td>NaN</td>\n",
       "      <td>NaN</td>\n",
       "      <td>NaN</td>\n",
       "    </tr>\n",
       "    <tr>\n",
       "      <th>3338</th>\n",
       "      <td>NaN</td>\n",
       "      <td>NaN</td>\n",
       "      <td>NaN</td>\n",
       "      <td>NaN</td>\n",
       "      <td>NaN</td>\n",
       "      <td>NaN</td>\n",
       "      <td>NaN</td>\n",
       "      <td>NaN</td>\n",
       "      <td>NaN</td>\n",
       "    </tr>\n",
       "    <tr>\n",
       "      <th>3339</th>\n",
       "      <td>NaN</td>\n",
       "      <td>NaN</td>\n",
       "      <td>NaN</td>\n",
       "      <td>NaN</td>\n",
       "      <td>NaN</td>\n",
       "      <td>NaN</td>\n",
       "      <td>NaN</td>\n",
       "      <td>NaN</td>\n",
       "      <td>NaN</td>\n",
       "    </tr>\n",
       "  </tbody>\n",
       "</table>\n",
       "<p>3340 rows × 9 columns</p>\n",
       "</div>"
      ],
      "text/plain": [
       "      YearBuilt  NumberofBuildings  NumberofFloors  PropertyGFATotal  PropertyGFAParking  PropertyGFABuilding(s)  LargestPropertyUseTypeGFA  SecondLargestPropertyUseTypeGFA  ThirdLargestPropertyUseTypeGFA\n",
       "0           NaN                NaN             NaN               NaN                 NaN                     NaN                        NaN                              NaN                             NaN\n",
       "1           NaN                NaN             NaN               NaN                 NaN                     NaN                        NaN                              NaN                             NaN\n",
       "2           NaN                NaN             NaN               NaN                 NaN                     NaN                        NaN                              NaN                             NaN\n",
       "3           NaN                NaN             NaN               NaN                 NaN                     NaN                        NaN                              NaN                             NaN\n",
       "4           NaN                NaN             NaN               NaN                 NaN                     NaN                        NaN                              NaN                             NaN\n",
       "...         ...                ...             ...               ...                 ...                     ...                        ...                              ...                             ...\n",
       "3335        NaN                NaN             NaN               NaN                 NaN                     NaN                        NaN                              NaN                             NaN\n",
       "3336        NaN                NaN             NaN               NaN                 NaN                     NaN                        NaN                              NaN                             NaN\n",
       "3337        NaN                NaN             NaN               NaN                 NaN                     NaN                        NaN                              NaN                             NaN\n",
       "3338        NaN                NaN             NaN               NaN                 NaN                     NaN                        NaN                              NaN                             NaN\n",
       "3339        NaN                NaN             NaN               NaN                 NaN                     NaN                        NaN                              NaN                             NaN\n",
       "\n",
       "[3340 rows x 9 columns]"
      ]
     },
     "execution_count": 22,
     "metadata": {},
     "output_type": "execute_result"
    }
   ],
   "source": [
    "just_numbers_values_2015_clean3[just_numbers_values_2015_clean3.isna() == True]"
   ]
  },
  {
   "cell_type": "code",
   "execution_count": 42,
   "id": "98af5820-9ce9-4fdf-9638-0cae764127f5",
   "metadata": {},
   "outputs": [],
   "source": [
    "just_numbers_values_2015_clean2 = just_numbers_values_2015_clean.drop(['OSEBuildingID','DataYear','CouncilDistrictCode','ENERGYSTARScore','SiteEUI(kBtu/sf)','SourceEUI(kBtu/sf)','SiteEnergyUse(kBtu)','SteamUse(kBtu)','Electricity(kWh)','NaturalGas(therms)','OtherFuelUse(kBtu)','GHGEmissions(MetricTonsCO2e)','GHGEmissionsIntensity(kgCO2e/ft2)','2010 Census Tracts','Seattle Police Department Micro Community Policing Plan Areas','City Council Districts','SPD Beats','Zip Codes'],1)\n",
    "just_numbers_values_2015_clean3 = just_numbers_values_2015_clean2.fillna(0)\n",
    "X = just_numbers_values_2015_clean3.values\n",
    "# print(X)\n",
    "y = just_numbers_values_2015_clean['Electricity(kWh)'].fillna(0).values"
   ]
  },
  {
   "cell_type": "markdown",
   "id": "0d95d56f-d9c8-4033-8c47-3a718fcb0c0d",
   "metadata": {},
   "source": [
    "# Not numbers variables"
   ]
  },
  {
   "cell_type": "code",
   "execution_count": 128,
   "id": "79ae7bb2-42a5-469a-91b4-c41175d65b2a",
   "metadata": {},
   "outputs": [],
   "source": [
    "just_string_values_2015 = energy_comsumption_2015[energy_comsumption_2015.columns.difference(just_numbers_values_2015.columns)]"
   ]
  },
  {
   "cell_type": "code",
   "execution_count": 25,
   "id": "4bf965b0-c61e-4353-be55-b1630c0eabce",
   "metadata": {
    "collapsed": true,
    "jupyter": {
     "outputs_hidden": true
    },
    "tags": []
   },
   "outputs": [
    {
     "data": {
      "text/html": [
       "<div>\n",
       "<style scoped>\n",
       "    .dataframe tbody tr th:only-of-type {\n",
       "        vertical-align: middle;\n",
       "    }\n",
       "\n",
       "    .dataframe tbody tr th {\n",
       "        vertical-align: top;\n",
       "    }\n",
       "\n",
       "    .dataframe thead th {\n",
       "        text-align: right;\n",
       "    }\n",
       "</style>\n",
       "<table border=\"1\" class=\"dataframe\">\n",
       "  <thead>\n",
       "    <tr style=\"text-align: right;\">\n",
       "      <th></th>\n",
       "      <th>BuildingType</th>\n",
       "      <th>Comment</th>\n",
       "      <th>ComplianceStatus</th>\n",
       "      <th>DefaultData</th>\n",
       "      <th>LargestPropertyUseType</th>\n",
       "      <th>ListOfAllPropertyUseTypes</th>\n",
       "      <th>Location</th>\n",
       "      <th>Neighborhood</th>\n",
       "      <th>Outlier</th>\n",
       "      <th>PrimaryPropertyType</th>\n",
       "      <th>PropertyName</th>\n",
       "      <th>SecondLargestPropertyUseType</th>\n",
       "      <th>TaxParcelIdentificationNumber</th>\n",
       "      <th>ThirdLargestPropertyUseType</th>\n",
       "      <th>YearsENERGYSTARCertified</th>\n",
       "    </tr>\n",
       "  </thead>\n",
       "  <tbody>\n",
       "    <tr>\n",
       "      <th>3040</th>\n",
       "      <td>Multifamily LR (1-4)</td>\n",
       "      <td>NaN</td>\n",
       "      <td>Compliant</td>\n",
       "      <td>No</td>\n",
       "      <td>Multifamily Housing</td>\n",
       "      <td>Multifamily Housing</td>\n",
       "      <td>{'latitude': '47.61619871', 'longitude': '-122.3110979', 'human_address': '{\"address\": \"1605 E OLIVE ST\", \"city\": \"SEATTLE\", \"state\": \"WA\", \"zip\": \"98122\"}'}</td>\n",
       "      <td>EAST</td>\n",
       "      <td>NaN</td>\n",
       "      <td>Low-Rise Multifamily</td>\n",
       "      <td>THE MARQUIS APARTMENTS</td>\n",
       "      <td>NaN</td>\n",
       "      <td>7234600475</td>\n",
       "      <td>NaN</td>\n",
       "      <td>NaN</td>\n",
       "    </tr>\n",
       "    <tr>\n",
       "      <th>883</th>\n",
       "      <td>Multifamily LR (1-4)</td>\n",
       "      <td>NaN</td>\n",
       "      <td>Compliant</td>\n",
       "      <td>No</td>\n",
       "      <td>Multifamily Housing</td>\n",
       "      <td>Multifamily Housing</td>\n",
       "      <td>{'latitude': '47.61321282', 'longitude': '-122.34001448', 'human_address': '{\"address\": \"2014 4TH AVE\", \"city\": \"SEATTLE\", \"state\": \"WA\", \"zip\": \"98121\"}'}</td>\n",
       "      <td>DOWNTOWN</td>\n",
       "      <td>NaN</td>\n",
       "      <td>Low-Rise Multifamily</td>\n",
       "      <td>THE VIRGINIAN APTS</td>\n",
       "      <td>NaN</td>\n",
       "      <td>659000965</td>\n",
       "      <td>NaN</td>\n",
       "      <td>NaN</td>\n",
       "    </tr>\n",
       "    <tr>\n",
       "      <th>1189</th>\n",
       "      <td>NonResidential</td>\n",
       "      <td>NaN</td>\n",
       "      <td>Compliant</td>\n",
       "      <td>No</td>\n",
       "      <td>Office</td>\n",
       "      <td>Office</td>\n",
       "      <td>{'latitude': '47.64934199', 'longitude': '-122.3558772', 'human_address': '{\"address\": \"150 NICKERSON ST\", \"city\": \"SEATTLE\", \"state\": \"WA\", \"zip\": \"98109\"}'}</td>\n",
       "      <td>MAGNOLIA / QUEEN ANNE</td>\n",
       "      <td>NaN</td>\n",
       "      <td>Small- and Mid-Sized Office</td>\n",
       "      <td>CANAL PL OFFICE PARK</td>\n",
       "      <td>NaN</td>\n",
       "      <td>1972206650</td>\n",
       "      <td>NaN</td>\n",
       "      <td>NaN</td>\n",
       "    </tr>\n",
       "  </tbody>\n",
       "</table>\n",
       "</div>"
      ],
      "text/plain": [
       "              BuildingType Comment ComplianceStatus DefaultData LargestPropertyUseType ListOfAllPropertyUseTypes                                                                                                                                                        Location           Neighborhood Outlier          PrimaryPropertyType            PropertyName SecondLargestPropertyUseType TaxParcelIdentificationNumber ThirdLargestPropertyUseType YearsENERGYSTARCertified\n",
       "3040  Multifamily LR (1-4)     NaN        Compliant          No    Multifamily Housing       Multifamily Housing   {'latitude': '47.61619871', 'longitude': '-122.3110979', 'human_address': '{\"address\": \"1605 E OLIVE ST\", \"city\": \"SEATTLE\", \"state\": \"WA\", \"zip\": \"98122\"}'}                   EAST     NaN         Low-Rise Multifamily  THE MARQUIS APARTMENTS                          NaN                    7234600475                         NaN                      NaN\n",
       "883   Multifamily LR (1-4)     NaN        Compliant          No    Multifamily Housing       Multifamily Housing     {'latitude': '47.61321282', 'longitude': '-122.34001448', 'human_address': '{\"address\": \"2014 4TH AVE\", \"city\": \"SEATTLE\", \"state\": \"WA\", \"zip\": \"98121\"}'}               DOWNTOWN     NaN         Low-Rise Multifamily      THE VIRGINIAN APTS                          NaN                     659000965                         NaN                      NaN\n",
       "1189        NonResidential     NaN        Compliant          No                 Office                    Office  {'latitude': '47.64934199', 'longitude': '-122.3558772', 'human_address': '{\"address\": \"150 NICKERSON ST\", \"city\": \"SEATTLE\", \"state\": \"WA\", \"zip\": \"98109\"}'}  MAGNOLIA / QUEEN ANNE     NaN  Small- and Mid-Sized Office    CANAL PL OFFICE PARK                          NaN                    1972206650                         NaN                      NaN"
      ]
     },
     "execution_count": 25,
     "metadata": {},
     "output_type": "execute_result"
    }
   ],
   "source": [
    "just_string_values_2015.sample(3)"
   ]
  },
  {
   "cell_type": "code",
   "execution_count": 129,
   "id": "dc6e149e-0436-4d64-b3fb-da1cf7c81a02",
   "metadata": {},
   "outputs": [],
   "source": [
    "not_numbers_columns_kept = [\"BuildingType\",\"LargestPropertyUseType\",\"Neighborhood\",\"PrimaryPropertyType\",\"SecondLargestPropertyUseType\",\"ThirdLargestPropertyUseType\",\"YearsENERGYSTARCertified\"]"
   ]
  },
  {
   "cell_type": "code",
   "execution_count": 130,
   "id": "c9734fbb-25c5-4a82-acd0-84251f253dfd",
   "metadata": {},
   "outputs": [],
   "source": [
    "string_variables_2015 = just_string_values_2015[not_numbers_columns_kept]"
   ]
  },
  {
   "cell_type": "code",
   "execution_count": 131,
   "id": "d1e89486-417d-4934-be53-ec112e494627",
   "metadata": {},
   "outputs": [],
   "source": [
    "dummies = pd.get_dummies(string_variables_2015)"
   ]
  },
  {
   "cell_type": "code",
   "execution_count": 132,
   "id": "98c6b4a6-213d-4477-b409-fe282c8fed3f",
   "metadata": {},
   "outputs": [
    {
     "name": "stdout",
     "output_type": "stream",
     "text": [
      "(3340, 252)\n",
      "(3340, 9)\n"
     ]
    }
   ],
   "source": [
    "print(dummies.shape)\n",
    "print(just_numbers_values_2015_clean3.shape)"
   ]
  },
  {
   "cell_type": "code",
   "execution_count": 133,
   "id": "4b97b104-a3f5-4746-97f5-b5c80746fe21",
   "metadata": {},
   "outputs": [],
   "source": [
    "dataframe_2015_with_dummies = just_numbers_values_2015_clean3.join(dummies)#.filter(regex=\"^(?!.*_other)\")"
   ]
  },
  {
   "cell_type": "code",
   "execution_count": 134,
   "id": "1bb0ebf7-c0e9-4511-86a9-f39944889028",
   "metadata": {},
   "outputs": [],
   "source": [
    "Xdummies = dataframe_2015_with_dummies.values\n",
    "ydummies = y"
   ]
  },
  {
   "cell_type": "code",
   "execution_count": 31,
   "id": "4db7b418-80c8-42ca-962e-c0c76ef305da",
   "metadata": {},
   "outputs": [],
   "source": [
    "# regex = re.compile(\".*\" + \"ther\" + \".*\")\n",
    "# column_list = list(filter(regex.match, dataframe_2015_with_dummies.columns))\n",
    "# print(column_list)"
   ]
  },
  {
   "cell_type": "markdown",
   "id": "f36b06f1-4fad-4e19-a110-9bf4da4ecf56",
   "metadata": {},
   "source": [
    "# dummy variables"
   ]
  },
  {
   "cell_type": "code",
   "execution_count": null,
   "id": "ae665535-f620-48b3-aac0-95ff56d9480c",
   "metadata": {},
   "outputs": [],
   "source": []
  },
  {
   "cell_type": "markdown",
   "id": "9c6d5b6a-7b99-43b9-8450-be3be7ffa7e4",
   "metadata": {},
   "source": [
    "# Not numbers variables with thoughtful classification"
   ]
  },
  {
   "cell_type": "code",
   "execution_count": 123,
   "id": "9805ba00-0d67-4bae-ad86-e8998de78d86",
   "metadata": {
    "scrolled": true,
    "tags": []
   },
   "outputs": [
    {
     "name": "stdout",
     "output_type": "stream",
     "text": [
      "\n",
      "\n"
     ]
    },
    {
     "data": {
      "text/plain": [
       "'BuildingType'"
      ]
     },
     "metadata": {},
     "output_type": "display_data"
    },
    {
     "data": {
      "text/plain": [
       "NonResidential          1461\n",
       "Multifamily LR (1-4)    1029\n",
       "Multifamily MR (5-9)     554\n",
       "Multifamily HR (10+)     107\n",
       "SPS-District K-12         99\n",
       "Nonresidential COS        68\n",
       "Campus                    22\n",
       "Name: BuildingType, dtype: int64"
      ]
     },
     "metadata": {},
     "output_type": "display_data"
    },
    {
     "data": {
      "text/plain": [
       "None"
      ]
     },
     "metadata": {},
     "output_type": "display_data"
    },
    {
     "name": "stdout",
     "output_type": "stream",
     "text": [
      "\n",
      "\n"
     ]
    },
    {
     "data": {
      "text/plain": [
       "'Comment'"
      ]
     },
     "metadata": {},
     "output_type": "display_data"
    },
    {
     "data": {
      "text/plain": [
       "Under construction starting 6/2013 (old building demolished) and ending 9/2016. New Building re-opened 9/2016. Year built changed from 1949 to 2016.                                                                                                               1\n",
       "Under construction starting 6/2015 (old building demolished) and ending 9/2017. New Building re-opens 9/2017. Year built changed from 1954 to 2017.                                                                                                                1\n",
       "Under construction starting 6/2013 (old building demolished) and ending 9/2016. New Building re-opened 9/2016.  Year built changed from 1950 to 2016.                                                                                                              1\n",
       "Part of McKinstry's campus, property includes a warehouse, a local pipe supplier, and a local insulation contractor.  Learn more at www.mckinstry.com.                                                                                                             1\n",
       "Part of McKinstry's campus, the office space for this building sites on the 3rd floor above a 2-story parking garage and is served by rooftop package units for both heating and cooling. Learn more at www.mckinstryinnovationcenter.com.                         1\n",
       "Construction completed in mid 2015. The building was unoccupied for most of 2015.                                                                                                                                                                                  1\n",
       "Part of McKinstry’s campus, this remodeled warehouse is mainly office but includes a full-size basketball court and gym with locker rooms, bistro with a full kitchen, and data center. Served by rooftop package units for heating and cooling. Upgrades inclu    1\n",
       "Recent energy efficiency upgrades include replaced toilets with low flow models in all units and participation in lighting rebate program to replace bulbs with CFLs or LEDs. Future improvements include whole building window replacement in 2016.               1\n",
       "Property now has two buildings: Thornton Creek Elementary School and the Decatur Building. New Thornton Creek Elementary built on Decatur Property and under construction from 6/2013 - 9/2016.                                                                    1\n",
       "One of two office buildings on McKinstry's campus partially remodeled in 2009 from warehouse to office space. Served by rooftop air handling units with underfloor VAVs.  Self-performed energy efficiency upgrades in 2015 include a long-term LED lighting re    1\n",
       "Part of McKinstry's campus, property operates a fabrication and production shop and is conditioned by natural gas overhead radiant unit heaters with no cooling. Learn more at www.mckinstry.com.                                                                  1\n",
       "Under construction starting 09/2014 (old building demolished) and ending 9/2017. New Buildings (two) re-open 9/2017. Year built changed from 1953 to 2017.                                                                                                         1\n",
       "Under construction starting 6/2013 (old building demolished) and ending 9/2016. New Building re-opened 9/2016. Year built changed from 1948 to 2016.                                                                                                               1\n",
       "Name: Comment, dtype: int64"
      ]
     },
     "metadata": {},
     "output_type": "display_data"
    },
    {
     "data": {
      "text/plain": [
       "None"
      ]
     },
     "metadata": {},
     "output_type": "display_data"
    },
    {
     "name": "stdout",
     "output_type": "stream",
     "text": [
      "\n",
      "\n"
     ]
    },
    {
     "data": {
      "text/plain": [
       "'ComplianceStatus'"
      ]
     },
     "metadata": {},
     "output_type": "display_data"
    },
    {
     "data": {
      "text/plain": [
       "Compliant        3337\n",
       "Not Compliant       3\n",
       "Name: ComplianceStatus, dtype: int64"
      ]
     },
     "metadata": {},
     "output_type": "display_data"
    },
    {
     "data": {
      "text/plain": [
       "None"
      ]
     },
     "metadata": {},
     "output_type": "display_data"
    },
    {
     "name": "stdout",
     "output_type": "stream",
     "text": [
      "\n",
      "\n"
     ]
    },
    {
     "data": {
      "text/plain": [
       "'DefaultData'"
      ]
     },
     "metadata": {},
     "output_type": "display_data"
    },
    {
     "data": {
      "text/plain": [
       "No     2791\n",
       "Yes     548\n",
       "Name: DefaultData, dtype: int64"
      ]
     },
     "metadata": {},
     "output_type": "display_data"
    },
    {
     "data": {
      "text/plain": [
       "None"
      ]
     },
     "metadata": {},
     "output_type": "display_data"
    },
    {
     "name": "stdout",
     "output_type": "stream",
     "text": [
      "\n",
      "\n"
     ]
    },
    {
     "data": {
      "text/plain": [
       "'LargestPropertyUseType'"
      ]
     },
     "metadata": {},
     "output_type": "display_data"
    },
    {
     "data": {
      "text/plain": [
       "Multifamily Housing                                     1598\n",
       "Office                                                   479\n",
       "Non-Refrigerated Warehouse                               194\n",
       "K-12 School                                              136\n",
       "Other                                                    104\n",
       "Retail Store                                              99\n",
       "Worship Facility                                          70\n",
       "Hotel                                                     68\n",
       "Distribution Center                                       52\n",
       "Medical Office                                            43\n",
       "Senior Care Community                                     42\n",
       "Supermarket/Grocery Store                                 37\n",
       "Parking                                                   28\n",
       "Self-Storage Facility                                     27\n",
       "College/University                                        21\n",
       "Other - Recreation                                        20\n",
       "Other - Entertainment/Public Assembly                     20\n",
       "Residence Hall/Dormitory                                  16\n",
       "Refrigerated Warehouse                                    12\n",
       "Restaurant                                                12\n",
       "Social/Meeting Hall                                       10\n",
       "Hospital (General Medical & Surgical)                      9\n",
       "Laboratory                                                 9\n",
       "Automobile Dealership                                      6\n",
       "Manufacturing/Industrial Plant                             6\n",
       "Strip Mall                                                 6\n",
       "Repair Services (Vehicle, Shoe, Locksmith, etc)            6\n",
       "Other - Lodging/Residential                                6\n",
       "Other - Services                                           5\n",
       "Museum                                                     5\n",
       "Urgent Care/Clinic/Other Outpatient                        4\n",
       "Other - Education                                          4\n",
       "Library                                                    4\n",
       "Bank Branch                                                4\n",
       "Other/Specialty Hospital                                   4\n",
       "Performing Arts                                            4\n",
       "Fitness Center/Health Club/Gym                             4\n",
       "Financial Office                                           3\n",
       "Other - Mall                                               3\n",
       "Data Center                                                2\n",
       "Other - Public Services                                    2\n",
       "Adult Education                                            2\n",
       "Other - Restaurant/Bar                                     2\n",
       "Pre-school/Daycare                                         2\n",
       "Lifestyle Center                                           2\n",
       "Other - Utility                                            2\n",
       "Personal Services (Health/Beauty, Dry Cleaning, etc)       1\n",
       "Courthouse                                                 1\n",
       "Wholesale Club/Supercenter                                 1\n",
       "Fire Station                                               1\n",
       "Food Service                                               1\n",
       "Police Station                                             1\n",
       "Residential Care Facility                                  1\n",
       "Outpatient Rehabilitation/Physical Therapy                 1\n",
       "Convention Center                                          1\n",
       "Movie Theater                                              1\n",
       "Name: LargestPropertyUseType, dtype: int64"
      ]
     },
     "metadata": {},
     "output_type": "display_data"
    },
    {
     "data": {
      "text/plain": [
       "None"
      ]
     },
     "metadata": {},
     "output_type": "display_data"
    },
    {
     "name": "stdout",
     "output_type": "stream",
     "text": [
      "\n",
      "\n"
     ]
    },
    {
     "data": {
      "text/plain": [
       "'ListOfAllPropertyUseTypes'"
      ]
     },
     "metadata": {},
     "output_type": "display_data"
    },
    {
     "data": {
      "text/plain": [
       "Multifamily Housing                                                                                                                                                                               862\n",
       "Multifamily Housing, Parking                                                                                                                                                                      406\n",
       "K-12 School                                                                                                                                                                                       133\n",
       "Office                                                                                                                                                                                            132\n",
       "Office, Parking                                                                                                                                                                                   112\n",
       "Non-Refrigerated Warehouse                                                                                                                                                                         98\n",
       "Other                                                                                                                                                                                              62\n",
       "Non-Refrigerated Warehouse, Office                                                                                                                                                                 60\n",
       "Retail Store                                                                                                                                                                                       53\n",
       "Multifamily Housing, Retail Store                                                                                                                                                                  52\n",
       "Multifamily Housing, Parking, Retail Store                                                                                                                                                         52\n",
       "Worship Facility                                                                                                                                                                                   48\n",
       "Office, Retail Store                                                                                                                                                                               42\n",
       "Multifamily Housing, Office, Parking                                                                                                                                                               39\n",
       "Hotel                                                                                                                                                                                              36\n",
       "Multifamily Housing, Office                                                                                                                                                                        24\n",
       "Self-Storage Facility                                                                                                                                                                              23\n",
       "Distribution Center                                                                                                                                                                                23\n",
       "Medical Office                                                                                                                                                                                     23\n",
       "Supermarket/Grocery Store                                                                                                                                                                          20\n",
       "Office, Other                                                                                                                                                                                      20\n",
       "Office, Other, Parking                                                                                                                                                                             19\n",
       "College/University                                                                                                                                                                                 18\n",
       "Distribution Center, Office                                                                                                                                                                        17\n",
       "Parking, Senior Care Community                                                                                                                                                                     17\n",
       "Senior Care Community                                                                                                                                                                              17\n",
       "Non-Refrigerated Warehouse, Office, Retail Store                                                                                                                                                   15\n",
       "Parking, Supermarket/Grocery Store                                                                                                                                                                 14\n",
       "Multifamily Housing, Parking, Swimming Pool                                                                                                                                                        14\n",
       "Medical Office, Parking                                                                                                                                                                            13\n",
       "Office, Restaurant                                                                                                                                                                                 13\n",
       "Office, Parking, Retail Store                                                                                                                                                                      13\n",
       "Hotel, Parking                                                                                                                                                                                     12\n",
       "Residence Hall/Dormitory                                                                                                                                                                           11\n",
       "Other - Entertainment/Public Assembly                                                                                                                                                              10\n",
       "Other, Retail Store                                                                                                                                                                                10\n",
       "Other, Parking                                                                                                                                                                                     10\n",
       "Parking, Worship Facility                                                                                                                                                                          10\n",
       "Non-Refrigerated Warehouse, Office, Other                                                                                                                                                           8\n",
       "Multifamily Housing, Office, Other, Parking                                                                                                                                                         7\n",
       "Multifamily Housing, Office, Parking, Retail Store                                                                                                                                                  7\n",
       "Office, Restaurant, Retail Store                                                                                                                                                                    7\n",
       "Multifamily Housing, Other                                                                                                                                                                          7\n",
       "Data Center, Office                                                                                                                                                                                 7\n",
       "Laboratory, Office, Parking                                                                                                                                                                         7\n",
       "Other - Recreation                                                                                                                                                                                  7\n",
       "Multifamily Housing, Restaurant                                                                                                                                                                     6\n",
       "Refrigerated Warehouse                                                                                                                                                                              6\n",
       "Multifamily Housing, Parking, Restaurant                                                                                                                                                            6\n",
       "Parking, Retail Store                                                                                                                                                                               6\n",
       "Non-Refrigerated Warehouse, Retail Store                                                                                                                                                            6\n",
       "Office, Other, Retail Store                                                                                                                                                                         5\n",
       "Multifamily Housing, Swimming Pool                                                                                                                                                                  5\n",
       "Hotel, Parking, Swimming Pool                                                                                                                                                                       5\n",
       "Multifamily Housing, Restaurant, Retail Store                                                                                                                                                       5\n",
       "Office, Parking, Restaurant                                                                                                                                                                         5\n",
       "Manufacturing/Industrial Plant                                                                                                                                                                      5\n",
       "Multifamily Housing, Office, Retail Store                                                                                                                                                           5\n",
       "Multifamily Housing, Office, Restaurant                                                                                                                                                             5\n",
       "Multifamily Housing, Office, Other                                                                                                                                                                  5\n",
       "Hospital (General Medical & Surgical), Parking                                                                                                                                                      5\n",
       "Social/Meeting Hall                                                                                                                                                                                 5\n",
       "Data Center, Office, Parking                                                                                                                                                                        5\n",
       "Restaurant                                                                                                                                                                                          5\n",
       "Parking, Retail Store, Supermarket/Grocery Store                                                                                                                                                    4\n",
       "Office, Other, Parking, Restaurant                                                                                                                                                                  4\n",
       "Other/Specialty Hospital                                                                                                                                                                            4\n",
       "Hotel, Restaurant                                                                                                                                                                                   4\n",
       "Office, Other - Services                                                                                                                                                                            4\n",
       "Non-Refrigerated Warehouse, Parking                                                                                                                                                                 4\n",
       "Data Center, Office, Retail Store                                                                                                                                                                   4\n",
       "Repair Services (Vehicle, Shoe, Locksmith, etc)                                                                                                                                                     4\n",
       "Medical Office, Office, Parking                                                                                                                                                                     4\n",
       "Other - Lodging/Residential                                                                                                                                                                         4\n",
       "Hospital (General Medical & Surgical)                                                                                                                                                               4\n",
       "Office, Other, Parking, Retail Store                                                                                                                                                                4\n",
       "Urgent Care/Clinic/Other Outpatient                                                                                                                                                                 4\n",
       "Lifestyle Center, Multifamily Housing, Office, Parking                                                                                                                                              3\n",
       "Non-Refrigerated Warehouse, Office, Other, Retail Store                                                                                                                                             3\n",
       "Office, Social/Meeting Hall                                                                                                                                                                         3\n",
       "Laboratory, Office                                                                                                                                                                                  3\n",
       "Performing Arts                                                                                                                                                                                     3\n",
       "Non-Refrigerated Warehouse, Office, Other - Services                                                                                                                                                3\n",
       "Non-Refrigerated Warehouse, Other - Services                                                                                                                                                        3\n",
       "K-12 School, Parking                                                                                                                                                                                3\n",
       "Distribution Center, Non-Refrigerated Warehouse, Office                                                                                                                                             3\n",
       "Non-Refrigerated Warehouse, Other, Retail Store                                                                                                                                                     3\n",
       "Bank Branch, Office                                                                                                                                                                                 3\n",
       "Medical Office, Multifamily Housing, Parking                                                                                                                                                        3\n",
       "Parking, Strip Mall                                                                                                                                                                                 3\n",
       "Office, Worship Facility                                                                                                                                                                            3\n",
       "Laboratory                                                                                                                                                                                          3\n",
       "Distribution Center, Office, Retail Store                                                                                                                                                           3\n",
       "Non-Refrigerated Warehouse, Office, Parking                                                                                                                                                         3\n",
       "Distribution Center, Parking                                                                                                                                                                        3\n",
       "Multifamily Housing, Parking, Supermarket/Grocery Store                                                                                                                                             3\n",
       "Automobile Dealership                                                                                                                                                                               3\n",
       "Automobile Dealership, Parking                                                                                                                                                                      3\n",
       "Museum                                                                                                                                                                                              3\n",
       "Office, Repair Services (Vehicle, Shoe, Locksmith, etc)                                                                                                                                             2\n",
       "Multifamily Housing, Office, Other - Lodging/Residential, Retail Store                                                                                                                              2\n",
       "Multifamily Housing, Non-Refrigerated Warehouse, Parking                                                                                                                                            2\n",
       "Multifamily Housing, Parking, Restaurant, Retail Store                                                                                                                                              2\n",
       "Parking, Self-Storage Facility                                                                                                                                                                      2\n",
       "Distribution Center, Non-Refrigerated Warehouse                                                                                                                                                     2\n",
       "Library, Other - Services                                                                                                                                                                           2\n",
       "Bank Branch                                                                                                                                                                                         2\n",
       "Non-Refrigerated Warehouse, Other                                                                                                                                                                   2\n",
       "Multifamily Housing, Office, Parking, Restaurant                                                                                                                                                    2\n",
       "Medical Office, Office                                                                                                                                                                              2\n",
       "Bank Branch, Parking                                                                                                                                                                                2\n",
       "Hotel, Retail Store                                                                                                                                                                                 2\n",
       "Medical Office, Multifamily Housing, Office, Other, Parking                                                                                                                                         2\n",
       "Other, Worship Facility                                                                                                                                                                             2\n",
       "Other - Public Services, Parking                                                                                                                                                                    2\n",
       "Office, Other - Recreation                                                                                                                                                                          2\n",
       "Multifamily Housing, Office, Other, Parking, Retail Store                                                                                                                                           2\n",
       "Multifamily Housing, Parking, Personal Services (Health/Beauty, Dry Cleaning, etc), Restaurant                                                                                                      2\n",
       "Multifamily Housing, Other - Entertainment/Public Assembly                                                                                                                                          2\n",
       "Multifamily Housing, Other, Parking                                                                                                                                                                 2\n",
       "Retail Store, Supermarket/Grocery Store                                                                                                                                                             2\n",
       "Bank Branch, Office, Parking                                                                                                                                                                        2\n",
       "Hotel, Parking, Restaurant                                                                                                                                                                          2\n",
       "Medical Office, Multifamily Housing, Office, Parking, Restaurant                                                                                                                                    2\n",
       "Medical Office, Office, Retail Store                                                                                                                                                                2\n",
       "Data Center, Distribution Center, Office, Other                                                                                                                                                     2\n",
       "Office, Other - Entertainment/Public Assembly, Restaurant                                                                                                                                           2\n",
       "Strip Mall                                                                                                                                                                                          2\n",
       "Office, Refrigerated Warehouse                                                                                                                                                                      2\n",
       "Restaurant, Retail Store                                                                                                                                                                            2\n",
       "Fitness Center/Health Club/Gym, Office                                                                                                                                                              2\n",
       "Multifamily Housing, Parking, Social/Meeting Hall                                                                                                                                                   2\n",
       "Food Service, Multifamily Housing, Parking                                                                                                                                                          2\n",
       "Fitness Center/Health Club/Gym, Swimming Pool                                                                                                                                                       2\n",
       "Fitness Center/Health Club/Gym, Office, Other - Recreation, Pre-school/Daycare                                                                                                                      2\n",
       "Food Service, Multifamily Housing                                                                                                                                                                   2\n",
       "K-12 School, Worship Facility                                                                                                                                                                       2\n",
       "College/University, Parking                                                                                                                                                                         2\n",
       "Multifamily Housing, Non-Refrigerated Warehouse                                                                                                                                                     2\n",
       "Multifamily Housing, Parking, Senior Care Community                                                                                                                                                 2\n",
       "Other - Entertainment/Public Assembly, Parking                                                                                                                                                      2\n",
       "Fitness Center/Health Club/Gym, Other - Recreation, Swimming Pool                                                                                                                                   2\n",
       "Multifamily Housing, Office, Parking, Swimming Pool                                                                                                                                                 2\n",
       "Data Center, Office, Other                                                                                                                                                                          2\n",
       "Multifamily Housing, Parking, Retail Store, Swimming Pool                                                                                                                                           2\n",
       "Multifamily Housing, Non-Refrigerated Warehouse, Office, Parking                                                                                                                                    2\n",
       "Bar/Nightclub, Multifamily Housing, Parking                                                                                                                                                         1\n",
       "Office, Other, Other - Entertainment/Public Assembly                                                                                                                                                1\n",
       "Multifamily Housing, Office, Parking, Restaurant, Retail Store, Swimming Pool, Urgent Care/Clinic/Other Outpatient                                                                                  1\n",
       "Hotel, Multifamily Housing, Parking, Retail Store                                                                                                                                                   1\n",
       "Fitness Center/Health Club/Gym, Office, Other - Recreation                                                                                                                                          1\n",
       "Food Service, Other, Other - Education, Other - Entertainment/Public Assembly, Other - Recreation, Social/Meeting Hall                                                                              1\n",
       "Pre-school/Daycare                                                                                                                                                                                  1\n",
       "Enclosed Mall, Manufacturing/Industrial Plant, Office, Other - Restaurant/Bar                                                                                                                       1\n",
       "Food Service, Non-Refrigerated Warehouse, Retail Store                                                                                                                                              1\n",
       "Hospital (General Medical & Surgical), Multifamily Housing, Parking                                                                                                                                 1\n",
       "Office, Other, Other - Services, Residence Hall/Dormitory, Restaurant                                                                                                                               1\n",
       "Hotel, Parking, Retail Store                                                                                                                                                                        1\n",
       "Multifamily Housing, Other, Parking, Urgent Care/Clinic/Other Outpatient                                                                                                                            1\n",
       "Movie Theater, Other - Restaurant/Bar, Parking                                                                                                                                                      1\n",
       "Other - Education                                                                                                                                                                                   1\n",
       "Hotel, Swimming Pool                                                                                                                                                                                1\n",
       "Data Center, Office, Other, Restaurant                                                                                                                                                              1\n",
       "Multifamily Housing, Non-Refrigerated Warehouse, Office, Restaurant                                                                                                                                 1\n",
       "Data Center, Office, Restaurant                                                                                                                                                                     1\n",
       "Office, Senior Care Community                                                                                                                                                                       1\n",
       "Fast Food Restaurant, Other, Other - Entertainment/Public Assembly                                                                                                                                  1\n",
       "Office, Other, Restaurant                                                                                                                                                                           1\n",
       "Medical Office, Non-Refrigerated Warehouse, Office, Retail Store                                                                                                                                    1\n",
       "Fast Food Restaurant, Multifamily Housing, Parking                                                                                                                                                  1\n",
       "Multifamily Housing, Other/Specialty Hospital                                                                                                                                                       1\n",
       "Non-Refrigerated Warehouse, Office, Other, Parking, Retail Store                                                                                                                                    1\n",
       "Data Center, Library, Non-Refrigerated Warehouse, Office, Other - Entertainment/Public Assembly, Other - Recreation, Other - Services, Restaurant, Social/Meeting Hall                              1\n",
       "Non-Refrigerated Warehouse, Worship Facility                                                                                                                                                        1\n",
       "Office, Parking, Refrigerated Warehouse                                                                                                                                                             1\n",
       "Multifamily Housing, Other, Restaurant                                                                                                                                                              1\n",
       "Medical Office, Multifamily Housing, Other - Restaurant/Bar                                                                                                                                         1\n",
       "Other, Restaurant, Retail Store                                                                                                                                                                     1\n",
       "Office, Other - Public Services, Personal Services (Health/Beauty, Dry Cleaning, etc), Senior Care Community                                                                                        1\n",
       "Bar/Nightclub, Multifamily Housing, Other - Restaurant/Bar, Restaurant, Retail Store                                                                                                                1\n",
       "Other, Refrigerated Warehouse                                                                                                                                                                       1\n",
       "Other - Services, Retail Store                                                                                                                                                                      1\n",
       "Laboratory, Office, Other, Parking                                                                                                                                                                  1\n",
       "Data Center, Laboratory                                                                                                                                                                             1\n",
       "Multifamily Housing, Office, Other, Parking, Performing Arts, Restaurant                                                                                                                            1\n",
       "Data Center, Multifamily Housing, Office, Other, Parking                                                                                                                                            1\n",
       "Medical Office, Retail Store                                                                                                                                                                        1\n",
       "Data Center, Office, Other, Parking, Restaurant                                                                                                                                                     1\n",
       "Non-Refrigerated Warehouse, Office, Other, Other - Entertainment/Public Assembly, Parking                                                                                                           1\n",
       "Data Center, Distribution Center, Office, Parking, Retail Store                                                                                                                                     1\n",
       "Bank Branch, Medical Office, Parking, Retail Store                                                                                                                                                  1\n",
       "Wholesale Club/Supercenter                                                                                                                                                                          1\n",
       "Other, Parking, Restaurant                                                                                                                                                                          1\n",
       "Medical Office, Multifamily Housing, Other - Restaurant/Bar, Retail Store                                                                                                                           1\n",
       "Data Center, Parking                                                                                                                                                                                1\n",
       "Food Sales, Non-Refrigerated Warehouse, Office                                                                                                                                                      1\n",
       "Non-Refrigerated Warehouse, Office, Other - Services, Residence Hall/Dormitory                                                                                                                      1\n",
       "Parking, Pre-school/Daycare                                                                                                                                                                         1\n",
       "Non-Refrigerated Warehouse, Office, Self-Storage Facility                                                                                                                                           1\n",
       "Distribution Center, Non-Refrigerated Warehouse, Office, Retail Store                                                                                                                               1\n",
       "Office, Other - Entertainment/Public Assembly                                                                                                                                                       1\n",
       "Bank Branch, Multifamily Housing, Parking, Restaurant, Strip Mall                                                                                                                                   1\n",
       "Food Sales, Multifamily Housing, Office, Other - Education, Other - Restaurant/Bar, Pre-school/Daycare, Restaurant, Retail Store, Supermarket/Grocery Store                                         1\n",
       "Bar/Nightclub, Multifamily Housing                                                                                                                                                                  1\n",
       "Fitness Center/Health Club/Gym, Office, Other - Recreation, Other - Technology/Science, Parking, Pre-school/Daycare                                                                                 1\n",
       "Multifamily Housing, Office, Other, Other - Lodging/Residential, Worship Facility                                                                                                                   1\n",
       "Other - Education, Worship Facility                                                                                                                                                                 1\n",
       "Multifamily Housing, Office, Other - Entertainment/Public Assembly, Parking                                                                                                                         1\n",
       "Office, Other - Restaurant/Bar, Retail Store, Single Family Home                                                                                                                                    1\n",
       "Office, Performing Arts, Retail Store                                                                                                                                                               1\n",
       "Data Center, Financial Office, Office, Parking, Restaurant                                                                                                                                          1\n",
       "Non-Refrigerated Warehouse, Office, Refrigerated Warehouse                                                                                                                                          1\n",
       "Other - Education, Performing Arts, Social/Meeting Hall                                                                                                                                             1\n",
       "Financial Office, Medical Office, Parking                                                                                                                                                           1\n",
       "Hotel, Other, Parking, Restaurant, Retail Store                                                                                                                                                     1\n",
       "Medical Office, Multifamily Housing, Supermarket/Grocery Store                                                                                                                                      1\n",
       "Museum, Parking                                                                                                                                                                                     1\n",
       "Other - Lodging/Residential, Parking                                                                                                                                                                1\n",
       "Hotel, Parking, Retail Store, Swimming Pool                                                                                                                                                         1\n",
       "Automobile Dealership, Office                                                                                                                                                                       1\n",
       "Office, Parking, Self-Storage Facility                                                                                                                                                              1\n",
       "Convention Center, Parking                                                                                                                                                                          1\n",
       "Data Center, Office, Parking, Restaurant, Retail Store                                                                                                                                              1\n",
       "Financial Office, Food Sales, Office, Other, Parking                                                                                                                                                1\n",
       "Distribution Center, Office, Parking                                                                                                                                                                1\n",
       "Financial Office, Office, Other, Parking, Restaurant                                                                                                                                                1\n",
       "Courthouse                                                                                                                                                                                          1\n",
       "Office, Residence Hall/Dormitory                                                                                                                                                                    1\n",
       "Fitness Center/Health Club/Gym, Medical Office, Office, Parking, Restaurant                                                                                                                         1\n",
       "Non-Refrigerated Warehouse, Other, Restaurant, Retail Store                                                                                                                                         1\n",
       "Medical Office, Non-Refrigerated Warehouse                                                                                                                                                          1\n",
       "Hotel, Other - Entertainment/Public Assembly, Retail Store                                                                                                                                          1\n",
       "Non-Refrigerated Warehouse, Office, Social/Meeting Hall                                                                                                                                             1\n",
       "Fast Food Restaurant, Multifamily Housing, Office, Other, Restaurant, Retail Store                                                                                                                  1\n",
       "Non-Refrigerated Warehouse, Office, Restaurant, Retail Store                                                                                                                                        1\n",
       "Office, Other - Lodging/Residential                                                                                                                                                                 1\n",
       "Office, Performing Arts, Restaurant, Retail Store, Self-Storage Facility                                                                                                                            1\n",
       "Medical Office, Multifamily Housing, Office, Other, Parking, Restaurant, Self-Storage Facility                                                                                                      1\n",
       "Bank Branch, Multifamily Housing, Office, Other, Retail Store                                                                                                                                       1\n",
       "Multifamily Housing, Office, Other - Services                                                                                                                                                       1\n",
       "Food Sales, Manufacturing/Industrial Plant, Office, Other - Entertainment/Public Assembly, Other - Restaurant/Bar, Restaurant, Retail Store, Self-Storage Facility                                  1\n",
       "Hotel, Parking, Restaurant, Retail Store                                                                                                                                                            1\n",
       "K-12 School, Multifamily Housing, Office                                                                                                                                                            1\n",
       "Office, Other - Restaurant/Bar, Parking, Retail Store                                                                                                                                               1\n",
       "Medical Office, Office, Supermarket/Grocery Store                                                                                                                                                   1\n",
       "Medical Office, Other, Parking                                                                                                                                                                      1\n",
       "Office, Other, Other - Entertainment/Public Assembly, Other - Recreation, Other - Utility, Restaurant, Retail Store                                                                                 1\n",
       "Office, Other - Technology/Science, Parking                                                                                                                                                         1\n",
       "Bar/Nightclub, Food Sales, Multifamily Housing, Restaurant, Retail Store, Self-Storage Facility                                                                                                     1\n",
       "K-12 School, Office, Social/Meeting Hall, Worship Facility                                                                                                                                          1\n",
       "Office, Restaurant, Self-Storage Facility                                                                                                                                                           1\n",
       "Non-Refrigerated Warehouse, Office, Other - Recreation, Restaurant                                                                                                                                  1\n",
       "K-12 School, Office, Supermarket/Grocery Store, Worship Facility                                                                                                                                    1\n",
       "Non-Refrigerated Warehouse, Office, Repair Services (Vehicle, Shoe, Locksmith, etc)                                                                                                                 1\n",
       "Hospital (General Medical & Surgical), Other                                                                                                                                                        1\n",
       "Food Service, Office, Parking, Restaurant                                                                                                                                                           1\n",
       "Office, Parking, Senior Care Community                                                                                                                                                              1\n",
       "Parking, Residence Hall/Dormitory                                                                                                                                                                   1\n",
       "Manufacturing/Industrial Plant, Office, Parking                                                                                                                                                     1\n",
       "Bank Branch, Senior Care Community                                                                                                                                                                  1\n",
       "Medical Office, Multifamily Housing, Office, Retail Store                                                                                                                                           1\n",
       "Hotel, Office, Retail Store                                                                                                                                                                         1\n",
       "Food Service, Office, Other - Lodging/Residential                                                                                                                                                   1\n",
       "Hotel, Multifamily Housing, Parking                                                                                                                                                                 1\n",
       "Manufacturing/Industrial Plant, Parking                                                                                                                                                             1\n",
       "Bank Branch, Financial Office                                                                                                                                                                       1\n",
       "Financial Office, Laboratory, Office, Parking                                                                                                                                                       1\n",
       "Financial Office, Multifamily Housing, Parking, Retail Store, Supermarket/Grocery Store                                                                                                             1\n",
       "Other - Recreation, Parking, Restaurant                                                                                                                                                             1\n",
       "Financial Office, Multifamily Housing, Retail Store                                                                                                                                                 1\n",
       "Medical Office, Office, Other, Restaurant, Retail Store                                                                                                                                             1\n",
       "Data Center, Office, Other, Parking                                                                                                                                                                 1\n",
       "Bar/Nightclub, Office, Personal Services (Health/Beauty, Dry Cleaning, etc)                                                                                                                         1\n",
       "Police Station                                                                                                                                                                                      1\n",
       "Multifamily Housing, Non-Refrigerated Warehouse, Office, Retail Store                                                                                                                               1\n",
       "K-12 School, Multifamily Housing, Office, Other - Entertainment/Public Assembly                                                                                                                     1\n",
       "Data Center, Medical Office, Non-Refrigerated Warehouse, Office, Other, Parking                                                                                                                     1\n",
       "Office, Other - Entertainment/Public Assembly, Restaurant, Urgent Care/Clinic/Other Outpatient                                                                                                      1\n",
       "Distribution Center, Non-Refrigerated Warehouse, Office, Other - Education, Parking                                                                                                                 1\n",
       "Financial Office, Multifamily Housing, Parking, Residence Hall/Dormitory                                                                                                                            1\n",
       "Distribution Center, Office, Refrigerated Warehouse                                                                                                                                                 1\n",
       "Medical Office, Multifamily Housing, Office, Restaurant, Retail Store                                                                                                                               1\n",
       "Office, Other, Other - Lodging/Residential, Restaurant, Social/Meeting Hall                                                                                                                         1\n",
       "Food Service, Multifamily Housing, Office                                                                                                                                                           1\n",
       "Multifamily Housing, Parking, Retail Store, Supermarket/Grocery Store                                                                                                                               1\n",
       "Adult Education, Parking                                                                                                                                                                            1\n",
       "Food Sales, Multifamily Housing, Restaurant, Retail Store                                                                                                                                           1\n",
       "Office, Other, Refrigerated Warehouse                                                                                                                                                               1\n",
       "Office, Parking, Pre-school/Daycare                                                                                                                                                                 1\n",
       "Multifamily Housing, Office, Parking, Personal Services (Health/Beauty, Dry Cleaning, etc), Restaurant, Retail Store                                                                                1\n",
       "Office, Other, Worship Facility                                                                                                                                                                     1\n",
       "Food Sales, Multifamily Housing, Other - Restaurant/Bar, Retail Store, Self-Storage Facility, Social/Meeting Hall                                                                                   1\n",
       "Multifamily Housing, Non-Refrigerated Warehouse, Office, Parking, Retail Store                                                                                                                      1\n",
       "Fitness Center/Health Club/Gym, Office, Swimming Pool                                                                                                                                               1\n",
       "Fast Food Restaurant, Fitness Center/Health Club/Gym, Medical Office, Multifamily Housing, Other, Parking, Personal Services (Health/Beauty, Dry Cleaning, etc), Restaurant                         1\n",
       "Financial Office, Food Service, Multifamily Housing, Other, Parking                                                                                                                                 1\n",
       "Bank Branch, Office, Parking, Restaurant                                                                                                                                                            1\n",
       "Bank Branch, Other, Parking                                                                                                                                                                         1\n",
       "Financial Office                                                                                                                                                                                    1\n",
       "Food Sales, Multifamily Housing, Parking                                                                                                                                                            1\n",
       "Non-Refrigerated Warehouse, Office, Other, Other - Services                                                                                                                                         1\n",
       "Restaurant, Senior Care Community                                                                                                                                                                   1\n",
       "Outpatient Rehabilitation/Physical Therapy, Parking                                                                                                                                                 1\n",
       "Fire Station                                                                                                                                                                                        1\n",
       "Food Service, Office, Other - Entertainment/Public Assembly                                                                                                                                         1\n",
       "Medical Office, Non-Refrigerated Warehouse, Office, Other                                                                                                                                           1\n",
       "Office, Residence Hall/Dormitory, Retail Store                                                                                                                                                      1\n",
       "Other - Recreation, Self-Storage Facility                                                                                                                                                           1\n",
       "Food Service, Multifamily Housing, Other, Other - Entertainment/Public Assembly, Restaurant, Retail Store                                                                                           1\n",
       "Food Service                                                                                                                                                                                        1\n",
       "Non-Refrigerated Warehouse, Other, Refrigerated Warehouse                                                                                                                                           1\n",
       "Food Sales, Office, Restaurant, Retail Store, Self-Storage Facility, Social/Meeting Hall                                                                                                            1\n",
       "Adult Education, Bank Branch, Office, Parking                                                                                                                                                       1\n",
       "K-12 School, Office, Retail Store                                                                                                                                                                   1\n",
       "Food Service, Medical Office, Multifamily Housing, Office                                                                                                                                           1\n",
       "Financial Office, Office, Other, Parking, Restaurant, Retail Store                                                                                                                                  1\n",
       "Office, Restaurant, Supermarket/Grocery Store                                                                                                                                                       1\n",
       "Data Center, Library, Parking                                                                                                                                                                       1\n",
       "Non-Refrigerated Warehouse, Parking, Repair Services (Vehicle, Shoe, Locksmith, etc), Retail Store                                                                                                  1\n",
       "Fitness Center/Health Club/Gym, Office, Parking, Restaurant                                                                                                                                         1\n",
       "Multifamily Housing, Non-Refrigerated Warehouse, Office, Parking, Retail Store, Worship Facility                                                                                                    1\n",
       "College/University, Medical Office                                                                                                                                                                  1\n",
       "Other - Education, Parking                                                                                                                                                                          1\n",
       "Other - Entertainment/Public Assembly, Restaurant                                                                                                                                                   1\n",
       "Bank Branch, Office, Other, Parking, Restaurant                                                                                                                                                     1\n",
       "Office, Other - Services, Parking                                                                                                                                                                   1\n",
       "Multifamily Housing, Office, Swimming Pool                                                                                                                                                          1\n",
       "Office, Other - Restaurant/Bar                                                                                                                                                                      1\n",
       "Financial Office, Food Service, Office, Other, Parking                                                                                                                                              1\n",
       "Office, Other - Education                                                                                                                                                                           1\n",
       "Fitness Center/Health Club/Gym, Office, Other - Education, Other - Recreation, Other - Technology/Science, Pre-school/Daycare, Swimming Pool                                                        1\n",
       "Convenience Store without Gas Station, Food Service, Office                                                                                                                                         1\n",
       "Medical Office, Parking, Retail Store                                                                                                                                                               1\n",
       "Fitness Center/Health Club/Gym, Office, Other - Recreation, Other - Technology/Science, Pre-school/Daycare, Swimming Pool                                                                           1\n",
       "Multifamily Housing, Office, Restaurant, Retail Store, Social/Meeting Hall, Supermarket/Grocery Store                                                                                               1\n",
       "Medical Office, Office, Other, Other - Services, Parking, Retail Store                                                                                                                              1\n",
       "Other - Entertainment/Public Assembly, Restaurant, Retail Store                                                                                                                                     1\n",
       "Office, Restaurant, Retail Store, Self-Storage Facility                                                                                                                                             1\n",
       "Parking, Senior Care Community, Worship Facility                                                                                                                                                    1\n",
       "Manufacturing/Industrial Plant, Office, Retail Store                                                                                                                                                1\n",
       "Other, Other - Entertainment/Public Assembly, Self-Storage Facility                                                                                                                                 1\n",
       "Other, Parking, Restaurant, Retail Store                                                                                                                                                            1\n",
       "College/University, Restaurant                                                                                                                                                                      1\n",
       "Office, Supermarket/Grocery Store                                                                                                                                                                   1\n",
       "Financial Office, Hotel, Multifamily Housing, Other, Parking, Restaurant, Supermarket/Grocery Store                                                                                                 1\n",
       "Data Center, Office, Parking, Restaurant                                                                                                                                                            1\n",
       "Non-Refrigerated Warehouse, Office, Other, Other - Recreation, Other - Services, Restaurant                                                                                                         1\n",
       "Non-Refrigerated Warehouse, Other, Parking, Retail Store                                                                                                                                            1\n",
       "Office, Repair Services (Vehicle, Shoe, Locksmith, etc), Retail Store                                                                                                                               1\n",
       "Adult Education, Fitness Center/Health Club/Gym, Office, Other - Restaurant/Bar, Parking, Retail Store                                                                                              1\n",
       "Office, Other - Education, Parking                                                                                                                                                                  1\n",
       "Lifestyle Center                                                                                                                                                                                    1\n",
       "Multifamily Housing, Retail Store, Social/Meeting Hall                                                                                                                                              1\n",
       "Data Center, Office, Other, Other - Entertainment/Public Assembly                                                                                                                                   1\n",
       "Laboratory, Other                                                                                                                                                                                   1\n",
       "Financial Office, Multifamily Housing, Parking, Supermarket/Grocery Store                                                                                                                           1\n",
       "Convenience Store without Gas Station, Laboratory, Parking                                                                                                                                          1\n",
       "Multifamily Housing, Other - Restaurant/Bar, Parking, Restaurant                                                                                                                                    1\n",
       "Multifamily Housing, Office, Other - Mall, Parking, Restaurant                                                                                                                                      1\n",
       "Food Service, Other - Services, Retail Store, Supermarket/Grocery Store                                                                                                                             1\n",
       "Fast Food Restaurant, Multifamily Housing, Retail Store                                                                                                                                             1\n",
       "Office, Other - Utility, Parking                                                                                                                                                                    1\n",
       "Food Service, Office, Parking                                                                                                                                                                       1\n",
       "Multifamily Housing, Office, Other, Other - Recreation, Parking, Restaurant                                                                                                                         1\n",
       "Food Service, Multifamily Housing, Office, Other, Retail Store                                                                                                                                      1\n",
       "Multifamily Housing, Other - Recreation, Parking, Restaurant                                                                                                                                        1\n",
       "Multifamily Housing, Parking, Retail Store, Senior Care Community                                                                                                                                   1\n",
       "Convenience Store without Gas Station, Data Center, Financial Office, Fitness Center/Health Club/Gym, Office, Other, Parking, Personal Services (Health/Beauty, Dry Cleaning, etc), Restaurant      1\n",
       "Multifamily Housing, Non-Refrigerated Warehouse, Parking, Residence Hall/Dormitory                                                                                                                  1\n",
       "Other - Recreation, Worship Facility                                                                                                                                                                1\n",
       "Fitness Center/Health Club/Gym, Office, Parking                                                                                                                                                     1\n",
       "Data Center, Distribution Center, Office, Other, Parking                                                                                                                                            1\n",
       "Multifamily Housing, Office, Other, Strip Mall                                                                                                                                                      1\n",
       "Data Center, Medical Office, Office, Parking, Restaurant                                                                                                                                            1\n",
       "Fitness Center/Health Club/Gym, Multifamily Housing, Parking, Restaurant                                                                                                                            1\n",
       "Office, Retail Store, Social/Meeting Hall                                                                                                                                                           1\n",
       "Distribution Center, Non-Refrigerated Warehouse, Refrigerated Warehouse                                                                                                                             1\n",
       "Multifamily Housing, Retail Store, Self-Storage Facility, Supermarket/Grocery Store                                                                                                                 1\n",
       "Adult Education                                                                                                                                                                                     1\n",
       "Distribution Center, Office, Other                                                                                                                                                                  1\n",
       "Office, Other, Retail Store, Swimming Pool                                                                                                                                                          1\n",
       "Distribution Center, Non-Refrigerated Warehouse, Supermarket/Grocery Store                                                                                                                          1\n",
       "Non-Refrigerated Warehouse, Office, Other - Recreation                                                                                                                                              1\n",
       "Food Service, Hotel, Parking                                                                                                                                                                        1\n",
       "Multifamily Housing, Other, Retail Store                                                                                                                                                            1\n",
       "Multifamily Housing, Museum                                                                                                                                                                         1\n",
       "Multifamily Housing, Other - Restaurant/Bar, Parking, Retail Store                                                                                                                                  1\n",
       "Other - Mall, Parking                                                                                                                                                                               1\n",
       "Other - Entertainment/Public Assembly, Parking, Social/Meeting Hall, Swimming Pool                                                                                                                  1\n",
       "Multifamily Housing, Other, Parking, Retail Store                                                                                                                                                   1\n",
       "Bank Branch, Multifamily Housing, Other - Restaurant/Bar, Supermarket/Grocery Store                                                                                                                 1\n",
       "Medical Office, Other/Specialty Hospital, Outpatient Rehabilitation/Physical Therapy, Parking                                                                                                       1\n",
       "Other - Services                                                                                                                                                                                    1\n",
       "Movie Theater                                                                                                                                                                                       1\n",
       "Parking, Restaurant                                                                                                                                                                                 1\n",
       "Office, Other, Other - Restaurant/Bar, Parking                                                                                                                                                      1\n",
       "Lifestyle Center, Medical Office                                                                                                                                                                    1\n",
       "Other - Mall, Restaurant                                                                                                                                                                            1\n",
       "Multifamily Housing, Other - Education, Other - Entertainment/Public Assembly, Other - Restaurant/Bar                                                                                               1\n",
       "Multifamily Housing, Parking, Restaurant, Swimming Pool                                                                                                                                             1\n",
       "Office, Parking, Residence Hall/Dormitory, Restaurant, Social/Meeting Hall                                                                                                                          1\n",
       "Distribution Center, Office, Other, Other - Recreation, Parking                                                                                                                                     1\n",
       "Financial Office, Food Service, Office, Other                                                                                                                                                       1\n",
       "Hotel, Multifamily Housing, Retail Store                                                                                                                                                            1\n",
       "Office, Other - Public Services                                                                                                                                                                     1\n",
       "Bank Branch, Bar/Nightclub, Office, Parking                                                                                                                                                         1\n",
       "Data Center, Financial Office, Office, Other, Parking, Restaurant                                                                                                                                   1\n",
       "Library, Parking                                                                                                                                                                                    1\n",
       "Convenience Store without Gas Station, Office, Parking                                                                                                                                              1\n",
       "Multifamily Housing, Office, Parking, Residence Hall/Dormitory, Retail Store                                                                                                                        1\n",
       "Food Service, Library, Office, Parking                                                                                                                                                              1\n",
       "Fast Food Restaurant, Medical Office, Movie Theater, Parking, Retail Store                                                                                                                          1\n",
       "Other, Personal Services (Health/Beauty, Dry Cleaning, etc), Restaurant, Retail Store                                                                                                               1\n",
       "Library, Multifamily Housing, Office, Other - Entertainment/Public Assembly, Parking, Restaurant                                                                                                    1\n",
       "Office, Other - Restaurant/Bar, Parking                                                                                                                                                             1\n",
       "Non-Refrigerated Warehouse, Office, Other - Services, Retail Store                                                                                                                                  1\n",
       "Residential Care Facility                                                                                                                                                                           1\n",
       "Multifamily Housing, Office, Restaurant, Retail Store                                                                                                                                               1\n",
       "Multifamily Housing, Senior Care Community                                                                                                                                                          1\n",
       "Fitness Center/Health Club/Gym, Office, Other, Parking, Restaurant                                                                                                                                  1\n",
       "Personal Services (Health/Beauty, Dry Cleaning, etc)                                                                                                                                                1\n",
       "Medical Office, Office, Other                                                                                                                                                                       1\n",
       "Food Sales, Office, Restaurant                                                                                                                                                                      1\n",
       "Non-Refrigerated Warehouse, Other - Recreation                                                                                                                                                      1\n",
       "Multifamily Housing, Non-Refrigerated Warehouse, Retail Store                                                                                                                                       1\n",
       "K-12 School, Medical Office, Office, Restaurant, Retail Store, Senior Care Community                                                                                                                1\n",
       "Courthouse, Other                                                                                                                                                                                   1\n",
       "Medical Office, Office, Worship Facility                                                                                                                                                            1\n",
       "Bar/Nightclub, Food Sales, Museum, Retail Store, Supermarket/Grocery Store                                                                                                                          1\n",
       "Multifamily Housing, Other, Other - Lodging/Residential                                                                                                                                             1\n",
       "Multifamily Housing, Other, Restaurant, Supermarket/Grocery Store                                                                                                                                   1\n",
       "College/University, Office, Restaurant                                                                                                                                                              1\n",
       "Food Sales, Multifamily Housing, Office, Other                                                                                                                                                      1\n",
       "Other - Recreation, Parking, Swimming Pool                                                                                                                                                          1\n",
       "Multifamily Housing, Office, Retail Store, Supermarket/Grocery Store                                                                                                                                1\n",
       "Office, Self-Storage Facility, Vocational School                                                                                                                                                    1\n",
       "Office, Other - Entertainment/Public Assembly, Other - Mall, Restaurant                                                                                                                             1\n",
       "Data Center, Non-Refrigerated Warehouse, Office, Retail Store                                                                                                                                       1\n",
       "Food Sales, Food Service, Medical Office, Multifamily Housing, Other                                                                                                                                1\n",
       "Office, Other - Recreation, Parking, Retail Store                                                                                                                                                   1\n",
       "Data Center, Non-Refrigerated Warehouse, Other, Refrigerated Warehouse, Repair Services (Vehicle, Shoe, Locksmith, etc), Restaurant                                                                 1\n",
       "Other - Utility                                                                                                                                                                                     1\n",
       "Name: ListOfAllPropertyUseTypes, dtype: int64"
      ]
     },
     "metadata": {},
     "output_type": "display_data"
    },
    {
     "data": {
      "text/plain": [
       "None"
      ]
     },
     "metadata": {},
     "output_type": "display_data"
    },
    {
     "name": "stdout",
     "output_type": "stream",
     "text": [
      "\n",
      "\n"
     ]
    },
    {
     "data": {
      "text/plain": [
       "'Location'"
      ]
     },
     "metadata": {},
     "output_type": "display_data"
    },
    {
     "data": {
      "text/plain": [
       "{'latitude': '47.66375728', 'longitude': '-122.3002168', 'human_address': '{\"address\": \"2623 NE UNIVERSITY VILLAGE ST\", \"city\": \"SEATTLE\", \"state\": \"WA\", \"zip\": \"98105\"}'}    5\n",
       "{'latitude': '47.52593209', 'longitude': '-122.3308402', 'human_address': '{\"address\": \"309 S CLOVERDALE ST\", \"city\": \"SEATTLE\", \"state\": \"WA\", \"zip\": \"98108\"}'}              5\n",
       "{'latitude': '47.5829049', 'longitude': '-122.3228994', 'human_address': '{\"address\": \"2203 AIRPORT WAY S\", \"city\": \"SEATTLE\", \"state\": \"WA\", \"zip\": \"98134\"}'}                4\n",
       "{'latitude': '47.52131741', 'longitude': '-122.3668974', 'human_address': '{\"address\": \"2600 SW BARTON ST\", \"city\": \"SEATTLE\", \"state\": \"WA\", \"zip\": \"98126\"}'}                4\n",
       "{'latitude': '47.62124083', 'longitude': '-122.3534322', 'human_address': '{\"address\": \"305 HARRISON ST\", \"city\": \"SEATTLE\", \"state\": \"WA\", \"zip\": \"98109\"}'}                  3\n",
       "                                                                                                                                                                              ..\n",
       "{'latitude': '47.56156057', 'longitude': '-122.3275348', 'human_address': '{\"address\": \"4601 6TH AVE S\", \"city\": \"SEATTLE\", \"state\": \"WA\", \"zip\": \"98108\"}'}                   1\n",
       "{'latitude': '47.73223596', 'longitude': '-122.2949572', 'human_address': '{\"address\": \"3030 NE 143RD ST\", \"city\": \"SEATTLE\", \"state\": \"WA\", \"zip\": \"98125\"}'}                 1\n",
       "{'latitude': '47.66189649', 'longitude': '-122.3890124', 'human_address': '{\"address\": \"2500 W COMMODORE WAY\", \"city\": \"SEATTLE\", \"state\": \"WA\", \"zip\": \"98199\"}'}             1\n",
       "{'latitude': '47.71538742', 'longitude': '-122.3550947', 'human_address': '{\"address\": \"11740 GREENWOOD AVE N\", \"city\": \"SEATTLE\", \"state\": \"WA\", \"zip\": \"98133\"}'}            1\n",
       "{'latitude': '47.62393635', 'longitude': '-122.35193', 'human_address': '{\"address\": \"301 MERCER ST\", \"city\": \"SEATTLE\", \"state\": \"WA\", \"zip\": \"98109\"}'}                      1\n",
       "Name: Location, Length: 3298, dtype: int64"
      ]
     },
     "metadata": {},
     "output_type": "display_data"
    },
    {
     "data": {
      "text/plain": [
       "None"
      ]
     },
     "metadata": {},
     "output_type": "display_data"
    },
    {
     "name": "stdout",
     "output_type": "stream",
     "text": [
      "\n",
      "\n"
     ]
    },
    {
     "data": {
      "text/plain": [
       "'Neighborhood'"
      ]
     },
     "metadata": {},
     "output_type": "display_data"
    },
    {
     "data": {
      "text/plain": [
       "DOWNTOWN                 578\n",
       "EAST                     444\n",
       "MAGNOLIA / QUEEN ANNE    420\n",
       "GREATER DUWAMISH         369\n",
       "NORTHEAST                259\n",
       "LAKE UNION               249\n",
       "NORTHWEST                226\n",
       "NORTH                    188\n",
       "SOUTHWEST                165\n",
       "CENTRAL                  131\n",
       "BALLARD                  130\n",
       "SOUTHEAST                 96\n",
       "DELRIDGE                  85\n",
       "Name: Neighborhood, dtype: int64"
      ]
     },
     "metadata": {},
     "output_type": "display_data"
    },
    {
     "data": {
      "text/plain": [
       "None"
      ]
     },
     "metadata": {},
     "output_type": "display_data"
    },
    {
     "name": "stdout",
     "output_type": "stream",
     "text": [
      "\n",
      "\n"
     ]
    },
    {
     "data": {
      "text/plain": [
       "'Outlier'"
      ]
     },
     "metadata": {},
     "output_type": "display_data"
    },
    {
     "data": {
      "text/plain": [
       "High Outlier    46\n",
       "Low Outlier     38\n",
       "Name: Outlier, dtype: int64"
      ]
     },
     "metadata": {},
     "output_type": "display_data"
    },
    {
     "data": {
      "text/plain": [
       "None"
      ]
     },
     "metadata": {},
     "output_type": "display_data"
    },
    {
     "name": "stdout",
     "output_type": "stream",
     "text": [
      "\n",
      "\n"
     ]
    },
    {
     "data": {
      "text/plain": [
       "'PrimaryPropertyType'"
      ]
     },
     "metadata": {},
     "output_type": "display_data"
    },
    {
     "data": {
      "text/plain": [
       "Low-Rise Multifamily           998\n",
       "Mid-Rise Multifamily           539\n",
       "Small- and Mid-Sized Office    297\n",
       "Other                          258\n",
       "Non-Refrigerated Warehouse     187\n",
       "Large Office                   171\n",
       "K-12 School                    136\n",
       "Mixed Use Property             126\n",
       "High-Rise Multifamily          103\n",
       "Retail Store                   100\n",
       "Hotel                           73\n",
       "Worship Facility                72\n",
       "Distribution Center\\n           51\n",
       "Senior Care Community           43\n",
       "Medical Office                  43\n",
       "Supermarket/Grocery Store       36\n",
       "Self-Storage Facility\\n         27\n",
       "College/University              22\n",
       "Residence Hall/Dormitory        15\n",
       "Refrigerated Warehouse          13\n",
       "Restaurant\\n                    11\n",
       "Hospital                        10\n",
       "SPS-District K-12                4\n",
       "Distribution Center              2\n",
       "Laboratory                       1\n",
       "Restaurant                       1\n",
       "Self-Storage Facility            1\n",
       "Name: PrimaryPropertyType, dtype: int64"
      ]
     },
     "metadata": {},
     "output_type": "display_data"
    },
    {
     "data": {
      "text/plain": [
       "None"
      ]
     },
     "metadata": {},
     "output_type": "display_data"
    },
    {
     "name": "stdout",
     "output_type": "stream",
     "text": [
      "\n",
      "\n"
     ]
    },
    {
     "data": {
      "text/plain": [
       "'PropertyName'"
      ]
     },
     "metadata": {},
     "output_type": "display_data"
    },
    {
     "data": {
      "text/plain": [
       "WAREHOUSE                                       9\n",
       "OFFICE BUILDING                                 8\n",
       "CLOVERDALE BUSINESS PARK                        5\n",
       "APARTMENTS                                      4\n",
       "RUDD COMPANY                                    3\n",
       "                                               ..\n",
       "VIRGINIA MASON - BENAROYA RESEARCH INSTITUTE    1\n",
       "SHIP CANAL OFFICE CENTER                        1\n",
       "PHINNEY RIDGE LUTHERAN CHURCH                   1\n",
       "Uwajimaya (Seattle 5)                           1\n",
       "SALMON BAY CENTER 5303                          1\n",
       "Name: PropertyName, Length: 3287, dtype: int64"
      ]
     },
     "metadata": {},
     "output_type": "display_data"
    },
    {
     "data": {
      "text/plain": [
       "None"
      ]
     },
     "metadata": {},
     "output_type": "display_data"
    },
    {
     "name": "stdout",
     "output_type": "stream",
     "text": [
      "\n",
      "\n"
     ]
    },
    {
     "data": {
      "text/plain": [
       "'SecondLargestPropertyUseType'"
      ]
     },
     "metadata": {},
     "output_type": "display_data"
    },
    {
     "data": {
      "text/plain": [
       "Parking                                            881\n",
       "Office                                             204\n",
       "Retail Store                                       155\n",
       "Other                                               57\n",
       "Restaurant                                          43\n",
       "Non-Refrigerated Warehouse                          35\n",
       "Multifamily Housing                                 16\n",
       "Supermarket/Grocery Store                           14\n",
       "Data Center                                         13\n",
       "Other - Services                                    12\n",
       "Medical Office                                      12\n",
       "Fitness Center/Health Club/Gym                      10\n",
       "Other - Entertainment/Public Assembly                9\n",
       "Swimming Pool                                        8\n",
       "Distribution Center                                  7\n",
       "Bank Branch                                          6\n",
       "Laboratory                                           6\n",
       "K-12 School                                          6\n",
       "Other - Restaurant/Bar                               5\n",
       "Self-Storage Facility                                5\n",
       "Other - Recreation                                   4\n",
       "Food Service                                         4\n",
       "Repair Services (Vehicle, Shoe, Locksmith, etc)      4\n",
       "Hotel                                                4\n",
       "Senior Care Community                                3\n",
       "Worship Facility                                     3\n",
       "Food Sales                                           3\n",
       "Bar/Nightclub                                        3\n",
       "Movie Theater                                        2\n",
       "Manufacturing/Industrial Plant                       2\n",
       "Financial Office                                     2\n",
       "Other - Education                                    2\n",
       "Performing Arts                                      2\n",
       "Adult Education                                      2\n",
       "Other - Public Services                              2\n",
       "Hospital (General Medical & Surgical)                2\n",
       "Museum                                               1\n",
       "Social/Meeting Hall                                  1\n",
       "College/University                                   1\n",
       "Other/Specialty Hospital                             1\n",
       "Refrigerated Warehouse                               1\n",
       "Vocational School                                    1\n",
       "Courthouse                                           1\n",
       "Residence Hall/Dormitory                             1\n",
       "Automobile Dealership                                1\n",
       "Other - Lodging/Residential                          1\n",
       "Convenience Store without Gas Station                1\n",
       "Name: SecondLargestPropertyUseType, dtype: int64"
      ]
     },
     "metadata": {},
     "output_type": "display_data"
    },
    {
     "data": {
      "text/plain": [
       "None"
      ]
     },
     "metadata": {},
     "output_type": "display_data"
    },
    {
     "name": "stdout",
     "output_type": "stream",
     "text": [
      "\n",
      "\n"
     ]
    },
    {
     "data": {
      "text/plain": [
       "'TaxParcelIdentificationNumber'"
      ]
     },
     "metadata": {},
     "output_type": "display_data"
    },
    {
     "data": {
      "text/plain": [
       "2400002       5\n",
       "925049346     5\n",
       "3224049012    5\n",
       "3624039009    4\n",
       "8632880000    4\n",
       "             ..\n",
       "7321900125    1\n",
       "8823901075    1\n",
       "7129302300    1\n",
       "3274900000    1\n",
       "704600000     1\n",
       "Name: TaxParcelIdentificationNumber, Length: 3245, dtype: int64"
      ]
     },
     "metadata": {},
     "output_type": "display_data"
    },
    {
     "data": {
      "text/plain": [
       "None"
      ]
     },
     "metadata": {},
     "output_type": "display_data"
    },
    {
     "name": "stdout",
     "output_type": "stream",
     "text": [
      "\n",
      "\n"
     ]
    },
    {
     "data": {
      "text/plain": [
       "'ThirdLargestPropertyUseType'"
      ]
     },
     "metadata": {},
     "output_type": "display_data"
    },
    {
     "data": {
      "text/plain": [
       "Retail Store                                            107\n",
       "Office                                                  100\n",
       "Parking                                                  64\n",
       "Restaurant                                               54\n",
       "Other                                                    53\n",
       "Swimming Pool                                            25\n",
       "Non-Refrigerated Warehouse                               18\n",
       "Medical Office                                           17\n",
       "Social/Meeting Hall                                      11\n",
       "Food Service                                             11\n",
       "Multifamily Housing                                      10\n",
       "Data Center                                              10\n",
       "Other - Restaurant/Bar                                    8\n",
       "Bank Branch                                               6\n",
       "Financial Office                                          5\n",
       "Other - Entertainment/Public Assembly                     5\n",
       "Fitness Center/Health Club/Gym                            4\n",
       "Personal Services (Health/Beauty, Dry Cleaning, etc)      4\n",
       "Pre-school/Daycare                                        4\n",
       "Supermarket/Grocery Store                                 3\n",
       "Other - Recreation                                        3\n",
       "Fast Food Restaurant                                      3\n",
       "Bar/Nightclub                                             3\n",
       "Distribution Center                                       3\n",
       "Other - Lodging/Residential                               3\n",
       "Food Sales                                                3\n",
       "Other - Education                                         2\n",
       "Self-Storage Facility                                     2\n",
       "Laboratory                                                2\n",
       "Refrigerated Warehouse                                    2\n",
       "K-12 School                                               2\n",
       "Other - Services                                          2\n",
       "Manufacturing/Industrial Plant                            2\n",
       "Convenience Store without Gas Station                     2\n",
       "Other/Specialty Hospital                                  1\n",
       "Other - Technology/Science                                1\n",
       "Residence Hall/Dormitory                                  1\n",
       "Strip Mall                                                1\n",
       "Worship Facility                                          1\n",
       "Hotel                                                     1\n",
       "Enclosed Mall                                             1\n",
       "Name: ThirdLargestPropertyUseType, dtype: int64"
      ]
     },
     "metadata": {},
     "output_type": "display_data"
    },
    {
     "data": {
      "text/plain": [
       "None"
      ]
     },
     "metadata": {},
     "output_type": "display_data"
    },
    {
     "name": "stdout",
     "output_type": "stream",
     "text": [
      "\n",
      "\n"
     ]
    },
    {
     "data": {
      "text/plain": [
       "'YearsENERGYSTARCertified'"
      ]
     },
     "metadata": {},
     "output_type": "display_data"
    },
    {
     "data": {
      "text/plain": [
       "2016                                                                                        20\n",
       "2016, 2015                                                                                   8\n",
       "2014                                                                                         6\n",
       "2009                                                                                         4\n",
       "2015, 2014                                                                                   3\n",
       "2013                                                                                         3\n",
       "2016, 2015, 2014                                                                             3\n",
       "2015                                                                                         3\n",
       "2010                                                                                         2\n",
       "2017, 2015                                                                                   2\n",
       "2009, 2005                                                                                   2\n",
       "2016, 2009, 2008                                                                             2\n",
       "2011                                                                                         2\n",
       "2011, 2009                                                                                   2\n",
       "2017                                                                                         2\n",
       "2007                                                                                         1\n",
       "2012, 2010, 2009, 2008                                                                       1\n",
       "2015, 2012                                                                                   1\n",
       "2016, 2015, 2014, 2013, 2009, 2008                                                           1\n",
       "2016, 2015, 2013, 2012, 2011, 2010, 2009, 2008                                               1\n",
       "2016, 2015, 2014, 2013, 2012, 2011, 2010, 2009, 2008, 2007, 2006, 2005, 2003, 2002, 2000     1\n",
       "2016, 2014, 2012                                                                             1\n",
       "2016, 2015, 2014, 2013, 2011, 2010, 2009, 2007, 2000                                         1\n",
       "2016, 2013, 2012, 2011, 2010, 2009, 2008                                                     1\n",
       "2016, 2015, 2010, 2009, 2008                                                                 1\n",
       "2016, 2015, 2012                                                                             1\n",
       "2012, 2010                                                                                   1\n",
       "2016, 2014, 2012, 2011, 2008, 2007                                                           1\n",
       "2014, 2013, 2012, 2008                                                                       1\n",
       "2015, 2013, 2012, 2010                                                                       1\n",
       "2016, 2015, 2013, 2012, 2010                                                                 1\n",
       "2016, 2015, 2014, 2013, 2012, 2010, 2009, 2008                                               1\n",
       "2016, 2015, 2014, 2013, 2012, 2011, 2010, 2009, 2008, 2007, 2006, 2005, 2004                 1\n",
       "2016, 2015, 2014, 2013, 2012, 2011, 2010, 2009, 2008                                         1\n",
       "2010, 2008                                                                                   1\n",
       "2016, 2015, 2012, 2009, 2007, 2006                                                           1\n",
       "2016, 2015, 2014, 2013, 2008                                                                 1\n",
       "2016, 2012                                                                                   1\n",
       "2013, 2009, 2008                                                                             1\n",
       "2010, 2007                                                                                   1\n",
       "2016, 2015, 2014, 2012, 2008                                                                 1\n",
       "2010, 2009, 2007                                                                             1\n",
       "2017, 2015, 2014, 2013, 2011                                                                 1\n",
       "2015, 2014, 2012, 2010, 2008                                                                 1\n",
       "2017, 2016, 2012                                                                             1\n",
       "2012, 2010, 2007, 2006                                                                       1\n",
       "2016, 2015, 2009, 2008                                                                       1\n",
       "2017, 2016, 2014, 2013, 2012, 2011, 2010, 2009, 2007                                         1\n",
       "2017, 2016                                                                                   1\n",
       "2017, 2015, 2014, 2013                                                                       1\n",
       "2016, 2015, 2014, 2013, 2012, 2010, 2009                                                     1\n",
       "2016, 2015, 2012, 2009                                                                       1\n",
       "2012                                                                                         1\n",
       "2016, 2011, 2010, 2009                                                                       1\n",
       "2016, 2015, 2014, 2013, 2011, 2009                                                           1\n",
       "2016, 2015, 2014, 2013, 2011, 2008                                                           1\n",
       "2012, 2009, 2008                                                                             1\n",
       "2015, 2014, 2013, 2011, 2009, 2008                                                           1\n",
       "2014, 2013, 2011, 2010, 2009, 2008, 2007                                                     1\n",
       "2015, 2014, 2012, 2011, 2009                                                                 1\n",
       "2017, 2011, 2010, 2007                                                                       1\n",
       "Name: YearsENERGYSTARCertified, dtype: int64"
      ]
     },
     "metadata": {},
     "output_type": "display_data"
    },
    {
     "data": {
      "text/plain": [
       "None"
      ]
     },
     "metadata": {},
     "output_type": "display_data"
    }
   ],
   "source": [
    "\n",
    "for column in just_string_values_2015.columns:\n",
    "    display(column,just_string_values_2015[column].value_counts(),print('\\n'))"
   ]
  },
  {
   "cell_type": "code",
   "execution_count": null,
   "id": "cdcb9269-ca34-435f-9e88-5e0997154a22",
   "metadata": {},
   "outputs": [],
   "source": [
    "{'BuildingType': [(\"NonResidential\", 3),(\"Multifamily LR (1-4)\",1),(\"Multifamily MR (5-9)\",2),(\"Multifamily HR (10+)\",3),(\"SPS-District K-12\",),(\"Nonresidential COS\",),(\"Campus\",)], 'Key1': [(1, 2), (1, 3)]}"
   ]
  },
  {
   "cell_type": "markdown",
   "id": "d42e88ab-fa24-4df9-9ea0-74f02fb0d2d3",
   "metadata": {},
   "source": [
    "pour chaque valeur de variable, faire une moyenne de la consommation  pour remplacé la valeur par une valeur entre 0 et 100 qui representerais l'echelle de consommation de la variable?"
   ]
  },
  {
   "cell_type": "markdown",
   "id": "27e8314e-d6d0-4345-a174-cfe062af1b75",
   "metadata": {},
   "source": [
    "# Linear regression sklearn"
   ]
  },
  {
   "cell_type": "code",
   "execution_count": 183,
   "id": "25b14cbd-b59e-4fb7-a5b8-1e00968ba8a0",
   "metadata": {},
   "outputs": [],
   "source": [
    "from sklearn.model_selection import StratifiedKFold\n",
    "from sklearn.model_selection import KFold\n",
    "from sklearn.linear_model import LinearRegression\n",
    "from sklearn.linear_model import ElasticNetCV\n",
    "from sklearn.linear_model import ElasticNet\n",
    "from sklearn import preprocessing\n",
    "from sklearn.metrics import accuracy_score\n",
    "from sklearn.linear_model import Ridge\n",
    "from sklearn.linear_model import Lasso\n",
    "import seaborn as sns \n",
    "import pandas as pd\n",
    "from sklearn.neural_network import MLPRegressor\n",
    "from sklearn.datasets import make_regression\n",
    "from sklearn.model_selection import train_test_split\n",
    "from sklearn.ensemble import RandomForestClassifier\n",
    "from sklearn.datasets import make_classification\n",
    "from sklearn.neighbors import KNeighborsClassifier\n",
    "from sklearn.metrics import mean_squared_error\n",
    "from sklearn.metrics import mean_absolute_error\n",
    "from sklearn.dummy import DummyRegressor\n",
    "\n",
    "# std_scale = preprocessing.StandardScaler().fit(X_train)\n",
    "# X_train_std = std_scale.transform(X_train)\n",
    "# X_test_std = std_scale.transform(X_test)"
   ]
  },
  {
   "cell_type": "code",
   "execution_count": 71,
   "id": "3ed0a5db-fd58-4da5-869d-10f302438ec4",
   "metadata": {},
   "outputs": [],
   "source": [
    "def cross_validation_scores(y_values):\n",
    "    sns.set(style=\"white\", rc={\"lines.linewidth\": 3})\n",
    "    sns.barplot(x=['Iter1','Iter2','Iter3','Iter4','Iter5'],y=y_values)\n",
    "    plt.show()\n",
    "    sns.set()"
   ]
  },
  {
   "cell_type": "code",
   "execution_count": 50,
   "id": "69bd0cfb-7733-47cf-8118-1cbb2e3bbe82",
   "metadata": {},
   "outputs": [
    {
     "data": {
      "text/plain": [
       "<AxesSubplot:ylabel='Count'>"
      ]
     },
     "execution_count": 50,
     "metadata": {},
     "output_type": "execute_result"
    },
    {
     "data": {
      "image/png": "[encoded data removed]",
      "text/plain": [
       "<Figure size 432x288 with 1 Axes>"
      ]
     },
     "metadata": {
      "needs_background": "light"
     },
     "output_type": "display_data"
    }
   ],
   "source": [
    "\n",
    "sns.histplot(\n",
    "    y,\n",
    "    multiple=\"stack\",\n",
    "    palette=\"light:m_r\",\n",
    "    edgecolor=\".3\",\n",
    "    linewidth=.5,\n",
    ")\n",
    "# fig.set_title(\"title\")\n",
    "# fig.axes.xaxis.set_visible(False)"
   ]
  },
  {
   "cell_type": "code",
   "execution_count": 159,
   "id": "a0b8f4dd-d528-463c-9253-6db5db3a706f",
   "metadata": {},
   "outputs": [],
   "source": [
    "dataframe_test = pd.Series([2,1,4,3,6,11,8,7,10,9,5,12,13,14,16,15,18,17,20,19])\n",
    "import random\n",
    "def stratified_k_fold_based_on_y(y,k,number_of_parts):\n",
    "    first_quantile = 1 / number_of_parts\n",
    "    interval_max = first_quantile\n",
    "    interval_min = y.min()\n",
    "    total_list_of_index_separated = [ [] for _ in range(number_of_parts) ]\n",
    "    index_list_for_stratified_k_fold = [ [[],[]] for _ in range(k)]\n",
    "    valuestest = [ [] for _ in range(number_of_parts) ]\n",
    "    for part_number in range(number_of_parts):\n",
    "        if part_number == 0:\n",
    "            separator_value = y.quantile(interval_max)\n",
    "            total_list_of_index_separated[part_number] = y[y < separator_value].index.tolist()\n",
    "            valuestest[part_number] = y[y < separator_value].values.tolist()\n",
    "            interval_min = interval_max\n",
    "            interval_max += first_quantile\n",
    "        elif part_number > 0 and part_number < number_of_parts - 1:\n",
    "            separator_value2 = separator_value\n",
    "            separator_value = y.quantile(interval_max)\n",
    "            total_list_of_index_separated[part_number] = y[(y < separator_value) & (y > separator_value2)].index.tolist()\n",
    "            valuestest[part_number] = y[(y < separator_value) & (y > separator_value2)].values.tolist()\n",
    "            interval_min = interval_max\n",
    "            interval_max += first_quantile\n",
    "        else:\n",
    "            total_list_of_index_separated[part_number] = y[y > separator_value].index.tolist()\n",
    "            valuestest[part_number] = y[y > separator_value].values.tolist()\n",
    "            \n",
    "#     print(total_list_of_index_separated)\n",
    "#     print(len(y))\n",
    "#     for elem in total_list_of_index_separated:\n",
    "#         print(len(elem))\n",
    "    \n",
    "    for part_number in range(number_of_parts):\n",
    "        random.Random(1414).shuffle(total_list_of_index_separated[part_number])\n",
    "    \n",
    "#     print(total_list_of_index_separated)\n",
    "    \n",
    "    \n",
    "    for k_index in range(k):\n",
    "#         index_min = 0\n",
    "        \n",
    "        for part_number in range(number_of_parts):\n",
    "            interval_index = int(len(total_list_of_index_separated[part_number]) / k)\n",
    "#             index_max = index_min + interval_index\n",
    "            if k_index == 0:\n",
    "                index_max = interval_index\n",
    "                for i,value in enumerate(total_list_of_index_separated[part_number]):\n",
    "                    if  i < index_max:\n",
    "                        index_list_for_stratified_k_fold[k_index][1].append(value)\n",
    "                    else:\n",
    "                        index_list_for_stratified_k_fold[k_index][0].append(value)\n",
    "#                 index_min = index_max\n",
    "            elif k_index > 0 and k_index < k - 1:\n",
    "                index_max = interval_index * (k_index + 1)\n",
    "                index_min = interval_index * k_index\n",
    "#                 print(index_min,index_max)\n",
    "                for i,value in enumerate(total_list_of_index_separated[part_number]):\n",
    "#                     print(i)\n",
    "                    if i >= index_min and i < index_max:\n",
    "                        index_list_for_stratified_k_fold[k_index][1].append(value)\n",
    "                    else:\n",
    "                        index_list_for_stratified_k_fold[k_index][0].append(value)\n",
    "            else:\n",
    "                index_min = interval_index * k_index\n",
    "                for i,value in enumerate(total_list_of_index_separated[part_number]):\n",
    "                    if i >= index_min:\n",
    "                        index_list_for_stratified_k_fold[k_index][1].append(value)\n",
    "                    else:\n",
    "                        index_list_for_stratified_k_fold[k_index][0].append(value)\n",
    "#     print(len(y))\n",
    "#     for elem1,elem2 in index_list_for_stratified_k_fold:\n",
    "#         print(max(elem1),min(elem1),max(elem2),min(elem2))\n",
    "        \n",
    "#     for elem1 in valuestest:\n",
    "#         print(max(elem1),min(elem1))\n",
    "        \n",
    "#     for elem1,elem2 in enumerate(index_list_for_stratified_k_fold):\n",
    "#         print(len(index_list_for_stratified_k_fold[elem1][0]),len(index_list_for_stratified_k_fold[elem1][1]))    \n",
    "        \n",
    "    return index_list_for_stratified_k_fold\n",
    "#     return(y.quantile(number_of_parts))\n",
    "#     total_list_of_index_separated[0].append(2)\n",
    "#     total_list_of_index_separated[0].append(3)\n",
    "\n",
    "#     total_list_of_index_separated[2].append([5,62])\n",
    "#     total_list_of_index_separated[3].append([90,23])\n",
    "\n",
    "k_fold_index = stratified_k_fold_based_on_y(pd.Series(y),5,10)"
   ]
  },
  {
   "cell_type": "code",
   "execution_count": 120,
   "id": "eca3a121-736e-4d2e-b25e-2f100d7a5a67",
   "metadata": {},
   "outputs": [
    {
     "name": "stdout",
     "output_type": "stream",
     "text": [
      "The lists l1 and l2 are the same\n"
     ]
    }
   ],
   "source": [
    "test1 = []\n",
    "# for elem1,elem2 in k_fold_index:\n",
    "#     print(len(elem1),len(elem2)) \n",
    "# #     test1.append(k_fold_index[2][0][:])\n",
    "# #     test1.append(k_fold_index[2][1][:])\n",
    "#     test1 = k_fold_index[2][0] + k_fold_index[2][1]\n",
    "#     print(len(test1))\n",
    "\n",
    "test1 = k_fold_index[0][0] + k_fold_index[0][1]\n",
    "\n",
    "test2 = k_fold_index[1][0] + k_fold_index[1][1]\n",
    "# test2.append(k_fold_index[1][1])\n",
    "test1.sort()\n",
    "test2.sort()\n",
    "import functools \n",
    " \n",
    " \n",
    "\n",
    " \n",
    "if functools.reduce(lambda x, y : x and y, map(lambda p, q: p == q,test1,test2), True): \n",
    "    print (\"The lists l1 and l2 are the same\") \n",
    "else: \n",
    "    print (\"The lists l1 and l2 are not the same\") \n",
    " \n",
    "\n"
   ]
  },
  {
   "cell_type": "code",
   "execution_count": 179,
   "id": "8e393ee4-eb4e-4d39-af87-00ed56005302",
   "metadata": {},
   "outputs": [
    {
     "data": {
      "image/png": "[encoded data removed]",
      "text/plain": [
       "<Figure size 432x288 with 1 Axes>"
      ]
     },
     "metadata": {},
     "output_type": "display_data"
    }
   ],
   "source": [
    "for train, test in k_fold_index:\n",
    "    \n",
    "    sns.histplot(\n",
    "        y,\n",
    "        multiple=\"stack\",\n",
    "        palette=\"light:m_r\",\n",
    "        edgecolor=\".3\",\n",
    "        linewidth=.5,\n",
    "    )\n",
    "    "
   ]
  },
  {
   "cell_type": "code",
   "execution_count": 162,
   "id": "fd06454b-5e30-41e3-8a92-225811b84b78",
   "metadata": {},
   "outputs": [],
   "source": [
    "def accuracy_skf_linear_regression(X,y,standard_scale,algorythm,**args):\n",
    "    skf = StratifiedKFold()#shuffle=True, random_state=1)\n",
    "    accuracy_model = []\n",
    "    std_scale = preprocessing.StandardScaler().fit(X)\n",
    "    for train_index, test_index in skf.split(X, y):\n",
    "#         print(test_index)\n",
    "        X_train, X_test = X[train_index], X[test_index]\n",
    "        y_train, y_test = y[train_index], y[test_index]\n",
    "        if standard_scale:\n",
    "            X_train_std = std_scale.transform(X_train)\n",
    "            X_test_std = std_scale.transform(X_test)\n",
    "            model_skf = algorythm(**args).fit(X_train_std, y_train)\n",
    "            accuracy_model.append(model_skf.score(X_test_std, y_test)*100)\n",
    "            print(model_skf.score(X_test_std, y_test)*100)\n",
    "        else:\n",
    "            model_skf = algorythm(**args).fit(X_train, y_train)\n",
    "            accuracy_model.append(model_skf.score(X_test, y_test)*100)\n",
    "            print(model_skf.score(X_test, y_test)*100)\n",
    "    cross_validation_scores([round(abs(ele),2) for ele in accuracy_model])"
   ]
  },
  {
   "cell_type": "code",
   "execution_count": 180,
   "id": "a4f16a6e-4bdf-4114-9b23-4a8d10c9afbd",
   "metadata": {},
   "outputs": [],
   "source": [
    "def accuracy_skf_linear_regression2(X,y,k_fold_index,standard_scale,algorythm,**args):\n",
    "#     skf = StratifiedKFold()#shuffle=True, random_state=1)\n",
    "    accuracy_model = []\n",
    "    rmse = []\n",
    "    mae = []\n",
    "    std_scale = preprocessing.StandardScaler().fit(X)\n",
    "    for train_index, test_index in k_fold_index:\n",
    "\n",
    "#         print(test_index)\n",
    "        X_train, X_test = X[train_index], X[test_index]\n",
    "        y_train, y_test = y[train_index], y[test_index]\n",
    "        if standard_scale:\n",
    "            X_train_std = std_scale.transform(X_train)\n",
    "            X_test_std = std_scale.transform(X_test)\n",
    "            model_skf = algorythm(**args).fit(X_train_std, y_train)\n",
    "            accuracy_model.append(model_skf.score(X_test_std, y_test)*100)\n",
    "            rmse.append(mean_squared_error(y_test,model_skf.predict(X_test)))\n",
    "            mae.append(mean_absolute_error(y_test,model_skf.predict(X_test)))\n",
    "#             print(model_skf.score(X_test_std, y_test)*100)\n",
    "        else:\n",
    "            model_skf = algorythm(**args).fit(X_train, y_train)\n",
    "            accuracy_model.append(model_skf.score(X_test, y_test)*100)\n",
    "            rmse.append(mean_squared_error(y_test,model_skf.predict(X_test)))\n",
    "            mae.append(mean_absolute_error(y_test,model_skf.predict(X_test)))\n",
    "#             print(model_skf.score(X_test, y_test)*100)\n",
    "    print(\"accuracy\",accuracy_model)\n",
    "    print(\"mean\",y.mean())\n",
    "    print(\"rmse\",rmse)\n",
    "    print(\"mae\",mae)\n",
    "    cross_validation_scores([round(abs(ele),2) for ele in accuracy_model])"
   ]
  },
  {
   "cell_type": "markdown",
   "id": "25592155-566e-4b0b-9993-80f338c94416",
   "metadata": {},
   "source": [
    "## KFold LinearRegression"
   ]
  },
  {
   "cell_type": "code",
   "execution_count": 121,
   "id": "db48e2a1-47e7-4e2f-b58d-f10c145bd121",
   "metadata": {},
   "outputs": [
    {
     "data": {
      "image/png": "[encoded data removed]",
      "text/plain": [
       "<Figure size 432x288 with 1 Axes>"
      ]
     },
     "metadata": {},
     "output_type": "display_data"
    }
   ],
   "source": [
    "accuracy_model = []\n",
    "kf = KFold()\n",
    "std_scale = preprocessing.StandardScaler().fit(X)\n",
    "# for train_index, test_index in kf.split(X, y):\n",
    "for train_index, test_index in k_fold_index:\n",
    "#     print(len(train_index))\n",
    "#     print(len(test_index))\n",
    "    X_train, X_test = X[train_index], X[test_index]\n",
    "    y_train, y_test = y[train_index], y[test_index]\n",
    "    X_train_std = std_scale.transform(X_train)\n",
    "    X_test_std = std_scale.transform(X_test)\n",
    "    model_kf = LinearRegression().fit(X_train_std, y_train)\n",
    "    accuracy_model.append(model_kf.score(X_test_std, y_test)*100)\n",
    "    mean_squared_error(y_true, y_pred)\n",
    "#     print(accuracy_model)\n",
    "#     print(model_kf.score(X_test_std, y_test))\n",
    "# print([round(abs(ele),2) for ele in accuracy_model])\n",
    "cross_validation_scores([round(abs(ele),2) for ele in accuracy_model])"
   ]
  },
  {
   "cell_type": "code",
   "execution_count": 122,
   "id": "35a0b7d8-ceb1-482a-97d8-a642acd8ae1e",
   "metadata": {},
   "outputs": [
    {
     "data": {
      "image/png": "[encoded data removed]",
      "text/plain": [
       "<Figure size 432x288 with 1 Axes>"
      ]
     },
     "metadata": {},
     "output_type": "display_data"
    }
   ],
   "source": [
    "accuracy_model = []\n",
    "kf = KFold()\n",
    "std_scale = preprocessing.StandardScaler().fit(X)\n",
    "for train_index, test_index in kf.split(X, y):\n",
    "# for train_index, test_index in k_fold_index:\n",
    "#     print(len(train_index))\n",
    "#     print(len(test_index))\n",
    "    X_train, X_test = X[train_index], X[test_index]\n",
    "    y_train, y_test = y[train_index], y[test_index]\n",
    "    X_train_std = std_scale.transform(X_train)\n",
    "    X_test_std = std_scale.transform(X_test)\n",
    "    model_kf = LinearRegression().fit(X_train_std, y_train)\n",
    "    accuracy_model.append(model_kf.score(X_test_std, y_test)*100)\n",
    "#     print(accuracy_model)\n",
    "#     print(model_kf.score(X_test_std, y_test))\n",
    "# print([round(abs(ele),2) for ele in accuracy_model])\n",
    "cross_validation_scores([round(abs(ele),2) for ele in accuracy_model])"
   ]
  },
  {
   "cell_type": "code",
   "execution_count": 88,
   "id": "633a6644-35c8-4f6b-8e5a-d0ef1719be11",
   "metadata": {},
   "outputs": [
    {
     "name": "stdout",
     "output_type": "stream",
     "text": [
      "-2.5404228530425876e+26\n",
      "-7.000861494958255e+27\n",
      "-9.37182665968479e+26\n",
      "-1.8136004075917228e+28\n",
      "-2.648837745192899e+28\n"
     ]
    },
    {
     "data": {
      "image/png": "[encoded data removed]",
      "text/plain": [
       "<Figure size 432x288 with 1 Axes>"
      ]
     },
     "metadata": {},
     "output_type": "display_data"
    }
   ],
   "source": [
    "accuracy_model = []\n",
    "kf = KFold()\n",
    "std_scale = preprocessing.StandardScaler().fit(Xdummies)\n",
    "for train_index, test_index in kf.split(Xdummies, ydummies):\n",
    "#     print(train_index)\n",
    "#     print(test_index)\n",
    "    X_train, X_test = Xdummies[train_index], Xdummies[test_index]\n",
    "    y_train, y_test = ydummies[train_index], ydummies[test_index]\n",
    "    X_train_std = std_scale.transform(X_train)\n",
    "    X_test_std = std_scale.transform(X_test)\n",
    "    model_kf = LinearRegression().fit(X_train_std, y_train)\n",
    "    accuracy_model.append(model_kf.score(X_test_std, y_test)*100)\n",
    "#     print(accuracy_model)\n",
    "    print(model_kf.score(X_test_std, y_test))\n",
    "# print([round(abs(ele),2) for ele in accuracy_model])\n",
    "cross_validation_scores([round(abs(ele),2) for ele in accuracy_model])"
   ]
  },
  {
   "cell_type": "markdown",
   "id": "453d2a5c-835f-4957-9235-4c11a0e60053",
   "metadata": {},
   "source": [
    "## StratifiedKFold dummy"
   ]
  },
  {
   "cell_type": "code",
   "execution_count": 184,
   "id": "41caeb27-94b9-4393-a517-7c0de1382545",
   "metadata": {},
   "outputs": [
    {
     "name": "stdout",
     "output_type": "stream",
     "text": [
      "accuracy [-1.719569004582877, -0.16163089428058441, -0.09725736174313049, -0.7480874042172347, -0.4049510313906657]\n",
      "mean 1014849.6284431138\n",
      "rmse [2376099898650.4033, 10648420636590.95, 4639639246502.836, 2776024107376.3784, 17814357646634.867]\n",
      "mae [954538.8225011305, 1181311.570120986, 1044766.884111262, 994838.1401854364, 1264505.2092846322]\n"
     ]
    },
    {
     "data": {
      "image/png": "[encoded data removed]",
      "text/plain": [
       "<Figure size 432x288 with 1 Axes>"
      ]
     },
     "metadata": {},
     "output_type": "display_data"
    }
   ],
   "source": [
    "accuracy_skf_linear_regression2(X,y,k_fold_index,True,DummyRegressor)"
   ]
  },
  {
   "cell_type": "code",
   "execution_count": 185,
   "id": "9dd24564-f93f-441d-8fa1-1f0f55efbbc3",
   "metadata": {},
   "outputs": [
    {
     "name": "stdout",
     "output_type": "stream",
     "text": [
      "accuracy [-11.403646205629524, -5.753899501661897, -8.370879365429683, -11.462140181179393, -4.452444130415056]\n",
      "mean 1014849.6284431138\n",
      "rmse [2602313350802.2983, 11242947981169.154, 5023132484687.25, 3071240320039.735, 18532484480995.5]\n",
      "mae [668048.253030303, 933792.9818181818, 776076.053030303, 713712.4787878788, 1042065.7485714286]\n"
     ]
    },
    {
     "data": {
      "image/png": "[encoded data removed]",
      "text/plain": [
       "<Figure size 432x288 with 1 Axes>"
      ]
     },
     "metadata": {},
     "output_type": "display_data"
    }
   ],
   "source": [
    "accuracy_skf_linear_regression2(X,y,k_fold_index,True,DummyRegressor,strategy=\"median\")"
   ]
  },
  {
   "cell_type": "markdown",
   "id": "1c606667-9ac2-4fdd-95ac-57f2a8affde5",
   "metadata": {},
   "source": [
    "## StratifiedKFold LinearRegression"
   ]
  },
  {
   "cell_type": "code",
   "execution_count": 173,
   "id": "1b758d89-3576-4fc3-aa7d-48943907cfa5",
   "metadata": {},
   "outputs": [
    {
     "name": "stdout",
     "output_type": "stream",
     "text": [
      "61.87153755197794\n",
      "34.58416137862018\n",
      "54.46665171535665\n",
      "18.902062118466812\n",
      "51.180819050334115\n"
     ]
    },
    {
     "name": "stderr",
     "output_type": "stream",
     "text": [
      "C:\\Users\\pierr\\anaconda3\\envs\\projet4\\lib\\site-packages\\sklearn\\model_selection\\_split.py:666: UserWarning: The least populated class in y has only 1 members, which is less than n_splits=5.\n",
      "  warnings.warn((\"The least populated class in y has only %d\"\n"
     ]
    },
    {
     "data": {
      "image/png": "[encoded data removed]",
      "text/plain": [
       "<Figure size 432x288 with 1 Axes>"
      ]
     },
     "metadata": {},
     "output_type": "display_data"
    }
   ],
   "source": [
    "accuracy_skf_linear_regression(X,y,True,LinearRegression)"
   ]
  },
  {
   "cell_type": "code",
   "execution_count": 181,
   "id": "f9f37b3e-b98e-47f3-a639-3fd2428d38cd",
   "metadata": {},
   "outputs": [
    {
     "name": "stdout",
     "output_type": "stream",
     "text": [
      "accuracy [55.51583555978201, 44.84150059252203, 67.58867514409559, 66.87869365536308, 30.25238868008797]\n",
      "mean 1014849.6284431138\n",
      "rmse [3.644269155907474e+46, 1.3778820400586676e+46, 1.9642071168738024e+45, 2.6709925118910385e+46, 1.5057552396530982e+47]\n",
      "mae [9.473932262767754e+22, 5.006611106340371e+22, 1.7708600178453638e+22, 7.66168563083111e+22, 1.810179461714699e+23]\n"
     ]
    },
    {
     "data": {
      "image/png": "[encoded data removed]",
      "text/plain": [
       "<Figure size 432x288 with 1 Axes>"
      ]
     },
     "metadata": {},
     "output_type": "display_data"
    }
   ],
   "source": [
    "accuracy_skf_linear_regression2(X,y,k_fold_index,True,LinearRegression)"
   ]
  },
  {
   "cell_type": "code",
   "execution_count": 135,
   "id": "fd4eeabb-8ef7-42e8-b79d-f6f1fe6a1ee1",
   "metadata": {},
   "outputs": [
    {
     "name": "stdout",
     "output_type": "stream",
     "text": [
      "-3.428697937570533e+29\n",
      "-6.301932327344141e+28\n",
      "-8.884558614135838e+28\n",
      "-8.073514781850852e+28\n",
      "-7.001434932539641e+28\n"
     ]
    },
    {
     "data": {
      "image/png": "[encoded data removed]",
      "text/plain": [
       "<Figure size 432x288 with 1 Axes>"
      ]
     },
     "metadata": {},
     "output_type": "display_data"
    }
   ],
   "source": [
    "accuracy_skf_linear_regression2(Xdummies,ydummies,k_fold_index,True,LinearRegression)"
   ]
  },
  {
   "cell_type": "markdown",
   "id": "1ad7b436-b4a8-4bcc-99b6-22f603c44c80",
   "metadata": {},
   "source": [
    "## StratifiedKFold ElasticNetCV"
   ]
  },
  {
   "cell_type": "code",
   "execution_count": 142,
   "id": "23d3ec66-1527-4704-a774-6341f15d1e0e",
   "metadata": {},
   "outputs": [
    {
     "name": "stdout",
     "output_type": "stream",
     "text": [
      "67.33776614408345\n",
      "46.45697430298694\n",
      "58.14111761811122\n",
      "75.93409592063912\n",
      "31.271819028151448\n"
     ]
    },
    {
     "data": {
      "image/png": "[encoded data removed]",
      "text/plain": [
       "<Figure size 432x288 with 1 Axes>"
      ]
     },
     "metadata": {},
     "output_type": "display_data"
    }
   ],
   "source": [
    "accuracy_skf_linear_regression2(X,y,k_fold_index,False,ElasticNetCV,fit_intercept = True)"
   ]
  },
  {
   "cell_type": "code",
   "execution_count": 166,
   "id": "5402295e-5979-4d08-b26b-1cca53f4f10c",
   "metadata": {},
   "outputs": [
    {
     "name": "stderr",
     "output_type": "stream",
     "text": [
      "C:\\Users\\pierr\\anaconda3\\envs\\projet4\\lib\\site-packages\\sklearn\\model_selection\\_split.py:666: UserWarning: The least populated class in y has only 1 members, which is less than n_splits=5.\n",
      "  warnings.warn((\"The least populated class in y has only %d\"\n"
     ]
    },
    {
     "name": "stdout",
     "output_type": "stream",
     "text": [
      "63.05580610531422\n",
      "35.52147950526789\n",
      "58.060924346316334\n",
      "59.48771735381989\n",
      "53.81578147408537\n"
     ]
    },
    {
     "data": {
      "image/png": "[encoded data removed]",
      "text/plain": [
       "<Figure size 432x288 with 1 Axes>"
      ]
     },
     "metadata": {},
     "output_type": "display_data"
    }
   ],
   "source": [
    "accuracy_skf_linear_regression(X,y,False,ElasticNetCV,fit_intercept = True)"
   ]
  },
  {
   "cell_type": "code",
   "execution_count": 97,
   "id": "a477565f-bbf7-4471-b15d-727e106403d0",
   "metadata": {},
   "outputs": [
    {
     "name": "stderr",
     "output_type": "stream",
     "text": [
      "C:\\Users\\pierr\\anaconda3\\envs\\projet4\\lib\\site-packages\\sklearn\\model_selection\\_split.py:666: UserWarning: The least populated class in y has only 1 members, which is less than n_splits=5.\n",
      "  warnings.warn((\"The least populated class in y has only %d\"\n"
     ]
    },
    {
     "name": "stdout",
     "output_type": "stream",
     "text": [
      "63.05580610531422\n",
      "35.52147950526789\n",
      "58.060924346316334\n",
      "59.48771735381989\n",
      "53.81578147408537\n"
     ]
    },
    {
     "data": {
      "image/png": "[encoded data removed]",
      "text/plain": [
       "<Figure size 432x288 with 1 Axes>"
      ]
     },
     "metadata": {},
     "output_type": "display_data"
    }
   ],
   "source": [
    "accuracy_skf_linear_regression(Xdummies,ydummies,False,ElasticNetCV,fit_intercept = True)"
   ]
  },
  {
   "cell_type": "code",
   "execution_count": 140,
   "id": "074e5317-5c7c-4ff8-b9e2-9b907ef117ac",
   "metadata": {},
   "outputs": [
    {
     "name": "stdout",
     "output_type": "stream",
     "text": [
      "67.33776614408345\n",
      "46.45697430298694\n",
      "58.14111761811122\n",
      "75.93409592063912\n",
      "31.271819028151448\n"
     ]
    },
    {
     "data": {
      "image/png": "[encoded data removed]",
      "text/plain": [
       "<Figure size 432x288 with 1 Axes>"
      ]
     },
     "metadata": {},
     "output_type": "display_data"
    }
   ],
   "source": [
    "accuracy_skf_linear_regression2(Xdummies,ydummies,k_fold_index,False,ElasticNetCV,fit_intercept = True)"
   ]
  },
  {
   "cell_type": "markdown",
   "id": "f4a1a676-4dcd-4f97-a3f7-554bf2d570a7",
   "metadata": {},
   "source": [
    "## StratifiedKFold ElasticNet"
   ]
  },
  {
   "cell_type": "code",
   "execution_count": 167,
   "id": "0c82d066-bd18-4559-a8d8-440d2181dc79",
   "metadata": {},
   "outputs": [
    {
     "name": "stdout",
     "output_type": "stream",
     "text": [
      "57.39966811173907\n",
      "34.09571383864161\n",
      "56.89322856988448\n",
      "53.99290726811338\n",
      "62.405324580989664\n"
     ]
    },
    {
     "name": "stderr",
     "output_type": "stream",
     "text": [
      "C:\\Users\\pierr\\anaconda3\\envs\\projet4\\lib\\site-packages\\sklearn\\model_selection\\_split.py:666: UserWarning: The least populated class in y has only 1 members, which is less than n_splits=5.\n",
      "  warnings.warn((\"The least populated class in y has only %d\"\n"
     ]
    },
    {
     "data": {
      "image/png": "[encoded data removed]",
      "text/plain": [
       "<Figure size 432x288 with 1 Axes>"
      ]
     },
     "metadata": {},
     "output_type": "display_data"
    }
   ],
   "source": [
    "accuracy_skf_linear_regression(X,y,True,ElasticNet)"
   ]
  },
  {
   "cell_type": "code",
   "execution_count": 144,
   "id": "fb932f1a-352a-4198-98bc-39e1c59a6296",
   "metadata": {},
   "outputs": [
    {
     "name": "stdout",
     "output_type": "stream",
     "text": [
      "66.92359561595971\n",
      "47.29810103297437\n",
      "52.97372852516562\n",
      "76.873719042168\n",
      "29.552094867432345\n"
     ]
    },
    {
     "data": {
      "image/png": "[encoded data removed]",
      "text/plain": [
       "<Figure size 432x288 with 1 Axes>"
      ]
     },
     "metadata": {},
     "output_type": "display_data"
    }
   ],
   "source": [
    "accuracy_skf_linear_regression2(X,y,k_fold_index,True,ElasticNet)"
   ]
  },
  {
   "cell_type": "code",
   "execution_count": 145,
   "id": "32524aa7-0c4d-43a6-a592-b5ff9034676a",
   "metadata": {},
   "outputs": [
    {
     "name": "stdout",
     "output_type": "stream",
     "text": [
      "71.54967353418421\n",
      "21.752393626811926\n",
      "66.68394046041554\n",
      "79.62433572561925\n",
      "39.90646396835348\n"
     ]
    },
    {
     "data": {
      "image/png": "[encoded data removed]",
      "text/plain": [
       "<Figure size 432x288 with 1 Axes>"
      ]
     },
     "metadata": {},
     "output_type": "display_data"
    }
   ],
   "source": [
    "accuracy_skf_linear_regression(Xdummies,ydummies,True,ElasticNet)"
   ]
  },
  {
   "cell_type": "code",
   "execution_count": 146,
   "id": "9a318e5b-3578-4997-b1d7-b7e34b1c2ba2",
   "metadata": {},
   "outputs": [
    {
     "name": "stdout",
     "output_type": "stream",
     "text": [
      "71.54967353418421\n",
      "21.752393626811926\n",
      "66.68394046041554\n",
      "79.62433572561925\n",
      "39.90646396835348\n"
     ]
    },
    {
     "data": {
      "image/png": "[encoded data removed]",
      "text/plain": [
       "<Figure size 432x288 with 1 Axes>"
      ]
     },
     "metadata": {},
     "output_type": "display_data"
    }
   ],
   "source": [
    "accuracy_skf_linear_regression2(Xdummies,ydummies,k_fold_index,True,ElasticNet)"
   ]
  },
  {
   "cell_type": "markdown",
   "id": "47099847-239a-4f7a-b36c-5217d3dcfea1",
   "metadata": {},
   "source": [
    "## StratifiedKFold Ridge"
   ]
  },
  {
   "cell_type": "code",
   "execution_count": 168,
   "id": "8726937a-d071-49e5-bebb-77875f9314af",
   "metadata": {},
   "outputs": [
    {
     "name": "stdout",
     "output_type": "stream",
     "text": [
      "61.998640675933835\n",
      "34.783423245095754\n",
      "54.734719176982296\n",
      "21.85010638249485\n",
      "51.20185105042883\n"
     ]
    },
    {
     "name": "stderr",
     "output_type": "stream",
     "text": [
      "C:\\Users\\pierr\\anaconda3\\envs\\projet4\\lib\\site-packages\\sklearn\\model_selection\\_split.py:666: UserWarning: The least populated class in y has only 1 members, which is less than n_splits=5.\n",
      "  warnings.warn((\"The least populated class in y has only %d\"\n"
     ]
    },
    {
     "data": {
      "image/png": "[encoded data removed]",
      "text/plain": [
       "<Figure size 432x288 with 1 Axes>"
      ]
     },
     "metadata": {},
     "output_type": "display_data"
    }
   ],
   "source": [
    "accuracy_skf_linear_regression(X,y,True,Ridge,alpha=1.0)"
   ]
  },
  {
   "cell_type": "code",
   "execution_count": 147,
   "id": "87910306-dde9-450f-b7b4-4aa5202390f4",
   "metadata": {},
   "outputs": [
    {
     "name": "stdout",
     "output_type": "stream",
     "text": [
      "66.147639128334\n",
      "38.94871837651001\n",
      "38.17942912579125\n",
      "70.90983433324382\n",
      "30.66126689270934\n"
     ]
    },
    {
     "data": {
      "image/png": "[encoded data removed]",
      "text/plain": [
       "<Figure size 432x288 with 1 Axes>"
      ]
     },
     "metadata": {},
     "output_type": "display_data"
    }
   ],
   "source": [
    "accuracy_skf_linear_regression2(X,y,k_fold_index,True,Ridge,alpha=1.0)"
   ]
  },
  {
   "cell_type": "code",
   "execution_count": 149,
   "id": "37c358ae-a85f-4c4f-b174-b1ad9d72751f",
   "metadata": {},
   "outputs": [
    {
     "name": "stdout",
     "output_type": "stream",
     "text": [
      "65.26194268675351\n",
      "-86.311322374011\n",
      "58.350042470185834\n",
      "72.56063460516282\n",
      "45.15312262445504\n"
     ]
    },
    {
     "data": {
      "image/png": "[encoded data removed]",
      "text/plain": [
       "<Figure size 432x288 with 1 Axes>"
      ]
     },
     "metadata": {},
     "output_type": "display_data"
    }
   ],
   "source": [
    "accuracy_skf_linear_regression(Xdummies,ydummies,True,Ridge,alpha=1.0)"
   ]
  },
  {
   "cell_type": "code",
   "execution_count": 150,
   "id": "d42a0b7f-60b0-44ba-bc0f-9867564821ee",
   "metadata": {},
   "outputs": [
    {
     "name": "stdout",
     "output_type": "stream",
     "text": [
      "65.26194268675351\n",
      "-86.311322374011\n",
      "58.350042470185834\n",
      "72.56063460516282\n",
      "45.15312262445504\n"
     ]
    },
    {
     "data": {
      "image/png": "[encoded data removed]",
      "text/plain": [
       "<Figure size 432x288 with 1 Axes>"
      ]
     },
     "metadata": {},
     "output_type": "display_data"
    }
   ],
   "source": [
    "accuracy_skf_linear_regression2(Xdummies,ydummies,k_fold_index,True,Ridge,alpha=1.0)"
   ]
  },
  {
   "cell_type": "markdown",
   "id": "7ca2eff0-3d89-4d42-aa31-5dd89717a4ad",
   "metadata": {},
   "source": [
    "## StratifiedKFold Lasso"
   ]
  },
  {
   "cell_type": "code",
   "execution_count": 151,
   "id": "b328a762-a4c6-4609-94b9-37a4bbc13412",
   "metadata": {},
   "outputs": [
    {
     "name": "stdout",
     "output_type": "stream",
     "text": [
      "66.14550967477466\n",
      "38.9397677826266\n",
      "38.13605396469517\n",
      "70.89334821321279\n",
      "30.65971371080557\n"
     ]
    },
    {
     "name": "stderr",
     "output_type": "stream",
     "text": [
      "C:\\Users\\pierr\\anaconda3\\envs\\projet4\\lib\\site-packages\\sklearn\\linear_model\\_coordinate_descent.py:530: ConvergenceWarning: Objective did not converge. You might want to increase the number of iterations. Duality gap: 122728672287392.0, tolerance: 2375905067782.9644\n",
      "  model = cd_fast.enet_coordinate_descent(\n",
      "C:\\Users\\pierr\\anaconda3\\envs\\projet4\\lib\\site-packages\\sklearn\\linear_model\\_coordinate_descent.py:530: ConvergenceWarning: Objective did not converge. You might want to increase the number of iterations. Duality gap: 107809425548136.0, tolerance: 2243726480878.6704\n",
      "  model = cd_fast.enet_coordinate_descent(\n",
      "C:\\Users\\pierr\\anaconda3\\envs\\projet4\\lib\\site-packages\\sklearn\\linear_model\\_coordinate_descent.py:530: ConvergenceWarning: Objective did not converge. You might want to increase the number of iterations. Duality gap: 122378696345624.0, tolerance: 2002112290341.093\n",
      "  model = cd_fast.enet_coordinate_descent(\n",
      "C:\\Users\\pierr\\anaconda3\\envs\\projet4\\lib\\site-packages\\sklearn\\linear_model\\_coordinate_descent.py:530: ConvergenceWarning: Objective did not converge. You might want to increase the number of iterations. Duality gap: 123873384147616.0, tolerance: 2237741851186.1255\n",
      "  model = cd_fast.enet_coordinate_descent(\n",
      "C:\\Users\\pierr\\anaconda3\\envs\\projet4\\lib\\site-packages\\sklearn\\linear_model\\_coordinate_descent.py:530: ConvergenceWarning: Objective did not converge. You might want to increase the number of iterations. Duality gap: 56934856568731.0, tolerance: 1509254823294.9888\n",
      "  model = cd_fast.enet_coordinate_descent(\n"
     ]
    },
    {
     "data": {
      "image/png": "[encoded data removed]",
      "text/plain": [
       "<Figure size 432x288 with 1 Axes>"
      ]
     },
     "metadata": {},
     "output_type": "display_data"
    }
   ],
   "source": [
    "accuracy_skf_linear_regression(X,y,False,Lasso,alpha=1.0,normalize=True)"
   ]
  },
  {
   "cell_type": "code",
   "execution_count": 152,
   "id": "94b879d9-68e2-4c4e-bd02-ee2b0493e75f",
   "metadata": {},
   "outputs": [
    {
     "name": "stdout",
     "output_type": "stream",
     "text": [
      "66.14550967477466\n",
      "38.9397677826266\n",
      "38.13605396469517\n",
      "70.89334821321279\n",
      "30.65971371080557\n"
     ]
    },
    {
     "name": "stderr",
     "output_type": "stream",
     "text": [
      "C:\\Users\\pierr\\anaconda3\\envs\\projet4\\lib\\site-packages\\sklearn\\linear_model\\_coordinate_descent.py:530: ConvergenceWarning: Objective did not converge. You might want to increase the number of iterations. Duality gap: 122728672287392.0, tolerance: 2375905067782.9644\n",
      "  model = cd_fast.enet_coordinate_descent(\n",
      "C:\\Users\\pierr\\anaconda3\\envs\\projet4\\lib\\site-packages\\sklearn\\linear_model\\_coordinate_descent.py:530: ConvergenceWarning: Objective did not converge. You might want to increase the number of iterations. Duality gap: 107809425548136.0, tolerance: 2243726480878.6704\n",
      "  model = cd_fast.enet_coordinate_descent(\n",
      "C:\\Users\\pierr\\anaconda3\\envs\\projet4\\lib\\site-packages\\sklearn\\linear_model\\_coordinate_descent.py:530: ConvergenceWarning: Objective did not converge. You might want to increase the number of iterations. Duality gap: 122378696345624.0, tolerance: 2002112290341.093\n",
      "  model = cd_fast.enet_coordinate_descent(\n",
      "C:\\Users\\pierr\\anaconda3\\envs\\projet4\\lib\\site-packages\\sklearn\\linear_model\\_coordinate_descent.py:530: ConvergenceWarning: Objective did not converge. You might want to increase the number of iterations. Duality gap: 123873384147616.0, tolerance: 2237741851186.1255\n",
      "  model = cd_fast.enet_coordinate_descent(\n",
      "C:\\Users\\pierr\\anaconda3\\envs\\projet4\\lib\\site-packages\\sklearn\\linear_model\\_coordinate_descent.py:530: ConvergenceWarning: Objective did not converge. You might want to increase the number of iterations. Duality gap: 56934856568731.0, tolerance: 1509254823294.9888\n",
      "  model = cd_fast.enet_coordinate_descent(\n"
     ]
    },
    {
     "data": {
      "image/png": "[encoded data removed]",
      "text/plain": [
       "<Figure size 432x288 with 1 Axes>"
      ]
     },
     "metadata": {},
     "output_type": "display_data"
    }
   ],
   "source": [
    "accuracy_skf_linear_regression2(X,y,k_fold_index,False,Lasso,alpha=1.0,normalize=True)"
   ]
  },
  {
   "cell_type": "code",
   "execution_count": 103,
   "id": "369ad328-9c4d-4810-a949-5cda54b7441b",
   "metadata": {},
   "outputs": [
    {
     "name": "stderr",
     "output_type": "stream",
     "text": [
      "C:\\Users\\pierr\\anaconda3\\envs\\projet4\\lib\\site-packages\\sklearn\\model_selection\\_split.py:666: UserWarning: The least populated class in y has only 1 members, which is less than n_splits=5.\n",
      "  warnings.warn((\"The least populated class in y has only %d\"\n",
      "C:\\Users\\pierr\\anaconda3\\envs\\projet4\\lib\\site-packages\\sklearn\\linear_model\\_coordinate_descent.py:530: ConvergenceWarning: Objective did not converge. You might want to increase the number of iterations. Duality gap: 148865108557427.5, tolerance: 2118991518976.9797\n",
      "  model = cd_fast.enet_coordinate_descent(\n"
     ]
    },
    {
     "name": "stdout",
     "output_type": "stream",
     "text": [
      "65.35793580424222\n"
     ]
    },
    {
     "name": "stderr",
     "output_type": "stream",
     "text": [
      "C:\\Users\\pierr\\anaconda3\\envs\\projet4\\lib\\site-packages\\sklearn\\linear_model\\_coordinate_descent.py:530: ConvergenceWarning: Objective did not converge. You might want to increase the number of iterations. Duality gap: 36554888569655.0, tolerance: 1388864896010.0676\n",
      "  model = cd_fast.enet_coordinate_descent(\n"
     ]
    },
    {
     "name": "stdout",
     "output_type": "stream",
     "text": [
      "51.14328494744716\n"
     ]
    },
    {
     "name": "stderr",
     "output_type": "stream",
     "text": [
      "C:\\Users\\pierr\\anaconda3\\envs\\projet4\\lib\\site-packages\\sklearn\\linear_model\\_coordinate_descent.py:530: ConvergenceWarning: Objective did not converge. You might want to increase the number of iterations. Duality gap: 51565404167914.0, tolerance: 2184550868102.7832\n",
      "  model = cd_fast.enet_coordinate_descent(\n"
     ]
    },
    {
     "name": "stdout",
     "output_type": "stream",
     "text": [
      "62.15699408840951\n"
     ]
    },
    {
     "name": "stderr",
     "output_type": "stream",
     "text": [
      "C:\\Users\\pierr\\anaconda3\\envs\\projet4\\lib\\site-packages\\sklearn\\linear_model\\_coordinate_descent.py:530: ConvergenceWarning: Objective did not converge. You might want to increase the number of iterations. Duality gap: 164330172395402.0, tolerance: 2279226295462.6787\n",
      "  model = cd_fast.enet_coordinate_descent(\n"
     ]
    },
    {
     "name": "stdout",
     "output_type": "stream",
     "text": [
      "-97.99277804737385\n",
      "58.109918646770076\n"
     ]
    },
    {
     "name": "stderr",
     "output_type": "stream",
     "text": [
      "C:\\Users\\pierr\\anaconda3\\envs\\projet4\\lib\\site-packages\\sklearn\\linear_model\\_coordinate_descent.py:530: ConvergenceWarning: Objective did not converge. You might want to increase the number of iterations. Duality gap: 51808088381597.0, tolerance: 2396477650376.139\n",
      "  model = cd_fast.enet_coordinate_descent(\n"
     ]
    },
    {
     "data": {
      "image/png": "[encoded data removed]",
      "text/plain": [
       "<Figure size 432x288 with 1 Axes>"
      ]
     },
     "metadata": {},
     "output_type": "display_data"
    }
   ],
   "source": [
    "accuracy_skf_linear_regression(Xdummies,ydummies,False,Lasso,alpha=1.0,normalize=True)"
   ]
  },
  {
   "cell_type": "markdown",
   "id": "de6b3ea3-f827-4f83-b94d-c087b2f90e41",
   "metadata": {},
   "source": [
    "## StratifiedKFold MLPRegressor"
   ]
  },
  {
   "cell_type": "code",
   "execution_count": 62,
   "id": "af06e4bf-39b0-4cf4-aa77-404a440aaf56",
   "metadata": {},
   "outputs": [
    {
     "name": "stderr",
     "output_type": "stream",
     "text": [
      "C:\\Users\\pierr\\anaconda3\\envs\\projet4\\lib\\site-packages\\sklearn\\model_selection\\_split.py:666: UserWarning: The least populated class in y has only 1 members, which is less than n_splits=5.\n",
      "  warnings.warn((\"The least populated class in y has only %d\"\n",
      "C:\\Users\\pierr\\anaconda3\\envs\\projet4\\lib\\site-packages\\sklearn\\neural_network\\_multilayer_perceptron.py:614: ConvergenceWarning: Stochastic Optimizer: Maximum iterations (500) reached and the optimization hasn't converged yet.\n",
      "  warnings.warn(\n",
      "C:\\Users\\pierr\\anaconda3\\envs\\projet4\\lib\\site-packages\\sklearn\\neural_network\\_multilayer_perceptron.py:614: ConvergenceWarning: Stochastic Optimizer: Maximum iterations (500) reached and the optimization hasn't converged yet.\n",
      "  warnings.warn(\n",
      "C:\\Users\\pierr\\anaconda3\\envs\\projet4\\lib\\site-packages\\sklearn\\neural_network\\_multilayer_perceptron.py:614: ConvergenceWarning: Stochastic Optimizer: Maximum iterations (500) reached and the optimization hasn't converged yet.\n",
      "  warnings.warn(\n",
      "C:\\Users\\pierr\\anaconda3\\envs\\projet4\\lib\\site-packages\\sklearn\\neural_network\\_multilayer_perceptron.py:614: ConvergenceWarning: Stochastic Optimizer: Maximum iterations (500) reached and the optimization hasn't converged yet.\n",
      "  warnings.warn(\n",
      "C:\\Users\\pierr\\anaconda3\\envs\\projet4\\lib\\site-packages\\sklearn\\neural_network\\_multilayer_perceptron.py:614: ConvergenceWarning: Stochastic Optimizer: Maximum iterations (500) reached and the optimization hasn't converged yet.\n",
      "  warnings.warn(\n"
     ]
    },
    {
     "data": {
      "image/png": "[encoded data removed]",
      "text/plain": [
       "<Figure size 432x288 with 1 Axes>"
      ]
     },
     "metadata": {},
     "output_type": "display_data"
    }
   ],
   "source": [
    "accuracy_skf_linear_regression(X,y,True,MLPRegressor,random_state=1, max_iter=500)"
   ]
  },
  {
   "cell_type": "code",
   "execution_count": 102,
   "id": "98f0ee4f-f114-40fd-b170-e1334ae7f6c0",
   "metadata": {},
   "outputs": [
    {
     "name": "stderr",
     "output_type": "stream",
     "text": [
      "C:\\Users\\pierr\\anaconda3\\envs\\projet4\\lib\\site-packages\\sklearn\\model_selection\\_split.py:666: UserWarning: The least populated class in y has only 1 members, which is less than n_splits=5.\n",
      "  warnings.warn((\"The least populated class in y has only %d\"\n",
      "C:\\Users\\pierr\\anaconda3\\envs\\projet4\\lib\\site-packages\\sklearn\\neural_network\\_multilayer_perceptron.py:614: ConvergenceWarning: Stochastic Optimizer: Maximum iterations (500) reached and the optimization hasn't converged yet.\n",
      "  warnings.warn(\n"
     ]
    },
    {
     "name": "stdout",
     "output_type": "stream",
     "text": [
      "-10.740211544021449\n"
     ]
    },
    {
     "name": "stderr",
     "output_type": "stream",
     "text": [
      "C:\\Users\\pierr\\anaconda3\\envs\\projet4\\lib\\site-packages\\sklearn\\neural_network\\_multilayer_perceptron.py:614: ConvergenceWarning: Stochastic Optimizer: Maximum iterations (500) reached and the optimization hasn't converged yet.\n",
      "  warnings.warn(\n"
     ]
    },
    {
     "name": "stdout",
     "output_type": "stream",
     "text": [
      "-6.2135548504360205\n"
     ]
    },
    {
     "name": "stderr",
     "output_type": "stream",
     "text": [
      "C:\\Users\\pierr\\anaconda3\\envs\\projet4\\lib\\site-packages\\sklearn\\neural_network\\_multilayer_perceptron.py:614: ConvergenceWarning: Stochastic Optimizer: Maximum iterations (500) reached and the optimization hasn't converged yet.\n",
      "  warnings.warn(\n"
     ]
    },
    {
     "name": "stdout",
     "output_type": "stream",
     "text": [
      "-14.89226359622775\n"
     ]
    },
    {
     "name": "stderr",
     "output_type": "stream",
     "text": [
      "C:\\Users\\pierr\\anaconda3\\envs\\projet4\\lib\\site-packages\\sklearn\\neural_network\\_multilayer_perceptron.py:614: ConvergenceWarning: Stochastic Optimizer: Maximum iterations (500) reached and the optimization hasn't converged yet.\n",
      "  warnings.warn(\n"
     ]
    },
    {
     "name": "stdout",
     "output_type": "stream",
     "text": [
      "-16.1025152233943\n",
      "-21.007339030431282\n"
     ]
    },
    {
     "name": "stderr",
     "output_type": "stream",
     "text": [
      "C:\\Users\\pierr\\anaconda3\\envs\\projet4\\lib\\site-packages\\sklearn\\neural_network\\_multilayer_perceptron.py:614: ConvergenceWarning: Stochastic Optimizer: Maximum iterations (500) reached and the optimization hasn't converged yet.\n",
      "  warnings.warn(\n"
     ]
    },
    {
     "data": {
      "image/png": "[encoded data removed]",
      "text/plain": [
       "<Figure size 432x288 with 1 Axes>"
      ]
     },
     "metadata": {},
     "output_type": "display_data"
    }
   ],
   "source": [
    "accuracy_skf_linear_regression(Xdummies,ydummies,True,MLPRegressor,random_state=1, max_iter=500)"
   ]
  },
  {
   "cell_type": "markdown",
   "id": "40090685-5aef-42e8-bd52-05f58dc3662f",
   "metadata": {},
   "source": [
    "## StratifiedKFold DecisionTreeClassifier -> ce n'est pas une regression(voir si existe)"
   ]
  },
  {
   "cell_type": "code",
   "execution_count": 116,
   "id": "725f30e7-3e9a-4cda-a8f8-a768eb56cda2",
   "metadata": {},
   "outputs": [
    {
     "name": "stderr",
     "output_type": "stream",
     "text": [
      "C:\\Users\\pierr\\anaconda3\\envs\\projet4\\lib\\site-packages\\sklearn\\model_selection\\_split.py:666: UserWarning: The least populated class in y has only 1 members, which is less than n_splits=5.\n",
      "  warnings.warn((\"The least populated class in y has only %d\"\n"
     ]
    },
    {
     "name": "stdout",
     "output_type": "stream",
     "text": [
      "0.0\n",
      "0.0\n",
      "0.0\n",
      "0.0\n",
      "0.0\n"
     ]
    },
    {
     "data": {
      "image/png": "[encoded data removed]",
      "text/plain": [
       "<Figure size 432x288 with 1 Axes>"
      ]
     },
     "metadata": {},
     "output_type": "display_data"
    }
   ],
   "source": [
    "accuracy_skf_linear_regression(X,y,True,DecisionTreeClassifier,random_state=23)"
   ]
  },
  {
   "cell_type": "code",
   "execution_count": 115,
   "id": "e5ba5dd7-9ed1-4c48-af18-ff62d0248339",
   "metadata": {},
   "outputs": [
    {
     "name": "stderr",
     "output_type": "stream",
     "text": [
      "C:\\Users\\pierr\\anaconda3\\envs\\projet4\\lib\\site-packages\\sklearn\\model_selection\\_split.py:666: UserWarning: The least populated class in y has only 1 members, which is less than n_splits=5.\n",
      "  warnings.warn((\"The least populated class in y has only %d\"\n"
     ]
    },
    {
     "name": "stdout",
     "output_type": "stream",
     "text": [
      "0.0\n",
      "0.0\n",
      "0.0\n",
      "0.14970059880239522\n",
      "0.0\n"
     ]
    },
    {
     "data": {
      "image/png": "[encoded data removed]",
      "text/plain": [
       "<Figure size 432x288 with 1 Axes>"
      ]
     },
     "metadata": {},
     "output_type": "display_data"
    }
   ],
   "source": [
    "accuracy_skf_linear_regression(Xdummies,ydummies,True,DecisionTreeClassifier,random_state=23)"
   ]
  },
  {
   "cell_type": "markdown",
   "id": "0f14385b-b43b-4c57-adce-964167b36a56",
   "metadata": {},
   "source": [
    "## StratifiedKFold RandomForestClassifier -> ce n'est pas une regression(voir si existe)"
   ]
  },
  {
   "cell_type": "code",
   "execution_count": 67,
   "id": "69023426-7840-4d32-ace2-0b1daff9c15a",
   "metadata": {},
   "outputs": [
    {
     "name": "stderr",
     "output_type": "stream",
     "text": [
      "C:\\Users\\pierr\\anaconda3\\envs\\projet4\\lib\\site-packages\\sklearn\\model_selection\\_split.py:666: UserWarning: The least populated class in y has only 1 members, which is less than n_splits=5.\n",
      "  warnings.warn((\"The least populated class in y has only %d\"\n"
     ]
    },
    {
     "data": {
      "image/png": "[encoded data removed]",
      "text/plain": [
       "<Figure size 432x288 with 1 Axes>"
      ]
     },
     "metadata": {},
     "output_type": "display_data"
    }
   ],
   "source": [
    "accuracy_skf_linear_regression(X,y,True,RandomForestClassifier,max_depth=2, random_state=0)"
   ]
  },
  {
   "cell_type": "code",
   "execution_count": 106,
   "id": "51f50698-0ac8-4c23-b21a-9aa28ae58f26",
   "metadata": {},
   "outputs": [
    {
     "name": "stderr",
     "output_type": "stream",
     "text": [
      "C:\\Users\\pierr\\anaconda3\\envs\\projet4\\lib\\site-packages\\sklearn\\model_selection\\_split.py:666: UserWarning: The least populated class in y has only 1 members, which is less than n_splits=5.\n",
      "  warnings.warn((\"The least populated class in y has only %d\"\n"
     ]
    },
    {
     "name": "stdout",
     "output_type": "stream",
     "text": [
      "0.29940119760479045\n",
      "0.29940119760479045\n",
      "0.29940119760479045\n",
      "0.29940119760479045\n",
      "0.29940119760479045\n"
     ]
    },
    {
     "data": {
      "image/png": "[encoded data removed]",
      "text/plain": [
       "<Figure size 432x288 with 1 Axes>"
      ]
     },
     "metadata": {},
     "output_type": "display_data"
    }
   ],
   "source": [
    "accuracy_skf_linear_regression(Xdummies,ydummies,True,RandomForestClassifier,max_depth=2, random_state=0)"
   ]
  },
  {
   "cell_type": "markdown",
   "id": "e79d4619-b252-4ce6-88e9-91560ab1cfc9",
   "metadata": {},
   "source": [
    "## StratifiedKFold KNeighborsClassifier  -> prnedre regression"
   ]
  },
  {
   "cell_type": "code",
   "execution_count": 113,
   "id": "c260df0d-4615-43e5-b7a8-3f5b80fc5afb",
   "metadata": {},
   "outputs": [
    {
     "name": "stderr",
     "output_type": "stream",
     "text": [
      "C:\\Users\\pierr\\anaconda3\\envs\\projet4\\lib\\site-packages\\sklearn\\model_selection\\_split.py:666: UserWarning: The least populated class in y has only 1 members, which is less than n_splits=5.\n",
      "  warnings.warn((\"The least populated class in y has only %d\"\n"
     ]
    },
    {
     "name": "stdout",
     "output_type": "stream",
     "text": [
      "0.14970059880239522\n",
      "0.0\n",
      "0.14970059880239522\n",
      "0.14970059880239522\n",
      "0.0\n"
     ]
    },
    {
     "data": {
      "image/png": "[encoded data removed]",
      "text/plain": [
       "<Figure size 432x288 with 1 Axes>"
      ]
     },
     "metadata": {},
     "output_type": "display_data"
    }
   ],
   "source": [
    "accuracy_skf_linear_regression(X,y,True,KNeighborsClassifier,n_neighbors=25)"
   ]
  },
  {
   "cell_type": "code",
   "execution_count": 114,
   "id": "e204f8c0-86af-41f1-9902-20094608d1b6",
   "metadata": {},
   "outputs": [
    {
     "name": "stderr",
     "output_type": "stream",
     "text": [
      "C:\\Users\\pierr\\anaconda3\\envs\\projet4\\lib\\site-packages\\sklearn\\model_selection\\_split.py:666: UserWarning: The least populated class in y has only 1 members, which is less than n_splits=5.\n",
      "  warnings.warn((\"The least populated class in y has only %d\"\n"
     ]
    },
    {
     "name": "stdout",
     "output_type": "stream",
     "text": [
      "0.14970059880239522\n",
      "0.14970059880239522\n",
      "0.29940119760479045\n",
      "0.29940119760479045\n",
      "0.0\n"
     ]
    },
    {
     "data": {
      "image/png": "[encoded data removed]",
      "text/plain": [
       "<Figure size 432x288 with 1 Axes>"
      ]
     },
     "metadata": {},
     "output_type": "display_data"
    }
   ],
   "source": [
    "accuracy_skf_linear_regression(Xdummies,ydummies,True,KNeighborsClassifier,n_neighbors=25)"
   ]
  },
  {
   "cell_type": "markdown",
   "id": "ebf986e2-126c-4c1d-8cd0-1c2cb3967e6f",
   "metadata": {},
   "source": [
    "## StratifiedKFold support vector classification   -> ce n'est pas une regression(voir si existe)"
   ]
  },
  {
   "cell_type": "code",
   "execution_count": 83,
   "id": "74535fcd-7707-4931-9de3-645ce92d929f",
   "metadata": {},
   "outputs": [
    {
     "name": "stderr",
     "output_type": "stream",
     "text": [
      "C:\\Users\\pierr\\anaconda3\\envs\\projet4\\lib\\site-packages\\sklearn\\model_selection\\_split.py:666: UserWarning: The least populated class in y has only 1 members, which is less than n_splits=5.\n",
      "  warnings.warn((\"The least populated class in y has only %d\"\n"
     ]
    },
    {
     "data": {
      "image/png": "[encoded data removed]",
      "text/plain": [
       "<Figure size 432x288 with 1 Axes>"
      ]
     },
     "metadata": {},
     "output_type": "display_data"
    }
   ],
   "source": [
    "accuracy_skf_linear_regression(X,y,True,svm.SVC)"
   ]
  },
  {
   "cell_type": "code",
   "execution_count": 98,
   "id": "5cb49a0c-16df-4980-a98d-3aae64f0ca39",
   "metadata": {},
   "outputs": [
    {
     "name": "stderr",
     "output_type": "stream",
     "text": [
      "C:\\Users\\pierr\\anaconda3\\envs\\projet4\\lib\\site-packages\\sklearn\\model_selection\\_split.py:666: UserWarning: The least populated class in y has only 1 members, which is less than n_splits=5.\n",
      "  warnings.warn((\"The least populated class in y has only %d\"\n"
     ]
    },
    {
     "name": "stdout",
     "output_type": "stream",
     "text": [
      "0.4491017964071856\n",
      "0.29940119760479045\n",
      "0.29940119760479045\n",
      "0.29940119760479045\n",
      "0.29940119760479045\n"
     ]
    },
    {
     "data": {
      "image/png": "[encoded data removed]",
      "text/plain": [
       "<Figure size 432x288 with 1 Axes>"
      ]
     },
     "metadata": {},
     "output_type": "display_data"
    }
   ],
   "source": [
    "accuracy_skf_linear_regression(Xdummies,ydummies,True,svm.SVC)"
   ]
  },
  {
   "cell_type": "code",
   "execution_count": 48,
   "id": "a1eef0c5-1f82-45e8-b154-a28f9f85129a",
   "metadata": {},
   "outputs": [
    {
     "name": "stdout",
     "output_type": "stream",
     "text": [
      "StratifiedKFold(n_splits=2, random_state=None, shuffle=False)\n",
      "TRAIN: [1 3] TEST: [0 2]\n",
      "TRAIN: [0 2] TEST: [1 3]\n"
     ]
    }
   ],
   "source": [
    "\n",
    "# import numpy as np\n",
    "# >>> from sklearn.model_selection import StratifiedKFold\n",
    "# >>> X = np.array([[1, 2], [3, 4], [1, 2], [3, 4]])\n",
    "# >>> y = np.array([0, 0, 1, 1])\n",
    "# >>> skf = StratifiedKFold(n_splits=2)\n",
    "# >>> skf.get_n_splits(X, y)\n",
    "# 2\n",
    "# >>> print(skf)\n",
    "# StratifiedKFold(n_splits=2, random_state=None, shuffle=False)\n",
    "# >>> for train_index, test_index in skf.split(X, y):\n",
    "# ...     print(\"TRAIN:\", train_index, \"TEST:\", test_index)\n",
    "# ...     X_train, X_test = X[train_index], X[test_index]\n",
    "# ...     y_train, y_test = y[train_index], y[test_index]"
   ]
  },
  {
   "cell_type": "markdown",
   "id": "b9e105e6-3a12-488a-9837-81a7d5b9129a",
   "metadata": {},
   "source": [
    "pandas getdummys\n",
    "sklearn label encoder\n",
    "\n",
    "tester sans les variables de categories, avec les categori et dummy, et categorie avec label réfléchi\n",
    "regarder ce que je peux faire en linear regression avec sklearn\n",
    "\n",
    "kfold,stratified_kfold (pour melanger les set de données pour test et validation)"
   ]
  },
  {
   "cell_type": "markdown",
   "id": "ddc51dd3-327d-4b78-9341-1fb8fec4624d",
   "metadata": {},
   "source": [
    "# pour la stratification\n",
    "faire un split peut etre sur les X et pas le y just pour la stratification\n",
    "essayer de faire de la stratification (optionnel)\n",
    "faire une visualisation de la repartition de l'energie sur les batiments\n",
    "\n",
    "\n",
    "dummi regressor -> faire une baseline \n",
    "https://medium.com/analytics-vidhya/target-encoding-vs-one-hot-encoding-with-simple-examples-276a7e7b3e64    ->  'PrimaryPropertyType'\n",
    "score prendre le rmse ou mae\n"
   ]
  }
 ],
 "metadata": {
  "kernelspec": {
   "display_name": "Python 3",
   "language": "python",
   "name": "python3"
  },
  "language_info": {
   "codemirror_mode": {
    "name": "ipython",
    "version": 3
   },
   "file_extension": ".py",
   "mimetype": "text/x-python",
   "name": "python",
   "nbconvert_exporter": "python",
   "pygments_lexer": "ipython3",
   "version": "3.8.10"
  }
 },
 "nbformat": 4,
 "nbformat_minor": 5
}
